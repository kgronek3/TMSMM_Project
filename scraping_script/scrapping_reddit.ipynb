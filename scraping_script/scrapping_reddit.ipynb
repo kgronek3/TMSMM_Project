{
 "cells": [
  {
   "cell_type": "code",
   "execution_count": 3,
   "id": "238d46a2",
   "metadata": {},
   "outputs": [],
   "source": [
    "# important note:\n",
    "# to run this code one is required to supply their own \n",
    "# Reddit API credendials \n",
    "# to know more follow this url: https://www.reddit.com/wiki/api\n",
    "\n",
    "import praw\n",
    "import pandas as pd\n",
    "\n",
    "from credentials import * \n",
    "\n",
    "# loading credentials from seperate file\n",
    "reddit = praw.Reddit(client_id = my_client_id,\n",
    "                     client_secret = my_secret,\n",
    "                     user_agent = my_user_agent,\n",
    "                     password = my_password,\n",
    "                     username = my_username)"
   ]
  },
  {
   "cell_type": "markdown",
   "id": "0735b0e4",
   "metadata": {},
   "source": [
    "# /r/AskWomen data"
   ]
  },
  {
   "cell_type": "code",
   "execution_count": 4,
   "id": "e92348fb",
   "metadata": {},
   "outputs": [
    {
     "data": {
      "text/plain": [
       "[]"
      ]
     },
     "execution_count": 4,
     "metadata": {},
     "output_type": "execute_result"
    },
    {
     "data": {
      "text/plain": [
       "[]"
      ]
     },
     "execution_count": 4,
     "metadata": {},
     "output_type": "execute_result"
    },
    {
     "data": {
      "text/plain": [
       "[]"
      ]
     },
     "execution_count": 4,
     "metadata": {},
     "output_type": "execute_result"
    },
    {
     "name": "stdout",
     "output_type": "stream",
     "text": [
      "Title: Who is your least favorite comedian? Why? | UP: 206 - DOWN: 0\n"
     ]
    },
    {
     "data": {
      "text/plain": [
       "[]"
      ]
     },
     "execution_count": 4,
     "metadata": {},
     "output_type": "execute_result"
    },
    {
     "name": "stdout",
     "output_type": "stream",
     "text": [
      "Title: What’s a topic of conversation you refuse to get involved in? | UP: 300 - DOWN: 0\n"
     ]
    },
    {
     "data": {
      "text/plain": [
       "[]"
      ]
     },
     "execution_count": 4,
     "metadata": {},
     "output_type": "execute_result"
    },
    {
     "name": "stdout",
     "output_type": "stream",
     "text": [
      "Title: Ladies, what is one thing that if you had right now would make you feel better? | UP: 113 - DOWN: 0\n"
     ]
    },
    {
     "data": {
      "text/plain": [
       "[]"
      ]
     },
     "execution_count": 4,
     "metadata": {},
     "output_type": "execute_result"
    },
    {
     "name": "stdout",
     "output_type": "stream",
     "text": [
      "Title: Women who went through a circumstantial breakup: how did you know you had to do it? | UP: 118 - DOWN: 0\n"
     ]
    },
    {
     "data": {
      "text/plain": [
       "[<MoreComments count=4, children=['j7d3syq', 'j7ciwub', 'j7d1jmi']>,\n",
       " <MoreComments count=2, children=['j7d1s2r']>,\n",
       " <MoreComments count=2, children=['j7dp3ay']>,\n",
       " <MoreComments count=2, children=['j7dngh7']>,\n",
       " <MoreComments count=2, children=['j7edpxl', 'j7eca3e']>,\n",
       " <MoreComments count=1, children=['j7e4zz5']>,\n",
       " <MoreComments count=1, children=['j7dl5qi']>,\n",
       " <MoreComments count=1, children=['j7du8ax']>,\n",
       " <MoreComments count=1, children=['j7d10qr']>,\n",
       " <MoreComments count=1, children=['j7deb6f']>,\n",
       " <MoreComments count=1, children=['j7cynnc']>,\n",
       " <MoreComments count=1, children=['j7ebdwu']>,\n",
       " <MoreComments count=1, children=['j7d0z9b']>,\n",
       " <MoreComments count=1, children=['j7es4qk']>,\n",
       " <MoreComments count=1, children=['j7cyx03']>,\n",
       " <MoreComments count=1, children=['j7d5owr']>,\n",
       " <MoreComments count=1, children=['j7dnl2a']>,\n",
       " <MoreComments count=1, children=['j7bxwsf']>,\n",
       " <MoreComments count=1, children=['j7dw153']>,\n",
       " <MoreComments count=1, children=['j7dgz22']>,\n",
       " <MoreComments count=1, children=['j7e56a2']>,\n",
       " <MoreComments count=1, children=['j7djzqj']>,\n",
       " <MoreComments count=1, children=['j7e4i82']>,\n",
       " <MoreComments count=1, children=['j7cr2dd']>]"
      ]
     },
     "execution_count": 4,
     "metadata": {},
     "output_type": "execute_result"
    },
    {
     "name": "stdout",
     "output_type": "stream",
     "text": [
      "Title: Ladies! What’s something positive in your life right now? | UP: 490 - DOWN: 0\n"
     ]
    },
    {
     "data": {
      "text/plain": [
       "[]"
      ]
     },
     "execution_count": 4,
     "metadata": {},
     "output_type": "execute_result"
    },
    {
     "name": "stdout",
     "output_type": "stream",
     "text": [
      "Title: What was the worst lie a man has told you and how did you deal with it? | UP: 21 - DOWN: 0\n"
     ]
    },
    {
     "data": {
      "text/plain": [
       "[]"
      ]
     },
     "execution_count": 4,
     "metadata": {},
     "output_type": "execute_result"
    },
    {
     "name": "stdout",
     "output_type": "stream",
     "text": [
      "Title: How do you feel about men's mental health? | UP: 525 - DOWN: 0\n"
     ]
    },
    {
     "data": {
      "text/plain": [
       "[]"
      ]
     },
     "execution_count": 4,
     "metadata": {},
     "output_type": "execute_result"
    },
    {
     "name": "stdout",
     "output_type": "stream",
     "text": [
      "Title: What motivates you to work hard? | UP: 5 - DOWN: 0\n"
     ]
    },
    {
     "data": {
      "text/plain": [
       "[]"
      ]
     },
     "execution_count": 4,
     "metadata": {},
     "output_type": "execute_result"
    },
    {
     "name": "stdout",
     "output_type": "stream",
     "text": [
      "Title: Women in a long term relationships how it going? | UP: 129 - DOWN: 0\n"
     ]
    },
    {
     "data": {
      "text/plain": [
       "[]"
      ]
     },
     "execution_count": 4,
     "metadata": {},
     "output_type": "execute_result"
    },
    {
     "name": "stdout",
     "output_type": "stream",
     "text": [
      "Title: How did you overcome loneliness in your life when you had absolutely no one at a point? | UP: 6 - DOWN: 0\n"
     ]
    },
    {
     "data": {
      "text/plain": [
       "[]"
      ]
     },
     "execution_count": 4,
     "metadata": {},
     "output_type": "execute_result"
    },
    {
     "name": "stdout",
     "output_type": "stream",
     "text": [
      "Title: Women of Reddit, what was the dumbest thing your partner said when you were in labor with your child? | UP: 388 - DOWN: 0\n"
     ]
    },
    {
     "data": {
      "text/plain": [
       "[]"
      ]
     },
     "execution_count": 4,
     "metadata": {},
     "output_type": "execute_result"
    },
    {
     "name": "stdout",
     "output_type": "stream",
     "text": [
      "Title: What is a respectful way to tell someone you no longer want to continue texting? Especially if things feel like they are dying off | UP: 6 - DOWN: 0\n"
     ]
    },
    {
     "data": {
      "text/plain": [
       "[]"
      ]
     },
     "execution_count": 4,
     "metadata": {},
     "output_type": "execute_result"
    },
    {
     "name": "stdout",
     "output_type": "stream",
     "text": [
      "Title: Ladies...when you look in the mirror, how do you genuinely feel about the reflection staring back at you? | UP: 58 - DOWN: 0\n"
     ]
    },
    {
     "data": {
      "text/plain": [
       "[]"
      ]
     },
     "execution_count": 4,
     "metadata": {},
     "output_type": "execute_result"
    },
    {
     "name": "stdout",
     "output_type": "stream",
     "text": [
      "Title: If you could trade lives with anyone for a day who would it be and why? | UP: 10 - DOWN: 0\n"
     ]
    },
    {
     "data": {
      "text/plain": [
       "[]"
      ]
     },
     "execution_count": 4,
     "metadata": {},
     "output_type": "execute_result"
    },
    {
     "name": "stdout",
     "output_type": "stream",
     "text": [
      "Title: What does partnership mean to you? | UP: 10 - DOWN: 0\n"
     ]
    },
    {
     "data": {
      "text/plain": [
       "[]"
      ]
     },
     "execution_count": 4,
     "metadata": {},
     "output_type": "execute_result"
    },
    {
     "name": "stdout",
     "output_type": "stream",
     "text": [
      "Title: For those of you that were planning a traditional wedding, but eloped instead, why did you choose to elope? | UP: 6 - DOWN: 0\n"
     ]
    },
    {
     "data": {
      "text/plain": [
       "[]"
      ]
     },
     "execution_count": 4,
     "metadata": {},
     "output_type": "execute_result"
    },
    {
     "name": "stdout",
     "output_type": "stream",
     "text": [
      "Title: What was a childhood memory that you thought was fake but turned out to be real? | UP: 3 - DOWN: 0\n"
     ]
    },
    {
     "data": {
      "text/plain": [
       "[]"
      ]
     },
     "execution_count": 4,
     "metadata": {},
     "output_type": "execute_result"
    },
    {
     "name": "stdout",
     "output_type": "stream",
     "text": [
      "Title: On Sundays, how do you reset for the week? | UP: 2 - DOWN: 0\n"
     ]
    },
    {
     "data": {
      "text/plain": [
       "[]"
      ]
     },
     "execution_count": 4,
     "metadata": {},
     "output_type": "execute_result"
    },
    {
     "name": "stdout",
     "output_type": "stream",
     "text": [
      "Title: Ladies, how do you motivate yourself when under stress? | UP: 5 - DOWN: 0\n"
     ]
    },
    {
     "data": {
      "text/plain": [
       "[]"
      ]
     },
     "execution_count": 4,
     "metadata": {},
     "output_type": "execute_result"
    },
    {
     "name": "stdout",
     "output_type": "stream",
     "text": [
      "Title: Ladies, what was a moment where you were at your highest and lowest? | UP: 1 - DOWN: 0\n"
     ]
    },
    {
     "data": {
      "text/plain": [
       "[]"
      ]
     },
     "execution_count": 4,
     "metadata": {},
     "output_type": "execute_result"
    },
    {
     "name": "stdout",
     "output_type": "stream",
     "text": [
      "Title: Ladies, if your life was a movie, what would be your first intro line? | UP: 1 - DOWN: 0\n"
     ]
    },
    {
     "data": {
      "text/plain": [
       "[]"
      ]
     },
     "execution_count": 4,
     "metadata": {},
     "output_type": "execute_result"
    },
    {
     "name": "stdout",
     "output_type": "stream",
     "text": [
      "Title: What is your preferred playstyle in rpgs or table top rpgs? | UP: 1 - DOWN: 0\n"
     ]
    },
    {
     "data": {
      "text/plain": [
       "[]"
      ]
     },
     "execution_count": 4,
     "metadata": {},
     "output_type": "execute_result"
    },
    {
     "name": "stdout",
     "output_type": "stream",
     "text": [
      "Title: Women who are in a romantic relationship and also have a platonic relationship, what is it like? | UP: 1 - DOWN: 0\n"
     ]
    },
    {
     "data": {
      "text/plain": [
       "[]"
      ]
     },
     "execution_count": 4,
     "metadata": {},
     "output_type": "execute_result"
    },
    {
     "name": "stdout",
     "output_type": "stream",
     "text": [
      "Title: Ladies with panic attacks, how long did it take for things to get better for you? | UP: 2 - DOWN: 0\n"
     ]
    },
    {
     "data": {
      "text/plain": [
       "[]"
      ]
     },
     "execution_count": 4,
     "metadata": {},
     "output_type": "execute_result"
    },
    {
     "name": "stdout",
     "output_type": "stream",
     "text": [
      "Title: What did you do to stop emotional over-eating? | UP: 2 - DOWN: 0\n"
     ]
    },
    {
     "data": {
      "text/plain": [
       "[]"
      ]
     },
     "execution_count": 4,
     "metadata": {},
     "output_type": "execute_result"
    },
    {
     "name": "stdout",
     "output_type": "stream",
     "text": [
      "Title: How often do you take your s/o out on a date? | UP: 5 - DOWN: 0\n"
     ]
    },
    {
     "data": {
      "text/plain": [
       "[]"
      ]
     },
     "execution_count": 4,
     "metadata": {},
     "output_type": "execute_result"
    },
    {
     "name": "stdout",
     "output_type": "stream",
     "text": [
      "Title: Those that have moved really far from family/friends, how did it go? | UP: 1 - DOWN: 0\n"
     ]
    },
    {
     "data": {
      "text/plain": [
       "[]"
      ]
     },
     "execution_count": 4,
     "metadata": {},
     "output_type": "execute_result"
    },
    {
     "name": "stdout",
     "output_type": "stream",
     "text": [
      "Title: When you met your SO what made you fall in love in an instant? | UP: 1 - DOWN: 0\n"
     ]
    },
    {
     "data": {
      "text/plain": [
       "[]"
      ]
     },
     "execution_count": 4,
     "metadata": {},
     "output_type": "execute_result"
    },
    {
     "name": "stdout",
     "output_type": "stream",
     "text": [
      "Title: What is your favorite [F] hope-core moment? | UP: 1 - DOWN: 0\n"
     ]
    },
    {
     "data": {
      "text/plain": [
       "[<MoreComments count=4, children=['j78wqfp']>,\n",
       " <MoreComments count=4, children=['j78dj8q', 'j78p5q5', 'j78q6xz']>,\n",
       " <MoreComments count=4, children=['j76lnzd']>,\n",
       " <MoreComments count=4, children=['j7a806q', 'j781ylj', 'j7ao2kv']>,\n",
       " <MoreComments count=4, children=['j77fbdw', 'j77fu3o']>,\n",
       " <MoreComments count=4, children=['j76lg29', 'j78dd3y', 'j77nt7l']>,\n",
       " <MoreComments count=3, children=['j78roao', 'j78j7hh']>,\n",
       " <MoreComments count=3, children=['j7814tt']>,\n",
       " <MoreComments count=3, children=['j78d5f5', 'j7abyo3']>,\n",
       " <MoreComments count=3, children=['j7a16cp', 'j783ep1']>,\n",
       " <MoreComments count=3, children=['j78rr0y', 'j78s57n', 'j76x0kc']>,\n",
       " <MoreComments count=3, children=['j78pmwy', 'j77rm4t', 'j7a0ili']>,\n",
       " <MoreComments count=3, children=['j7aje14', 'j7aosps', 'j79uo4v']>,\n",
       " <MoreComments count=3, children=['j77wbca', 'j77irh7']>,\n",
       " <MoreComments count=3, children=['j77d0qt']>,\n",
       " <MoreComments count=2, children=['j78kxjv']>,\n",
       " <MoreComments count=2, children=['j77kq91']>,\n",
       " <MoreComments count=2, children=['j785si6']>,\n",
       " <MoreComments count=2, children=['j78250o', 'j79h0ej']>,\n",
       " <MoreComments count=2, children=['j77j0vq']>,\n",
       " <MoreComments count=2, children=['j78urep']>,\n",
       " <MoreComments count=2, children=['j79zfds']>,\n",
       " <MoreComments count=2, children=['j79yz6v']>,\n",
       " <MoreComments count=2, children=['j77jdme']>,\n",
       " <MoreComments count=2, children=['j773iov']>,\n",
       " <MoreComments count=2, children=['j78ca6u', 'j78c6wa']>,\n",
       " <MoreComments count=2, children=['j78q3y2', 'j76omg3']>,\n",
       " <MoreComments count=2, children=['j798fux', 'j7a8zd0']>,\n",
       " <MoreComments count=2, children=['j77agr7']>,\n",
       " <MoreComments count=2, children=['j78qb2u', 'j78q646']>,\n",
       " <MoreComments count=2, children=['j78s3k6']>,\n",
       " <MoreComments count=2, children=['j79y1ii']>,\n",
       " <MoreComments count=2, children=['j77nr9o']>,\n",
       " <MoreComments count=2, children=['j771bqz']>,\n",
       " <MoreComments count=2, children=['j79hu4y']>,\n",
       " <MoreComments count=2, children=['j76l5co']>,\n",
       " <MoreComments count=2, children=['j77754n']>,\n",
       " <MoreComments count=2, children=['j78d2hw', 'j77iv3j']>,\n",
       " <MoreComments count=2, children=['j78chp1']>,\n",
       " <MoreComments count=2, children=['j79gw97', 'j7a8eik']>,\n",
       " <MoreComments count=2, children=['j7990c0']>,\n",
       " <MoreComments count=1, children=['j79hfe2']>,\n",
       " <MoreComments count=1, children=['j7a0zl7']>,\n",
       " <MoreComments count=1, children=['j76qj4e']>,\n",
       " <MoreComments count=1, children=['j79wutz']>,\n",
       " <MoreComments count=1, children=['j79prsf']>,\n",
       " <MoreComments count=1, children=['j79qsqj']>,\n",
       " <MoreComments count=1, children=['j79ki8o']>,\n",
       " <MoreComments count=1, children=['j78ynqs']>,\n",
       " <MoreComments count=1, children=['j78xwp0']>,\n",
       " <MoreComments count=1, children=['j78x3ih']>,\n",
       " <MoreComments count=1, children=['j79va4y']>,\n",
       " <MoreComments count=1, children=['j78wcad']>,\n",
       " <MoreComments count=1, children=['j78vgfz']>,\n",
       " <MoreComments count=1, children=['j78ukoi']>,\n",
       " <MoreComments count=1, children=['j79hxwt']>,\n",
       " <MoreComments count=1, children=['j78qbz7']>,\n",
       " <MoreComments count=1, children=['j78rw3h']>,\n",
       " <MoreComments count=1, children=['j78r0ve']>,\n",
       " <MoreComments count=1, children=['j7a1o2z']>,\n",
       " <MoreComments count=1, children=['j78nvaj']>,\n",
       " <MoreComments count=1, children=['j78pcw4']>,\n",
       " <MoreComments count=1, children=['j78mv7z']>,\n",
       " <MoreComments count=1, children=['j79gh9f']>,\n",
       " <MoreComments count=1, children=['j78kg0x']>,\n",
       " <MoreComments count=1, children=['j78ju36']>,\n",
       " <MoreComments count=1, children=['j78i5t4']>,\n",
       " <MoreComments count=1, children=['j79jtlb']>,\n",
       " <MoreComments count=1, children=['j78dgg5']>,\n",
       " <MoreComments count=1, children=['j78fi8m']>,\n",
       " <MoreComments count=1, children=['j7a5mmf']>,\n",
       " <MoreComments count=1, children=['j78zucx']>,\n",
       " <MoreComments count=1, children=['j78tgf5']>,\n",
       " <MoreComments count=1, children=['j785g3q']>,\n",
       " <MoreComments count=1, children=['j782d9k']>,\n",
       " <MoreComments count=1, children=['j7a2zro']>,\n",
       " <MoreComments count=1, children=['j781bsm']>,\n",
       " <MoreComments count=1, children=['j7agth9']>,\n",
       " <MoreComments count=1, children=['j7a7ii1']>,\n",
       " <MoreComments count=1, children=['j79rbn0']>,\n",
       " <MoreComments count=1, children=['j77yyzo']>,\n",
       " <MoreComments count=1, children=['j79v703']>,\n",
       " <MoreComments count=1, children=['j77wyb2']>,\n",
       " <MoreComments count=1, children=['j77sc7z']>,\n",
       " <MoreComments count=1, children=['j77uoci']>,\n",
       " <MoreComments count=1, children=['j77ta1r']>,\n",
       " <MoreComments count=1, children=['j77rzbe']>,\n",
       " <MoreComments count=1, children=['j7992kt']>,\n",
       " <MoreComments count=1, children=['j77vasz']>,\n",
       " <MoreComments count=1, children=['j77rw31']>,\n",
       " <MoreComments count=1, children=['j77qvzv']>,\n",
       " <MoreComments count=1, children=['j79a2r4']>,\n",
       " <MoreComments count=1, children=['j7a6ko9']>,\n",
       " <MoreComments count=1, children=['j77kdvg']>,\n",
       " <MoreComments count=1, children=['j77nues']>,\n",
       " <MoreComments count=1, children=['j799f4e']>,\n",
       " <MoreComments count=1, children=['j77j4g8']>,\n",
       " <MoreComments count=1, children=['j78svd5']>,\n",
       " <MoreComments count=1, children=['j77istp']>,\n",
       " <MoreComments count=1, children=['j7ag801']>,\n",
       " <MoreComments count=1, children=['j77hq4p']>,\n",
       " <MoreComments count=1, children=['j77i7j0']>,\n",
       " <MoreComments count=1, children=['j77dupl']>,\n",
       " <MoreComments count=1, children=['j791xsh']>,\n",
       " <MoreComments count=1, children=['j77cvqb']>,\n",
       " <MoreComments count=1, children=['j79cr38']>,\n",
       " <MoreComments count=1, children=['j77buqa']>,\n",
       " <MoreComments count=1, children=['j79stdb']>,\n",
       " <MoreComments count=1, children=['j77ctji']>,\n",
       " <MoreComments count=1, children=['j77av1v']>,\n",
       " <MoreComments count=1, children=['j777qwh']>,\n",
       " <MoreComments count=1, children=['j792h9g']>,\n",
       " <MoreComments count=1, children=['j7753s8']>,\n",
       " <MoreComments count=1, children=['j774ual']>,\n",
       " <MoreComments count=1, children=['j775z76']>,\n",
       " <MoreComments count=1, children=['j79xgh2']>,\n",
       " <MoreComments count=1, children=['j79k34k']>,\n",
       " <MoreComments count=1, children=['j7ajnur']>,\n",
       " <MoreComments count=1, children=['j773ljt']>,\n",
       " <MoreComments count=1, children=['j790yc4']>,\n",
       " <MoreComments count=1, children=['j7732jn']>,\n",
       " <MoreComments count=1, children=['j7731fu']>,\n",
       " <MoreComments count=1, children=['j772bl5']>,\n",
       " <MoreComments count=1, children=['j77d9tk']>,\n",
       " <MoreComments count=1, children=['j771zy6']>,\n",
       " <MoreComments count=1, children=['j771uwh']>,\n",
       " <MoreComments count=1, children=['j770z0a']>,\n",
       " <MoreComments count=1, children=['j7aomm1']>,\n",
       " <MoreComments count=1, children=['j76zrw0']>,\n",
       " <MoreComments count=1, children=['j76vsvq']>,\n",
       " <MoreComments count=1, children=['j76qaf4']>,\n",
       " <MoreComments count=1, children=['j798g19']>,\n",
       " <MoreComments count=1, children=['j76smko']>,\n",
       " <MoreComments count=1, children=['j7a5cru']>,\n",
       " <MoreComments count=1, children=['j76ev8x']>,\n",
       " <MoreComments count=1, children=['j76s4zo']>,\n",
       " <MoreComments count=1, children=['j76ojvj']>,\n",
       " <MoreComments count=1, children=['j76l1gq']>,\n",
       " <MoreComments count=1, children=['j79v54u']>,\n",
       " <MoreComments count=1, children=['j79yxaj']>,\n",
       " <MoreComments count=1, children=['j779h9a']>,\n",
       " <MoreComments count=1, children=['j78qr9a']>,\n",
       " <MoreComments count=1, children=['j79tz6r']>,\n",
       " <MoreComments count=1, children=['j77voxj']>,\n",
       " <MoreComments count=1, children=['j79r7v3']>,\n",
       " <MoreComments count=1, children=['j79d4hb']>,\n",
       " <MoreComments count=1, children=['j7acr4a']>,\n",
       " <MoreComments count=1, children=['j78uf12']>,\n",
       " <MoreComments count=1, children=['j799utk']>,\n",
       " <MoreComments count=1, children=['j7a3xg5']>,\n",
       " <MoreComments count=1, children=['j79na8g']>,\n",
       " <MoreComments count=1, children=['j78us8q']>,\n",
       " <MoreComments count=1, children=['j794dbo']>,\n",
       " <MoreComments count=1, children=['j7ajig0']>,\n",
       " <MoreComments count=1, children=['j7afu7g']>,\n",
       " <MoreComments count=1, children=['j79yjxq']>,\n",
       " <MoreComments count=1, children=['j797p3p']>,\n",
       " <MoreComments count=1, children=['j77hans']>,\n",
       " <MoreComments count=1, children=['j79l2rc']>,\n",
       " <MoreComments count=1, children=['j7996mp']>,\n",
       " <MoreComments count=1, children=['j78qkvk']>,\n",
       " <MoreComments count=1, children=['j79z9ts']>,\n",
       " <MoreComments count=1, children=['j78sqel']>,\n",
       " <MoreComments count=1, children=['j78hkr4']>,\n",
       " <MoreComments count=1, children=['j78bcu5']>,\n",
       " <MoreComments count=1, children=['j78ubnb']>,\n",
       " <MoreComments count=1, children=['j7992by']>,\n",
       " <MoreComments count=1, children=['j7abubz']>,\n",
       " <MoreComments count=1, children=['j7a7t97']>,\n",
       " <MoreComments count=1, children=['j79ramw']>,\n",
       " <MoreComments count=1, children=['j79suyy']>,\n",
       " <MoreComments count=1, children=['j77x4m0']>,\n",
       " <MoreComments count=1, children=['j799hx0']>,\n",
       " <MoreComments count=1, children=['j7abtbp']>,\n",
       " <MoreComments count=1, children=['j7a1puj']>,\n",
       " <MoreComments count=1, children=['j7a20ay']>,\n",
       " <MoreComments count=1, children=['j79aklr']>,\n",
       " <MoreComments count=1, children=['j789q2n']>,\n",
       " <MoreComments count=1, children=['j7a6h5n']>,\n",
       " <MoreComments count=1, children=['j7a3989']>,\n",
       " <MoreComments count=1, children=['j77ii96']>,\n",
       " <MoreComments count=1, children=['j7a8d01']>,\n",
       " <MoreComments count=1, children=['j796d71']>,\n",
       " <MoreComments count=1, children=['j79abxj']>,\n",
       " <MoreComments count=1, children=['j79stwk']>,\n",
       " <MoreComments count=1, children=['j77zz8c']>,\n",
       " <MoreComments count=1, children=['j777iiu']>,\n",
       " <MoreComments count=1, children=['j7a8w73']>,\n",
       " <MoreComments count=1, children=['j7abrmd']>,\n",
       " <MoreComments count=1, children=['j78chfd']>,\n",
       " <MoreComments count=1, children=['j79xzwb']>,\n",
       " <MoreComments count=1, children=['j796izy']>,\n",
       " <MoreComments count=1, children=['j797gbw']>,\n",
       " <MoreComments count=1, children=['j77ytv1']>,\n",
       " <MoreComments count=1, children=['j7aczeq']>,\n",
       " <MoreComments count=1, children=['j78cdkh']>,\n",
       " <MoreComments count=1, children=['j76vbwa']>,\n",
       " <MoreComments count=1, children=['j78ftza']>,\n",
       " <MoreComments count=1, children=['j76un7k']>,\n",
       " <MoreComments count=1, children=['j7aag11']>,\n",
       " <MoreComments count=1, children=['j79g2im']>,\n",
       " <MoreComments count=1, children=['j7aaip7']>,\n",
       " <MoreComments count=1, children=['j77jlle']>,\n",
       " <MoreComments count=1, children=['j79nrd7']>,\n",
       " <MoreComments count=1, children=['j77u52v']>,\n",
       " <MoreComments count=1, children=['j7af8yb']>,\n",
       " <MoreComments count=1, children=['j78m5um']>,\n",
       " <MoreComments count=1, children=['j77uvdc']>,\n",
       " <MoreComments count=1, children=['j79q625']>,\n",
       " <MoreComments count=1, children=['j7ab0hl']>,\n",
       " <MoreComments count=1, children=['j7afhny']>,\n",
       " <MoreComments count=1, children=['j798rx2']>,\n",
       " <MoreComments count=1, children=['j7938uw']>,\n",
       " <MoreComments count=1, children=['j79dhct']>,\n",
       " <MoreComments count=1, children=['j780urz']>,\n",
       " <MoreComments count=1, children=['j77zw5v']>,\n",
       " <MoreComments count=1, children=['j77uvk1']>,\n",
       " <MoreComments count=1, children=['j76vihf']>,\n",
       " <MoreComments count=1, children=['j77qdsk']>,\n",
       " <MoreComments count=1, children=['j77m66h']>,\n",
       " <MoreComments count=1, children=['j78swu6']>,\n",
       " <MoreComments count=1, children=['j79eysj']>,\n",
       " <MoreComments count=1, children=['j77b0wg']>,\n",
       " <MoreComments count=1, children=['j781xrs']>,\n",
       " <MoreComments count=1, children=['j77770i']>,\n",
       " <MoreComments count=1, children=['j77d6aa']>,\n",
       " <MoreComments count=1, children=['j7a1qh6']>,\n",
       " <MoreComments count=1, children=['j7700xf']>,\n",
       " <MoreComments count=1, children=['j78svfc']>,\n",
       " <MoreComments count=1, children=['j7a2w3t']>,\n",
       " <MoreComments count=1, children=['j79os69']>,\n",
       " <MoreComments count=1, children=['j78udvi']>,\n",
       " <MoreComments count=1, children=['j796tqk']>,\n",
       " <MoreComments count=1, children=['j78xdg9']>,\n",
       " <MoreComments count=1, children=['j78tct2']>,\n",
       " <MoreComments count=1, children=['j7a5s9d']>,\n",
       " <MoreComments count=1, children=['j79x920']>,\n",
       " <MoreComments count=1, children=['j78l8k0']>,\n",
       " <MoreComments count=1, children=['j7a4cn3']>,\n",
       " <MoreComments count=1, children=['j78m4s3']>,\n",
       " <MoreComments count=1, children=['j77h7om']>,\n",
       " <MoreComments count=1, children=['j7ao3zy']>,\n",
       " <MoreComments count=1, children=['j79dato']>,\n",
       " <MoreComments count=1, children=['j7aoijd']>,\n",
       " <MoreComments count=1, children=['j7a3ct6']>,\n",
       " <MoreComments count=1, children=['j797hbo']>,\n",
       " <MoreComments count=1, children=['j78u8qw']>,\n",
       " <MoreComments count=1, children=['j7846rx']>,\n",
       " <MoreComments count=1, children=['j77s1tg']>,\n",
       " <MoreComments count=1, children=['j77erm5']>,\n",
       " <MoreComments count=1, children=['j7ajrhz']>,\n",
       " <MoreComments count=1, children=['j78fi1c']>,\n",
       " <MoreComments count=1, children=['j787po6']>,\n",
       " <MoreComments count=1, children=['j76rx9s']>,\n",
       " <MoreComments count=1, children=['j79dirv']>]"
      ]
     },
     "execution_count": 4,
     "metadata": {},
     "output_type": "execute_result"
    },
    {
     "name": "stdout",
     "output_type": "stream",
     "text": [
      "Title: Ladies who are feeling a bit sad right now, what's wrong? | UP: 1492 - DOWN: 0\n"
     ]
    },
    {
     "data": {
      "text/plain": [
       "[]"
      ]
     },
     "execution_count": 4,
     "metadata": {},
     "output_type": "execute_result"
    },
    {
     "name": "stdout",
     "output_type": "stream",
     "text": [
      "Title: When you’re feeling stressed or a bit down, what are your favorite things that your friends can do to cheer you up? | UP: 1 - DOWN: 0\n"
     ]
    },
    {
     "data": {
      "text/plain": [
       "[]"
      ]
     },
     "execution_count": 4,
     "metadata": {},
     "output_type": "execute_result"
    },
    {
     "name": "stdout",
     "output_type": "stream",
     "text": [
      "Title: What would you say was your lowest point and how did build your life back from it? | UP: 16 - DOWN: 0\n"
     ]
    },
    {
     "data": {
      "text/plain": [
       "[]"
      ]
     },
     "execution_count": 4,
     "metadata": {},
     "output_type": "execute_result"
    },
    {
     "name": "stdout",
     "output_type": "stream",
     "text": [
      "Title: How do you handle anxiety when your partner is out of town? | UP: 0 - DOWN: 0\n"
     ]
    },
    {
     "data": {
      "text/plain": [
       "[]"
      ]
     },
     "execution_count": 4,
     "metadata": {},
     "output_type": "execute_result"
    },
    {
     "name": "stdout",
     "output_type": "stream",
     "text": [
      "Title: How did you let go of an old friendship? | UP: 2 - DOWN: 0\n"
     ]
    },
    {
     "data": {
      "text/plain": [
       "[]"
      ]
     },
     "execution_count": 4,
     "metadata": {},
     "output_type": "execute_result"
    },
    {
     "name": "stdout",
     "output_type": "stream",
     "text": [
      "Title: Ladies in relationships with separation anxiety/anxious attachment styles, how do you cope? | UP: 138 - DOWN: 0\n"
     ]
    },
    {
     "data": {
      "text/plain": [
       "[]"
      ]
     },
     "execution_count": 4,
     "metadata": {},
     "output_type": "execute_result"
    },
    {
     "name": "stdout",
     "output_type": "stream",
     "text": [
      "Title: GM Ladies, what are your kids' favorite YouTube Channels? :) | UP: 0 - DOWN: 0\n"
     ]
    },
    {
     "data": {
      "text/plain": [
       "[]"
      ]
     },
     "execution_count": 4,
     "metadata": {},
     "output_type": "execute_result"
    },
    {
     "name": "stdout",
     "output_type": "stream",
     "text": [
      "Title: , how frequently do you reflect on your first romantic partner? | UP: 16 - DOWN: 0\n"
     ]
    },
    {
     "data": {
      "text/plain": [
       "[<MoreComments count=4, children=['j7b2t0j']>,\n",
       " <MoreComments count=2, children=['j77lc62']>,\n",
       " <MoreComments count=2, children=['j7ci3pq']>,\n",
       " <MoreComments count=2, children=['j79qm1a']>,\n",
       " <MoreComments count=2, children=['j7a0qsh']>,\n",
       " <MoreComments count=1, children=['j7cf8pi']>,\n",
       " <MoreComments count=1, children=['j7chc58']>,\n",
       " <MoreComments count=1, children=['j7bwd9h']>,\n",
       " <MoreComments count=1, children=['j7boop6']>,\n",
       " <MoreComments count=1, children=['j7bodjf']>]"
      ]
     },
     "execution_count": 4,
     "metadata": {},
     "output_type": "execute_result"
    },
    {
     "name": "stdout",
     "output_type": "stream",
     "text": [
      "Title: As a child, what did you think would be awesome about being an adult, but isn’t as awesome as you thought it would be? | UP: 456 - DOWN: 0\n"
     ]
    },
    {
     "data": {
      "text/plain": [
       "[]"
      ]
     },
     "execution_count": 4,
     "metadata": {},
     "output_type": "execute_result"
    },
    {
     "name": "stdout",
     "output_type": "stream",
     "text": [
      "Title: What are your thoughts on visions boards? | UP: 0 - DOWN: 0\n"
     ]
    },
    {
     "data": {
      "text/plain": [
       "[]"
      ]
     },
     "execution_count": 4,
     "metadata": {},
     "output_type": "execute_result"
    },
    {
     "name": "stdout",
     "output_type": "stream",
     "text": [
      "Title: As a woman navigating the dating scene, what are somethings that reveal that a person/ your SO is insecure? | UP: 19 - DOWN: 0\n"
     ]
    },
    {
     "data": {
      "text/plain": [
       "[]"
      ]
     },
     "execution_count": 4,
     "metadata": {},
     "output_type": "execute_result"
    },
    {
     "name": "stdout",
     "output_type": "stream",
     "text": [
      "Title: what are your views on friendly flirting with some random person at a store or something like that if your married? is it wrong is it ok? | UP: 2 - DOWN: 0\n"
     ]
    },
    {
     "data": {
      "text/plain": [
       "[]"
      ]
     },
     "execution_count": 4,
     "metadata": {},
     "output_type": "execute_result"
    },
    {
     "name": "stdout",
     "output_type": "stream",
     "text": [
      "Title: How have you been able to tell if you're having a gut feeling about something vs. just overthinking? | UP: 37 - DOWN: 0\n"
     ]
    },
    {
     "data": {
      "text/plain": [
       "[<MoreComments count=0, children=[]>]"
      ]
     },
     "execution_count": 4,
     "metadata": {},
     "output_type": "execute_result"
    },
    {
     "name": "stdout",
     "output_type": "stream",
     "text": [
      "Title: What's the most out of character thing you've done, and did you regret it? | UP: 133 - DOWN: 0\n"
     ]
    },
    {
     "data": {
      "text/plain": [
       "[]"
      ]
     },
     "execution_count": 4,
     "metadata": {},
     "output_type": "execute_result"
    },
    {
     "name": "stdout",
     "output_type": "stream",
     "text": [
      "Title: what annoys/frustrates you the most right now? | UP: 103 - DOWN: 0\n"
     ]
    },
    {
     "data": {
      "text/plain": [
       "[]"
      ]
     },
     "execution_count": 4,
     "metadata": {},
     "output_type": "execute_result"
    },
    {
     "name": "stdout",
     "output_type": "stream",
     "text": [
      "Title: what would you do if your spouse didn't want to do nice things together? | UP: 8 - DOWN: 0\n"
     ]
    },
    {
     "data": {
      "text/plain": [
       "[]"
      ]
     },
     "execution_count": 4,
     "metadata": {},
     "output_type": "execute_result"
    },
    {
     "name": "stdout",
     "output_type": "stream",
     "text": [
      "Title: Ladies: Who is your most influential mentor (in work, life, career path, etc.), and Why? | UP: 3 - DOWN: 0\n"
     ]
    },
    {
     "data": {
      "text/plain": [
       "[]"
      ]
     },
     "execution_count": 4,
     "metadata": {},
     "output_type": "execute_result"
    },
    {
     "name": "stdout",
     "output_type": "stream",
     "text": [
      "Title: women who’ve had a baby with someone who smokes, how were they during labor & delivery? | UP: 0 - DOWN: 0\n"
     ]
    },
    {
     "data": {
      "text/plain": [
       "[]"
      ]
     },
     "execution_count": 4,
     "metadata": {},
     "output_type": "execute_result"
    },
    {
     "name": "stdout",
     "output_type": "stream",
     "text": [
      "Title: Do you think T-Shirt tans (farmer tans) are unattractive? Why or why not? | UP: 0 - DOWN: 0\n"
     ]
    },
    {
     "data": {
      "text/plain": [
       "[]"
      ]
     },
     "execution_count": 4,
     "metadata": {},
     "output_type": "execute_result"
    },
    {
     "name": "stdout",
     "output_type": "stream",
     "text": [
      "Title: How do you handle finally realizing that you were the toxic one in your relationship post-breakup? | UP: 12 - DOWN: 0\n"
     ]
    },
    {
     "data": {
      "text/plain": [
       "[]"
      ]
     },
     "execution_count": 4,
     "metadata": {},
     "output_type": "execute_result"
    },
    {
     "name": "stdout",
     "output_type": "stream",
     "text": [
      "Title: What is the most awkward thing you’ve been told by someone? | UP: 77 - DOWN: 0\n"
     ]
    },
    {
     "data": {
      "text/plain": [
       "[]"
      ]
     },
     "execution_count": 4,
     "metadata": {},
     "output_type": "execute_result"
    },
    {
     "name": "stdout",
     "output_type": "stream",
     "text": [
      "Title: Ladies, How do you know if you're being Gaslit? | UP: 0 - DOWN: 0\n"
     ]
    },
    {
     "data": {
      "text/plain": [
       "[]"
      ]
     },
     "execution_count": 4,
     "metadata": {},
     "output_type": "execute_result"
    },
    {
     "name": "stdout",
     "output_type": "stream",
     "text": [
      "Title: When making plans to go out on a date, how big of a factor is the weather in your plans? What are you preferences and why? | UP: 5 - DOWN: 0\n"
     ]
    },
    {
     "data": {
      "text/plain": [
       "[]"
      ]
     },
     "execution_count": 4,
     "metadata": {},
     "output_type": "execute_result"
    },
    {
     "name": "stdout",
     "output_type": "stream",
     "text": [
      "Title: What is is like having a mother you can talk to? | UP: 86 - DOWN: 0\n"
     ]
    },
    {
     "data": {
      "text/plain": [
       "[]"
      ]
     },
     "execution_count": 4,
     "metadata": {},
     "output_type": "execute_result"
    },
    {
     "name": "stdout",
     "output_type": "stream",
     "text": [
      "Title: What are some lesser-known habits that extend longevity / maximize physical health for old age? | UP: 6 - DOWN: 0\n"
     ]
    },
    {
     "data": {
      "text/plain": [
       "[]"
      ]
     },
     "execution_count": 4,
     "metadata": {},
     "output_type": "execute_result"
    },
    {
     "name": "stdout",
     "output_type": "stream",
     "text": [
      "Title: How do you fix a ‘ruined’ day? | UP: 116 - DOWN: 0\n"
     ]
    },
    {
     "data": {
      "text/plain": [
       "[]"
      ]
     },
     "execution_count": 4,
     "metadata": {},
     "output_type": "execute_result"
    },
    {
     "name": "stdout",
     "output_type": "stream",
     "text": [
      "Title: What is the appeal behind wearing a septum or getting one’s belly button pierced? | UP: 1 - DOWN: 0\n"
     ]
    },
    {
     "data": {
      "text/plain": [
       "[<MoreComments count=4, children=['j755qro']>,\n",
       " <MoreComments count=4, children=['j75uo9l', 'j75mx3i', 'j7661gx']>,\n",
       " <MoreComments count=4, children=['j75k01b']>,\n",
       " <MoreComments count=4, children=['j75kov5', 'j76b4ab']>,\n",
       " <MoreComments count=3, children=['j75jmzp']>,\n",
       " <MoreComments count=3, children=['j76mth3']>,\n",
       " <MoreComments count=3, children=['j75f7qv']>,\n",
       " <MoreComments count=3, children=['j75vjpw']>,\n",
       " <MoreComments count=3, children=['j75x3t1']>,\n",
       " <MoreComments count=3, children=['j761j1l', 'j753cj5', 'j76bk6x']>,\n",
       " <MoreComments count=3, children=['j75qhfl', 'j75qzwi']>,\n",
       " <MoreComments count=3, children=['j75xbo7']>,\n",
       " <MoreComments count=3, children=['j75u6cb', 'j765jtp', 'j75nav9']>,\n",
       " <MoreComments count=3, children=['j75k1so', 'j76ejs1']>,\n",
       " <MoreComments count=3, children=['j75olmh', 'j75r5am']>,\n",
       " <MoreComments count=3, children=['j75nm5i']>,\n",
       " <MoreComments count=3, children=['j765zbc', 'j75v6a9', 'j75zg3g']>,\n",
       " <MoreComments count=2, children=['j75u355', 'j76gll7']>,\n",
       " <MoreComments count=2, children=['j75u8kp', 'j763yej']>,\n",
       " <MoreComments count=2, children=['j761w1f', 'j75x11z']>,\n",
       " <MoreComments count=2, children=['j75qsg4']>,\n",
       " <MoreComments count=2, children=['j75lryg']>,\n",
       " <MoreComments count=2, children=['j763dmt']>,\n",
       " <MoreComments count=2, children=['j75l5zk']>,\n",
       " <MoreComments count=2, children=['j766bbu', 'j75umh3']>,\n",
       " <MoreComments count=2, children=['j75je6a']>,\n",
       " <MoreComments count=2, children=['j76361k']>,\n",
       " <MoreComments count=2, children=['j75qd48']>,\n",
       " <MoreComments count=2, children=['j75ui2f']>,\n",
       " <MoreComments count=2, children=['j76etzx']>,\n",
       " <MoreComments count=2, children=['j76k7bt', 'j75bgr9']>,\n",
       " <MoreComments count=2, children=['j763bno']>,\n",
       " <MoreComments count=2, children=['j75wh9h']>,\n",
       " <MoreComments count=2, children=['j76lq37']>,\n",
       " <MoreComments count=2, children=['j76ee4b']>,\n",
       " <MoreComments count=2, children=['j76dvpt']>,\n",
       " <MoreComments count=2, children=['j76ini6', 'j764pzz']>,\n",
       " <MoreComments count=2, children=['j75we6v']>,\n",
       " <MoreComments count=2, children=['j7602lk', 'j75ynst']>,\n",
       " <MoreComments count=2, children=['j76axvv', 'j75m1p7']>,\n",
       " <MoreComments count=1, children=['j75rle0']>,\n",
       " <MoreComments count=1, children=['j76p5y4']>,\n",
       " <MoreComments count=1, children=['j763y6u']>,\n",
       " <MoreComments count=1, children=['j763iu8']>,\n",
       " <MoreComments count=1, children=['j76anuu']>,\n",
       " <MoreComments count=1, children=['j75hlst']>,\n",
       " <MoreComments count=1, children=['j75zeux']>,\n",
       " <MoreComments count=1, children=['j76cdff']>,\n",
       " <MoreComments count=1, children=['j75pknk']>,\n",
       " <MoreComments count=1, children=['j75d4zu']>,\n",
       " <MoreComments count=1, children=['j76hj55']>,\n",
       " <MoreComments count=1, children=['j75bf0b']>,\n",
       " <MoreComments count=1, children=['j76dxpp']>,\n",
       " <MoreComments count=1, children=['j7678nn']>,\n",
       " <MoreComments count=1, children=['j75ij61']>,\n",
       " <MoreComments count=1, children=['j75ypox']>,\n",
       " <MoreComments count=1, children=['j75ka1e']>,\n",
       " <MoreComments count=1, children=['j7535e9']>,\n",
       " <MoreComments count=1, children=['j7671aw']>,\n",
       " <MoreComments count=1, children=['j75tqia']>,\n",
       " <MoreComments count=1, children=['j75ykah']>,\n",
       " <MoreComments count=1, children=['j75vh7k']>,\n",
       " <MoreComments count=1, children=['j767btu']>,\n",
       " <MoreComments count=1, children=['j75ic2v']>,\n",
       " <MoreComments count=1, children=['j762qy9']>,\n",
       " <MoreComments count=1, children=['j75leji']>,\n",
       " <MoreComments count=1, children=['j76akg8']>,\n",
       " <MoreComments count=1, children=['j766fcp']>,\n",
       " <MoreComments count=1, children=['j751e5y']>,\n",
       " <MoreComments count=1, children=['j766e5b']>,\n",
       " <MoreComments count=1, children=['j7635td']>,\n",
       " <MoreComments count=1, children=['j763p3p']>,\n",
       " <MoreComments count=1, children=['j76b7v2']>,\n",
       " <MoreComments count=1, children=['j75r1hz']>,\n",
       " <MoreComments count=1, children=['j76096h']>,\n",
       " <MoreComments count=1, children=['j76394z']>,\n",
       " <MoreComments count=1, children=['j75ui4q']>,\n",
       " <MoreComments count=1, children=['j76g706']>,\n",
       " <MoreComments count=1, children=['j76qmu8']>,\n",
       " <MoreComments count=1, children=['j769zhf']>,\n",
       " <MoreComments count=1, children=['j762jym']>,\n",
       " <MoreComments count=1, children=['j76nq1k']>,\n",
       " <MoreComments count=1, children=['j76pfoh']>,\n",
       " <MoreComments count=1, children=['j76dxq8']>,\n",
       " <MoreComments count=1, children=['j76p1aq']>,\n",
       " <MoreComments count=1, children=['j76hwen']>,\n",
       " <MoreComments count=1, children=['j76ibhl']>,\n",
       " <MoreComments count=1, children=['j760do1']>,\n",
       " <MoreComments count=1, children=['j75dj54']>,\n",
       " <MoreComments count=1, children=['j76lq2a']>,\n",
       " <MoreComments count=1, children=['j76bbid']>,\n",
       " <MoreComments count=1, children=['j76wljf']>,\n",
       " <MoreComments count=1, children=['j76mg17']>,\n",
       " <MoreComments count=1, children=['j75vu4s']>,\n",
       " <MoreComments count=1, children=['j75gr9w']>,\n",
       " <MoreComments count=1, children=['j76h3z4']>,\n",
       " <MoreComments count=1, children=['j75utys']>]"
      ]
     },
     "execution_count": 4,
     "metadata": {},
     "output_type": "execute_result"
    },
    {
     "name": "stdout",
     "output_type": "stream",
     "text": [
      "Title: What’s a hill you’ll die on? | UP: 1087 - DOWN: 0\n"
     ]
    },
    {
     "data": {
      "text/plain": [
       "[]"
      ]
     },
     "execution_count": 4,
     "metadata": {},
     "output_type": "execute_result"
    },
    {
     "name": "stdout",
     "output_type": "stream",
     "text": [
      "Title: When was the last time you thought to yourself, \"this person is such a moron\"? | UP: 34 - DOWN: 0\n"
     ]
    },
    {
     "data": {
      "text/plain": [
       "[]"
      ]
     },
     "execution_count": 4,
     "metadata": {},
     "output_type": "execute_result"
    },
    {
     "name": "stdout",
     "output_type": "stream",
     "text": [
      "Title: Women of Reddit, what’s your take on “creep-trapping” guys at the gym? | UP: 0 - DOWN: 0\n"
     ]
    },
    {
     "data": {
      "text/plain": [
       "[]"
      ]
     },
     "execution_count": 4,
     "metadata": {},
     "output_type": "execute_result"
    },
    {
     "name": "stdout",
     "output_type": "stream",
     "text": [
      "Title: Women in long distance relationship, how’s it going? | UP: 9 - DOWN: 0\n"
     ]
    },
    {
     "data": {
      "text/plain": [
       "[]"
      ]
     },
     "execution_count": 4,
     "metadata": {},
     "output_type": "execute_result"
    },
    {
     "name": "stdout",
     "output_type": "stream",
     "text": [
      "Title: What is your favorite food for breakfast? | UP: 13 - DOWN: 0\n"
     ]
    },
    {
     "data": {
      "text/plain": [
       "[]"
      ]
     },
     "execution_count": 4,
     "metadata": {},
     "output_type": "execute_result"
    },
    {
     "name": "stdout",
     "output_type": "stream",
     "text": [
      "Title: How is your relationship with your sister(s)? | UP: 15 - DOWN: 0\n"
     ]
    },
    {
     "data": {
      "text/plain": [
       "[]"
      ]
     },
     "execution_count": 4,
     "metadata": {},
     "output_type": "execute_result"
    },
    {
     "name": "stdout",
     "output_type": "stream",
     "text": [
      "Title: What were some new/major challenges you faced with your partner after moving in together? | UP: 18 - DOWN: 0\n"
     ]
    },
    {
     "data": {
      "text/plain": [
       "[]"
      ]
     },
     "execution_count": 4,
     "metadata": {},
     "output_type": "execute_result"
    },
    {
     "name": "stdout",
     "output_type": "stream",
     "text": [
      "Title: Women 30& up: How long did it take you to have sex with someone else after your breakup? How long were you together? | UP: 8 - DOWN: 0\n"
     ]
    },
    {
     "data": {
      "text/plain": [
       "[]"
      ]
     },
     "execution_count": 4,
     "metadata": {},
     "output_type": "execute_result"
    },
    {
     "name": "stdout",
     "output_type": "stream",
     "text": [
      "Title: What is the inbetween FWB/Casual sex and a relationship/being official? | UP: 5 - DOWN: 0\n"
     ]
    },
    {
     "data": {
      "text/plain": [
       "[]"
      ]
     },
     "execution_count": 4,
     "metadata": {},
     "output_type": "execute_result"
    },
    {
     "name": "stdout",
     "output_type": "stream",
     "text": [
      "Title: Women of Reddit, how would you feel if a guy paid you to teach him how to kiss romantically? | UP: 25 - DOWN: 0\n"
     ]
    },
    {
     "data": {
      "text/plain": [
       "[]"
      ]
     },
     "execution_count": 4,
     "metadata": {},
     "output_type": "execute_result"
    },
    {
     "name": "stdout",
     "output_type": "stream",
     "text": [
      "Title: How did you give your daughters the birds and bees talk?? | UP: 11 - DOWN: 0\n"
     ]
    },
    {
     "data": {
      "text/plain": [
       "[]"
      ]
     },
     "execution_count": 4,
     "metadata": {},
     "output_type": "execute_result"
    },
    {
     "name": "stdout",
     "output_type": "stream",
     "text": [
      "Title: what is your favorite hair length? and what's your hair length right now? | UP: 32 - DOWN: 0\n"
     ]
    },
    {
     "data": {
      "text/plain": [
       "[]"
      ]
     },
     "execution_count": 4,
     "metadata": {},
     "output_type": "execute_result"
    },
    {
     "name": "stdout",
     "output_type": "stream",
     "text": [
      "Title: What do you call a person who talks about doing stuff but backs off when the time comes? | UP: 8 - DOWN: 0\n"
     ]
    },
    {
     "data": {
      "text/plain": [
       "[]"
      ]
     },
     "execution_count": 4,
     "metadata": {},
     "output_type": "execute_result"
    },
    {
     "name": "stdout",
     "output_type": "stream",
     "text": [
      "Title: What type of reassurance do you think people should avoid/do more? | UP: 7 - DOWN: 0\n"
     ]
    },
    {
     "data": {
      "text/plain": [
       "[]"
      ]
     },
     "execution_count": 4,
     "metadata": {},
     "output_type": "execute_result"
    },
    {
     "name": "stdout",
     "output_type": "stream",
     "text": [
      "Title: What is it about your appearance that attract everyone’s attention when you walk into a room? | UP: 49 - DOWN: 0\n"
     ]
    },
    {
     "data": {
      "text/plain": [
       "[]"
      ]
     },
     "execution_count": 4,
     "metadata": {},
     "output_type": "execute_result"
    },
    {
     "name": "stdout",
     "output_type": "stream",
     "text": [
      "Title: How do you respond to a message “hey i think ur cute “ from someone you barely know/met once ? | UP: 80 - DOWN: 0\n"
     ]
    },
    {
     "data": {
      "text/plain": [
       "[<MoreComments count=4, children=['j73g4d2']>,\n",
       " <MoreComments count=3, children=['j7599yi']>,\n",
       " <MoreComments count=3, children=['j73kaxl', 'j74m443']>,\n",
       " <MoreComments count=3, children=['j76q6fk', 'j77tjnf']>,\n",
       " <MoreComments count=3, children=['j764xtn']>,\n",
       " <MoreComments count=2, children=['j77ozp0']>,\n",
       " <MoreComments count=2, children=['j75yl7p']>,\n",
       " <MoreComments count=2, children=['j76jj9n', 'j74yzeb']>,\n",
       " <MoreComments count=2, children=['j740e5f']>,\n",
       " <MoreComments count=2, children=['j78xoli']>,\n",
       " <MoreComments count=2, children=['j74gaa9', 'j74ev8f']>,\n",
       " <MoreComments count=2, children=['j72kve3']>,\n",
       " <MoreComments count=2, children=['j74h2vp']>,\n",
       " <MoreComments count=2, children=['j75jdk4']>,\n",
       " <MoreComments count=1, children=['j7c983s']>,\n",
       " <MoreComments count=1, children=['j769eeq']>,\n",
       " <MoreComments count=1, children=['j7623nf']>,\n",
       " <MoreComments count=1, children=['j74bchy']>,\n",
       " <MoreComments count=1, children=['j74210s']>,\n",
       " <MoreComments count=1, children=['j73uuhv']>,\n",
       " <MoreComments count=1, children=['j73k763']>,\n",
       " <MoreComments count=1, children=['j7489na']>,\n",
       " <MoreComments count=1, children=['j760ylh']>,\n",
       " <MoreComments count=1, children=['j746xc9']>,\n",
       " <MoreComments count=1, children=['j72cr7j']>,\n",
       " <MoreComments count=1, children=['j77qqil']>,\n",
       " <MoreComments count=1, children=['j766yq2']>,\n",
       " <MoreComments count=1, children=['j7dyln1']>,\n",
       " <MoreComments count=1, children=['j74qjaf']>,\n",
       " <MoreComments count=1, children=['j75iio6']>,\n",
       " <MoreComments count=1, children=['j73bu5p']>,\n",
       " <MoreComments count=1, children=['j74wh9w']>,\n",
       " <MoreComments count=1, children=['j741pmf']>,\n",
       " <MoreComments count=1, children=['j74s7dm']>,\n",
       " <MoreComments count=1, children=['j73qgpo']>,\n",
       " <MoreComments count=1, children=['j73hlm6']>,\n",
       " <MoreComments count=1, children=['j75pqf7']>,\n",
       " <MoreComments count=1, children=['j76j8hz']>,\n",
       " <MoreComments count=1, children=['j74aeiy']>,\n",
       " <MoreComments count=1, children=['j76idc7']>,\n",
       " <MoreComments count=1, children=['j7c94t9']>,\n",
       " <MoreComments count=1, children=['j75nskz']>,\n",
       " <MoreComments count=1, children=['j74ox5a']>,\n",
       " <MoreComments count=1, children=['j75zd3v']>,\n",
       " <MoreComments count=1, children=['j7638hn']>,\n",
       " <MoreComments count=1, children=['j748fv7']>,\n",
       " <MoreComments count=1, children=['j75t6jv']>,\n",
       " <MoreComments count=1, children=['j73okap']>,\n",
       " <MoreComments count=1, children=['j75lx04']>,\n",
       " <MoreComments count=1, children=['j75exz1']>,\n",
       " <MoreComments count=1, children=['j791eoj']>]"
      ]
     },
     "execution_count": 4,
     "metadata": {},
     "output_type": "execute_result"
    },
    {
     "name": "stdout",
     "output_type": "stream",
     "text": [
      "Title: Women of Reddit Trying to Date: What Are Your Thoughts(or Flags) If Someone Says They Don’t Drink Alcohol At All? | UP: 780 - DOWN: 0\n"
     ]
    },
    {
     "data": {
      "text/plain": [
       "[]"
      ]
     },
     "execution_count": 4,
     "metadata": {},
     "output_type": "execute_result"
    },
    {
     "name": "stdout",
     "output_type": "stream",
     "text": [
      "Title: How can a TRUST be earned or built? Do you have trust issues? Share your thoughts in the comments. | UP: 6 - DOWN: 0\n"
     ]
    },
    {
     "data": {
      "text/plain": [
       "[]"
      ]
     },
     "execution_count": 4,
     "metadata": {},
     "output_type": "execute_result"
    },
    {
     "name": "stdout",
     "output_type": "stream",
     "text": [
      "Title: What is it like dating when you don’t fit the normal beauty standards at all? | UP: 363 - DOWN: 0\n"
     ]
    },
    {
     "data": {
      "text/plain": [
       "[]"
      ]
     },
     "execution_count": 4,
     "metadata": {},
     "output_type": "execute_result"
    },
    {
     "name": "stdout",
     "output_type": "stream",
     "text": [
      "Title: How often do you feel strong physical desire towards people you are not dating? | UP: 21 - DOWN: 0\n"
     ]
    },
    {
     "data": {
      "text/plain": [
       "[]"
      ]
     },
     "execution_count": 4,
     "metadata": {},
     "output_type": "execute_result"
    },
    {
     "name": "stdout",
     "output_type": "stream",
     "text": [
      "Title: What are everyone’s thoughts on Australian accents? | UP: 0 - DOWN: 0\n"
     ]
    },
    {
     "data": {
      "text/plain": [
       "[]"
      ]
     },
     "execution_count": 4,
     "metadata": {},
     "output_type": "execute_result"
    },
    {
     "name": "stdout",
     "output_type": "stream",
     "text": [
      "Title: How do you deal with having 0 relationship experience as an adult? | UP: 47 - DOWN: 0\n"
     ]
    },
    {
     "data": {
      "text/plain": [
       "[]"
      ]
     },
     "execution_count": 4,
     "metadata": {},
     "output_type": "execute_result"
    },
    {
     "name": "stdout",
     "output_type": "stream",
     "text": [
      "Title: What are some quotes that scream 'baddie\"? | UP: 0 - DOWN: 0\n"
     ]
    },
    {
     "data": {
      "text/plain": [
       "[]"
      ]
     },
     "execution_count": 4,
     "metadata": {},
     "output_type": "execute_result"
    },
    {
     "name": "stdout",
     "output_type": "stream",
     "text": [
      "Title: Women who got their thyroid removed. What was your pregnancy like? | UP: 12 - DOWN: 0\n"
     ]
    },
    {
     "data": {
      "text/plain": [
       "[]"
      ]
     },
     "execution_count": 4,
     "metadata": {},
     "output_type": "execute_result"
    },
    {
     "name": "stdout",
     "output_type": "stream",
     "text": [
      "Title: How long does it take for you to put makeup on? | UP: 23 - DOWN: 0\n"
     ]
    },
    {
     "data": {
      "text/plain": [
       "[<MoreComments count=0, children=[]>]"
      ]
     },
     "execution_count": 4,
     "metadata": {},
     "output_type": "execute_result"
    },
    {
     "name": "stdout",
     "output_type": "stream",
     "text": [
      "Title: Do you feel womens mental health is taken seriously? Why or why not? | UP: 120 - DOWN: 0\n"
     ]
    },
    {
     "data": {
      "text/plain": [
       "[]"
      ]
     },
     "execution_count": 4,
     "metadata": {},
     "output_type": "execute_result"
    },
    {
     "name": "stdout",
     "output_type": "stream",
     "text": [
      "Title: How important is couch time in your daily life? | UP: 10 - DOWN: 0\n"
     ]
    },
    {
     "data": {
      "text/plain": [
       "[]"
      ]
     },
     "execution_count": 4,
     "metadata": {},
     "output_type": "execute_result"
    },
    {
     "name": "stdout",
     "output_type": "stream",
     "text": [
      "Title: Women of Reddit, would you stay friends with someone who doesn’t like your SO? Why or why not? | UP: 22 - DOWN: 0\n"
     ]
    },
    {
     "data": {
      "text/plain": [
       "[]"
      ]
     },
     "execution_count": 4,
     "metadata": {},
     "output_type": "execute_result"
    },
    {
     "name": "stdout",
     "output_type": "stream",
     "text": [
      "Title: Women of reddit, what's the moment with your partner that confirmed that you're gonna spend your life with them? | UP: 544 - DOWN: 0\n"
     ]
    },
    {
     "data": {
      "text/plain": [
       "[]"
      ]
     },
     "execution_count": 4,
     "metadata": {},
     "output_type": "execute_result"
    },
    {
     "name": "stdout",
     "output_type": "stream",
     "text": [
      "Title: What are subtle things you do to stay grounded in everyday life? | UP: 29 - DOWN: 0\n"
     ]
    },
    {
     "data": {
      "text/plain": [
       "[]"
      ]
     },
     "execution_count": 4,
     "metadata": {},
     "output_type": "execute_result"
    },
    {
     "name": "stdout",
     "output_type": "stream",
     "text": [
      "Title: If you could have any hair color, length, texture, and style right now, what would it be? | UP: 10 - DOWN: 0\n"
     ]
    },
    {
     "data": {
      "text/plain": [
       "[]"
      ]
     },
     "execution_count": 4,
     "metadata": {},
     "output_type": "execute_result"
    },
    {
     "name": "stdout",
     "output_type": "stream",
     "text": [
      "Title: Women who love their job- what do you do and why do you love it? | UP: 54 - DOWN: 0\n"
     ]
    },
    {
     "data": {
      "text/plain": [
       "[]"
      ]
     },
     "execution_count": 4,
     "metadata": {},
     "output_type": "execute_result"
    },
    {
     "name": "stdout",
     "output_type": "stream",
     "text": [
      "Title: Rich women of Reddit, when did you realize you were more well off than others? | UP: 14 - DOWN: 0\n"
     ]
    },
    {
     "data": {
      "text/plain": [
       "[]"
      ]
     },
     "execution_count": 4,
     "metadata": {},
     "output_type": "execute_result"
    },
    {
     "name": "stdout",
     "output_type": "stream",
     "text": [
      "Title: How do you motivate yourself when all you want to do is stay curled up in bed? | UP: 152 - DOWN: 0\n"
     ]
    },
    {
     "data": {
      "text/plain": [
       "[]"
      ]
     },
     "execution_count": 4,
     "metadata": {},
     "output_type": "execute_result"
    },
    {
     "name": "stdout",
     "output_type": "stream",
     "text": [
      "Title: Women with a tomboy reputation, how this affect your relationships? | UP: 17 - DOWN: 0\n"
     ]
    },
    {
     "data": {
      "text/plain": [
       "[]"
      ]
     },
     "execution_count": 4,
     "metadata": {},
     "output_type": "execute_result"
    },
    {
     "name": "stdout",
     "output_type": "stream",
     "text": [
      "Title: How do you calm yourself down? | UP: 40 - DOWN: 0\n"
     ]
    },
    {
     "data": {
      "text/plain": [
       "[]"
      ]
     },
     "execution_count": 4,
     "metadata": {},
     "output_type": "execute_result"
    },
    {
     "name": "stdout",
     "output_type": "stream",
     "text": [
      "Title: What is something you did recently that caused you to feel guilty/bad? | UP: 2 - DOWN: 0\n"
     ]
    },
    {
     "data": {
      "text/plain": [
       "[]"
      ]
     },
     "execution_count": 4,
     "metadata": {},
     "output_type": "execute_result"
    },
    {
     "name": "stdout",
     "output_type": "stream",
     "text": [
      "Title: What are ways that you were “micro-neglected” as a kid? | UP: 21 - DOWN: 0\n"
     ]
    },
    {
     "data": {
      "text/plain": [
       "[]"
      ]
     },
     "execution_count": 4,
     "metadata": {},
     "output_type": "execute_result"
    },
    {
     "name": "stdout",
     "output_type": "stream",
     "text": [
      "Title: Women who flick off the camera (with their middle finger) on a dating profile picture, why? | UP: 0 - DOWN: 0\n"
     ]
    },
    {
     "data": {
      "text/plain": [
       "[]"
      ]
     },
     "execution_count": 4,
     "metadata": {},
     "output_type": "execute_result"
    },
    {
     "name": "stdout",
     "output_type": "stream",
     "text": [
      "Title: in what ways have you been scammed? | UP: 5 - DOWN: 0\n"
     ]
    },
    {
     "data": {
      "text/plain": [
       "[]"
      ]
     },
     "execution_count": 4,
     "metadata": {},
     "output_type": "execute_result"
    },
    {
     "name": "stdout",
     "output_type": "stream",
     "text": [
      "Title: Fellow zoomers…where were you when Michael Jackson died? How did you take the news? | UP: 0 - DOWN: 0\n"
     ]
    },
    {
     "data": {
      "text/plain": [
       "[]"
      ]
     },
     "execution_count": 4,
     "metadata": {},
     "output_type": "execute_result"
    },
    {
     "name": "stdout",
     "output_type": "stream",
     "text": [
      "Title: What was the hardest part of being in a healthy relationship after being in an abusive one? | UP: 84 - DOWN: 0\n"
     ]
    },
    {
     "data": {
      "text/plain": [
       "[]"
      ]
     },
     "execution_count": 4,
     "metadata": {},
     "output_type": "execute_result"
    },
    {
     "name": "stdout",
     "output_type": "stream",
     "text": [
      "Title: which place do you think is good for meeting a friend? | UP: 3 - DOWN: 0\n"
     ]
    },
    {
     "data": {
      "text/plain": [
       "[]"
      ]
     },
     "execution_count": 4,
     "metadata": {},
     "output_type": "execute_result"
    },
    {
     "name": "stdout",
     "output_type": "stream",
     "text": [
      "Title: Has your body ever rejected a bf or a gf during sex? Why? | UP: 110 - DOWN: 0\n"
     ]
    },
    {
     "data": {
      "text/plain": [
       "[]"
      ]
     },
     "execution_count": 4,
     "metadata": {},
     "output_type": "execute_result"
    },
    {
     "name": "stdout",
     "output_type": "stream",
     "text": [
      "Title: what would you do if your SO asked you to quit your job? | UP: 58 - DOWN: 0\n"
     ]
    },
    {
     "data": {
      "text/plain": [
       "[]"
      ]
     },
     "execution_count": 4,
     "metadata": {},
     "output_type": "execute_result"
    },
    {
     "name": "stdout",
     "output_type": "stream",
     "text": [
      "Title: What does letting go of ego mean to you? | UP: 3 - DOWN: 0\n"
     ]
    },
    {
     "data": {
      "text/plain": [
       "[]"
      ]
     },
     "execution_count": 4,
     "metadata": {},
     "output_type": "execute_result"
    },
    {
     "name": "stdout",
     "output_type": "stream",
     "text": [
      "Title: What was the longest you have taken a break off work? | UP: 11 - DOWN: 0\n"
     ]
    },
    {
     "data": {
      "text/plain": [
       "[]"
      ]
     },
     "execution_count": 4,
     "metadata": {},
     "output_type": "execute_result"
    },
    {
     "name": "stdout",
     "output_type": "stream",
     "text": [
      "Title: You see the person with whom your partner cheated on you in a grave situation. What do you do? | UP: 7 - DOWN: 0\n"
     ]
    },
    {
     "data": {
      "text/plain": [
       "[]"
      ]
     },
     "execution_count": 4,
     "metadata": {},
     "output_type": "execute_result"
    },
    {
     "name": "stdout",
     "output_type": "stream",
     "text": [
      "Title: What’s the most embarrassing thing your parent(s) put you through as a child? | UP: 5 - DOWN: 0\n"
     ]
    },
    {
     "data": {
      "text/plain": [
       "[<MoreComments count=4, children=['j728bbp', 'j72j0cn']>,\n",
       " <MoreComments count=4, children=['j6y89cc', 'j71rlrh']>,\n",
       " <MoreComments count=4, children=['j70apr6']>,\n",
       " <MoreComments count=4, children=['j705ync', 'j70citl', 'j7004qi']>,\n",
       " <MoreComments count=4, children=['j6ydu7t', 'j70m4uz', 'j6zasnp']>,\n",
       " <MoreComments count=4, children=['j6z7pg8', 'j6yytzv', 'j70c072']>,\n",
       " <MoreComments count=4, children=['j6zcst4', 'j714unl', 'j7293w2', 'j6zo1tm']>,\n",
       " <MoreComments count=4, children=['j70vz3s', 'j73gads', 'j70qvuy']>,\n",
       " <MoreComments count=4, children=['j6zv5ep', 'j70osvf', 'j6zgdi4', 'j72nzda']>,\n",
       " <MoreComments count=3, children=['j6z5vt8']>,\n",
       " <MoreComments count=3, children=['j74vgrc', 'j706t8h', 'j6zmena']>,\n",
       " <MoreComments count=3, children=['j71d5iy', 'j6zve10', 'j701bjy']>,\n",
       " <MoreComments count=3, children=['j6zlgvp']>,\n",
       " <MoreComments count=3, children=['j6zzj8v', 'j70qpul', 'j6xrxbz']>,\n",
       " <MoreComments count=3, children=['j714sd6', 'j70l3rj']>,\n",
       " <MoreComments count=3, children=['j723nhk']>,\n",
       " <MoreComments count=3, children=['j6zagrd', 'j71e22e']>,\n",
       " <MoreComments count=3, children=['j6y74dw']>,\n",
       " <MoreComments count=2, children=['j6zkvjc', 'j70dlyf']>,\n",
       " <MoreComments count=2, children=['j6zitz7']>,\n",
       " <MoreComments count=2, children=['j71l9z4', 'j70qw4l']>,\n",
       " <MoreComments count=2, children=['j6z8n88']>,\n",
       " <MoreComments count=2, children=['j6zipau']>,\n",
       " <MoreComments count=2, children=['j700ztc', 'j7015rc']>,\n",
       " <MoreComments count=2, children=['j7067n9']>,\n",
       " <MoreComments count=2, children=['j709ei8']>,\n",
       " <MoreComments count=2, children=['j6ynp0l']>,\n",
       " <MoreComments count=2, children=['j71a5td', 'j72grky']>,\n",
       " <MoreComments count=2, children=['j70rb3p']>,\n",
       " <MoreComments count=2, children=['j6z8rps']>,\n",
       " <MoreComments count=2, children=['j6y40hg', 'j6xvelp']>,\n",
       " <MoreComments count=2, children=['j70u7mp', 'j7084zj']>,\n",
       " <MoreComments count=2, children=['j704r2t', 'j6zpdhq']>,\n",
       " <MoreComments count=2, children=['j702kbk']>,\n",
       " <MoreComments count=2, children=['j70kix5', 'j70x9ck']>,\n",
       " <MoreComments count=2, children=['j705oz0']>,\n",
       " <MoreComments count=2, children=['j6zmjj0']>,\n",
       " <MoreComments count=2, children=['j6y94gx', 'j6yli31']>,\n",
       " <MoreComments count=2, children=['j6zbtnt']>,\n",
       " <MoreComments count=2, children=['j74vk0r']>,\n",
       " <MoreComments count=2, children=['j70cv37']>,\n",
       " <MoreComments count=2, children=['j6xz0jc']>,\n",
       " <MoreComments count=2, children=['j6zt5f7', 'j716qjo']>,\n",
       " <MoreComments count=2, children=['j6xi3pc']>,\n",
       " <MoreComments count=2, children=['j70nsk2', 'j6zv9lo']>,\n",
       " <MoreComments count=2, children=['j6y37pa']>,\n",
       " <MoreComments count=2, children=['j6zpgt6']>,\n",
       " <MoreComments count=2, children=['j6zz6sh', 'j72l0v5']>,\n",
       " <MoreComments count=2, children=['j715lyv']>,\n",
       " <MoreComments count=2, children=['j6zsldu']>,\n",
       " <MoreComments count=2, children=['j6xz308']>,\n",
       " <MoreComments count=2, children=['j70vts0']>,\n",
       " <MoreComments count=2, children=['j79s40i']>,\n",
       " <MoreComments count=2, children=['j79rz5k', 'j79s2ap']>,\n",
       " <MoreComments count=2, children=['j70glp0']>,\n",
       " <MoreComments count=2, children=['j71d26z', 'j71kr0f']>,\n",
       " <MoreComments count=2, children=['j718aib']>,\n",
       " <MoreComments count=2, children=['j786mbf', 'j6zcl5a']>,\n",
       " <MoreComments count=2, children=['j6zejtg']>,\n",
       " <MoreComments count=2, children=['j6ydy83', 'j6zoxzp']>,\n",
       " <MoreComments count=1, children=['j72ddnn']>,\n",
       " <MoreComments count=1, children=['j711lqf']>,\n",
       " <MoreComments count=1, children=['j711euj']>,\n",
       " <MoreComments count=1, children=['j7083j5']>,\n",
       " <MoreComments count=1, children=['j6yr5rn']>,\n",
       " <MoreComments count=1, children=['j6z9mfb']>,\n",
       " <MoreComments count=1, children=['j736hqc']>,\n",
       " <MoreComments count=1, children=['j722h3g']>,\n",
       " <MoreComments count=1, children=['j73e0tv']>,\n",
       " <MoreComments count=1, children=['j71m9g3']>,\n",
       " <MoreComments count=1, children=['j713d55']>,\n",
       " <MoreComments count=1, children=['j6zy5oj']>,\n",
       " <MoreComments count=1, children=['j6zj32z']>,\n",
       " <MoreComments count=1, children=['j6zmasq']>,\n",
       " <MoreComments count=1, children=['j6yb4zo']>,\n",
       " <MoreComments count=1, children=['j71guzr']>,\n",
       " <MoreComments count=1, children=['j70be5p']>,\n",
       " <MoreComments count=1, children=['j70cdk1']>,\n",
       " <MoreComments count=1, children=['j6z22in']>,\n",
       " <MoreComments count=1, children=['j71avfu']>,\n",
       " <MoreComments count=1, children=['j70b1o0']>,\n",
       " <MoreComments count=1, children=['j7195oa']>,\n",
       " <MoreComments count=1, children=['j6zfxfj']>,\n",
       " <MoreComments count=1, children=['j6zznxy']>,\n",
       " <MoreComments count=1, children=['j70uqst']>,\n",
       " <MoreComments count=1, children=['j6yabbf']>,\n",
       " <MoreComments count=1, children=['j6ziwgn']>,\n",
       " <MoreComments count=1, children=['j714nkc']>,\n",
       " <MoreComments count=1, children=['j70frgq']>,\n",
       " <MoreComments count=1, children=['j6z4fs7']>,\n",
       " <MoreComments count=1, children=['j72lnso']>,\n",
       " <MoreComments count=1, children=['j70a8fd']>,\n",
       " <MoreComments count=1, children=['j6znoaz']>,\n",
       " <MoreComments count=1, children=['j6ye9bv']>,\n",
       " <MoreComments count=1, children=['j72xj76']>,\n",
       " <MoreComments count=1, children=['j72hj05']>,\n",
       " <MoreComments count=1, children=['j6zcg9s']>,\n",
       " <MoreComments count=1, children=['j6yqw5z']>,\n",
       " <MoreComments count=1, children=['j6zrcew']>,\n",
       " <MoreComments count=1, children=['j6ycczi']>,\n",
       " <MoreComments count=1, children=['j6yofk0']>,\n",
       " <MoreComments count=1, children=['j6zk4sb']>,\n",
       " <MoreComments count=1, children=['j6zpwdx']>,\n",
       " <MoreComments count=1, children=['j714ucd']>,\n",
       " <MoreComments count=1, children=['j704zxt']>,\n",
       " <MoreComments count=1, children=['j6zzold']>,\n",
       " <MoreComments count=1, children=['j6z4atv']>,\n",
       " <MoreComments count=1, children=['j6yvplc']>,\n",
       " <MoreComments count=1, children=['j6zz1sc']>,\n",
       " <MoreComments count=1, children=['j72knsn']>,\n",
       " <MoreComments count=1, children=['j6ziwmf']>,\n",
       " <MoreComments count=1, children=['j6xtnvy']>,\n",
       " <MoreComments count=1, children=['j6ykwnd']>,\n",
       " <MoreComments count=1, children=['j717i4b']>,\n",
       " <MoreComments count=1, children=['j70wg4e']>,\n",
       " <MoreComments count=1, children=['j6xjz75']>,\n",
       " <MoreComments count=1, children=['j6z1blz']>,\n",
       " <MoreComments count=1, children=['j71mgj4']>,\n",
       " <MoreComments count=1, children=['j7027rc']>,\n",
       " <MoreComments count=1, children=['j71f5cf']>,\n",
       " <MoreComments count=1, children=['j6xio1l']>,\n",
       " <MoreComments count=1, children=['j6ym20k']>,\n",
       " <MoreComments count=1, children=['j6zclsu']>,\n",
       " <MoreComments count=1, children=['j720qmj']>,\n",
       " <MoreComments count=1, children=['j6zamqn']>,\n",
       " <MoreComments count=1, children=['j6zrsec']>,\n",
       " <MoreComments count=1, children=['j6zn6b1']>,\n",
       " <MoreComments count=1, children=['j7083hj']>,\n",
       " <MoreComments count=1, children=['j6yr92p']>,\n",
       " <MoreComments count=1, children=['j6z3par']>,\n",
       " <MoreComments count=1, children=['j6zdjqs']>,\n",
       " <MoreComments count=1, children=['j70pkct']>,\n",
       " <MoreComments count=1, children=['j7c94i9']>,\n",
       " <MoreComments count=1, children=['j703mqx']>,\n",
       " <MoreComments count=1, children=['j6z6p8r']>,\n",
       " <MoreComments count=1, children=['j7026sf']>,\n",
       " <MoreComments count=1, children=['j730hd4']>,\n",
       " <MoreComments count=1, children=['j6zmwjg']>,\n",
       " <MoreComments count=1, children=['j70j7tp']>,\n",
       " <MoreComments count=1, children=['j71nuzq']>,\n",
       " <MoreComments count=1, children=['j6zrg3k']>,\n",
       " <MoreComments count=1, children=['j704c34']>,\n",
       " <MoreComments count=1, children=['j70ea4z']>,\n",
       " <MoreComments count=1, children=['j70fj5e']>,\n",
       " <MoreComments count=1, children=['j6ypzmw']>,\n",
       " <MoreComments count=1, children=['j6y09m0']>,\n",
       " <MoreComments count=1, children=['j6yofy7']>,\n",
       " <MoreComments count=1, children=['j6xrcl7']>,\n",
       " <MoreComments count=1, children=['j6xh1vt']>,\n",
       " <MoreComments count=1, children=['j6zp6vt']>,\n",
       " <MoreComments count=1, children=['j6zj9kj']>,\n",
       " <MoreComments count=1, children=['j71h573']>,\n",
       " <MoreComments count=1, children=['j6xsqls']>,\n",
       " <MoreComments count=1, children=['j6yryb8']>,\n",
       " <MoreComments count=1, children=['j6youzf']>,\n",
       " <MoreComments count=1, children=['j6yikyu']>,\n",
       " <MoreComments count=1, children=['j7140q7']>,\n",
       " <MoreComments count=1, children=['j6xl4pl']>,\n",
       " <MoreComments count=1, children=['j74z7mo']>,\n",
       " <MoreComments count=1, children=['j6xrqw6']>,\n",
       " <MoreComments count=1, children=['j6z0in6']>,\n",
       " <MoreComments count=1, children=['j73hkxf']>,\n",
       " <MoreComments count=1, children=['j73hoo1']>,\n",
       " <MoreComments count=1, children=['j6zifqi']>,\n",
       " <MoreComments count=1, children=['j714zpg']>,\n",
       " <MoreComments count=1, children=['j6yvpmd']>,\n",
       " <MoreComments count=1, children=['j71j1rm']>,\n",
       " <MoreComments count=1, children=['j6zve05']>,\n",
       " <MoreComments count=1, children=['j6zbly3']>,\n",
       " <MoreComments count=1, children=['j70zyvf']>,\n",
       " <MoreComments count=1, children=['j701oar']>,\n",
       " <MoreComments count=1, children=['j6xy0q5']>,\n",
       " <MoreComments count=1, children=['j70ed8z']>,\n",
       " <MoreComments count=1, children=['j71ahnp']>,\n",
       " <MoreComments count=1, children=['j7228ob']>,\n",
       " <MoreComments count=1, children=['j70huw0']>,\n",
       " <MoreComments count=1, children=['j6yyo31']>,\n",
       " <MoreComments count=1, children=['j71748b']>,\n",
       " <MoreComments count=1, children=['j6z6c4a']>,\n",
       " <MoreComments count=1, children=['j6zvaaq']>,\n",
       " <MoreComments count=1, children=['j71h5mi']>,\n",
       " <MoreComments count=1, children=['j6xjmo8']>,\n",
       " <MoreComments count=1, children=['j6z2ui2']>,\n",
       " <MoreComments count=1, children=['j6yye8s']>,\n",
       " <MoreComments count=1, children=['j70s78o']>,\n",
       " <MoreComments count=1, children=['j71ml7m']>,\n",
       " <MoreComments count=1, children=['j706978']>,\n",
       " <MoreComments count=1, children=['j6zrjnm']>,\n",
       " <MoreComments count=1, children=['j6znbm8']>,\n",
       " <MoreComments count=1, children=['j6xy8dc']>]"
      ]
     },
     "execution_count": 4,
     "metadata": {},
     "output_type": "execute_result"
    },
    {
     "name": "stdout",
     "output_type": "stream",
     "text": [
      "Title: What names for pets are you sick of hearing/seeing? | UP: 853 - DOWN: 0\n"
     ]
    },
    {
     "data": {
      "text/plain": [
       "[]"
      ]
     },
     "execution_count": 4,
     "metadata": {},
     "output_type": "execute_result"
    },
    {
     "name": "stdout",
     "output_type": "stream",
     "text": [
      "Title: What has been the highlight of your week so far? | UP: 61 - DOWN: 0\n"
     ]
    },
    {
     "data": {
      "text/plain": [
       "[]"
      ]
     },
     "execution_count": 4,
     "metadata": {},
     "output_type": "execute_result"
    },
    {
     "name": "stdout",
     "output_type": "stream",
     "text": [
      "Title: How has your relationship changed from when you first started dating? How long have you been together? | UP: 3 - DOWN: 0\n"
     ]
    },
    {
     "data": {
      "text/plain": [
       "[]"
      ]
     },
     "execution_count": 4,
     "metadata": {},
     "output_type": "execute_result"
    },
    {
     "name": "stdout",
     "output_type": "stream",
     "text": [
      "Title: Big breasted women: What do you love or hate about yours? | UP: 52 - DOWN: 0\n"
     ]
    },
    {
     "data": {
      "text/plain": [
       "[]"
      ]
     },
     "execution_count": 4,
     "metadata": {},
     "output_type": "execute_result"
    },
    {
     "name": "stdout",
     "output_type": "stream",
     "text": [
      "Title: How do you get rid of hickeys? 😅 | UP: 0 - DOWN: 0\n"
     ]
    },
    {
     "data": {
      "text/plain": [
       "[<MoreComments count=4, children=['j6yrrxt']>,\n",
       " <MoreComments count=3, children=['j6yrcpa']>,\n",
       " <MoreComments count=2, children=['j6ytfzf']>,\n",
       " <MoreComments count=2, children=['j741x6i']>,\n",
       " <MoreComments count=1, children=['j741tvb']>,\n",
       " <MoreComments count=1, children=['j71d07e']>,\n",
       " <MoreComments count=1, children=['j74fy9z']>,\n",
       " <MoreComments count=1, children=['j709718']>,\n",
       " <MoreComments count=1, children=['j722woe']>]"
      ]
     },
     "execution_count": 4,
     "metadata": {},
     "output_type": "execute_result"
    },
    {
     "name": "stdout",
     "output_type": "stream",
     "text": [
      "Title: What is an intrusive thought you had today? | UP: 203 - DOWN: 0\n"
     ]
    },
    {
     "data": {
      "text/plain": [
       "[]"
      ]
     },
     "execution_count": 4,
     "metadata": {},
     "output_type": "execute_result"
    },
    {
     "name": "stdout",
     "output_type": "stream",
     "text": [
      "Title: What do you think of absurdly deep voices? Would you consider it off putting? | UP: 5 - DOWN: 0\n"
     ]
    },
    {
     "data": {
      "text/plain": [
       "[]"
      ]
     },
     "execution_count": 4,
     "metadata": {},
     "output_type": "execute_result"
    },
    {
     "name": "stdout",
     "output_type": "stream",
     "text": [
      "Title: What three things do you love most about who you are? | UP: 18 - DOWN: 0\n"
     ]
    },
    {
     "data": {
      "text/plain": [
       "[]"
      ]
     },
     "execution_count": 4,
     "metadata": {},
     "output_type": "execute_result"
    },
    {
     "name": "stdout",
     "output_type": "stream",
     "text": [
      "Title: When was the last time you put somebody on a pedestal? | UP: 3 - DOWN: 0\n"
     ]
    },
    {
     "data": {
      "text/plain": [
       "[<MoreComments count=4, children=['j6xgbar']>,\n",
       " <MoreComments count=3, children=['j6ziv5g']>,\n",
       " <MoreComments count=3, children=['j6zvb11']>,\n",
       " <MoreComments count=3, children=['j6yaeg9']>,\n",
       " <MoreComments count=3, children=['j72ho7p']>,\n",
       " <MoreComments count=2, children=['j6ycba5']>,\n",
       " <MoreComments count=2, children=['j72deyp', 'j6xjyh1']>,\n",
       " <MoreComments count=2, children=['j6yrbbj']>,\n",
       " <MoreComments count=2, children=['j73iyze']>,\n",
       " <MoreComments count=2, children=['j75nhby']>,\n",
       " <MoreComments count=2, children=['j74lty1', 'j74map3']>,\n",
       " <MoreComments count=2, children=['j735uxh']>,\n",
       " <MoreComments count=1, children=['j73enft']>,\n",
       " <MoreComments count=1, children=['j709gpj']>,\n",
       " <MoreComments count=1, children=['j73lgqa']>,\n",
       " <MoreComments count=1, children=['j73r78j']>,\n",
       " <MoreComments count=1, children=['j6yncqo']>,\n",
       " <MoreComments count=1, children=['j6xypsy']>,\n",
       " <MoreComments count=1, children=['j6xlnhv']>,\n",
       " <MoreComments count=1, children=['j71y937']>,\n",
       " <MoreComments count=1, children=['j75ne3d']>,\n",
       " <MoreComments count=1, children=['j7c0885']>,\n",
       " <MoreComments count=1, children=['j72n7u6']>,\n",
       " <MoreComments count=1, children=['j73yqsh']>,\n",
       " <MoreComments count=1, children=['j73ext5']>,\n",
       " <MoreComments count=1, children=['j74komo']>,\n",
       " <MoreComments count=1, children=['j72wp40']>,\n",
       " <MoreComments count=1, children=['j6z7nma']>,\n",
       " <MoreComments count=1, children=['j6zax0u']>,\n",
       " <MoreComments count=1, children=['j72oap3']>]"
      ]
     },
     "execution_count": 4,
     "metadata": {},
     "output_type": "execute_result"
    },
    {
     "name": "stdout",
     "output_type": "stream",
     "text": [
      "Title: what is the worst thing about your city that many people are not ready to hear ? | UP: 292 - DOWN: 0\n"
     ]
    },
    {
     "data": {
      "text/plain": [
       "[]"
      ]
     },
     "execution_count": 4,
     "metadata": {},
     "output_type": "execute_result"
    },
    {
     "name": "stdout",
     "output_type": "stream",
     "text": [
      "Title: If you have long hair and wear beanies, how do you keep your hair from getting all knotted and tangled? | UP: 2 - DOWN: 0\n"
     ]
    },
    {
     "data": {
      "text/plain": [
       "[]"
      ]
     },
     "execution_count": 4,
     "metadata": {},
     "output_type": "execute_result"
    },
    {
     "name": "stdout",
     "output_type": "stream",
     "text": [
      "Title: Who did you dream of being as a child and have you become? | UP: 11 - DOWN: 0\n"
     ]
    },
    {
     "data": {
      "text/plain": [
       "[]"
      ]
     },
     "execution_count": 4,
     "metadata": {},
     "output_type": "execute_result"
    },
    {
     "name": "stdout",
     "output_type": "stream",
     "text": [
      "Title: Women who were born in the year of the monkey (2004, 1992, 1980, 1968, 1956) and as Pisces (February 19 and March 20), how would you describe your personality? | UP: 0 - DOWN: 0\n"
     ]
    },
    {
     "data": {
      "text/plain": [
       "[]"
      ]
     },
     "execution_count": 4,
     "metadata": {},
     "output_type": "execute_result"
    },
    {
     "name": "stdout",
     "output_type": "stream",
     "text": [
      "Title: if you have experienced betrayal, how did you heal from it? | UP: 27 - DOWN: 0\n"
     ]
    },
    {
     "data": {
      "text/plain": [
       "[]"
      ]
     },
     "execution_count": 4,
     "metadata": {},
     "output_type": "execute_result"
    },
    {
     "name": "stdout",
     "output_type": "stream",
     "text": [
      "Title: As you have gotten older what have you appreciated more about your parents? | UP: 19 - DOWN: 0\n"
     ]
    },
    {
     "data": {
      "text/plain": [
       "[]"
      ]
     },
     "execution_count": 4,
     "metadata": {},
     "output_type": "execute_result"
    },
    {
     "name": "stdout",
     "output_type": "stream",
     "text": [
      "Title: Women working in social work/victims services: what kind of emotional aftercare do you practice after work? | UP: 133 - DOWN: 0\n"
     ]
    },
    {
     "data": {
      "text/plain": [
       "[]"
      ]
     },
     "execution_count": 4,
     "metadata": {},
     "output_type": "execute_result"
    },
    {
     "name": "stdout",
     "output_type": "stream",
     "text": [
      "Title: How has inflation affected your lifestyle? | UP: 391 - DOWN: 0\n"
     ]
    },
    {
     "data": {
      "text/plain": [
       "[]"
      ]
     },
     "execution_count": 4,
     "metadata": {},
     "output_type": "execute_result"
    },
    {
     "name": "stdout",
     "output_type": "stream",
     "text": [
      "Title: Women who have been fat shamed, how do you deal with it? | UP: 33 - DOWN: 0\n"
     ]
    },
    {
     "data": {
      "text/plain": [
       "[]"
      ]
     },
     "execution_count": 4,
     "metadata": {},
     "output_type": "execute_result"
    },
    {
     "name": "stdout",
     "output_type": "stream",
     "text": [
      "Title: What is your favorite podcast? | UP: 52 - DOWN: 0\n"
     ]
    },
    {
     "data": {
      "text/plain": [
       "[]"
      ]
     },
     "execution_count": 4,
     "metadata": {},
     "output_type": "execute_result"
    },
    {
     "name": "stdout",
     "output_type": "stream",
     "text": [
      "Title: Casual Convo Fridays | UP: 11 - DOWN: 0\n"
     ]
    },
    {
     "data": {
      "text/plain": [
       "[]"
      ]
     },
     "execution_count": 4,
     "metadata": {},
     "output_type": "execute_result"
    },
    {
     "name": "stdout",
     "output_type": "stream",
     "text": [
      "Title: If you were elected leader of a post apocalyptic settlement, what would be your 3 main zero tolerance rules? | UP: 2 - DOWN: 0\n"
     ]
    },
    {
     "data": {
      "text/plain": [
       "[]"
      ]
     },
     "execution_count": 4,
     "metadata": {},
     "output_type": "execute_result"
    },
    {
     "name": "stdout",
     "output_type": "stream",
     "text": [
      "Title: Women currently in college, what are you enjoying about college? | UP: 24 - DOWN: 0\n"
     ]
    },
    {
     "data": {
      "text/plain": [
       "[]"
      ]
     },
     "execution_count": 4,
     "metadata": {},
     "output_type": "execute_result"
    },
    {
     "name": "stdout",
     "output_type": "stream",
     "text": [
      "Title: How do you make the work day go by fast? When you work in an office job | UP: 57 - DOWN: 0\n"
     ]
    },
    {
     "data": {
      "text/plain": [
       "[]"
      ]
     },
     "execution_count": 4,
     "metadata": {},
     "output_type": "execute_result"
    },
    {
     "name": "stdout",
     "output_type": "stream",
     "text": [
      "Title: What did you learn or accomplish in the first month of 2023? | UP: 22 - DOWN: 0\n"
     ]
    },
    {
     "data": {
      "text/plain": [
       "[]"
      ]
     },
     "execution_count": 4,
     "metadata": {},
     "output_type": "execute_result"
    },
    {
     "name": "stdout",
     "output_type": "stream",
     "text": [
      "Title: How do you balance work and motherhood? | UP: 0 - DOWN: 0\n"
     ]
    },
    {
     "data": {
      "text/plain": [
       "[]"
      ]
     },
     "execution_count": 4,
     "metadata": {},
     "output_type": "execute_result"
    },
    {
     "name": "stdout",
     "output_type": "stream",
     "text": [
      "Title: What's the weirdest pet name you've heard? | UP: 22 - DOWN: 0\n"
     ]
    },
    {
     "data": {
      "text/plain": [
       "[]"
      ]
     },
     "execution_count": 4,
     "metadata": {},
     "output_type": "execute_result"
    },
    {
     "name": "stdout",
     "output_type": "stream",
     "text": [
      "Title: Where do you find new recipes? | UP: 11 - DOWN: 0\n"
     ]
    },
    {
     "data": {
      "text/plain": [
       "[]"
      ]
     },
     "execution_count": 4,
     "metadata": {},
     "output_type": "execute_result"
    },
    {
     "name": "stdout",
     "output_type": "stream",
     "text": [
      "Title: What symptoms were you having when you finally decided to remove your Mirena? | UP: 16 - DOWN: 0\n"
     ]
    },
    {
     "data": {
      "text/plain": [
       "[]"
      ]
     },
     "execution_count": 4,
     "metadata": {},
     "output_type": "execute_result"
    },
    {
     "name": "stdout",
     "output_type": "stream",
     "text": [
      "Title: What is a meal you have mastered cooking from scratch, without a recipe? | UP: 69 - DOWN: 0\n"
     ]
    },
    {
     "data": {
      "text/plain": [
       "[]"
      ]
     },
     "execution_count": 4,
     "metadata": {},
     "output_type": "execute_result"
    },
    {
     "name": "stdout",
     "output_type": "stream",
     "text": [
      "Title: Women who work a \"boring job\", how did you get into it and what do you like about it? | UP: 10 - DOWN: 0\n"
     ]
    },
    {
     "data": {
      "text/plain": [
       "[<MoreComments count=3, children=['j704ju4', 'j6wy41z']>,\n",
       " <MoreComments count=2, children=['j70cvj0']>,\n",
       " <MoreComments count=2, children=['j6zwuq3']>,\n",
       " <MoreComments count=2, children=['j6zx037']>,\n",
       " <MoreComments count=2, children=['j70jc6y']>,\n",
       " <MoreComments count=2, children=['j6wzii3']>,\n",
       " <MoreComments count=2, children=['j6zx2nr']>,\n",
       " <MoreComments count=2, children=['j703k7d', 'j79tfeq']>,\n",
       " <MoreComments count=2, children=['j6xfjyt']>,\n",
       " <MoreComments count=1, children=['j79zvix']>,\n",
       " <MoreComments count=1, children=['j705c9f']>,\n",
       " <MoreComments count=1, children=['j70pafh']>,\n",
       " <MoreComments count=1, children=['j70j4i9']>,\n",
       " <MoreComments count=1, children=['j7063ns']>]"
      ]
     },
     "execution_count": 4,
     "metadata": {},
     "output_type": "execute_result"
    },
    {
     "name": "stdout",
     "output_type": "stream",
     "text": [
      "Title: Women, if you could change just one thing about yourself, what would you change? Why? | UP: 127 - DOWN: 0\n"
     ]
    },
    {
     "data": {
      "text/plain": [
       "[<MoreComments count=3, children=['j6y2j4l']>,\n",
       " <MoreComments count=2, children=['j6ucaiy']>,\n",
       " <MoreComments count=2, children=['j6w1ogf']>,\n",
       " <MoreComments count=2, children=['j6uggsi', 'j6x0vkd']>,\n",
       " <MoreComments count=2, children=['j6vr1md']>,\n",
       " <MoreComments count=2, children=['j6z1e20']>,\n",
       " <MoreComments count=2, children=['j70brhz']>,\n",
       " <MoreComments count=2, children=['j6yssms']>,\n",
       " <MoreComments count=2, children=['j6wavec']>,\n",
       " <MoreComments count=2, children=['j6w26r4']>,\n",
       " <MoreComments count=2, children=['j6ub7wc']>,\n",
       " <MoreComments count=2, children=['j6wuraq']>,\n",
       " <MoreComments count=2, children=['j6wj0wi']>,\n",
       " <MoreComments count=1, children=['j6ukqq1']>,\n",
       " <MoreComments count=1, children=['j6vs5f6']>,\n",
       " <MoreComments count=1, children=['j6wj6wk']>,\n",
       " <MoreComments count=1, children=['j6wf2in']>,\n",
       " <MoreComments count=1, children=['j6wd1tb']>,\n",
       " <MoreComments count=1, children=['j6wddqm']>,\n",
       " <MoreComments count=1, children=['j6wcr3u']>,\n",
       " <MoreComments count=1, children=['j6ub3ks']>,\n",
       " <MoreComments count=1, children=['j6y97w3']>,\n",
       " <MoreComments count=1, children=['j6vswyz']>,\n",
       " <MoreComments count=1, children=['j6vsofj']>,\n",
       " <MoreComments count=1, children=['j6x6r91']>,\n",
       " <MoreComments count=1, children=['j6vqqz8']>,\n",
       " <MoreComments count=1, children=['j6xgjqy']>,\n",
       " <MoreComments count=1, children=['j6vk90i']>,\n",
       " <MoreComments count=1, children=['j6x891z']>,\n",
       " <MoreComments count=1, children=['j6vecwx']>,\n",
       " <MoreComments count=1, children=['j6vam43']>,\n",
       " <MoreComments count=1, children=['j6v81hg']>,\n",
       " <MoreComments count=1, children=['j6x4ja5']>,\n",
       " <MoreComments count=1, children=['j6v7n7a']>,\n",
       " <MoreComments count=1, children=['j6v3auz']>,\n",
       " <MoreComments count=1, children=['j6v51ne']>,\n",
       " <MoreComments count=1, children=['j6v4h1d']>,\n",
       " <MoreComments count=1, children=['j6v458d']>,\n",
       " <MoreComments count=1, children=['j6v1az0']>,\n",
       " <MoreComments count=1, children=['j6v2nqt']>,\n",
       " <MoreComments count=1, children=['j6wkdap']>,\n",
       " <MoreComments count=1, children=['j6utn5j']>,\n",
       " <MoreComments count=1, children=['j6uvzew']>,\n",
       " <MoreComments count=1, children=['j6uvq67']>,\n",
       " <MoreComments count=1, children=['j6wr9z7']>,\n",
       " <MoreComments count=1, children=['j6ulm6l']>,\n",
       " <MoreComments count=1, children=['j6wu6x9']>,\n",
       " <MoreComments count=1, children=['j6ui6p0']>,\n",
       " <MoreComments count=1, children=['j6tlvmv']>,\n",
       " <MoreComments count=1, children=['j6uc7y2']>,\n",
       " <MoreComments count=1, children=['j6ydeke']>,\n",
       " <MoreComments count=1, children=['j6x8c12']>,\n",
       " <MoreComments count=1, children=['j6xrxea']>,\n",
       " <MoreComments count=1, children=['j6vja21']>,\n",
       " <MoreComments count=1, children=['j6ypzls']>,\n",
       " <MoreComments count=1, children=['j6x39tv']>,\n",
       " <MoreComments count=1, children=['j703nta']>,\n",
       " <MoreComments count=1, children=['j6wbm6x']>,\n",
       " <MoreComments count=1, children=['j6ymta7']>,\n",
       " <MoreComments count=1, children=['j6v65uc']>,\n",
       " <MoreComments count=1, children=['j6wi7k1']>,\n",
       " <MoreComments count=1, children=['j6uui7v']>,\n",
       " <MoreComments count=1, children=['j6vwl3o']>,\n",
       " <MoreComments count=1, children=['j6unjqy']>,\n",
       " <MoreComments count=1, children=['j70k4w5']>,\n",
       " <MoreComments count=1, children=['j6v6ny8']>,\n",
       " <MoreComments count=1, children=['j719t8w']>,\n",
       " <MoreComments count=1, children=['j6ujda6']>,\n",
       " <MoreComments count=1, children=['j6v0csh']>,\n",
       " <MoreComments count=1, children=['j6uam6l']>,\n",
       " <MoreComments count=1, children=['j780gub']>,\n",
       " <MoreComments count=1, children=['j6v7xy7']>,\n",
       " <MoreComments count=1, children=['j6t9wxd']>,\n",
       " <MoreComments count=1, children=['j6vsvuk']>]"
      ]
     },
     "execution_count": 4,
     "metadata": {},
     "output_type": "execute_result"
    },
    {
     "name": "stdout",
     "output_type": "stream",
     "text": [
      "Title: What’s something you would treat yourself to regularly if money wasn’t an object? | UP: 978 - DOWN: 0\n"
     ]
    },
    {
     "data": {
      "text/plain": [
       "[<MoreComments count=4, children=['j75lh2b', 'j6wgrbo']>,\n",
       " <MoreComments count=3, children=['j75gkrk', 'j709mt7']>,\n",
       " <MoreComments count=3, children=['j6vv91h', 'j6xnxmm']>,\n",
       " <MoreComments count=2, children=['j72zyep', 'j6ylyxz']>,\n",
       " <MoreComments count=2, children=['j70mg0d']>,\n",
       " <MoreComments count=2, children=['j70lk6l']>,\n",
       " <MoreComments count=2, children=['j6y8lbt']>,\n",
       " <MoreComments count=2, children=['j75loep']>,\n",
       " <MoreComments count=2, children=['j70id2q']>,\n",
       " <MoreComments count=1, children=['j6zs9nl']>,\n",
       " <MoreComments count=1, children=['j6wdz0b']>,\n",
       " <MoreComments count=1, children=['j76v44w']>,\n",
       " <MoreComments count=1, children=['j6wyew7']>,\n",
       " <MoreComments count=1, children=['j6xw7qv']>,\n",
       " <MoreComments count=1, children=['j6wfh62']>,\n",
       " <MoreComments count=1, children=['j6wc5tn']>,\n",
       " <MoreComments count=1, children=['j74mxsm']>,\n",
       " <MoreComments count=1, children=['j6ymn38']>,\n",
       " <MoreComments count=1, children=['j70trt7']>,\n",
       " <MoreComments count=1, children=['j6wpzrl']>]"
      ]
     },
     "execution_count": 4,
     "metadata": {},
     "output_type": "execute_result"
    },
    {
     "name": "stdout",
     "output_type": "stream",
     "text": [
      "Title: What is the absolute best piece of gossip you have ever heard? Like ever! | UP: 952 - DOWN: 0\n"
     ]
    },
    {
     "data": {
      "text/plain": [
       "[<MoreComments count=3, children=['j70qljc', 'j6zos83']>,\n",
       " <MoreComments count=2, children=['j70quh2']>,\n",
       " <MoreComments count=2, children=['j6y5dg8']>,\n",
       " <MoreComments count=2, children=['j70r7xr']>,\n",
       " <MoreComments count=2, children=['j70re3l']>,\n",
       " <MoreComments count=2, children=['j6u4nur']>,\n",
       " <MoreComments count=2, children=['j70q98r']>,\n",
       " <MoreComments count=2, children=['j70qzo2']>,\n",
       " <MoreComments count=2, children=['j70pfbn']>,\n",
       " <MoreComments count=2, children=['j71zvga']>,\n",
       " <MoreComments count=1, children=['j6xfi5p']>,\n",
       " <MoreComments count=1, children=['j6zd0oo']>,\n",
       " <MoreComments count=1, children=['j704yhg']>,\n",
       " <MoreComments count=1, children=['j6tzd28']>,\n",
       " <MoreComments count=1, children=['j6y61l7']>,\n",
       " <MoreComments count=1, children=['j6txjh0']>,\n",
       " <MoreComments count=1, children=['j6ypvfq']>,\n",
       " <MoreComments count=1, children=['j7054ti']>,\n",
       " <MoreComments count=1, children=['j6vpra3']>,\n",
       " <MoreComments count=1, children=['j6yxst1']>]"
      ]
     },
     "execution_count": 4,
     "metadata": {},
     "output_type": "execute_result"
    },
    {
     "name": "stdout",
     "output_type": "stream",
     "text": [
      "Title: What’s a comment someone made about you when you were young that gives you major ick in hindsight? | UP: 322 - DOWN: 0\n"
     ]
    },
    {
     "data": {
      "text/plain": [
       "[]"
      ]
     },
     "execution_count": 4,
     "metadata": {},
     "output_type": "execute_result"
    },
    {
     "name": "stdout",
     "output_type": "stream",
     "text": [
      "Title: Older ladies with tattoos. How do you feel about them now? | UP: 27 - DOWN: 0\n"
     ]
    },
    {
     "data": {
      "text/plain": [
       "[]"
      ]
     },
     "execution_count": 4,
     "metadata": {},
     "output_type": "execute_result"
    },
    {
     "name": "stdout",
     "output_type": "stream",
     "text": [
      "Title: Women who only knew their SO for less then a year before getting engaged/married-how did that work out? | UP: 187 - DOWN: 0\n"
     ]
    },
    {
     "data": {
      "text/plain": [
       "[]"
      ]
     },
     "execution_count": 4,
     "metadata": {},
     "output_type": "execute_result"
    },
    {
     "name": "stdout",
     "output_type": "stream",
     "text": [
      "Title: What's your relationship with alcohol? | UP: 106 - DOWN: 0\n"
     ]
    },
    {
     "data": {
      "text/plain": [
       "[]"
      ]
     },
     "execution_count": 4,
     "metadata": {},
     "output_type": "execute_result"
    },
    {
     "name": "stdout",
     "output_type": "stream",
     "text": [
      "Title: What do you do when you feel yourself falling back into depression/anxiety? | UP: 39 - DOWN: 0\n"
     ]
    },
    {
     "data": {
      "text/plain": [
       "[]"
      ]
     },
     "execution_count": 4,
     "metadata": {},
     "output_type": "execute_result"
    },
    {
     "name": "stdout",
     "output_type": "stream",
     "text": [
      "Title: what are some absolutely HEART WRENCHING movies that make you bawl every time you watch them? | UP: 69 - DOWN: 0\n"
     ]
    },
    {
     "data": {
      "text/plain": [
       "[]"
      ]
     },
     "execution_count": 4,
     "metadata": {},
     "output_type": "execute_result"
    },
    {
     "name": "stdout",
     "output_type": "stream",
     "text": [
      "Title: How do you manage negative undertone towards women? | UP: 351 - DOWN: 0\n"
     ]
    },
    {
     "data": {
      "text/plain": [
       "[]"
      ]
     },
     "execution_count": 4,
     "metadata": {},
     "output_type": "execute_result"
    },
    {
     "name": "stdout",
     "output_type": "stream",
     "text": [
      "Title: What's the best thing that has happened to you in the last little bit? | UP: 18 - DOWN: 0\n"
     ]
    },
    {
     "data": {
      "text/plain": [
       "[]"
      ]
     },
     "execution_count": 4,
     "metadata": {},
     "output_type": "execute_result"
    },
    {
     "name": "stdout",
     "output_type": "stream",
     "text": [
      "Title: What activities do you like to do with women you want to create a friendship with? | UP: 46 - DOWN: 0\n"
     ]
    },
    {
     "data": {
      "text/plain": [
       "[]"
      ]
     },
     "execution_count": 4,
     "metadata": {},
     "output_type": "execute_result"
    },
    {
     "name": "stdout",
     "output_type": "stream",
     "text": [
      "Title: How do you store personal jewelry? | UP: 12 - DOWN: 0\n"
     ]
    },
    {
     "data": {
      "text/plain": [
       "[]"
      ]
     },
     "execution_count": 4,
     "metadata": {},
     "output_type": "execute_result"
    },
    {
     "name": "stdout",
     "output_type": "stream",
     "text": [
      "Title: What do you do when your brain won’t stop making you think about things that make you sad? | UP: 12 - DOWN: 0\n"
     ]
    },
    {
     "data": {
      "text/plain": [
       "[]"
      ]
     },
     "execution_count": 4,
     "metadata": {},
     "output_type": "execute_result"
    },
    {
     "name": "stdout",
     "output_type": "stream",
     "text": [
      "Title: What made you stop drinking something with sugar? | UP: 9 - DOWN: 0\n"
     ]
    },
    {
     "data": {
      "text/plain": [
       "[]"
      ]
     },
     "execution_count": 4,
     "metadata": {},
     "output_type": "execute_result"
    },
    {
     "name": "stdout",
     "output_type": "stream",
     "text": [
      "Title: Which artist Is worth every penny in concert? | UP: 7 - DOWN: 0\n"
     ]
    },
    {
     "data": {
      "text/plain": [
       "[]"
      ]
     },
     "execution_count": 4,
     "metadata": {},
     "output_type": "execute_result"
    },
    {
     "name": "stdout",
     "output_type": "stream",
     "text": [
      "Title: What measures do you take to prevent yourself from making bad decisions on a first date? | UP: 17 - DOWN: 0\n"
     ]
    },
    {
     "data": {
      "text/plain": [
       "[]"
      ]
     },
     "execution_count": 4,
     "metadata": {},
     "output_type": "execute_result"
    },
    {
     "name": "stdout",
     "output_type": "stream",
     "text": [
      "Title: Women who love listening to their SO talk, what's got your attention? | UP: 156 - DOWN: 0\n"
     ]
    },
    {
     "data": {
      "text/plain": [
       "[<MoreComments count=4, children=['j6rpubp']>,\n",
       " <MoreComments count=4, children=['j6uacmx', 'j6tzya7']>,\n",
       " <MoreComments count=4, children=['j6opb7m']>,\n",
       " <MoreComments count=4, children=['j6qcin4', 'j6s471c', 'j6rgcy3']>,\n",
       " <MoreComments count=4, children=['j6q2say', 'j6sw4wb', 'j6qmoy4']>,\n",
       " <MoreComments count=4, children=['j6rhhbm', 'j6qyde5']>,\n",
       " <MoreComments count=4, children=['j6pqw8o', 'j6qs2mz', 'j6pf7st']>,\n",
       " <MoreComments count=4, children=['j6uhy4s', 'j6si0ry']>,\n",
       " <MoreComments count=4, children=['j6qv3ps', 'j6r2d50', 'j6px9vy', 'j6q1bge']>,\n",
       " <MoreComments count=4, children=['j6qdzjo', 'j70jvu6']>,\n",
       " <MoreComments count=4, children=['j6rkczm', 'j6rgrbj']>,\n",
       " <MoreComments count=3, children=['j6p5azf', 'j6p5fi5']>,\n",
       " <MoreComments count=3, children=['j6rjns1', 'j6pi8en']>,\n",
       " <MoreComments count=3, children=['j6s6nv8', 'j6pq3ov']>,\n",
       " <MoreComments count=3, children=['j6rq835']>,\n",
       " <MoreComments count=3, children=['j6t6mp7']>,\n",
       " <MoreComments count=3, children=['j6qgfel', 'j7a9m1q']>,\n",
       " <MoreComments count=3, children=['j6qic74', 'j6vg0f2']>,\n",
       " <MoreComments count=3, children=['j6tuzog']>,\n",
       " <MoreComments count=3, children=['j6vkqg5']>,\n",
       " <MoreComments count=3, children=['j6stmrd', 'j6rp4u4']>,\n",
       " <MoreComments count=3, children=['j6qdg3l', 'j6re0zh']>,\n",
       " <MoreComments count=3, children=['j6ru54y', 'j6ssp8a']>,\n",
       " <MoreComments count=3, children=['j6q4v95', 'j7a8x64']>,\n",
       " <MoreComments count=3, children=['j6org2b', 'j6onepv', 'j6orfrp']>,\n",
       " <MoreComments count=2, children=['j6td6uz']>,\n",
       " <MoreComments count=2, children=['j6t71c0']>,\n",
       " <MoreComments count=2, children=['j6rgsu3']>,\n",
       " <MoreComments count=2, children=['j6se4de', 'j6q0m2r']>,\n",
       " <MoreComments count=2, children=['j6ql28q']>,\n",
       " <MoreComments count=2, children=['j6s68d1']>,\n",
       " <MoreComments count=2, children=['j6t67qn']>,\n",
       " <MoreComments count=2, children=['j6vth6u']>,\n",
       " <MoreComments count=2, children=['j6snxwt']>,\n",
       " <MoreComments count=2, children=['j6rq597']>,\n",
       " <MoreComments count=2, children=['j6qg7in']>,\n",
       " <MoreComments count=2, children=['j6scfi2']>,\n",
       " <MoreComments count=2, children=['j6vw8ia']>,\n",
       " <MoreComments count=2, children=['j6uxp9c', 'j6tjfbt']>,\n",
       " <MoreComments count=2, children=['j6r9ub6']>,\n",
       " <MoreComments count=2, children=['j6qfj9j']>,\n",
       " <MoreComments count=2, children=['j6smiqn']>,\n",
       " <MoreComments count=2, children=['j6qm9v0']>,\n",
       " <MoreComments count=2, children=['j6sxtou']>,\n",
       " <MoreComments count=2, children=['j6q74bs']>,\n",
       " <MoreComments count=2, children=['j6pyyeu']>,\n",
       " <MoreComments count=2, children=['j6pks1y']>,\n",
       " <MoreComments count=2, children=['j6pfsp4']>,\n",
       " <MoreComments count=2, children=['j6pgtpi']>,\n",
       " <MoreComments count=2, children=['j6q1dng']>,\n",
       " <MoreComments count=2, children=['j6uhmlr']>,\n",
       " <MoreComments count=2, children=['j6sces3']>,\n",
       " <MoreComments count=2, children=['j6x7w2j']>,\n",
       " <MoreComments count=2, children=['j6t2pz8']>,\n",
       " <MoreComments count=1, children=['j6qpwlh']>,\n",
       " <MoreComments count=1, children=['j6ovfuz']>,\n",
       " <MoreComments count=1, children=['j6rzdas']>,\n",
       " <MoreComments count=1, children=['j6pn37o']>,\n",
       " <MoreComments count=1, children=['j6qgeq9']>,\n",
       " <MoreComments count=1, children=['j6r79tt']>,\n",
       " <MoreComments count=1, children=['j6v41d1']>,\n",
       " <MoreComments count=1, children=['j6tem6q']>,\n",
       " <MoreComments count=1, children=['j6zdr4d']>,\n",
       " <MoreComments count=1, children=['j6pvqi4']>,\n",
       " <MoreComments count=1, children=['j6r7phi']>,\n",
       " <MoreComments count=1, children=['j6rn9ii']>,\n",
       " <MoreComments count=1, children=['j6oylbj']>,\n",
       " <MoreComments count=1, children=['j6pv9nr']>,\n",
       " <MoreComments count=1, children=['j6q8j13']>,\n",
       " <MoreComments count=1, children=['j6r21vz']>,\n",
       " <MoreComments count=1, children=['j6tgw67']>,\n",
       " <MoreComments count=1, children=['j6px38u']>,\n",
       " <MoreComments count=1, children=['j6t6gki']>,\n",
       " <MoreComments count=1, children=['j6suw56']>,\n",
       " <MoreComments count=1, children=['j6s6csg']>,\n",
       " <MoreComments count=1, children=['j6t89xu']>,\n",
       " <MoreComments count=1, children=['j6t8n2s']>,\n",
       " <MoreComments count=1, children=['j6t5395']>,\n",
       " <MoreComments count=1, children=['j70fgnu']>,\n",
       " <MoreComments count=1, children=['j6r739v']>,\n",
       " <MoreComments count=1, children=['j6tir7k']>,\n",
       " <MoreComments count=1, children=['j6s6jhm']>,\n",
       " <MoreComments count=1, children=['j6pz5g4']>,\n",
       " <MoreComments count=1, children=['j6rxtdl']>,\n",
       " <MoreComments count=1, children=['j6rudky']>,\n",
       " <MoreComments count=1, children=['j6scvg1']>,\n",
       " <MoreComments count=1, children=['j6teymg']>,\n",
       " <MoreComments count=1, children=['j6thmwc']>,\n",
       " <MoreComments count=1, children=['j6qcbbh']>,\n",
       " <MoreComments count=1, children=['j6u7jfo']>,\n",
       " <MoreComments count=1, children=['j6pmy5w']>,\n",
       " <MoreComments count=1, children=['j6qxsl6']>,\n",
       " <MoreComments count=1, children=['j6sdxi4']>,\n",
       " <MoreComments count=1, children=['j6r7qmk']>,\n",
       " <MoreComments count=1, children=['j6pm7ha']>,\n",
       " <MoreComments count=1, children=['j6sbwgu']>,\n",
       " <MoreComments count=1, children=['j6ro5dp']>,\n",
       " <MoreComments count=1, children=['j6vexw7']>,\n",
       " <MoreComments count=1, children=['j6savno']>,\n",
       " <MoreComments count=1, children=['j6uaivp']>,\n",
       " <MoreComments count=1, children=['j6ptzx1']>,\n",
       " <MoreComments count=1, children=['j6t31sk']>,\n",
       " <MoreComments count=1, children=['j6rpown']>,\n",
       " <MoreComments count=1, children=['j6q0sky']>,\n",
       " <MoreComments count=1, children=['j6q13yv']>,\n",
       " <MoreComments count=1, children=['j6s9mc4']>,\n",
       " <MoreComments count=1, children=['j6pmt19']>,\n",
       " <MoreComments count=1, children=['j6qwhiy']>,\n",
       " <MoreComments count=1, children=['j6q8bcs']>,\n",
       " <MoreComments count=1, children=['j6pfzp6']>,\n",
       " <MoreComments count=1, children=['j6sd666']>,\n",
       " <MoreComments count=1, children=['j6rp9r1']>,\n",
       " <MoreComments count=1, children=['j6rgi43']>,\n",
       " <MoreComments count=1, children=['j6qmuoa']>,\n",
       " <MoreComments count=1, children=['j6skdem']>,\n",
       " <MoreComments count=1, children=['j6s1juu']>,\n",
       " <MoreComments count=1, children=['j6qsdmd']>,\n",
       " <MoreComments count=1, children=['j6por5u']>,\n",
       " <MoreComments count=1, children=['j6ta20a']>,\n",
       " <MoreComments count=1, children=['j6roxxi']>,\n",
       " <MoreComments count=1, children=['j6rnr8z']>,\n",
       " <MoreComments count=1, children=['j6swqki']>,\n",
       " <MoreComments count=0, children=[]>]"
      ]
     },
     "execution_count": 4,
     "metadata": {},
     "output_type": "execute_result"
    },
    {
     "name": "stdout",
     "output_type": "stream",
     "text": [
      "Title: What screams rich pretending to be poor? | UP: 1713 - DOWN: 0\n"
     ]
    },
    {
     "data": {
      "text/plain": [
       "[]"
      ]
     },
     "execution_count": 4,
     "metadata": {},
     "output_type": "execute_result"
    },
    {
     "name": "stdout",
     "output_type": "stream",
     "text": [
      "Title: Divorced mothers, how did you gather the strength/resources to end a marriage that you weren’t happy in despite all of your efforts? | UP: 10 - DOWN: 0\n"
     ]
    },
    {
     "data": {
      "text/plain": [
       "[]"
      ]
     },
     "execution_count": 4,
     "metadata": {},
     "output_type": "execute_result"
    },
    {
     "name": "stdout",
     "output_type": "stream",
     "text": [
      "Title: when do you get petty/what is your reason? | UP: 6 - DOWN: 0\n"
     ]
    },
    {
     "data": {
      "text/plain": [
       "[]"
      ]
     },
     "execution_count": 4,
     "metadata": {},
     "output_type": "execute_result"
    },
    {
     "name": "stdout",
     "output_type": "stream",
     "text": [
      "Title: Happy Thersday! | UP: 3 - DOWN: 0\n"
     ]
    },
    {
     "data": {
      "text/plain": [
       "[<MoreComments count=4, children=['j6wvjo8', 'j6wzsho']>,\n",
       " <MoreComments count=3, children=['j6sclhc', 'j6tjwf9']>,\n",
       " <MoreComments count=3, children=['j6th61s', 'j6t6kds', 'j6vcb3a']>,\n",
       " <MoreComments count=2, children=['j6t0obn', 'j6tjzw6']>,\n",
       " <MoreComments count=2, children=['j6u7mcb']>,\n",
       " <MoreComments count=2, children=['j6uttzt']>,\n",
       " <MoreComments count=2, children=['j6ugw0l']>,\n",
       " <MoreComments count=2, children=['j6u8qfh', 'j6u8rye']>,\n",
       " <MoreComments count=2, children=['j6t4e9x', 'j6t7zee']>,\n",
       " <MoreComments count=2, children=['j6t2lrd', 'j6u1jkq']>,\n",
       " <MoreComments count=2, children=['j6v9yqj']>,\n",
       " <MoreComments count=2, children=['j6st2e2']>,\n",
       " <MoreComments count=1, children=['j6ssudc']>,\n",
       " <MoreComments count=1, children=['j6u1xer']>,\n",
       " <MoreComments count=1, children=['j6tqbhv']>,\n",
       " <MoreComments count=1, children=['j6sysgq']>,\n",
       " <MoreComments count=1, children=['j6u9bpa']>,\n",
       " <MoreComments count=1, children=['j6qzjj9']>,\n",
       " <MoreComments count=1, children=['j6u6sx5']>,\n",
       " <MoreComments count=1, children=['j6q0py8']>,\n",
       " <MoreComments count=1, children=['j6u6f2t']>,\n",
       " <MoreComments count=1, children=['j6wsrmz']>,\n",
       " <MoreComments count=1, children=['j6u969z']>,\n",
       " <MoreComments count=1, children=['j6s9axg']>,\n",
       " <MoreComments count=1, children=['j6tj02h']>,\n",
       " <MoreComments count=1, children=['j6thvui']>,\n",
       " <MoreComments count=1, children=['j6unt6x']>,\n",
       " <MoreComments count=1, children=['j6uwb4u']>,\n",
       " <MoreComments count=1, children=['j6stf3o']>,\n",
       " <MoreComments count=1, children=['j6u7bbt']>,\n",
       " <MoreComments count=1, children=['j6u74b5']>,\n",
       " <MoreComments count=1, children=['j6sthf1']>,\n",
       " <MoreComments count=1, children=['j6vstei']>,\n",
       " <MoreComments count=1, children=['j6u6epg']>,\n",
       " <MoreComments count=1, children=['j6u8yfh']>,\n",
       " <MoreComments count=1, children=['j6u94cs']>,\n",
       " <MoreComments count=1, children=['j6ug7o0']>,\n",
       " <MoreComments count=1, children=['j6tjba4']>,\n",
       " <MoreComments count=1, children=['j76rtdb']>,\n",
       " <MoreComments count=1, children=['j72ku6h']>,\n",
       " <MoreComments count=1, children=['j6t051k']>,\n",
       " <MoreComments count=1, children=['j6u956y']>,\n",
       " <MoreComments count=1, children=['j6u7a9k']>,\n",
       " <MoreComments count=1, children=['j6ssxu2']>,\n",
       " <MoreComments count=1, children=['j6rx5a4']>,\n",
       " <MoreComments count=1, children=['j6szwe4']>,\n",
       " <MoreComments count=1, children=['j6syc2x']>,\n",
       " <MoreComments count=1, children=['j6pxdhj']>]"
      ]
     },
     "execution_count": 4,
     "metadata": {},
     "output_type": "execute_result"
    },
    {
     "name": "stdout",
     "output_type": "stream",
     "text": [
      "Title: What do you do to avoid men approaching you? | UP: 357 - DOWN: 0\n"
     ]
    },
    {
     "data": {
      "text/plain": [
       "[]"
      ]
     },
     "execution_count": 4,
     "metadata": {},
     "output_type": "execute_result"
    },
    {
     "name": "stdout",
     "output_type": "stream",
     "text": [
      "Title: What are some signs of trying too hard socially? | UP: 22 - DOWN: 0\n"
     ]
    },
    {
     "data": {
      "text/plain": [
       "[]"
      ]
     },
     "execution_count": 4,
     "metadata": {},
     "output_type": "execute_result"
    },
    {
     "name": "stdout",
     "output_type": "stream",
     "text": [
      "Title: What is the most cringeworthy romantic gesture that your SO ever did with good intentions? | UP: 3 - DOWN: 0\n"
     ]
    },
    {
     "data": {
      "text/plain": [
       "[]"
      ]
     },
     "execution_count": 4,
     "metadata": {},
     "output_type": "execute_result"
    },
    {
     "name": "stdout",
     "output_type": "stream",
     "text": [
      "Title: How would you describe yourself vs how your partner would describe you? | UP: 5 - DOWN: 0\n"
     ]
    },
    {
     "data": {
      "text/plain": [
       "[]"
      ]
     },
     "execution_count": 4,
     "metadata": {},
     "output_type": "execute_result"
    },
    {
     "name": "stdout",
     "output_type": "stream",
     "text": [
      "Title: This one is for the woman in the subreddit who have mommy issues. What has your childhood trauma healing journey been like throughout adulthood? | UP: 3 - DOWN: 0\n"
     ]
    },
    {
     "data": {
      "text/plain": [
       "[]"
      ]
     },
     "execution_count": 4,
     "metadata": {},
     "output_type": "execute_result"
    },
    {
     "name": "stdout",
     "output_type": "stream",
     "text": [
      "Title: For those of you who have seen The Boys, what do you think about Starlight? (No spoilers please) | UP: 9 - DOWN: 0\n"
     ]
    },
    {
     "data": {
      "text/plain": [
       "[]"
      ]
     },
     "execution_count": 4,
     "metadata": {},
     "output_type": "execute_result"
    },
    {
     "name": "stdout",
     "output_type": "stream",
     "text": [
      "Title: What's it like being a housewife? | UP: 28 - DOWN: 0\n"
     ]
    },
    {
     "data": {
      "text/plain": [
       "[]"
      ]
     },
     "execution_count": 4,
     "metadata": {},
     "output_type": "execute_result"
    },
    {
     "name": "stdout",
     "output_type": "stream",
     "text": [
      "Title: What are the dos and donts while sleeping with your coworker? | UP: 75 - DOWN: 0\n"
     ]
    },
    {
     "data": {
      "text/plain": [
       "[<MoreComments count=2, children=['j6p8gll']>,\n",
       " <MoreComments count=2, children=['j6x7zo8']>,\n",
       " <MoreComments count=1, children=['j6tx0di']>,\n",
       " <MoreComments count=1, children=['j6tt36x']>]"
      ]
     },
     "execution_count": 4,
     "metadata": {},
     "output_type": "execute_result"
    },
    {
     "name": "stdout",
     "output_type": "stream",
     "text": [
      "Title: How do you stop your mind from racing at night when you’re trying to sleep? | UP: 612 - DOWN: 0\n"
     ]
    },
    {
     "data": {
      "text/plain": [
       "[]"
      ]
     },
     "execution_count": 4,
     "metadata": {},
     "output_type": "execute_result"
    },
    {
     "name": "stdout",
     "output_type": "stream",
     "text": [
      "Title: What things you do everyday in order to be healthier and to try to live a longer life? | UP: 66 - DOWN: 0\n"
     ]
    },
    {
     "data": {
      "text/plain": [
       "[]"
      ]
     },
     "execution_count": 4,
     "metadata": {},
     "output_type": "execute_result"
    },
    {
     "name": "stdout",
     "output_type": "stream",
     "text": [
      "Title: How would you feel if your partner said they had a strong preference towards adopting a child with you rather than conceiving a child with you? | UP: 77 - DOWN: 0\n"
     ]
    },
    {
     "data": {
      "text/plain": [
       "[]"
      ]
     },
     "execution_count": 4,
     "metadata": {},
     "output_type": "execute_result"
    },
    {
     "name": "stdout",
     "output_type": "stream",
     "text": [
      "Title: How does your relationship with your mother affect your daily existence? | UP: 10 - DOWN: 0\n"
     ]
    },
    {
     "data": {
      "text/plain": [
       "[]"
      ]
     },
     "execution_count": 4,
     "metadata": {},
     "output_type": "execute_result"
    },
    {
     "name": "stdout",
     "output_type": "stream",
     "text": [
      "Title: How often do you buy men’s clothing for yourself? | UP: 11 - DOWN: 0\n"
     ]
    },
    {
     "data": {
      "text/plain": [
       "[]"
      ]
     },
     "execution_count": 4,
     "metadata": {},
     "output_type": "execute_result"
    },
    {
     "name": "stdout",
     "output_type": "stream",
     "text": [
      "Title: Single girls, how do you typically find dates? | UP: 378 - DOWN: 0\n"
     ]
    },
    {
     "data": {
      "text/plain": [
       "[]"
      ]
     },
     "execution_count": 4,
     "metadata": {},
     "output_type": "execute_result"
    },
    {
     "name": "stdout",
     "output_type": "stream",
     "text": [
      "Title: How do you all save your money? When there is so much exciting stuff to buy | UP: 188 - DOWN: 0\n"
     ]
    },
    {
     "data": {
      "text/plain": [
       "[]"
      ]
     },
     "execution_count": 4,
     "metadata": {},
     "output_type": "execute_result"
    },
    {
     "name": "stdout",
     "output_type": "stream",
     "text": [
      "Title: How have you made a “bad relationship” work out in the end? Is it possible to start out in a toxic place and end up truly happy and healthy? | UP: 9 - DOWN: 0\n"
     ]
    },
    {
     "data": {
      "text/plain": [
       "[]"
      ]
     },
     "execution_count": 4,
     "metadata": {},
     "output_type": "execute_result"
    },
    {
     "name": "stdout",
     "output_type": "stream",
     "text": [
      "Title: What made you realize a close friend was jealous of you? | UP: 6 - DOWN: 0\n"
     ]
    },
    {
     "data": {
      "text/plain": [
       "[]"
      ]
     },
     "execution_count": 4,
     "metadata": {},
     "output_type": "execute_result"
    },
    {
     "name": "stdout",
     "output_type": "stream",
     "text": [
      "Title: Would you/have you ever broken up with a partner due to their family? Why? | UP: 7 - DOWN: 0\n"
     ]
    },
    {
     "data": {
      "text/plain": [
       "[]"
      ]
     },
     "execution_count": 4,
     "metadata": {},
     "output_type": "execute_result"
    },
    {
     "name": "stdout",
     "output_type": "stream",
     "text": [
      "Title: What line must be crossed for you to block or mute someone online? | UP: 9 - DOWN: 0\n"
     ]
    },
    {
     "data": {
      "text/plain": [
       "[]"
      ]
     },
     "execution_count": 4,
     "metadata": {},
     "output_type": "execute_result"
    },
    {
     "name": "stdout",
     "output_type": "stream",
     "text": [
      "Title: If you are in love with someone, but will never tell them, how do you cope with this? | UP: 65 - DOWN: 0\n"
     ]
    },
    {
     "data": {
      "text/plain": [
       "[]"
      ]
     },
     "execution_count": 4,
     "metadata": {},
     "output_type": "execute_result"
    },
    {
     "name": "stdout",
     "output_type": "stream",
     "text": [
      "Title: What are some boundaries that a coworker should never cross? | UP: 128 - DOWN: 0\n"
     ]
    },
    {
     "data": {
      "text/plain": [
       "[]"
      ]
     },
     "execution_count": 4,
     "metadata": {},
     "output_type": "execute_result"
    },
    {
     "name": "stdout",
     "output_type": "stream",
     "text": [
      "Title: What are some ways your romanticize your life? | UP: 4 - DOWN: 0\n"
     ]
    },
    {
     "data": {
      "text/plain": [
       "[<MoreComments count=4, children=['j6lynns', 'j6m6a1m']>,\n",
       " <MoreComments count=4, children=['j6of0f8', 'j6ovttj']>,\n",
       " <MoreComments count=4, children=['j6o39oz']>,\n",
       " <MoreComments count=3, children=['j6od3a9', 'j6nwscn']>,\n",
       " <MoreComments count=3, children=['j6ozty6', 'j6ozpxq']>,\n",
       " <MoreComments count=3, children=['j6p0461', 'j6pawlw', 'j6o03ut']>,\n",
       " <MoreComments count=3, children=['j6oz4gx', 'j6m8rgr', 'j6q14ee']>,\n",
       " <MoreComments count=3, children=['j6nvjqp', 'j6oxv7f']>,\n",
       " <MoreComments count=3, children=['j6nxmg9']>,\n",
       " <MoreComments count=2, children=['j6p5wts', 'j6or5bu']>,\n",
       " <MoreComments count=2, children=['j6oslnm', 'j6ogaoz']>,\n",
       " <MoreComments count=2, children=['j70btbs']>,\n",
       " <MoreComments count=2, children=['j6o0d0p']>,\n",
       " <MoreComments count=2, children=['j6oxqyl']>,\n",
       " <MoreComments count=2, children=['j6owq4p']>,\n",
       " <MoreComments count=2, children=['j6p8dyp']>,\n",
       " <MoreComments count=2, children=['j6pektu']>,\n",
       " <MoreComments count=2, children=['j6kukvf']>,\n",
       " <MoreComments count=2, children=['j6qh39w']>,\n",
       " <MoreComments count=1, children=['j6o3p4w']>,\n",
       " <MoreComments count=1, children=['j6owjkh']>,\n",
       " <MoreComments count=1, children=['j6pbyz9']>,\n",
       " <MoreComments count=1, children=['j6qorkc']>,\n",
       " <MoreComments count=1, children=['j6pp5it']>,\n",
       " <MoreComments count=1, children=['j6p7i5g']>,\n",
       " <MoreComments count=1, children=['j6nzxjq']>,\n",
       " <MoreComments count=1, children=['j6lictd']>,\n",
       " <MoreComments count=1, children=['j6o5fwx']>,\n",
       " <MoreComments count=1, children=['j6rufpe']>,\n",
       " <MoreComments count=1, children=['j6o74xk']>,\n",
       " <MoreComments count=1, children=['j6nvmpr']>,\n",
       " <MoreComments count=1, children=['j6rua0i']>,\n",
       " <MoreComments count=1, children=['j6p6b3j']>,\n",
       " <MoreComments count=1, children=['j6o8a2j']>,\n",
       " <MoreComments count=1, children=['j6oywi7']>,\n",
       " <MoreComments count=1, children=['j6nxpqq']>,\n",
       " <MoreComments count=1, children=['j6po8ic']>,\n",
       " <MoreComments count=1, children=['j6v5sxl']>,\n",
       " <MoreComments count=1, children=['j6o0bel']>,\n",
       " <MoreComments count=1, children=['j6rug8f']>,\n",
       " <MoreComments count=1, children=['j6pal1m']>,\n",
       " <MoreComments count=1, children=['j6oaiyc']>,\n",
       " <MoreComments count=1, children=['j6o99n9']>,\n",
       " <MoreComments count=1, children=['j6oy6fp']>,\n",
       " <MoreComments count=1, children=['j6p4taq']>,\n",
       " <MoreComments count=1, children=['j6mtmll']>,\n",
       " <MoreComments count=1, children=['j6pnb38']>,\n",
       " <MoreComments count=1, children=['j6pnvtd']>]"
      ]
     },
     "execution_count": 4,
     "metadata": {},
     "output_type": "execute_result"
    },
    {
     "name": "stdout",
     "output_type": "stream",
     "text": [
      "Title: What is a daily inconvenience \"major\" or \"minor\" that you wish you could eliminate from your day? (serious question) | UP: 689 - DOWN: 0\n"
     ]
    },
    {
     "data": {
      "text/plain": [
       "[]"
      ]
     },
     "execution_count": 4,
     "metadata": {},
     "output_type": "execute_result"
    },
    {
     "name": "stdout",
     "output_type": "stream",
     "text": [
      "Title: Which parent/guardian/adult family member are you closest to? | UP: 6 - DOWN: 0\n"
     ]
    },
    {
     "data": {
      "text/plain": [
       "[]"
      ]
     },
     "execution_count": 4,
     "metadata": {},
     "output_type": "execute_result"
    },
    {
     "name": "stdout",
     "output_type": "stream",
     "text": [
      "Title: How do you handle working hard for something, get it, and now don’t want it? | UP: 4 - DOWN: 0\n"
     ]
    },
    {
     "data": {
      "text/plain": [
       "[]"
      ]
     },
     "execution_count": 4,
     "metadata": {},
     "output_type": "execute_result"
    },
    {
     "name": "stdout",
     "output_type": "stream",
     "text": [
      "Title: When (and How) do you know that you're ready to date? | UP: 24 - DOWN: 0\n"
     ]
    },
    {
     "data": {
      "text/plain": [
       "[]"
      ]
     },
     "execution_count": 4,
     "metadata": {},
     "output_type": "execute_result"
    },
    {
     "name": "stdout",
     "output_type": "stream",
     "text": [
      "Title: What are your thoughts on Marriage Pacts between friends? | UP: 0 - DOWN: 0\n"
     ]
    },
    {
     "data": {
      "text/plain": [
       "[]"
      ]
     },
     "execution_count": 4,
     "metadata": {},
     "output_type": "execute_result"
    },
    {
     "name": "stdout",
     "output_type": "stream",
     "text": [
      "Title: Women of reddit, How has starting a family late (above 30-35 yrs) affected your chances of getting pregnant? | UP: 0 - DOWN: 0\n"
     ]
    },
    {
     "data": {
      "text/plain": [
       "[]"
      ]
     },
     "execution_count": 4,
     "metadata": {},
     "output_type": "execute_result"
    },
    {
     "name": "stdout",
     "output_type": "stream",
     "text": [
      "Title: Women who rejected a guy and he chose to stay friends with you after, what happened? Are you still friends? Did he find someone else? | UP: 2 - DOWN: 0\n"
     ]
    },
    {
     "data": {
      "text/plain": [
       "[]"
      ]
     },
     "execution_count": 4,
     "metadata": {},
     "output_type": "execute_result"
    },
    {
     "name": "stdout",
     "output_type": "stream",
     "text": [
      "Title: How did you overcome the need to be liked? | UP: 40 - DOWN: 0\n"
     ]
    },
    {
     "data": {
      "text/plain": [
       "[]"
      ]
     },
     "execution_count": 4,
     "metadata": {},
     "output_type": "execute_result"
    },
    {
     "name": "stdout",
     "output_type": "stream",
     "text": [
      "Title: What do you do when you're on a bad term with your favourite person and you have no kne to talk to? | UP: 46 - DOWN: 0\n"
     ]
    },
    {
     "data": {
      "text/plain": [
       "[]"
      ]
     },
     "execution_count": 4,
     "metadata": {},
     "output_type": "execute_result"
    },
    {
     "name": "stdout",
     "output_type": "stream",
     "text": [
      "Title: Dear women of Reddit. Given the choice, what would you rather save: time or money and why? | UP: 8 - DOWN: 0\n"
     ]
    },
    {
     "data": {
      "text/plain": [
       "[]"
      ]
     },
     "execution_count": 4,
     "metadata": {},
     "output_type": "execute_result"
    },
    {
     "name": "stdout",
     "output_type": "stream",
     "text": [
      "Title: What's your feel good song? | UP: 53 - DOWN: 0\n"
     ]
    },
    {
     "data": {
      "text/plain": [
       "[]"
      ]
     },
     "execution_count": 4,
     "metadata": {},
     "output_type": "execute_result"
    },
    {
     "name": "stdout",
     "output_type": "stream",
     "text": [
      "Title: How have you detached your identity from your work/career? | UP: 15 - DOWN: 0\n"
     ]
    },
    {
     "data": {
      "text/plain": [
       "[]"
      ]
     },
     "execution_count": 4,
     "metadata": {},
     "output_type": "execute_result"
    },
    {
     "name": "stdout",
     "output_type": "stream",
     "text": [
      "Title: What age do you consider to be “in your prime”? | UP: 373 - DOWN: 0\n"
     ]
    }
   ],
   "source": [
    "subreddit = reddit.subreddit('askwomen')\n",
    "hot_python = subreddit.hot(limit = 500)\n",
    "# initialize empty data frame\n",
    "df_women = pd.DataFrame()\n",
    "for submission in hot_python:\n",
    "    submission.comments.replace_more(limit = None, threshold = 5);\n",
    "    if not submission.stickied:\n",
    "        print('Title: {} | UP: {} - DOWN: {}'.format(submission.title,submission.ups, submission.downs))\n",
    "    that_comments = submission.comments\n",
    "    df_rows = [[comment.author,comment.score,comment.body,comment.submission.title,comment.submission.ups,comment.submission.downs] for comment in that_comments]\n",
    "    df_women = df_women.append(df_rows);"
   ]
  },
  {
   "cell_type": "code",
   "execution_count": 6,
   "id": "19b0d706",
   "metadata": {},
   "outputs": [
    {
     "data": {
      "text/html": [
       "<div>\n",
       "<style scoped>\n",
       "    .dataframe tbody tr th:only-of-type {\n",
       "        vertical-align: middle;\n",
       "    }\n",
       "\n",
       "    .dataframe tbody tr th {\n",
       "        vertical-align: top;\n",
       "    }\n",
       "\n",
       "    .dataframe thead th {\n",
       "        text-align: right;\n",
       "    }\n",
       "</style>\n",
       "<table border=\"1\" class=\"dataframe\">\n",
       "  <thead>\n",
       "    <tr style=\"text-align: right;\">\n",
       "      <th></th>\n",
       "      <th>0</th>\n",
       "      <th>1</th>\n",
       "      <th>2</th>\n",
       "      <th>3</th>\n",
       "      <th>4</th>\n",
       "      <th>5</th>\n",
       "    </tr>\n",
       "  </thead>\n",
       "  <tbody>\n",
       "    <tr>\n",
       "      <th>0</th>\n",
       "      <td>shockedpikachu123</td>\n",
       "      <td>28</td>\n",
       "      <td>Waiting for the cvs candy to be 75% off on Feb...</td>\n",
       "      <td>Valentines Day Mega thread! Check in here for ...</td>\n",
       "      <td>100</td>\n",
       "      <td>0</td>\n",
       "    </tr>\n",
       "    <tr>\n",
       "      <th>1</th>\n",
       "      <td>secrethedgehog5</td>\n",
       "      <td>16</td>\n",
       "      <td>My second valentines day alone, and i am feeli...</td>\n",
       "      <td>Valentines Day Mega thread! Check in here for ...</td>\n",
       "      <td>100</td>\n",
       "      <td>0</td>\n",
       "    </tr>\n",
       "    <tr>\n",
       "      <th>2</th>\n",
       "      <td>KBXGazelle</td>\n",
       "      <td>15</td>\n",
       "      <td>February 14 was my mom's birthday so I usually...</td>\n",
       "      <td>Valentines Day Mega thread! Check in here for ...</td>\n",
       "      <td>100</td>\n",
       "      <td>0</td>\n",
       "    </tr>\n",
       "    <tr>\n",
       "      <th>3</th>\n",
       "      <td>meloaf</td>\n",
       "      <td>13</td>\n",
       "      <td>I'm sending all my friends Valentine's Day car...</td>\n",
       "      <td>Valentines Day Mega thread! Check in here for ...</td>\n",
       "      <td>100</td>\n",
       "      <td>0</td>\n",
       "    </tr>\n",
       "    <tr>\n",
       "      <th>4</th>\n",
       "      <td>OriginalOestrus</td>\n",
       "      <td>12</td>\n",
       "      <td>I have reservations at my favorite steakhouse!...</td>\n",
       "      <td>Valentines Day Mega thread! Check in here for ...</td>\n",
       "      <td>100</td>\n",
       "      <td>0</td>\n",
       "    </tr>\n",
       "    <tr>\n",
       "      <th>...</th>\n",
       "      <td>...</td>\n",
       "      <td>...</td>\n",
       "      <td>...</td>\n",
       "      <td>...</td>\n",
       "      <td>...</td>\n",
       "      <td>...</td>\n",
       "    </tr>\n",
       "    <tr>\n",
       "      <th>288</th>\n",
       "      <td>CutWeary9135</td>\n",
       "      <td>1</td>\n",
       "      <td>12</td>\n",
       "      <td>What age do you consider to be “in your prime”?</td>\n",
       "      <td>373</td>\n",
       "      <td>0</td>\n",
       "    </tr>\n",
       "    <tr>\n",
       "      <th>289</th>\n",
       "      <td>Irinakusx</td>\n",
       "      <td>1</td>\n",
       "      <td>20 it is advisable to take care of your health...</td>\n",
       "      <td>What age do you consider to be “in your prime”?</td>\n",
       "      <td>373</td>\n",
       "      <td>0</td>\n",
       "    </tr>\n",
       "    <tr>\n",
       "      <th>290</th>\n",
       "      <td>None</td>\n",
       "      <td>1</td>\n",
       "      <td>[removed]</td>\n",
       "      <td>What age do you consider to be “in your prime”?</td>\n",
       "      <td>373</td>\n",
       "      <td>0</td>\n",
       "    </tr>\n",
       "    <tr>\n",
       "      <th>291</th>\n",
       "      <td>cuddliest_friend</td>\n",
       "      <td>1</td>\n",
       "      <td>If i feel that this is the Part of my Life whe...</td>\n",
       "      <td>What age do you consider to be “in your prime”?</td>\n",
       "      <td>373</td>\n",
       "      <td>0</td>\n",
       "    </tr>\n",
       "    <tr>\n",
       "      <th>292</th>\n",
       "      <td>None</td>\n",
       "      <td>-2</td>\n",
       "      <td>[removed]</td>\n",
       "      <td>What age do you consider to be “in your prime”?</td>\n",
       "      <td>373</td>\n",
       "      <td>0</td>\n",
       "    </tr>\n",
       "  </tbody>\n",
       "</table>\n",
       "<p>16856 rows × 6 columns</p>\n",
       "</div>"
      ],
      "text/plain": [
       "                     0   1                                                  2  \\\n",
       "0    shockedpikachu123  28  Waiting for the cvs candy to be 75% off on Feb...   \n",
       "1      secrethedgehog5  16  My second valentines day alone, and i am feeli...   \n",
       "2           KBXGazelle  15  February 14 was my mom's birthday so I usually...   \n",
       "3               meloaf  13  I'm sending all my friends Valentine's Day car...   \n",
       "4      OriginalOestrus  12  I have reservations at my favorite steakhouse!...   \n",
       "..                 ...  ..                                                ...   \n",
       "288       CutWeary9135   1                                                 12   \n",
       "289          Irinakusx   1  20 it is advisable to take care of your health...   \n",
       "290               None   1                                          [removed]   \n",
       "291   cuddliest_friend   1  If i feel that this is the Part of my Life whe...   \n",
       "292               None  -2                                          [removed]   \n",
       "\n",
       "                                                     3    4  5  \n",
       "0    Valentines Day Mega thread! Check in here for ...  100  0  \n",
       "1    Valentines Day Mega thread! Check in here for ...  100  0  \n",
       "2    Valentines Day Mega thread! Check in here for ...  100  0  \n",
       "3    Valentines Day Mega thread! Check in here for ...  100  0  \n",
       "4    Valentines Day Mega thread! Check in here for ...  100  0  \n",
       "..                                                 ...  ... ..  \n",
       "288    What age do you consider to be “in your prime”?  373  0  \n",
       "289    What age do you consider to be “in your prime”?  373  0  \n",
       "290    What age do you consider to be “in your prime”?  373  0  \n",
       "291    What age do you consider to be “in your prime”?  373  0  \n",
       "292    What age do you consider to be “in your prime”?  373  0  \n",
       "\n",
       "[16856 rows x 6 columns]"
      ]
     },
     "execution_count": 6,
     "metadata": {},
     "output_type": "execute_result"
    }
   ],
   "source": [
    "df_women"
   ]
  },
  {
   "cell_type": "code",
   "execution_count": 9,
   "id": "2edfe117",
   "metadata": {},
   "outputs": [
    {
     "data": {
      "text/html": [
       "<div>\n",
       "<style scoped>\n",
       "    .dataframe tbody tr th:only-of-type {\n",
       "        vertical-align: middle;\n",
       "    }\n",
       "\n",
       "    .dataframe tbody tr th {\n",
       "        vertical-align: top;\n",
       "    }\n",
       "\n",
       "    .dataframe thead th {\n",
       "        text-align: right;\n",
       "    }\n",
       "</style>\n",
       "<table border=\"1\" class=\"dataframe\">\n",
       "  <thead>\n",
       "    <tr style=\"text-align: right;\">\n",
       "      <th></th>\n",
       "      <th>username</th>\n",
       "      <th>comment_score</th>\n",
       "      <th>comment_text</th>\n",
       "      <th>submission_title</th>\n",
       "      <th>submission_ups</th>\n",
       "      <th>submission_downs</th>\n",
       "    </tr>\n",
       "  </thead>\n",
       "  <tbody>\n",
       "    <tr>\n",
       "      <th>0</th>\n",
       "      <td>shockedpikachu123</td>\n",
       "      <td>28</td>\n",
       "      <td>Waiting for the cvs candy to be 75% off on Feb...</td>\n",
       "      <td>Valentines Day Mega thread! Check in here for ...</td>\n",
       "      <td>100</td>\n",
       "      <td>0</td>\n",
       "    </tr>\n",
       "    <tr>\n",
       "      <th>1</th>\n",
       "      <td>secrethedgehog5</td>\n",
       "      <td>16</td>\n",
       "      <td>My second valentines day alone, and i am feeli...</td>\n",
       "      <td>Valentines Day Mega thread! Check in here for ...</td>\n",
       "      <td>100</td>\n",
       "      <td>0</td>\n",
       "    </tr>\n",
       "    <tr>\n",
       "      <th>2</th>\n",
       "      <td>KBXGazelle</td>\n",
       "      <td>15</td>\n",
       "      <td>February 14 was my mom's birthday so I usually...</td>\n",
       "      <td>Valentines Day Mega thread! Check in here for ...</td>\n",
       "      <td>100</td>\n",
       "      <td>0</td>\n",
       "    </tr>\n",
       "    <tr>\n",
       "      <th>3</th>\n",
       "      <td>meloaf</td>\n",
       "      <td>13</td>\n",
       "      <td>I'm sending all my friends Valentine's Day car...</td>\n",
       "      <td>Valentines Day Mega thread! Check in here for ...</td>\n",
       "      <td>100</td>\n",
       "      <td>0</td>\n",
       "    </tr>\n",
       "    <tr>\n",
       "      <th>4</th>\n",
       "      <td>OriginalOestrus</td>\n",
       "      <td>12</td>\n",
       "      <td>I have reservations at my favorite steakhouse!...</td>\n",
       "      <td>Valentines Day Mega thread! Check in here for ...</td>\n",
       "      <td>100</td>\n",
       "      <td>0</td>\n",
       "    </tr>\n",
       "    <tr>\n",
       "      <th>...</th>\n",
       "      <td>...</td>\n",
       "      <td>...</td>\n",
       "      <td>...</td>\n",
       "      <td>...</td>\n",
       "      <td>...</td>\n",
       "      <td>...</td>\n",
       "    </tr>\n",
       "    <tr>\n",
       "      <th>288</th>\n",
       "      <td>CutWeary9135</td>\n",
       "      <td>1</td>\n",
       "      <td>12</td>\n",
       "      <td>What age do you consider to be “in your prime”?</td>\n",
       "      <td>373</td>\n",
       "      <td>0</td>\n",
       "    </tr>\n",
       "    <tr>\n",
       "      <th>289</th>\n",
       "      <td>Irinakusx</td>\n",
       "      <td>1</td>\n",
       "      <td>20 it is advisable to take care of your health...</td>\n",
       "      <td>What age do you consider to be “in your prime”?</td>\n",
       "      <td>373</td>\n",
       "      <td>0</td>\n",
       "    </tr>\n",
       "    <tr>\n",
       "      <th>290</th>\n",
       "      <td>None</td>\n",
       "      <td>1</td>\n",
       "      <td>[removed]</td>\n",
       "      <td>What age do you consider to be “in your prime”?</td>\n",
       "      <td>373</td>\n",
       "      <td>0</td>\n",
       "    </tr>\n",
       "    <tr>\n",
       "      <th>291</th>\n",
       "      <td>cuddliest_friend</td>\n",
       "      <td>1</td>\n",
       "      <td>If i feel that this is the Part of my Life whe...</td>\n",
       "      <td>What age do you consider to be “in your prime”?</td>\n",
       "      <td>373</td>\n",
       "      <td>0</td>\n",
       "    </tr>\n",
       "    <tr>\n",
       "      <th>292</th>\n",
       "      <td>None</td>\n",
       "      <td>-2</td>\n",
       "      <td>[removed]</td>\n",
       "      <td>What age do you consider to be “in your prime”?</td>\n",
       "      <td>373</td>\n",
       "      <td>0</td>\n",
       "    </tr>\n",
       "  </tbody>\n",
       "</table>\n",
       "<p>16856 rows × 6 columns</p>\n",
       "</div>"
      ],
      "text/plain": [
       "              username  comment_score  \\\n",
       "0    shockedpikachu123             28   \n",
       "1      secrethedgehog5             16   \n",
       "2           KBXGazelle             15   \n",
       "3               meloaf             13   \n",
       "4      OriginalOestrus             12   \n",
       "..                 ...            ...   \n",
       "288       CutWeary9135              1   \n",
       "289          Irinakusx              1   \n",
       "290               None              1   \n",
       "291   cuddliest_friend              1   \n",
       "292               None             -2   \n",
       "\n",
       "                                          comment_text  \\\n",
       "0    Waiting for the cvs candy to be 75% off on Feb...   \n",
       "1    My second valentines day alone, and i am feeli...   \n",
       "2    February 14 was my mom's birthday so I usually...   \n",
       "3    I'm sending all my friends Valentine's Day car...   \n",
       "4    I have reservations at my favorite steakhouse!...   \n",
       "..                                                 ...   \n",
       "288                                                 12   \n",
       "289  20 it is advisable to take care of your health...   \n",
       "290                                          [removed]   \n",
       "291  If i feel that this is the Part of my Life whe...   \n",
       "292                                          [removed]   \n",
       "\n",
       "                                      submission_title  submission_ups  \\\n",
       "0    Valentines Day Mega thread! Check in here for ...             100   \n",
       "1    Valentines Day Mega thread! Check in here for ...             100   \n",
       "2    Valentines Day Mega thread! Check in here for ...             100   \n",
       "3    Valentines Day Mega thread! Check in here for ...             100   \n",
       "4    Valentines Day Mega thread! Check in here for ...             100   \n",
       "..                                                 ...             ...   \n",
       "288    What age do you consider to be “in your prime”?             373   \n",
       "289    What age do you consider to be “in your prime”?             373   \n",
       "290    What age do you consider to be “in your prime”?             373   \n",
       "291    What age do you consider to be “in your prime”?             373   \n",
       "292    What age do you consider to be “in your prime”?             373   \n",
       "\n",
       "     submission_downs  \n",
       "0                   0  \n",
       "1                   0  \n",
       "2                   0  \n",
       "3                   0  \n",
       "4                   0  \n",
       "..                ...  \n",
       "288                 0  \n",
       "289                 0  \n",
       "290                 0  \n",
       "291                 0  \n",
       "292                 0  \n",
       "\n",
       "[16856 rows x 6 columns]"
      ]
     },
     "execution_count": 9,
     "metadata": {},
     "output_type": "execute_result"
    }
   ],
   "source": [
    "df_women.columns =['username', 'comment_score', 'comment_text', 'submission_title','submission_ups', 'submission_downs']\n",
    "df_women"
   ]
  },
  {
   "cell_type": "markdown",
   "id": "fde95a13",
   "metadata": {},
   "source": [
    "# /r/AskMen data"
   ]
  },
  {
   "cell_type": "code",
   "execution_count": 7,
   "id": "493c595e",
   "metadata": {},
   "outputs": [
    {
     "data": {
      "text/plain": [
       "[<MoreComments count=4, children=['ilyszbc', 'im05lpo']>,\n",
       " <MoreComments count=4, children=['iuu0ilc', 'isuudy9', 'io69m6s', 'iq5fec1']>,\n",
       " <MoreComments count=4, children=['ilywfq7']>,\n",
       " <MoreComments count=4, children=['ilzo809', 'imk9bfm', 'im07lo3']>,\n",
       " <MoreComments count=4, children=['ilyv2e8', 'ily1cir', 'ilzzucl', 'ily9ozx']>,\n",
       " <MoreComments count=4, children=['ilz2v7f']>,\n",
       " <MoreComments count=4, children=['im7v7a0']>,\n",
       " <MoreComments count=3, children=['iz8c0sf']>,\n",
       " <MoreComments count=3, children=['ilxqyy2']>,\n",
       " <MoreComments count=2, children=['ilxxe5e']>,\n",
       " <MoreComments count=2, children=['ilyujzm']>,\n",
       " <MoreComments count=2, children=['ilymxea']>,\n",
       " <MoreComments count=2, children=['ilxopnw', 'io3rx7b']>,\n",
       " <MoreComments count=2, children=['j6gzvs2', 'j6h17dj']>,\n",
       " <MoreComments count=2, children=['ilxjzf5', 'im1f0in']>,\n",
       " <MoreComments count=2, children=['ilznk35']>,\n",
       " <MoreComments count=2, children=['ilxq0jt', 'ilxgljt']>,\n",
       " <MoreComments count=2, children=['ivb13ay', 'iugawi5']>,\n",
       " <MoreComments count=2, children=['iode36o']>,\n",
       " <MoreComments count=2, children=['j6gzvtk', 'j6h17h0']>,\n",
       " <MoreComments count=2, children=['im02sqp']>,\n",
       " <MoreComments count=2, children=['ilzrsmv']>,\n",
       " <MoreComments count=2, children=['isuugnm', 'iprqtct']>,\n",
       " <MoreComments count=1, children=['iy5xkhl']>,\n",
       " <MoreComments count=1, children=['im7v8bw']>,\n",
       " <MoreComments count=1, children=['j2oricg']>,\n",
       " <MoreComments count=1, children=['j6gzw20']>,\n",
       " <MoreComments count=1, children=['im0a4ss']>,\n",
       " <MoreComments count=1, children=['ira94pv']>,\n",
       " <MoreComments count=1, children=['ilxrwqi']>,\n",
       " <MoreComments count=1, children=['ir3p0yt']>,\n",
       " <MoreComments count=1, children=['j3zld21']>,\n",
       " <MoreComments count=1, children=['imkb6wu']>,\n",
       " <MoreComments count=1, children=['ilyskm4']>,\n",
       " <MoreComments count=1, children=['isuh8ah']>,\n",
       " <MoreComments count=1, children=['ilzrvsc']>,\n",
       " <MoreComments count=1, children=['ilyr1pi']>,\n",
       " <MoreComments count=1, children=['imuelw7']>,\n",
       " <MoreComments count=1, children=['j2opo5o']>,\n",
       " <MoreComments count=1, children=['im04qlt']>,\n",
       " <MoreComments count=1, children=['j6gzw3t']>,\n",
       " <MoreComments count=1, children=['im0xn3k']>,\n",
       " <MoreComments count=1, children=['j6gzw03']>,\n",
       " <MoreComments count=1, children=['j6gzvxr']>,\n",
       " <MoreComments count=1, children=['j6gzvwi']>,\n",
       " <MoreComments count=1, children=['im0hfvi']>,\n",
       " <MoreComments count=1, children=['ilysmtb']>,\n",
       " <MoreComments count=1, children=['ilys9iw']>,\n",
       " <MoreComments count=1, children=['ily9dap']>,\n",
       " <MoreComments count=1, children=['iyaq60h']>,\n",
       " <MoreComments count=1, children=['ilz0uym']>,\n",
       " <MoreComments count=1, children=['ilyqho1']>,\n",
       " <MoreComments count=1, children=['ilxrqg9']>,\n",
       " <MoreComments count=1, children=['j24gcze']>,\n",
       " <MoreComments count=1, children=['iz4urq4']>,\n",
       " <MoreComments count=1, children=['j5wjugo']>,\n",
       " <MoreComments count=1, children=['ilys3at']>,\n",
       " <MoreComments count=1, children=['ily8ji2']>,\n",
       " <MoreComments count=1, children=['j3b4vb2']>,\n",
       " <MoreComments count=1, children=['j6gzvug']>]"
      ]
     },
     "execution_count": 7,
     "metadata": {},
     "output_type": "execute_result"
    },
    {
     "data": {
      "text/plain": [
       "[]"
      ]
     },
     "execution_count": 7,
     "metadata": {},
     "output_type": "execute_result"
    },
    {
     "data": {
      "text/plain": [
       "[<MoreComments count=4, children=['j7dvysq', 'j7eosdg', 'j7em5qv']>,\n",
       " <MoreComments count=4, children=['j7c8byn']>,\n",
       " <MoreComments count=4, children=['j7drvo4', 'j7d2951']>,\n",
       " <MoreComments count=4, children=['j7dnqav', 'j7ddgse', 'j7cdcpb']>,\n",
       " <MoreComments count=3, children=['j7bz54g']>,\n",
       " <MoreComments count=3, children=['j7di18r']>,\n",
       " <MoreComments count=3, children=['j7enw8o', 'j7edb9t']>,\n",
       " <MoreComments count=3, children=['j7e3ioj', 'j7ek9n9', 'j7brvda']>,\n",
       " <MoreComments count=3, children=['j7df1j6', 'j7ckolo', 'j7cixrj']>,\n",
       " <MoreComments count=3, children=['j7dznxe']>,\n",
       " <MoreComments count=3, children=['j7eq134', 'j7cx0xv']>,\n",
       " <MoreComments count=3, children=['j7d33xe', 'j7e19ej', 'j7eq1nq']>,\n",
       " <MoreComments count=3, children=['j7dpnwo', 'j7etqay', 'j7essic']>,\n",
       " <MoreComments count=3, children=['j7e9ohh', 'j7euxke', 'j7dq09h']>,\n",
       " <MoreComments count=3, children=['j7cisqp', 'j7cq8tr']>,\n",
       " <MoreComments count=3, children=['j7budpu', 'j7e29q7']>,\n",
       " <MoreComments count=3, children=['j7e4r3e']>,\n",
       " <MoreComments count=3, children=['j7eb0q0', 'j7equj2', 'j7epjlz']>,\n",
       " <MoreComments count=3, children=['j7cmwpg']>,\n",
       " <MoreComments count=3, children=['j7c79ez', 'j7evf8e']>,\n",
       " <MoreComments count=3, children=['j7dcxxk']>,\n",
       " <MoreComments count=3, children=['j7c3ocv']>,\n",
       " <MoreComments count=3, children=['j7eikxo']>,\n",
       " <MoreComments count=3, children=['j7cp7uk', 'j7d7ubp']>,\n",
       " <MoreComments count=3, children=['j7ew064', 'j7enxba', 'j7crur2']>,\n",
       " <MoreComments count=3, children=['j7cxick', 'j7cxyx7', 'j7cpd4s']>,\n",
       " <MoreComments count=3, children=['j7cyjyg', 'j7ce5s3', 'j7e7uye']>,\n",
       " <MoreComments count=3, children=['j7enlnf', 'j7cdhl2']>,\n",
       " <MoreComments count=2, children=['j7cis16']>,\n",
       " <MoreComments count=2, children=['j7dkb0s', 'j7dmqou']>,\n",
       " <MoreComments count=2, children=['j7davay']>,\n",
       " <MoreComments count=2, children=['j7d3x0k', 'j7c5gae']>,\n",
       " <MoreComments count=2, children=['j7c8pl7', 'j7c7uc7']>,\n",
       " <MoreComments count=2, children=['j7e9u3v', 'j7ei8bx']>,\n",
       " <MoreComments count=2, children=['j7e79g5']>,\n",
       " <MoreComments count=2, children=['j7dx0s0', 'j7ddjuc']>,\n",
       " <MoreComments count=2, children=['j7cmp0w', 'j7dnghz']>,\n",
       " <MoreComments count=2, children=['j7ccehe']>,\n",
       " <MoreComments count=2, children=['j7eex0w', 'j7dle59']>,\n",
       " <MoreComments count=2, children=['j7dl2tu']>,\n",
       " <MoreComments count=2, children=['j7eees8', 'j7dpoyc']>,\n",
       " <MoreComments count=2, children=['j7di2fv']>,\n",
       " <MoreComments count=2, children=['j7cmvcg', 'j7cbtmt']>,\n",
       " <MoreComments count=2, children=['j7e0q9d', 'j7dvgrr']>,\n",
       " <MoreComments count=2, children=['j7e39dl']>,\n",
       " <MoreComments count=2, children=['j7djg7f', 'j7eo9lp']>,\n",
       " <MoreComments count=2, children=['j7eipwu']>,\n",
       " <MoreComments count=2, children=['j7emjzc']>,\n",
       " <MoreComments count=2, children=['j7cqsrw', 'j7ddl0n']>,\n",
       " <MoreComments count=2, children=['j7dcqsx', 'j7dt43b']>,\n",
       " <MoreComments count=2, children=['j7efqi7']>,\n",
       " <MoreComments count=2, children=['j7ed0zl']>,\n",
       " <MoreComments count=2, children=['j7c9v60', 'j7e48iz']>,\n",
       " <MoreComments count=1, children=['j7ek4xc']>,\n",
       " <MoreComments count=1, children=['j7cnao4']>,\n",
       " <MoreComments count=1, children=['j7eevip']>,\n",
       " <MoreComments count=1, children=['j7dgcxo']>,\n",
       " <MoreComments count=1, children=['j7ditj1']>,\n",
       " <MoreComments count=1, children=['j7cv7t9']>,\n",
       " <MoreComments count=1, children=['j7e6qcp']>,\n",
       " <MoreComments count=1, children=['j7dhvwi']>,\n",
       " <MoreComments count=1, children=['j7d72vp']>,\n",
       " <MoreComments count=1, children=['j7duq6s']>,\n",
       " <MoreComments count=1, children=['j7ekdey']>,\n",
       " <MoreComments count=1, children=['j7depkh']>,\n",
       " <MoreComments count=1, children=['j7bzxyq']>,\n",
       " <MoreComments count=1, children=['j7eikkl']>,\n",
       " <MoreComments count=1, children=['j7eip0n']>,\n",
       " <MoreComments count=1, children=['j7dwyb0']>,\n",
       " <MoreComments count=1, children=['j7crwv1']>,\n",
       " <MoreComments count=1, children=['j7edtz0']>,\n",
       " <MoreComments count=1, children=['j7e37fl']>,\n",
       " <MoreComments count=1, children=['j7e4xjj']>,\n",
       " <MoreComments count=1, children=['j7edxf1']>,\n",
       " <MoreComments count=1, children=['j7dxtv0']>,\n",
       " <MoreComments count=1, children=['j7dyl4s']>,\n",
       " <MoreComments count=1, children=['j7e8wa8']>,\n",
       " <MoreComments count=1, children=['j7dx3u9']>,\n",
       " <MoreComments count=1, children=['j7emg09']>,\n",
       " <MoreComments count=1, children=['j7cq7nl']>,\n",
       " <MoreComments count=1, children=['j7dj26r']>,\n",
       " <MoreComments count=1, children=['j7dwa1m']>,\n",
       " <MoreComments count=1, children=['j7e0ne0']>,\n",
       " <MoreComments count=1, children=['j7d2tm8']>,\n",
       " <MoreComments count=1, children=['j7edsqf']>,\n",
       " <MoreComments count=1, children=['j7djhc2']>,\n",
       " <MoreComments count=1, children=['j7crmbx']>,\n",
       " <MoreComments count=1, children=['j7erm2u']>,\n",
       " <MoreComments count=1, children=['j7ds33j']>,\n",
       " <MoreComments count=1, children=['j7dcg53']>,\n",
       " <MoreComments count=1, children=['j7epmea']>,\n",
       " <MoreComments count=1, children=['j7e5o8q']>,\n",
       " <MoreComments count=1, children=['j7eedxs']>,\n",
       " <MoreComments count=1, children=['j7dnqrn']>,\n",
       " <MoreComments count=1, children=['j7ej49b']>,\n",
       " <MoreComments count=1, children=['j7dqmis']>,\n",
       " <MoreComments count=1, children=['j7e4wce']>,\n",
       " <MoreComments count=1, children=['j7e6nei']>,\n",
       " <MoreComments count=1, children=['j7czfcd']>,\n",
       " <MoreComments count=1, children=['j7e4x79']>,\n",
       " <MoreComments count=1, children=['j7boz2n']>,\n",
       " <MoreComments count=1, children=['j7eiiyi']>,\n",
       " <MoreComments count=1, children=['j7e35hd']>,\n",
       " <MoreComments count=1, children=['j7drqj3']>,\n",
       " <MoreComments count=1, children=['j7euyqi']>,\n",
       " <MoreComments count=1, children=['j7ealxt']>,\n",
       " <MoreComments count=1, children=['j7cmj1d']>,\n",
       " <MoreComments count=1, children=['j7c0z9h']>,\n",
       " <MoreComments count=1, children=['j7ejcr8']>,\n",
       " <MoreComments count=1, children=['j7drwlu']>,\n",
       " <MoreComments count=1, children=['j7cdyby']>,\n",
       " <MoreComments count=1, children=['j7eej5y']>,\n",
       " <MoreComments count=1, children=['j7e0k1f']>,\n",
       " <MoreComments count=1, children=['j7dwhhb']>,\n",
       " <MoreComments count=1, children=['j7elsuc']>,\n",
       " <MoreComments count=1, children=['j7eiz3a']>,\n",
       " <MoreComments count=1, children=['j7dd7ty']>,\n",
       " <MoreComments count=1, children=['j7eu1j1']>,\n",
       " <MoreComments count=1, children=['j7eo9bh']>,\n",
       " <MoreComments count=1, children=['j7dqhmw']>,\n",
       " <MoreComments count=1, children=['j7ee2yj']>,\n",
       " <MoreComments count=1, children=['j7dhjee']>,\n",
       " <MoreComments count=1, children=['j7e9dhh']>,\n",
       " <MoreComments count=1, children=['j7cn1q0']>,\n",
       " <MoreComments count=1, children=['j7eenpe']>,\n",
       " <MoreComments count=1, children=['j7ew1td']>,\n",
       " <MoreComments count=1, children=['j7edhho']>,\n",
       " <MoreComments count=1, children=['j7e8d8r']>,\n",
       " <MoreComments count=1, children=['j7evl98']>,\n",
       " <MoreComments count=1, children=['j7d1aju']>,\n",
       " <MoreComments count=1, children=['j7cuziw']>,\n",
       " <MoreComments count=1, children=['j7dnq9f']>,\n",
       " <MoreComments count=1, children=['j7eka6u']>,\n",
       " <MoreComments count=1, children=['j7eea4h']>,\n",
       " <MoreComments count=1, children=['j7e76et']>,\n",
       " <MoreComments count=1, children=['j7emqom']>,\n",
       " <MoreComments count=1, children=['j7e03vi']>,\n",
       " <MoreComments count=1, children=['j7e78ib']>,\n",
       " <MoreComments count=1, children=['j7eaqtu']>,\n",
       " <MoreComments count=1, children=['j7eubvs']>,\n",
       " <MoreComments count=1, children=['j7endlp']>,\n",
       " <MoreComments count=1, children=['j7bzklc']>,\n",
       " <MoreComments count=1, children=['j7e5erc']>,\n",
       " <MoreComments count=1, children=['j7btzlg']>,\n",
       " <MoreComments count=1, children=['j7dv78u']>,\n",
       " <MoreComments count=1, children=['j7e21x0']>,\n",
       " <MoreComments count=1, children=['j7dih80']>,\n",
       " <MoreComments count=1, children=['j7d9qmm']>,\n",
       " <MoreComments count=1, children=['j7ejqpy']>,\n",
       " <MoreComments count=1, children=['j7e865p']>,\n",
       " <MoreComments count=1, children=['j7d52qd']>,\n",
       " <MoreComments count=1, children=['j7e350w']>,\n",
       " <MoreComments count=1, children=['j7bnmjw']>,\n",
       " <MoreComments count=1, children=['j7clyny']>,\n",
       " <MoreComments count=1, children=['j7dgc4v']>,\n",
       " <MoreComments count=1, children=['j7cnf35']>,\n",
       " <MoreComments count=1, children=['j7d0vdf']>,\n",
       " <MoreComments count=0, children=[]>,\n",
       " <MoreComments count=0, children=[]>,\n",
       " <MoreComments count=0, children=[]>]"
      ]
     },
     "execution_count": 7,
     "metadata": {},
     "output_type": "execute_result"
    },
    {
     "name": "stdout",
     "output_type": "stream",
     "text": [
      "Title: What are the things no one tells you about living alone? | UP: 4256 - DOWN: 0\n"
     ]
    },
    {
     "data": {
      "text/plain": [
       "[<MoreComments count=2, children=['j7cd1lo']>,\n",
       " <MoreComments count=2, children=['j7cs2c4', 'j7dc039']>,\n",
       " <MoreComments count=2, children=['j7dlhem']>,\n",
       " <MoreComments count=1, children=['j7c9xbm']>,\n",
       " <MoreComments count=1, children=['j7bkkk2']>]"
      ]
     },
     "execution_count": 7,
     "metadata": {},
     "output_type": "execute_result"
    },
    {
     "name": "stdout",
     "output_type": "stream",
     "text": [
      "Title: what are the pros and cons of fake boobs? | UP: 340 - DOWN: 0\n"
     ]
    },
    {
     "data": {
      "text/plain": [
       "[<MoreComments count=0, children=[]>]"
      ]
     },
     "execution_count": 7,
     "metadata": {},
     "output_type": "execute_result"
    },
    {
     "name": "stdout",
     "output_type": "stream",
     "text": [
      "Title: What stereotype about men annoys you the most? | UP: 41 - DOWN: 0\n"
     ]
    },
    {
     "data": {
      "text/plain": [
       "[<MoreComments count=0, children=[]>,\n",
       " <MoreComments count=0, children=[]>,\n",
       " <MoreComments count=0, children=[]>,\n",
       " <MoreComments count=0, children=[]>]"
      ]
     },
     "execution_count": 7,
     "metadata": {},
     "output_type": "execute_result"
    },
    {
     "name": "stdout",
     "output_type": "stream",
     "text": [
      "Title: What is the best comeback response to ‘No money, no honey’? | UP: 342 - DOWN: 0\n"
     ]
    },
    {
     "data": {
      "text/plain": [
       "[]"
      ]
     },
     "execution_count": 7,
     "metadata": {},
     "output_type": "execute_result"
    },
    {
     "name": "stdout",
     "output_type": "stream",
     "text": [
      "Title: What’s a shallow reason you used to justify not dating someone? | UP: 5 - DOWN: 0\n"
     ]
    },
    {
     "data": {
      "text/plain": [
       "[]"
      ]
     },
     "execution_count": 7,
     "metadata": {},
     "output_type": "execute_result"
    },
    {
     "name": "stdout",
     "output_type": "stream",
     "text": [
      "Title: Contemplating marriage. What are the pros and cons? I hear so much bad. I am planning on a prenuptial agreement. | UP: 20 - DOWN: 0\n"
     ]
    },
    {
     "data": {
      "text/plain": [
       "[<MoreComments count=0, children=[]>,\n",
       " <MoreComments count=0, children=[]>,\n",
       " <MoreComments count=0, children=[]>]"
      ]
     },
     "execution_count": 7,
     "metadata": {},
     "output_type": "execute_result"
    },
    {
     "name": "stdout",
     "output_type": "stream",
     "text": [
      "Title: What is the most beautiful thing about being a man? | UP: 251 - DOWN: 0\n"
     ]
    },
    {
     "data": {
      "text/plain": [
       "[<MoreComments count=0, children=[]>]"
      ]
     },
     "execution_count": 7,
     "metadata": {},
     "output_type": "execute_result"
    },
    {
     "name": "stdout",
     "output_type": "stream",
     "text": [
      "Title: What are signs that a guy is a fuckboy? | UP: 113 - DOWN: 0\n"
     ]
    },
    {
     "data": {
      "text/plain": [
       "[]"
      ]
     },
     "execution_count": 7,
     "metadata": {},
     "output_type": "execute_result"
    },
    {
     "name": "stdout",
     "output_type": "stream",
     "text": [
      "Title: What simple activity instantly makes you happy? | UP: 344 - DOWN: 0\n"
     ]
    },
    {
     "data": {
      "text/plain": [
       "[<MoreComments count=4, children=['j78a0ls', 'j79fnju', 'j78gubw', 'j78whha']>,\n",
       " <MoreComments count=4, children=['j791qzc', 'j77n6af']>,\n",
       " <MoreComments count=4, children=['j77obcw', 'j782dq8', 'j79asl7', 'j784znp']>,\n",
       " <MoreComments count=4, children=['j78tus1', 'j79ioz5']>,\n",
       " <MoreComments count=4, children=['j77gy8h']>,\n",
       " <MoreComments count=4, children=['j78p9kh', 'j77bp8q', 'j77zk37', 'j79ccws']>,\n",
       " <MoreComments count=4, children=['j77skiq']>,\n",
       " <MoreComments count=4, children=['j7bkas6', 'j78y8kv']>,\n",
       " <MoreComments count=4, children=['j7aoioj', 'j7ag2tp', 'j7cyyyu', 'j7an7pz']>,\n",
       " <MoreComments count=3, children=['j78oua3']>,\n",
       " <MoreComments count=3, children=['j7867ec']>,\n",
       " <MoreComments count=3, children=['j7azbkk']>,\n",
       " <MoreComments count=3, children=['j77qegq', 'j79ltho']>,\n",
       " <MoreComments count=3, children=['j77ja3x', 'j77jnu6']>,\n",
       " <MoreComments count=3, children=['j7azru1', 'j7avkdu']>,\n",
       " <MoreComments count=3, children=['j79rwxs']>,\n",
       " <MoreComments count=3, children=['j7edve8']>,\n",
       " <MoreComments count=3, children=['j789b1l', 'j78tc02']>,\n",
       " <MoreComments count=3, children=['j78fkwq', 'j7bhwij']>,\n",
       " <MoreComments count=3, children=['j78xkuy']>,\n",
       " <MoreComments count=3, children=['j7bv37p']>,\n",
       " <MoreComments count=3, children=['j77ajkj', 'j78bqjw']>,\n",
       " <MoreComments count=3, children=['j78004y']>,\n",
       " <MoreComments count=3, children=['j78cblm']>,\n",
       " <MoreComments count=2, children=['j79jz9k', 'j792bpa']>,\n",
       " <MoreComments count=2, children=['j7b157t', 'j7b14st']>,\n",
       " <MoreComments count=2, children=['j7a6eky', 'j7bgrlz']>,\n",
       " <MoreComments count=2, children=['j7amaxh']>,\n",
       " <MoreComments count=2, children=['j7blzci']>,\n",
       " <MoreComments count=2, children=['j79zmfu', 'j77gt5f']>,\n",
       " <MoreComments count=2, children=['j78qeqh', 'j77fzql']>,\n",
       " <MoreComments count=2, children=['j7ay6ki', 'j78dwws']>,\n",
       " <MoreComments count=2, children=['j79idij']>,\n",
       " <MoreComments count=2, children=['j7aanur']>,\n",
       " <MoreComments count=2, children=['j7b35ju', 'j7a3duc']>,\n",
       " <MoreComments count=2, children=['j7bguky']>,\n",
       " <MoreComments count=2, children=['j77i4kr']>,\n",
       " <MoreComments count=2, children=['j786mbk', 'j77sgxg']>,\n",
       " <MoreComments count=2, children=['j7bhqxm']>,\n",
       " <MoreComments count=2, children=['j7b7krb']>,\n",
       " <MoreComments count=2, children=['j7agupi']>,\n",
       " <MoreComments count=2, children=['j7aldpr']>,\n",
       " <MoreComments count=2, children=['j77jk28']>,\n",
       " <MoreComments count=2, children=['j7c8k7n']>,\n",
       " <MoreComments count=2, children=['j77uqww']>,\n",
       " <MoreComments count=2, children=['j7alc91']>,\n",
       " <MoreComments count=2, children=['j79hraf']>,\n",
       " <MoreComments count=2, children=['j79h0lw']>,\n",
       " <MoreComments count=2, children=['j7b05mm']>,\n",
       " <MoreComments count=2, children=['j7aio1c']>,\n",
       " <MoreComments count=2, children=['j7bpkul']>,\n",
       " <MoreComments count=2, children=['j78ovoj', 'j7bvc5q']>,\n",
       " <MoreComments count=2, children=['j79g2ie', 'j7b6dbr']>,\n",
       " <MoreComments count=2, children=['j77n9h0']>,\n",
       " <MoreComments count=2, children=['j77k75d', 'j77yxsa']>,\n",
       " <MoreComments count=2, children=['j7bivva']>,\n",
       " <MoreComments count=2, children=['j7a5w8z']>,\n",
       " <MoreComments count=2, children=['j7b3bxm', 'j77mhqj']>,\n",
       " <MoreComments count=1, children=['j7a3vtd']>,\n",
       " <MoreComments count=1, children=['j7a9ttq']>,\n",
       " <MoreComments count=1, children=['j7aj6an']>,\n",
       " <MoreComments count=1, children=['j78kc4s']>,\n",
       " <MoreComments count=1, children=['j7a9dyd']>,\n",
       " <MoreComments count=1, children=['j7aeunq']>,\n",
       " <MoreComments count=1, children=['j7am9lo']>,\n",
       " <MoreComments count=1, children=['j7axfxi']>,\n",
       " <MoreComments count=1, children=['j78mcrh']>,\n",
       " <MoreComments count=1, children=['j77rvu1']>,\n",
       " <MoreComments count=1, children=['j7b45fj']>,\n",
       " <MoreComments count=1, children=['j77ax78']>,\n",
       " <MoreComments count=1, children=['j77vum5']>,\n",
       " <MoreComments count=1, children=['j78wvxf']>,\n",
       " <MoreComments count=1, children=['j79xcf1']>,\n",
       " <MoreComments count=1, children=['j78u1n2']>,\n",
       " <MoreComments count=1, children=['j77w4xf']>,\n",
       " <MoreComments count=1, children=['j789jjg']>,\n",
       " <MoreComments count=1, children=['j7akjhw']>,\n",
       " <MoreComments count=1, children=['j7bfsib']>,\n",
       " <MoreComments count=1, children=['j77pm2j']>,\n",
       " <MoreComments count=1, children=['j79z9uk']>,\n",
       " <MoreComments count=1, children=['j7b0ejf']>,\n",
       " <MoreComments count=1, children=['j77cqpz']>,\n",
       " <MoreComments count=1, children=['j7c6jpz']>,\n",
       " <MoreComments count=1, children=['j7bclpj']>,\n",
       " <MoreComments count=1, children=['j7azjcy']>,\n",
       " <MoreComments count=1, children=['j7a4q50']>,\n",
       " <MoreComments count=1, children=['j797uic']>,\n",
       " <MoreComments count=1, children=['j77q1pb']>,\n",
       " <MoreComments count=1, children=['j794n0d']>,\n",
       " <MoreComments count=1, children=['j7avsm2']>,\n",
       " <MoreComments count=1, children=['j78ac0f']>,\n",
       " <MoreComments count=1, children=['j786fp2']>,\n",
       " <MoreComments count=1, children=['j798yzb']>,\n",
       " <MoreComments count=1, children=['j7c98wi']>,\n",
       " <MoreComments count=1, children=['j7a4eu4']>,\n",
       " <MoreComments count=1, children=['j77nlwz']>,\n",
       " <MoreComments count=1, children=['j79nh1z']>,\n",
       " <MoreComments count=1, children=['j78mnxy']>,\n",
       " <MoreComments count=1, children=['j79i4ss']>,\n",
       " <MoreComments count=1, children=['j78gu5o']>,\n",
       " <MoreComments count=1, children=['j7b2ltw']>,\n",
       " <MoreComments count=1, children=['j7adsgp']>,\n",
       " <MoreComments count=1, children=['j7aza55']>,\n",
       " <MoreComments count=1, children=['j7eq6bp']>,\n",
       " <MoreComments count=1, children=['j7b4les']>,\n",
       " <MoreComments count=1, children=['j7amo1g']>,\n",
       " <MoreComments count=1, children=['j78midh']>,\n",
       " <MoreComments count=1, children=['j7albjp']>,\n",
       " <MoreComments count=1, children=['j78gvax']>,\n",
       " <MoreComments count=1, children=['j7b0c3x']>,\n",
       " <MoreComments count=1, children=['j78ktkj']>,\n",
       " <MoreComments count=1, children=['j782t6p']>,\n",
       " <MoreComments count=1, children=['j7ayxul']>,\n",
       " <MoreComments count=1, children=['j79ee6x']>,\n",
       " <MoreComments count=1, children=['j7bhccx']>,\n",
       " <MoreComments count=1, children=['j7acoa2']>,\n",
       " <MoreComments count=1, children=['j7c8tuh']>,\n",
       " <MoreComments count=1, children=['j7bcfmd']>,\n",
       " <MoreComments count=1, children=['j7843i1']>,\n",
       " <MoreComments count=1, children=['j796mfy']>,\n",
       " <MoreComments count=1, children=['j7apd2a']>,\n",
       " <MoreComments count=1, children=['j7ald67']>,\n",
       " <MoreComments count=1, children=['j7bacma']>,\n",
       " <MoreComments count=1, children=['j7b3jlw']>,\n",
       " <MoreComments count=1, children=['j78uv7j']>,\n",
       " <MoreComments count=1, children=['j785pm4']>,\n",
       " <MoreComments count=1, children=['j7b5ix6']>,\n",
       " <MoreComments count=1, children=['j79mu1p']>,\n",
       " <MoreComments count=1, children=['j7b41xx']>,\n",
       " <MoreComments count=1, children=['j7ajvmh']>,\n",
       " <MoreComments count=1, children=['j79uaqw']>,\n",
       " <MoreComments count=1, children=['j7860xt']>,\n",
       " <MoreComments count=1, children=['j7aisip']>,\n",
       " <MoreComments count=1, children=['j79l6zv']>,\n",
       " <MoreComments count=1, children=['j79ft0o']>,\n",
       " <MoreComments count=1, children=['j7a1dn1']>,\n",
       " <MoreComments count=1, children=['j7ak1i5']>,\n",
       " <MoreComments count=1, children=['j7bmsw0']>,\n",
       " <MoreComments count=1, children=['j7clqnl']>,\n",
       " <MoreComments count=1, children=['j78am3y']>,\n",
       " <MoreComments count=1, children=['j79fve8']>,\n",
       " <MoreComments count=1, children=['j7afq1e']>,\n",
       " <MoreComments count=1, children=['j78mxkl']>,\n",
       " <MoreComments count=1, children=['j79f1g8']>,\n",
       " <MoreComments count=1, children=['j78vydz']>,\n",
       " <MoreComments count=1, children=['j7a9dja']>,\n",
       " <MoreComments count=1, children=['j7bccei']>,\n",
       " <MoreComments count=1, children=['j7b3cpf']>,\n",
       " <MoreComments count=1, children=['j7ayz4p']>,\n",
       " <MoreComments count=1, children=['j7aapj6']>,\n",
       " <MoreComments count=1, children=['j78k0no']>,\n",
       " <MoreComments count=1, children=['j79x7by']>,\n",
       " <MoreComments count=1, children=['j79r0j0']>,\n",
       " <MoreComments count=1, children=['j79nknz']>,\n",
       " <MoreComments count=1, children=['j7b68uc']>,\n",
       " <MoreComments count=1, children=['j7au9fz']>,\n",
       " <MoreComments count=0, children=[]>,\n",
       " <MoreComments count=0, children=[]>,\n",
       " <MoreComments count=0, children=[]>,\n",
       " <MoreComments count=0, children=[]>,\n",
       " <MoreComments count=0, children=[]>]"
      ]
     },
     "execution_count": 7,
     "metadata": {},
     "output_type": "execute_result"
    },
    {
     "name": "stdout",
     "output_type": "stream",
     "text": [
      "Title: Men who were told by a girl that they need a \"break\". What happened next? | UP: 4591 - DOWN: 0\n"
     ]
    },
    {
     "data": {
      "text/plain": [
       "[]"
      ]
     },
     "execution_count": 7,
     "metadata": {},
     "output_type": "execute_result"
    },
    {
     "name": "stdout",
     "output_type": "stream",
     "text": [
      "Title: I have a serious issue with thinking everyone is against me. Why is this? | UP: 3 - DOWN: 0\n"
     ]
    },
    {
     "data": {
      "text/plain": [
       "[]"
      ]
     },
     "execution_count": 7,
     "metadata": {},
     "output_type": "execute_result"
    },
    {
     "name": "stdout",
     "output_type": "stream",
     "text": [
      "Title: Have you ever realized after couples therapy that you don’t love your partner? How did it end? | UP: 10 - DOWN: 0\n"
     ]
    },
    {
     "data": {
      "text/plain": [
       "[]"
      ]
     },
     "execution_count": 7,
     "metadata": {},
     "output_type": "execute_result"
    },
    {
     "name": "stdout",
     "output_type": "stream",
     "text": [
      "Title: When did this become ask boys? I want to hear from the older dudes with that life experience! | UP: 4 - DOWN: 0\n"
     ]
    },
    {
     "data": {
      "text/plain": [
       "[]"
      ]
     },
     "execution_count": 7,
     "metadata": {},
     "output_type": "execute_result"
    },
    {
     "name": "stdout",
     "output_type": "stream",
     "text": [
      "Title: What would you do if you were flashed by a female in public? | UP: 11 - DOWN: 0\n"
     ]
    },
    {
     "data": {
      "text/plain": [
       "[]"
      ]
     },
     "execution_count": 7,
     "metadata": {},
     "output_type": "execute_result"
    },
    {
     "name": "stdout",
     "output_type": "stream",
     "text": [
      "Title: What's a dead give away that your potential partner is not relationship material? | UP: 2 - DOWN: 0\n"
     ]
    },
    {
     "data": {
      "text/plain": [
       "[]"
      ]
     },
     "execution_count": 7,
     "metadata": {},
     "output_type": "execute_result"
    },
    {
     "name": "stdout",
     "output_type": "stream",
     "text": [
      "Title: How to take good photos of yourself? | UP: 59 - DOWN: 0\n"
     ]
    },
    {
     "data": {
      "text/plain": [
       "[]"
      ]
     },
     "execution_count": 7,
     "metadata": {},
     "output_type": "execute_result"
    },
    {
     "name": "stdout",
     "output_type": "stream",
     "text": [
      "Title: How do you make small talk seem interesting? | UP: 2 - DOWN: 0\n"
     ]
    },
    {
     "data": {
      "text/plain": [
       "[]"
      ]
     },
     "execution_count": 7,
     "metadata": {},
     "output_type": "execute_result"
    },
    {
     "name": "stdout",
     "output_type": "stream",
     "text": [
      "Title: Why do most peope consider liberal men less masculine than conservative men? | UP: 1 - DOWN: 0\n"
     ]
    },
    {
     "data": {
      "text/plain": [
       "[]"
      ]
     },
     "execution_count": 7,
     "metadata": {},
     "output_type": "execute_result"
    },
    {
     "name": "stdout",
     "output_type": "stream",
     "text": [
      "Title: Does it annoy you when your partner asks for reassurance? | UP: 3 - DOWN: 0\n"
     ]
    },
    {
     "data": {
      "text/plain": [
       "[]"
      ]
     },
     "execution_count": 7,
     "metadata": {},
     "output_type": "execute_result"
    },
    {
     "name": "stdout",
     "output_type": "stream",
     "text": [
      "Title: Guys who had positive relationships in high school and college. How fun was it? | UP: 0 - DOWN: 0\n"
     ]
    },
    {
     "data": {
      "text/plain": [
       "[]"
      ]
     },
     "execution_count": 7,
     "metadata": {},
     "output_type": "execute_result"
    },
    {
     "name": "stdout",
     "output_type": "stream",
     "text": [
      "Title: If you were the ruler of your own country, what would be the first law you’d put into place? | UP: 1 - DOWN: 0\n"
     ]
    },
    {
     "data": {
      "text/plain": [
       "[]"
      ]
     },
     "execution_count": 7,
     "metadata": {},
     "output_type": "execute_result"
    },
    {
     "name": "stdout",
     "output_type": "stream",
     "text": [
      "Title: What does it mean when men say to you that your look is like “the girl next door”? | UP: 187 - DOWN: 0\n"
     ]
    },
    {
     "data": {
      "text/plain": [
       "[]"
      ]
     },
     "execution_count": 7,
     "metadata": {},
     "output_type": "execute_result"
    },
    {
     "name": "stdout",
     "output_type": "stream",
     "text": [
      "Title: Asking why someone dumped you | UP: 2 - DOWN: 0\n"
     ]
    },
    {
     "data": {
      "text/plain": [
       "[]"
      ]
     },
     "execution_count": 7,
     "metadata": {},
     "output_type": "execute_result"
    },
    {
     "name": "stdout",
     "output_type": "stream",
     "text": [
      "Title: Men, what was your worst date with a hot chick? | UP: 12 - DOWN: 0\n"
     ]
    },
    {
     "data": {
      "text/plain": [
       "[]"
      ]
     },
     "execution_count": 7,
     "metadata": {},
     "output_type": "execute_result"
    },
    {
     "name": "stdout",
     "output_type": "stream",
     "text": [
      "Title: What basic exercises can big guys do to get accustomed to regularly working out? | UP: 5 - DOWN: 0\n"
     ]
    },
    {
     "data": {
      "text/plain": [
       "[]"
      ]
     },
     "execution_count": 7,
     "metadata": {},
     "output_type": "execute_result"
    },
    {
     "name": "stdout",
     "output_type": "stream",
     "text": [
      "Title: What tools did a therapist or counselor provide you to help with jealousy? | UP: 1 - DOWN: 0\n"
     ]
    },
    {
     "data": {
      "text/plain": [
       "[]"
      ]
     },
     "execution_count": 7,
     "metadata": {},
     "output_type": "execute_result"
    },
    {
     "name": "stdout",
     "output_type": "stream",
     "text": [
      "Title: What are some good memories or stories you can share about having a treehouse? Did you or someone you knew have one when you were a kid? Did you build one for your kids when you grew up? | UP: 1 - DOWN: 0\n"
     ]
    },
    {
     "data": {
      "text/plain": [
       "[]"
      ]
     },
     "execution_count": 7,
     "metadata": {},
     "output_type": "execute_result"
    },
    {
     "name": "stdout",
     "output_type": "stream",
     "text": [
      "Title: What’s a hobby you got into in your late 20s / early 30s? | UP: 187 - DOWN: 0\n"
     ]
    },
    {
     "data": {
      "text/plain": [
       "[]"
      ]
     },
     "execution_count": 7,
     "metadata": {},
     "output_type": "execute_result"
    },
    {
     "name": "stdout",
     "output_type": "stream",
     "text": [
      "Title: Why does the internet being out the darkest side of us? | UP: 0 - DOWN: 0\n"
     ]
    },
    {
     "data": {
      "text/plain": [
       "[]"
      ]
     },
     "execution_count": 7,
     "metadata": {},
     "output_type": "execute_result"
    },
    {
     "name": "stdout",
     "output_type": "stream",
     "text": [
      "Title: When you say that you're not ready to be in relationship, what's the reason? | UP: 0 - DOWN: 0\n"
     ]
    },
    {
     "data": {
      "text/plain": [
       "[]"
      ]
     },
     "execution_count": 7,
     "metadata": {},
     "output_type": "execute_result"
    },
    {
     "name": "stdout",
     "output_type": "stream",
     "text": [
      "Title: How can I support my husband when he opens up about his job being stressful. | UP: 0 - DOWN: 0\n"
     ]
    },
    {
     "data": {
      "text/plain": [
       "[]"
      ]
     },
     "execution_count": 7,
     "metadata": {},
     "output_type": "execute_result"
    },
    {
     "name": "stdout",
     "output_type": "stream",
     "text": [
      "Title: How to know if your gf is loyal? | UP: 0 - DOWN: 0\n"
     ]
    },
    {
     "data": {
      "text/plain": [
       "[]"
      ]
     },
     "execution_count": 7,
     "metadata": {},
     "output_type": "execute_result"
    },
    {
     "name": "stdout",
     "output_type": "stream",
     "text": [
      "Title: Has a girl ever lied to you about being pregnant? And what did you do? Or even what would you do? | UP: 13 - DOWN: 0\n"
     ]
    },
    {
     "data": {
      "text/plain": [
       "[<MoreComments count=4, children=['j7b4d9b']>,\n",
       " <MoreComments count=3, children=['j7b430o']>,\n",
       " <MoreComments count=3, children=['j77f25o']>,\n",
       " <MoreComments count=3, children=['j7edhfq', 'j7b0rqm']>,\n",
       " <MoreComments count=3, children=['j7e8gdq', 'j7ben1q']>,\n",
       " <MoreComments count=3, children=['j7c95t4']>,\n",
       " <MoreComments count=3, children=['j7axqas']>,\n",
       " <MoreComments count=2, children=['j7c7bwa']>,\n",
       " <MoreComments count=2, children=['j7b4k6p', 'j7b5wg2']>,\n",
       " <MoreComments count=2, children=['j7ay2a8', 'j7c3g18']>,\n",
       " <MoreComments count=1, children=['j7bb6zh']>,\n",
       " <MoreComments count=1, children=['j7bgtds']>,\n",
       " <MoreComments count=1, children=['j7dwbxk']>,\n",
       " <MoreComments count=1, children=['j7dgc69']>,\n",
       " <MoreComments count=1, children=['j7dg9pa']>,\n",
       " <MoreComments count=1, children=['j7bdnzv']>,\n",
       " <MoreComments count=1, children=['j7b4jbx']>,\n",
       " <MoreComments count=1, children=['j7ayqb4']>,\n",
       " <MoreComments count=1, children=['j7966zz']>,\n",
       " <MoreComments count=1, children=['j7c97fg']>,\n",
       " <MoreComments count=1, children=['j7c332w']>,\n",
       " <MoreComments count=1, children=['j7es48b']>,\n",
       " <MoreComments count=1, children=['j7dh2x3']>,\n",
       " <MoreComments count=1, children=['j7ayg79']>,\n",
       " <MoreComments count=1, children=['j7avvcl']>,\n",
       " <MoreComments count=1, children=['j7cbokl']>,\n",
       " <MoreComments count=1, children=['j7bv1e7']>,\n",
       " <MoreComments count=0, children=[]>,\n",
       " <MoreComments count=0, children=[]>]"
      ]
     },
     "execution_count": 7,
     "metadata": {},
     "output_type": "execute_result"
    },
    {
     "name": "stdout",
     "output_type": "stream",
     "text": [
      "Title: A question to men who are shy, introverted, with social anxiety or avoidant personality type. How did you meet your significant other? | UP: 704 - DOWN: 0\n"
     ]
    },
    {
     "data": {
      "text/plain": [
       "[]"
      ]
     },
     "execution_count": 7,
     "metadata": {},
     "output_type": "execute_result"
    },
    {
     "name": "stdout",
     "output_type": "stream",
     "text": [
      "Title: I have a friend who can't see just how amazing he is, any advise? | UP: 0 - DOWN: 0\n"
     ]
    },
    {
     "data": {
      "text/plain": [
       "[]"
      ]
     },
     "execution_count": 7,
     "metadata": {},
     "output_type": "execute_result"
    },
    {
     "name": "stdout",
     "output_type": "stream",
     "text": [
      "Title: Which game gives you nostalgic vibes and why? | UP: 11 - DOWN: 0\n"
     ]
    },
    {
     "data": {
      "text/plain": [
       "[]"
      ]
     },
     "execution_count": 7,
     "metadata": {},
     "output_type": "execute_result"
    },
    {
     "name": "stdout",
     "output_type": "stream",
     "text": [
      "Title: What is your go to party trick? | UP: 1 - DOWN: 0\n"
     ]
    },
    {
     "data": {
      "text/plain": [
       "[]"
      ]
     },
     "execution_count": 7,
     "metadata": {},
     "output_type": "execute_result"
    },
    {
     "name": "stdout",
     "output_type": "stream",
     "text": [
      "Title: What is your personal definition of a family? | UP: 0 - DOWN: 0\n"
     ]
    },
    {
     "data": {
      "text/plain": [
       "[]"
      ]
     },
     "execution_count": 7,
     "metadata": {},
     "output_type": "execute_result"
    },
    {
     "name": "stdout",
     "output_type": "stream",
     "text": [
      "Title: How old were you when you got married and how are things now? | UP: 0 - DOWN: 0\n"
     ]
    },
    {
     "data": {
      "text/plain": [
       "[]"
      ]
     },
     "execution_count": 7,
     "metadata": {},
     "output_type": "execute_result"
    },
    {
     "name": "stdout",
     "output_type": "stream",
     "text": [
      "Title: How good do you think is men's understanding of women's emotional needs? Do you usually find women unreasonable? | UP: 4 - DOWN: 0\n"
     ]
    },
    {
     "data": {
      "text/plain": [
       "[]"
      ]
     },
     "execution_count": 7,
     "metadata": {},
     "output_type": "execute_result"
    },
    {
     "name": "stdout",
     "output_type": "stream",
     "text": [
      "Title: What's some fact you know that most woman may find strange or unbelievable? | UP: 7 - DOWN: 0\n"
     ]
    },
    {
     "data": {
      "text/plain": [
       "[]"
      ]
     },
     "execution_count": 7,
     "metadata": {},
     "output_type": "execute_result"
    },
    {
     "name": "stdout",
     "output_type": "stream",
     "text": [
      "Title: what do you irrationally fear? | UP: 2 - DOWN: 0\n"
     ]
    },
    {
     "data": {
      "text/plain": [
       "[]"
      ]
     },
     "execution_count": 7,
     "metadata": {},
     "output_type": "execute_result"
    },
    {
     "name": "stdout",
     "output_type": "stream",
     "text": [
      "Title: Dear men, how many of you are okay with polygamy and if not why ? | UP: 0 - DOWN: 0\n"
     ]
    },
    {
     "data": {
      "text/plain": [
       "[]"
      ]
     },
     "execution_count": 7,
     "metadata": {},
     "output_type": "execute_result"
    },
    {
     "name": "stdout",
     "output_type": "stream",
     "text": [
      "Title: How much did you spend on your wedding? | UP: 10 - DOWN: 0\n"
     ]
    },
    {
     "data": {
      "text/plain": [
       "[]"
      ]
     },
     "execution_count": 7,
     "metadata": {},
     "output_type": "execute_result"
    },
    {
     "name": "stdout",
     "output_type": "stream",
     "text": [
      "Title: Question for men who have been married for a few years: What is something you learned or changed that made your marriage better/stronger? | UP: 1 - DOWN: 0\n"
     ]
    },
    {
     "data": {
      "text/plain": [
       "[]"
      ]
     },
     "execution_count": 7,
     "metadata": {},
     "output_type": "execute_result"
    },
    {
     "name": "stdout",
     "output_type": "stream",
     "text": [
      "Title: Men of reddit when did you realize the relationship (friendship or monogamous), you were in, wasn't the same it used to be before? What did you do afterwards? | UP: 8 - DOWN: 0\n"
     ]
    },
    {
     "data": {
      "text/plain": [
       "[]"
      ]
     },
     "execution_count": 7,
     "metadata": {},
     "output_type": "execute_result"
    },
    {
     "name": "stdout",
     "output_type": "stream",
     "text": [
      "Title: How can you tell if you were ever truly loved? | UP: 13 - DOWN: 0\n"
     ]
    },
    {
     "data": {
      "text/plain": [
       "[]"
      ]
     },
     "execution_count": 7,
     "metadata": {},
     "output_type": "execute_result"
    },
    {
     "name": "stdout",
     "output_type": "stream",
     "text": [
      "Title: Hey Men, what are you’re favourite YouTubers with valuable and entertaining content? | UP: 1 - DOWN: 0\n"
     ]
    },
    {
     "data": {
      "text/plain": [
       "[]"
      ]
     },
     "execution_count": 7,
     "metadata": {},
     "output_type": "execute_result"
    },
    {
     "name": "stdout",
     "output_type": "stream",
     "text": [
      "Title: What’s the sound of your childhood? | UP: 3 - DOWN: 0\n"
     ]
    },
    {
     "data": {
      "text/plain": [
       "[]"
      ]
     },
     "execution_count": 7,
     "metadata": {},
     "output_type": "execute_result"
    },
    {
     "name": "stdout",
     "output_type": "stream",
     "text": [
      "Title: What is the best option for cleaning ears? | UP: 0 - DOWN: 0\n"
     ]
    },
    {
     "data": {
      "text/plain": [
       "[]"
      ]
     },
     "execution_count": 7,
     "metadata": {},
     "output_type": "execute_result"
    },
    {
     "name": "stdout",
     "output_type": "stream",
     "text": [
      "Title: I've been in a relationship with my (now) wife since we were 16 (15 years ago), what is dating life like nowadays for men? | UP: 3 - DOWN: 0\n"
     ]
    },
    {
     "data": {
      "text/plain": [
       "[]"
      ]
     },
     "execution_count": 7,
     "metadata": {},
     "output_type": "execute_result"
    },
    {
     "name": "stdout",
     "output_type": "stream",
     "text": [
      "Title: What are you looking forward to? | UP: 2 - DOWN: 0\n"
     ]
    },
    {
     "data": {
      "text/plain": [
       "[]"
      ]
     },
     "execution_count": 7,
     "metadata": {},
     "output_type": "execute_result"
    },
    {
     "name": "stdout",
     "output_type": "stream",
     "text": [
      "Title: Men of Reddit, what makes a woman sultry as opposed to pretty in your eyes? | UP: 0 - DOWN: 0\n"
     ]
    },
    {
     "data": {
      "text/plain": [
       "[]"
      ]
     },
     "execution_count": 7,
     "metadata": {},
     "output_type": "execute_result"
    },
    {
     "name": "stdout",
     "output_type": "stream",
     "text": [
      "Title: What word or phrase makes you cringe? | UP: 1 - DOWN: 0\n"
     ]
    },
    {
     "data": {
      "text/plain": [
       "[]"
      ]
     },
     "execution_count": 7,
     "metadata": {},
     "output_type": "execute_result"
    },
    {
     "name": "stdout",
     "output_type": "stream",
     "text": [
      "Title: What behaviour is a dead giveaway that you're being cheated on? | UP: 2 - DOWN: 0\n"
     ]
    },
    {
     "data": {
      "text/plain": [
       "[]"
      ]
     },
     "execution_count": 7,
     "metadata": {},
     "output_type": "execute_result"
    },
    {
     "name": "stdout",
     "output_type": "stream",
     "text": [
      "Title: What is your idea of the perfect first date? | UP: 1 - DOWN: 0\n"
     ]
    },
    {
     "data": {
      "text/plain": [
       "[]"
      ]
     },
     "execution_count": 7,
     "metadata": {},
     "output_type": "execute_result"
    },
    {
     "name": "stdout",
     "output_type": "stream",
     "text": [
      "Title: What is your social hobby? | UP: 1 - DOWN: 0\n"
     ]
    },
    {
     "data": {
      "text/plain": [
       "[]"
      ]
     },
     "execution_count": 7,
     "metadata": {},
     "output_type": "execute_result"
    },
    {
     "name": "stdout",
     "output_type": "stream",
     "text": [
      "Title: What's a dead give away the girl you're sleeping with watches too much porn? | UP: 156 - DOWN: 0\n"
     ]
    },
    {
     "data": {
      "text/plain": [
       "[]"
      ]
     },
     "execution_count": 7,
     "metadata": {},
     "output_type": "execute_result"
    },
    {
     "name": "stdout",
     "output_type": "stream",
     "text": [
      "Title: Men who have little to know experience or knowledge about cars, how were you able to successfully purchase the cars you have today? | UP: 0 - DOWN: 0\n"
     ]
    },
    {
     "data": {
      "text/plain": [
       "[]"
      ]
     },
     "execution_count": 7,
     "metadata": {},
     "output_type": "execute_result"
    },
    {
     "name": "stdout",
     "output_type": "stream",
     "text": [
      "Title: What part of your life do you look back on and think \"I should've known better\"? | UP: 0 - DOWN: 0\n"
     ]
    },
    {
     "data": {
      "text/plain": [
       "[]"
      ]
     },
     "execution_count": 7,
     "metadata": {},
     "output_type": "execute_result"
    },
    {
     "name": "stdout",
     "output_type": "stream",
     "text": [
      "Title: How to be more confident approaching women in public settings? | UP: 0 - DOWN: 0\n"
     ]
    },
    {
     "data": {
      "text/plain": [
       "[<MoreComments count=0, children=[]>, <MoreComments count=0, children=[]>]"
      ]
     },
     "execution_count": 7,
     "metadata": {},
     "output_type": "execute_result"
    },
    {
     "name": "stdout",
     "output_type": "stream",
     "text": [
      "Title: Do you actually care about being masculine? If so, why? | UP: 72 - DOWN: 0\n"
     ]
    },
    {
     "data": {
      "text/plain": [
       "[]"
      ]
     },
     "execution_count": 7,
     "metadata": {},
     "output_type": "execute_result"
    },
    {
     "name": "stdout",
     "output_type": "stream",
     "text": [
      "Title: What does everyone do to destress? | UP: 0 - DOWN: 0\n"
     ]
    },
    {
     "data": {
      "text/plain": [
       "[]"
      ]
     },
     "execution_count": 7,
     "metadata": {},
     "output_type": "execute_result"
    },
    {
     "name": "stdout",
     "output_type": "stream",
     "text": [
      "Title: I like a girl in my class, but I can't talk to her, what do I do? | UP: 0 - DOWN: 0\n"
     ]
    },
    {
     "data": {
      "text/plain": [
       "[]"
      ]
     },
     "execution_count": 7,
     "metadata": {},
     "output_type": "execute_result"
    },
    {
     "name": "stdout",
     "output_type": "stream",
     "text": [
      "Title: How do you (men) deal with other men? | UP: 0 - DOWN: 0\n"
     ]
    },
    {
     "data": {
      "text/plain": [
       "[]"
      ]
     },
     "execution_count": 7,
     "metadata": {},
     "output_type": "execute_result"
    },
    {
     "name": "stdout",
     "output_type": "stream",
     "text": [
      "Title: fellow men, what is the biggest piece of ice you’ve broken? | UP: 0 - DOWN: 0\n"
     ]
    },
    {
     "data": {
      "text/plain": [
       "[]"
      ]
     },
     "execution_count": 7,
     "metadata": {},
     "output_type": "execute_result"
    },
    {
     "name": "stdout",
     "output_type": "stream",
     "text": [
      "Title: What kind of lingerie do you like best ? | UP: 1 - DOWN: 0\n"
     ]
    },
    {
     "data": {
      "text/plain": [
       "[]"
      ]
     },
     "execution_count": 7,
     "metadata": {},
     "output_type": "execute_result"
    },
    {
     "name": "stdout",
     "output_type": "stream",
     "text": [
      "Title: How to flirt and keep the conversation going with a girl in a group setting? | UP: 0 - DOWN: 0\n"
     ]
    },
    {
     "data": {
      "text/plain": [
       "[]"
      ]
     },
     "execution_count": 7,
     "metadata": {},
     "output_type": "execute_result"
    },
    {
     "name": "stdout",
     "output_type": "stream",
     "text": [
      "Title: What does partnership mean to you? | UP: 0 - DOWN: 0\n"
     ]
    },
    {
     "data": {
      "text/plain": [
       "[]"
      ]
     },
     "execution_count": 7,
     "metadata": {},
     "output_type": "execute_result"
    },
    {
     "name": "stdout",
     "output_type": "stream",
     "text": [
      "Title: What is your top tier dad joke? | UP: 0 - DOWN: 0\n"
     ]
    },
    {
     "data": {
      "text/plain": [
       "[]"
      ]
     },
     "execution_count": 7,
     "metadata": {},
     "output_type": "execute_result"
    },
    {
     "name": "stdout",
     "output_type": "stream",
     "text": [
      "Title: What’s your most favorite saying? | UP: 0 - DOWN: 0\n"
     ]
    },
    {
     "data": {
      "text/plain": [
       "[]"
      ]
     },
     "execution_count": 7,
     "metadata": {},
     "output_type": "execute_result"
    },
    {
     "name": "stdout",
     "output_type": "stream",
     "text": [
      "Title: What’s your go to melancholy song? | UP: 5 - DOWN: 0\n"
     ]
    },
    {
     "data": {
      "text/plain": [
       "[]"
      ]
     },
     "execution_count": 7,
     "metadata": {},
     "output_type": "execute_result"
    },
    {
     "name": "stdout",
     "output_type": "stream",
     "text": [
      "Title: What makes a man fail too much? | UP: 0 - DOWN: 0\n"
     ]
    },
    {
     "data": {
      "text/plain": [
       "[]"
      ]
     },
     "execution_count": 7,
     "metadata": {},
     "output_type": "execute_result"
    },
    {
     "name": "stdout",
     "output_type": "stream",
     "text": [
      "Title: Married men, how often does your wife give you a task? | UP: 0 - DOWN: 0\n"
     ]
    },
    {
     "data": {
      "text/plain": [
       "[]"
      ]
     },
     "execution_count": 7,
     "metadata": {},
     "output_type": "execute_result"
    },
    {
     "name": "stdout",
     "output_type": "stream",
     "text": [
      "Title: What do you think of heat-based male contraception? | UP: 0 - DOWN: 0\n"
     ]
    },
    {
     "data": {
      "text/plain": [
       "[]"
      ]
     },
     "execution_count": 7,
     "metadata": {},
     "output_type": "execute_result"
    },
    {
     "name": "stdout",
     "output_type": "stream",
     "text": [
      "Title: For those of you who loaned money to someone, how did it go? | UP: 3 - DOWN: 0\n"
     ]
    },
    {
     "data": {
      "text/plain": [
       "[]"
      ]
     },
     "execution_count": 7,
     "metadata": {},
     "output_type": "execute_result"
    },
    {
     "name": "stdout",
     "output_type": "stream",
     "text": [
      "Title: What are some songs you loved as a kid and grew up and realized the lyrics were problematic ? | UP: 0 - DOWN: 0\n"
     ]
    },
    {
     "data": {
      "text/plain": [
       "[]"
      ]
     },
     "execution_count": 7,
     "metadata": {},
     "output_type": "execute_result"
    },
    {
     "name": "stdout",
     "output_type": "stream",
     "text": [
      "Title: At what point did you realize you shouldn't believe everything your parents said? | UP: 9 - DOWN: 0\n"
     ]
    },
    {
     "data": {
      "text/plain": [
       "[]"
      ]
     },
     "execution_count": 7,
     "metadata": {},
     "output_type": "execute_result"
    },
    {
     "name": "stdout",
     "output_type": "stream",
     "text": [
      "Title: What’s the best way to find a new career path step by step? | UP: 0 - DOWN: 0\n"
     ]
    },
    {
     "data": {
      "text/plain": [
       "[]"
      ]
     },
     "execution_count": 7,
     "metadata": {},
     "output_type": "execute_result"
    },
    {
     "name": "stdout",
     "output_type": "stream",
     "text": [
      "Title: Why did you ever start to fall out of love? | UP: 1 - DOWN: 0\n"
     ]
    },
    {
     "data": {
      "text/plain": [
       "[]"
      ]
     },
     "execution_count": 7,
     "metadata": {},
     "output_type": "execute_result"
    },
    {
     "name": "stdout",
     "output_type": "stream",
     "text": [
      "Title: What was your \"it can't be that easy / it was that easy\" moment in your life? | UP: 27 - DOWN: 0\n"
     ]
    },
    {
     "data": {
      "text/plain": [
       "[]"
      ]
     },
     "execution_count": 7,
     "metadata": {},
     "output_type": "execute_result"
    },
    {
     "name": "stdout",
     "output_type": "stream",
     "text": [
      "Title: As a man, in what aspect do you feel more social pressure? (Having a partner, professional and financial success, appearance...) | UP: 0 - DOWN: 0\n"
     ]
    },
    {
     "data": {
      "text/plain": [
       "[]"
      ]
     },
     "execution_count": 7,
     "metadata": {},
     "output_type": "execute_result"
    },
    {
     "name": "stdout",
     "output_type": "stream",
     "text": [
      "Title: Guys who are 35+ and single (never married), how have you been looking for your romantic love? | UP: 5 - DOWN: 0\n"
     ]
    },
    {
     "data": {
      "text/plain": [
       "[]"
      ]
     },
     "execution_count": 7,
     "metadata": {},
     "output_type": "execute_result"
    },
    {
     "name": "stdout",
     "output_type": "stream",
     "text": [
      "Title: How do you deal with a vindictive ex? | UP: 0 - DOWN: 0\n"
     ]
    },
    {
     "data": {
      "text/plain": [
       "[]"
      ]
     },
     "execution_count": 7,
     "metadata": {},
     "output_type": "execute_result"
    },
    {
     "name": "stdout",
     "output_type": "stream",
     "text": [
      "Title: What to look forward to after you have passed the prime of your life ? | UP: 1 - DOWN: 0\n"
     ]
    },
    {
     "data": {
      "text/plain": [
       "[]"
      ]
     },
     "execution_count": 7,
     "metadata": {},
     "output_type": "execute_result"
    },
    {
     "name": "stdout",
     "output_type": "stream",
     "text": [
      "Title: Men are an average of 70% of dating app users in the United States and 85% in Europe. Why do you think this is? | UP: 0 - DOWN: 0\n"
     ]
    },
    {
     "data": {
      "text/plain": [
       "[]"
      ]
     },
     "execution_count": 7,
     "metadata": {},
     "output_type": "execute_result"
    },
    {
     "name": "stdout",
     "output_type": "stream",
     "text": [
      "Title: How the hell do I fix my sleep schedule? | UP: 13 - DOWN: 0\n"
     ]
    },
    {
     "data": {
      "text/plain": [
       "[<MoreComments count=0, children=[]>]"
      ]
     },
     "execution_count": 7,
     "metadata": {},
     "output_type": "execute_result"
    },
    {
     "name": "stdout",
     "output_type": "stream",
     "text": [
      "Title: What are your thoughts on Therapy? | UP: 170 - DOWN: 0\n"
     ]
    },
    {
     "data": {
      "text/plain": [
       "[]"
      ]
     },
     "execution_count": 7,
     "metadata": {},
     "output_type": "execute_result"
    },
    {
     "name": "stdout",
     "output_type": "stream",
     "text": [
      "Title: How many hours of playing games is considered too much for you? | UP: 0 - DOWN: 0\n"
     ]
    },
    {
     "data": {
      "text/plain": [
       "[]"
      ]
     },
     "execution_count": 7,
     "metadata": {},
     "output_type": "execute_result"
    },
    {
     "name": "stdout",
     "output_type": "stream",
     "text": [
      "Title: How do you position your nuts when you sleep? | UP: 0 - DOWN: 0\n"
     ]
    },
    {
     "data": {
      "text/plain": [
       "[]"
      ]
     },
     "execution_count": 7,
     "metadata": {},
     "output_type": "execute_result"
    },
    {
     "name": "stdout",
     "output_type": "stream",
     "text": [
      "Title: How to become a Sigma/Alpha male? | UP: 0 - DOWN: 0\n"
     ]
    },
    {
     "data": {
      "text/plain": [
       "[]"
      ]
     },
     "execution_count": 7,
     "metadata": {},
     "output_type": "execute_result"
    },
    {
     "name": "stdout",
     "output_type": "stream",
     "text": [
      "Title: what if an ex wants to come back just to be fuck buddies? | UP: 0 - DOWN: 0\n"
     ]
    },
    {
     "data": {
      "text/plain": [
       "[]"
      ]
     },
     "execution_count": 7,
     "metadata": {},
     "output_type": "execute_result"
    },
    {
     "name": "stdout",
     "output_type": "stream",
     "text": [
      "Title: What was your last nightmare about? | UP: 0 - DOWN: 0\n"
     ]
    },
    {
     "data": {
      "text/plain": [
       "[]"
      ]
     },
     "execution_count": 7,
     "metadata": {},
     "output_type": "execute_result"
    },
    {
     "name": "stdout",
     "output_type": "stream",
     "text": [
      "Title: How many of you sit too long on the toilet because your being existential? | UP: 0 - DOWN: 0\n"
     ]
    },
    {
     "data": {
      "text/plain": [
       "[<MoreComments count=4, children=['j78nrhq']>,\n",
       " <MoreComments count=4, children=['j76cl1z', 'j787j0c', 'j77bxjh', 'j76bjkv']>,\n",
       " <MoreComments count=4, children=['j75lgu1', 'j76c4vl']>,\n",
       " <MoreComments count=4, children=['j7ci04o', 'j77c2yr', 'j78gs12']>,\n",
       " <MoreComments count=3, children=['j7az87n']>,\n",
       " <MoreComments count=3, children=['j78v1e7']>,\n",
       " <MoreComments count=3, children=['j76vnkn']>,\n",
       " <MoreComments count=2, children=['j74zpsg']>,\n",
       " <MoreComments count=2, children=['j76bwd6', 'j77aw50']>,\n",
       " <MoreComments count=2, children=['j78cdyh', 'j78qkz1']>,\n",
       " <MoreComments count=2, children=['j792l8k', 'j7bhsdx']>,\n",
       " <MoreComments count=2, children=['j79j2k5', 'j79p4kn']>,\n",
       " <MoreComments count=2, children=['j76vkm4', 'j7cfjad']>,\n",
       " <MoreComments count=2, children=['j779uyj', 'j78489x']>,\n",
       " <MoreComments count=1, children=['j7atdw9']>,\n",
       " <MoreComments count=1, children=['j78g6s2']>,\n",
       " <MoreComments count=1, children=['j77z1k9']>,\n",
       " <MoreComments count=1, children=['j77bpci']>,\n",
       " <MoreComments count=1, children=['j7e633o']>,\n",
       " <MoreComments count=1, children=['j78aozp']>,\n",
       " <MoreComments count=1, children=['j78ovr7']>,\n",
       " <MoreComments count=1, children=['j76bpwc']>,\n",
       " <MoreComments count=1, children=['j77xkai']>,\n",
       " <MoreComments count=1, children=['j773rmm']>,\n",
       " <MoreComments count=1, children=['j76wowo']>,\n",
       " <MoreComments count=1, children=['j76zqd1']>,\n",
       " <MoreComments count=1, children=['j77i5zv']>,\n",
       " <MoreComments count=1, children=['j77361k']>,\n",
       " <MoreComments count=1, children=['j7dzyhj']>,\n",
       " <MoreComments count=1, children=['j761ii5']>,\n",
       " <MoreComments count=1, children=['j773q4a']>,\n",
       " <MoreComments count=1, children=['j79pcnx']>,\n",
       " <MoreComments count=1, children=['j78nzpd']>,\n",
       " <MoreComments count=1, children=['j79a5bs']>,\n",
       " <MoreComments count=1, children=['j77xv2i']>,\n",
       " <MoreComments count=1, children=['j78uvmj']>,\n",
       " <MoreComments count=1, children=['j79slki']>,\n",
       " <MoreComments count=1, children=['j76mw1h']>,\n",
       " <MoreComments count=1, children=['j7dqd2h']>,\n",
       " <MoreComments count=1, children=['j78nm6u']>,\n",
       " <MoreComments count=1, children=['j76ytjc']>,\n",
       " <MoreComments count=1, children=['j77z9nv']>,\n",
       " <MoreComments count=1, children=['j77irt6']>,\n",
       " <MoreComments count=1, children=['j7914uj']>,\n",
       " <MoreComments count=1, children=['j75mdcm']>,\n",
       " <MoreComments count=0, children=[]>,\n",
       " <MoreComments count=0, children=[]>,\n",
       " <MoreComments count=0, children=[]>]"
      ]
     },
     "execution_count": 7,
     "metadata": {},
     "output_type": "execute_result"
    },
    {
     "name": "stdout",
     "output_type": "stream",
     "text": [
      "Title: What did you do with your porn stash after getting married /engaged? | UP: 1033 - DOWN: 0\n"
     ]
    },
    {
     "data": {
      "text/plain": [
       "[]"
      ]
     },
     "execution_count": 7,
     "metadata": {},
     "output_type": "execute_result"
    },
    {
     "name": "stdout",
     "output_type": "stream",
     "text": [
      "Title: What's the Kindest Thing a Stranger Has Ever Done for You? | UP: 1 - DOWN: 0\n"
     ]
    },
    {
     "data": {
      "text/plain": [
       "[]"
      ]
     },
     "execution_count": 7,
     "metadata": {},
     "output_type": "execute_result"
    },
    {
     "name": "stdout",
     "output_type": "stream",
     "text": [
      "Title: Do guys get afraid when they walk alone? | UP: 34 - DOWN: 0\n"
     ]
    },
    {
     "data": {
      "text/plain": [
       "[]"
      ]
     },
     "execution_count": 7,
     "metadata": {},
     "output_type": "execute_result"
    },
    {
     "name": "stdout",
     "output_type": "stream",
     "text": [
      "Title: How do you deal with being out of touch with almost half of the planet? | UP: 0 - DOWN: 0\n"
     ]
    },
    {
     "data": {
      "text/plain": [
       "[]"
      ]
     },
     "execution_count": 7,
     "metadata": {},
     "output_type": "execute_result"
    },
    {
     "name": "stdout",
     "output_type": "stream",
     "text": [
      "Title: What is a secret you never told your ex? | UP: 0 - DOWN: 0\n"
     ]
    },
    {
     "data": {
      "text/plain": [
       "[]"
      ]
     },
     "execution_count": 7,
     "metadata": {},
     "output_type": "execute_result"
    },
    {
     "name": "stdout",
     "output_type": "stream",
     "text": [
      "Title: Men is it weird if a woman takes your suggestion very seriously, why? | UP: 3 - DOWN: 0\n"
     ]
    },
    {
     "data": {
      "text/plain": [
       "[]"
      ]
     },
     "execution_count": 7,
     "metadata": {},
     "output_type": "execute_result"
    },
    {
     "name": "stdout",
     "output_type": "stream",
     "text": [
      "Title: Men of Reddit, how do you make your mental health stable? Any tips? | UP: 6 - DOWN: 0\n"
     ]
    },
    {
     "data": {
      "text/plain": [
       "[]"
      ]
     },
     "execution_count": 7,
     "metadata": {},
     "output_type": "execute_result"
    },
    {
     "name": "stdout",
     "output_type": "stream",
     "text": [
      "Title: What if the human species On Earth was like one of the Uncontacted tribes in South America and the entire galaxy knew about our presence but decided no tot contact us until we have figured this out on our own? | UP: 68 - DOWN: 0\n"
     ]
    },
    {
     "data": {
      "text/plain": [
       "[]"
      ]
     },
     "execution_count": 7,
     "metadata": {},
     "output_type": "execute_result"
    },
    {
     "name": "stdout",
     "output_type": "stream",
     "text": [
      "Title: Men who are promiscuous, how have womens habits changes in bed over the years? | UP: 0 - DOWN: 0\n"
     ]
    },
    {
     "data": {
      "text/plain": [
       "[]"
      ]
     },
     "execution_count": 7,
     "metadata": {},
     "output_type": "execute_result"
    },
    {
     "name": "stdout",
     "output_type": "stream",
     "text": [
      "Title: Can single straight men and women in their 30s be friends only? Why or why not? | UP: 0 - DOWN: 0\n"
     ]
    },
    {
     "data": {
      "text/plain": [
       "[]"
      ]
     },
     "execution_count": 7,
     "metadata": {},
     "output_type": "execute_result"
    },
    {
     "name": "stdout",
     "output_type": "stream",
     "text": [
      "Title: What are some lesser-known habits that extend longevity / maximize physical health for old age? | UP: 2 - DOWN: 0\n"
     ]
    },
    {
     "data": {
      "text/plain": [
       "[]"
      ]
     },
     "execution_count": 7,
     "metadata": {},
     "output_type": "execute_result"
    },
    {
     "name": "stdout",
     "output_type": "stream",
     "text": [
      "Title: Why do so many guys wear boxer briefs under their bathing suit? | UP: 0 - DOWN: 0\n"
     ]
    },
    {
     "data": {
      "text/plain": [
       "[]"
      ]
     },
     "execution_count": 7,
     "metadata": {},
     "output_type": "execute_result"
    },
    {
     "name": "stdout",
     "output_type": "stream",
     "text": [
      "Title: What would you consider to be a \"smooth\" act in dating and how do you get good at it? | UP: 0 - DOWN: 0\n"
     ]
    },
    {
     "data": {
      "text/plain": [
       "[]"
      ]
     },
     "execution_count": 7,
     "metadata": {},
     "output_type": "execute_result"
    },
    {
     "name": "stdout",
     "output_type": "stream",
     "text": [
      "Title: If you want to reverse something what would it be? | UP: 0 - DOWN: 0\n"
     ]
    },
    {
     "data": {
      "text/plain": [
       "[]"
      ]
     },
     "execution_count": 7,
     "metadata": {},
     "output_type": "execute_result"
    },
    {
     "name": "stdout",
     "output_type": "stream",
     "text": [
      "Title: How have you gotten over genuinely hating someone? | UP: 2 - DOWN: 0\n"
     ]
    },
    {
     "data": {
      "text/plain": [
       "[]"
      ]
     },
     "execution_count": 7,
     "metadata": {},
     "output_type": "execute_result"
    },
    {
     "name": "stdout",
     "output_type": "stream",
     "text": [
      "Title: Where do you go for inspiration at your lowest? | UP: 3 - DOWN: 0\n"
     ]
    },
    {
     "data": {
      "text/plain": [
       "[]"
      ]
     },
     "execution_count": 7,
     "metadata": {},
     "output_type": "execute_result"
    },
    {
     "name": "stdout",
     "output_type": "stream",
     "text": [
      "Title: How would you want a lady to approach you and in what situation? (perfect world) | UP: 0 - DOWN: 0\n"
     ]
    },
    {
     "data": {
      "text/plain": [
       "[<MoreComments count=4, children=['j753evs']>,\n",
       " <MoreComments count=4, children=['j7dev4h']>,\n",
       " <MoreComments count=3, children=['j770kj5']>,\n",
       " <MoreComments count=3, children=['j78r1ad']>,\n",
       " <MoreComments count=2, children=['j79i49z']>,\n",
       " <MoreComments count=1, children=['j78o8jz']>,\n",
       " <MoreComments count=1, children=['j755iow']>,\n",
       " <MoreComments count=1, children=['j78smj0']>,\n",
       " <MoreComments count=1, children=['j7ai78f']>,\n",
       " <MoreComments count=1, children=['j76f69e']>,\n",
       " <MoreComments count=1, children=['j78cafs']>,\n",
       " <MoreComments count=1, children=['j78zuhp']>,\n",
       " <MoreComments count=1, children=['j7c443f']>,\n",
       " <MoreComments count=1, children=['j7arfc7']>,\n",
       " <MoreComments count=1, children=['j7b1bze']>,\n",
       " <MoreComments count=0, children=[]>]"
      ]
     },
     "execution_count": 7,
     "metadata": {},
     "output_type": "execute_result"
    },
    {
     "name": "stdout",
     "output_type": "stream",
     "text": [
      "Title: Out of the girls you dated, how many of them made the first move on you? | UP: 386 - DOWN: 0\n"
     ]
    },
    {
     "data": {
      "text/plain": [
       "[]"
      ]
     },
     "execution_count": 7,
     "metadata": {},
     "output_type": "execute_result"
    },
    {
     "name": "stdout",
     "output_type": "stream",
     "text": [
      "Title: What did you find out about how others perceive you that really surprised you? | UP: 10 - DOWN: 0\n"
     ]
    },
    {
     "data": {
      "text/plain": [
       "[]"
      ]
     },
     "execution_count": 7,
     "metadata": {},
     "output_type": "execute_result"
    },
    {
     "name": "stdout",
     "output_type": "stream",
     "text": [
      "Title: Men who are told boring or uninteresting what did you do. | UP: 4 - DOWN: 0\n"
     ]
    },
    {
     "data": {
      "text/plain": [
       "[]"
      ]
     },
     "execution_count": 7,
     "metadata": {},
     "output_type": "execute_result"
    },
    {
     "name": "stdout",
     "output_type": "stream",
     "text": [
      "Title: What do you hate that your naighbours do? | UP: 0 - DOWN: 0\n"
     ]
    },
    {
     "data": {
      "text/plain": [
       "[]"
      ]
     },
     "execution_count": 7,
     "metadata": {},
     "output_type": "execute_result"
    },
    {
     "name": "stdout",
     "output_type": "stream",
     "text": [
      "Title: What’s your proudest accomplishment? | UP: 11 - DOWN: 0\n"
     ]
    },
    {
     "data": {
      "text/plain": [
       "[]"
      ]
     },
     "execution_count": 7,
     "metadata": {},
     "output_type": "execute_result"
    },
    {
     "name": "stdout",
     "output_type": "stream",
     "text": [
      "Title: What are the most social hobbies that I can start? | UP: 1 - DOWN: 0\n"
     ]
    },
    {
     "data": {
      "text/plain": [
       "[<MoreComments count=3, children=['j77bwwo', 'j79n7fn', 'j774k0u']>,\n",
       " <MoreComments count=1, children=['j78a6pn']>,\n",
       " <MoreComments count=1, children=['j76z3zw']>,\n",
       " <MoreComments count=1, children=['j783832']>,\n",
       " <MoreComments count=1, children=['j791p03']>,\n",
       " <MoreComments count=1, children=['j77hosy']>,\n",
       " <MoreComments count=1, children=['j797c9v']>,\n",
       " <MoreComments count=1, children=['j76z9p9']>,\n",
       " <MoreComments count=1, children=['j77he6j']>,\n",
       " <MoreComments count=1, children=['j79bg9l']>,\n",
       " <MoreComments count=1, children=['j78zkwn']>,\n",
       " <MoreComments count=1, children=['j7879k1']>,\n",
       " <MoreComments count=1, children=['j77mek2']>,\n",
       " <MoreComments count=1, children=['j774q5i']>,\n",
       " <MoreComments count=1, children=['j75tmsr']>,\n",
       " <MoreComments count=0, children=[]>,\n",
       " <MoreComments count=0, children=[]>]"
      ]
     },
     "execution_count": 7,
     "metadata": {},
     "output_type": "execute_result"
    },
    {
     "name": "stdout",
     "output_type": "stream",
     "text": [
      "Title: Fuck negativity. What’s something positive that’s happened to you lately? | UP: 655 - DOWN: 0\n"
     ]
    },
    {
     "data": {
      "text/plain": [
       "[]"
      ]
     },
     "execution_count": 7,
     "metadata": {},
     "output_type": "execute_result"
    },
    {
     "name": "stdout",
     "output_type": "stream",
     "text": [
      "Title: what has happened to faith in your generation | UP: 0 - DOWN: 0\n"
     ]
    },
    {
     "data": {
      "text/plain": [
       "[]"
      ]
     },
     "execution_count": 7,
     "metadata": {},
     "output_type": "execute_result"
    },
    {
     "name": "stdout",
     "output_type": "stream",
     "text": [
      "Title: How to best thrive in a relationship with an avoidant partner? | UP: 1 - DOWN: 0\n"
     ]
    },
    {
     "data": {
      "text/plain": [
       "[]"
      ]
     },
     "execution_count": 7,
     "metadata": {},
     "output_type": "execute_result"
    },
    {
     "name": "stdout",
     "output_type": "stream",
     "text": [
      "Title: Could you share your experience at working as a teenager? What’s it hard to find a part-time job? | UP: 0 - DOWN: 0\n"
     ]
    },
    {
     "data": {
      "text/plain": [
       "[]"
      ]
     },
     "execution_count": 7,
     "metadata": {},
     "output_type": "execute_result"
    },
    {
     "name": "stdout",
     "output_type": "stream",
     "text": [
      "Title: Men who are still friends with their ex, why and how did you do it? | UP: 11 - DOWN: 0\n"
     ]
    },
    {
     "data": {
      "text/plain": [
       "[]"
      ]
     },
     "execution_count": 7,
     "metadata": {},
     "output_type": "execute_result"
    },
    {
     "name": "stdout",
     "output_type": "stream",
     "text": [
      "Title: What do you think the asswholes drive? | UP: 0 - DOWN: 0\n"
     ]
    },
    {
     "data": {
      "text/plain": [
       "[]"
      ]
     },
     "execution_count": 7,
     "metadata": {},
     "output_type": "execute_result"
    },
    {
     "name": "stdout",
     "output_type": "stream",
     "text": [
      "Title: is there anything which your father taught you but you had to unlearn it ? | UP: 10 - DOWN: 0\n"
     ]
    },
    {
     "data": {
      "text/plain": [
       "[]"
      ]
     },
     "execution_count": 7,
     "metadata": {},
     "output_type": "execute_result"
    },
    {
     "name": "stdout",
     "output_type": "stream",
     "text": [
      "Title: Men who love themselves: how do you do it? What does it feel like? | UP: 8 - DOWN: 0\n"
     ]
    },
    {
     "data": {
      "text/plain": [
       "[]"
      ]
     },
     "execution_count": 7,
     "metadata": {},
     "output_type": "execute_result"
    },
    {
     "name": "stdout",
     "output_type": "stream",
     "text": [
      "Title: What is your best yo momma joke? | UP: 0 - DOWN: 0\n"
     ]
    },
    {
     "data": {
      "text/plain": [
       "[]"
      ]
     },
     "execution_count": 7,
     "metadata": {},
     "output_type": "execute_result"
    },
    {
     "name": "stdout",
     "output_type": "stream",
     "text": [
      "Title: What are some tips to quickly become above average? | UP: 0 - DOWN: 0\n"
     ]
    },
    {
     "data": {
      "text/plain": [
       "[]"
      ]
     },
     "execution_count": 7,
     "metadata": {},
     "output_type": "execute_result"
    },
    {
     "name": "stdout",
     "output_type": "stream",
     "text": [
      "Title: When to have exclusivity talk for my situation | UP: 0 - DOWN: 0\n"
     ]
    },
    {
     "data": {
      "text/plain": [
       "[<MoreComments count=0, children=[]>]"
      ]
     },
     "execution_count": 7,
     "metadata": {},
     "output_type": "execute_result"
    },
    {
     "name": "stdout",
     "output_type": "stream",
     "text": [
      "Title: Men of reddit, how would you define “masculine” in you own words? | UP: 0 - DOWN: 0\n"
     ]
    },
    {
     "data": {
      "text/plain": [
       "[]"
      ]
     },
     "execution_count": 7,
     "metadata": {},
     "output_type": "execute_result"
    },
    {
     "name": "stdout",
     "output_type": "stream",
     "text": [
      "Title: Gentlemen, what are your suggestions to new managers? Dos and don’ts? Started my new job yesterday and I would like to set my team up for success. | UP: 39 - DOWN: 0\n"
     ]
    },
    {
     "data": {
      "text/plain": [
       "[]"
      ]
     },
     "execution_count": 7,
     "metadata": {},
     "output_type": "execute_result"
    },
    {
     "name": "stdout",
     "output_type": "stream",
     "text": [
      "Title: What can I do now to prevent or delay erectile dysfunction in my later years? | UP: 1 - DOWN: 0\n"
     ]
    },
    {
     "data": {
      "text/plain": [
       "[]"
      ]
     },
     "execution_count": 7,
     "metadata": {},
     "output_type": "execute_result"
    },
    {
     "name": "stdout",
     "output_type": "stream",
     "text": [
      "Title: What is the best and safest way to get rid of all my pubic hair (22m) | UP: 0 - DOWN: 0\n"
     ]
    },
    {
     "data": {
      "text/plain": [
       "[]"
      ]
     },
     "execution_count": 7,
     "metadata": {},
     "output_type": "execute_result"
    },
    {
     "name": "stdout",
     "output_type": "stream",
     "text": [
      "Title: What is the hardest thing for a man over 45? | UP: 11 - DOWN: 0\n"
     ]
    },
    {
     "data": {
      "text/plain": [
       "[]"
      ]
     },
     "execution_count": 7,
     "metadata": {},
     "output_type": "execute_result"
    },
    {
     "name": "stdout",
     "output_type": "stream",
     "text": [
      "Title: Men in long distance relationship, how’s it going? | UP: 3 - DOWN: 0\n"
     ]
    },
    {
     "data": {
      "text/plain": [
       "[<MoreComments count=4, children=['j732naa']>,\n",
       " <MoreComments count=4, children=['j71rfvp', 'j73llam']>,\n",
       " <MoreComments count=4, children=['j71sa1o', 'j72h2z3']>,\n",
       " <MoreComments count=4, children=['j71x0ei']>,\n",
       " <MoreComments count=4, children=['j73jgcg', 'j73f5py']>,\n",
       " <MoreComments count=4, children=['j74v6b6', 'j723ber', 'j74mi5v', 'j73xpal']>,\n",
       " <MoreComments count=4, children=['j73tcqw', 'j73p1uh', 'j741ki3']>,\n",
       " <MoreComments count=4, children=['j72vdi5', 'j742ziu']>,\n",
       " <MoreComments count=4, children=['j71lvah', 'j71q665']>,\n",
       " <MoreComments count=4, children=['j71o2lo']>,\n",
       " <MoreComments count=4, children=['j735970', 'j73dspp', 'j752rqu', 'j72na7j']>,\n",
       " <MoreComments count=4, children=['j72s6aj', 'j736x19', 'j74yl6m']>,\n",
       " <MoreComments count=4, children=['j77cbqo', 'j74hsrd', 'j73dmpw', 'j75oq3y']>,\n",
       " <MoreComments count=3, children=['j73jz9j']>,\n",
       " <MoreComments count=3, children=['j72aas8', 'j72pfu7']>,\n",
       " <MoreComments count=3, children=['j77hrb3', 'j74ym9j']>,\n",
       " <MoreComments count=3, children=['j72ysjc', 'j71nv8z', 'j7207lr']>,\n",
       " <MoreComments count=3, children=['j71picg']>,\n",
       " <MoreComments count=3, children=['j73i8bm']>,\n",
       " <MoreComments count=3, children=['j71odsp', 'j71timi']>,\n",
       " <MoreComments count=3, children=['j72rau0', 'j73l5to']>,\n",
       " <MoreComments count=3, children=['j742fg8', 'j74msee']>,\n",
       " <MoreComments count=3, children=['j736fsh']>,\n",
       " <MoreComments count=3, children=['j72bxbl', 'j72zzc9']>,\n",
       " <MoreComments count=3, children=['j72jdqq']>,\n",
       " <MoreComments count=3, children=['j73n15m', 'j74gkgr', 'j74pzjp']>,\n",
       " <MoreComments count=3, children=['j764s65', 'j73euqn']>,\n",
       " <MoreComments count=3, children=['j742mdg', 'j77yce3', 'j736zrf']>,\n",
       " <MoreComments count=3, children=['j75u2nb']>,\n",
       " <MoreComments count=3, children=['j736048', 'j73yqvs', 'j75dd0e']>,\n",
       " <MoreComments count=3, children=['j73m35a', 'j71lenq']>,\n",
       " <MoreComments count=3, children=['j71v0sn']>,\n",
       " <MoreComments count=3, children=['j77cifv', 'j72nqfg', 'j72ojt3']>,\n",
       " <MoreComments count=3, children=['j7227qs', 'j72bq5a', 'j73cgfj']>,\n",
       " <MoreComments count=3, children=['j73xrdm', 'j73z5hw']>,\n",
       " <MoreComments count=3, children=['j744m35', 'j73nu1u', 'j75e5ca']>,\n",
       " <MoreComments count=3, children=['j71iibs', 'j71bpob', 'j74ffqc']>,\n",
       " <MoreComments count=3, children=['j73b22q', 'j74i36y']>,\n",
       " <MoreComments count=3, children=['j73q1pm']>,\n",
       " <MoreComments count=2, children=['j75w3g0']>,\n",
       " <MoreComments count=2, children=['j732vtv']>,\n",
       " <MoreComments count=2, children=['j74i7hz', 'j72m1bv']>,\n",
       " <MoreComments count=2, children=['j74b21c', 'j73xgvn']>,\n",
       " <MoreComments count=2, children=['j743d95', 'j71rjmr']>,\n",
       " <MoreComments count=2, children=['j7202ih']>,\n",
       " <MoreComments count=2, children=['j75dx9v', 'j72lp3b']>,\n",
       " <MoreComments count=2, children=['j73xu80']>,\n",
       " <MoreComments count=2, children=['j74y2q5', 'j74iaoe']>,\n",
       " <MoreComments count=2, children=['j73f5zx']>,\n",
       " <MoreComments count=2, children=['j760014', 'j73ubf0']>,\n",
       " <MoreComments count=2, children=['j72omoc']>,\n",
       " <MoreComments count=2, children=['j71o4ab']>,\n",
       " <MoreComments count=2, children=['j74qp0q', 'j74723g']>,\n",
       " <MoreComments count=2, children=['j71s94x']>,\n",
       " <MoreComments count=2, children=['j734yg8', 'j757nqc']>,\n",
       " <MoreComments count=2, children=['j72aiwg', 'j71rnm1']>,\n",
       " <MoreComments count=2, children=['j764s81', 'j766uq3']>,\n",
       " <MoreComments count=2, children=['j755px4', 'j7516lw']>,\n",
       " <MoreComments count=2, children=['j74ev2s']>,\n",
       " <MoreComments count=2, children=['j765w4z']>,\n",
       " <MoreComments count=2, children=['j74e2av']>,\n",
       " <MoreComments count=2, children=['j72t9e9']>,\n",
       " <MoreComments count=2, children=['j75un1e', 'j74f35b']>,\n",
       " <MoreComments count=2, children=['j73np8f']>,\n",
       " <MoreComments count=2, children=['j743i4g', 'j731shd']>,\n",
       " <MoreComments count=2, children=['j74farq']>,\n",
       " <MoreComments count=2, children=['j73t5wm']>,\n",
       " <MoreComments count=2, children=['j73yib0']>,\n",
       " <MoreComments count=2, children=['j72z5xm', 'j749ghw']>,\n",
       " <MoreComments count=2, children=['j75eg13']>,\n",
       " <MoreComments count=2, children=['j73la87']>,\n",
       " <MoreComments count=2, children=['j72a0hk']>,\n",
       " <MoreComments count=2, children=['j735yxy']>,\n",
       " <MoreComments count=2, children=['j745o2l']>,\n",
       " <MoreComments count=2, children=['j735x1s', 'j72helo']>,\n",
       " <MoreComments count=2, children=['j74jvq2', 'j74cghw']>,\n",
       " <MoreComments count=2, children=['j71yu2x', 'j73gvsk']>,\n",
       " <MoreComments count=2, children=['j746qsj', 'j72iw4d']>,\n",
       " <MoreComments count=2, children=['j74j19d']>,\n",
       " <MoreComments count=2, children=['j744vl8']>,\n",
       " <MoreComments count=2, children=['j75vnyw']>,\n",
       " <MoreComments count=2, children=['j753div', 'j74v17r']>,\n",
       " <MoreComments count=2, children=['j74a0d2']>,\n",
       " <MoreComments count=2, children=['j73fff7', 'j73p2ss']>,\n",
       " <MoreComments count=2, children=['j740723', 'j73c6ql']>,\n",
       " <MoreComments count=2, children=['j7533ka', 'j75uua5']>,\n",
       " <MoreComments count=2, children=['j72d5e1', 'j739ebu']>,\n",
       " <MoreComments count=2, children=['j73d3qh', 'j75m9sj']>,\n",
       " <MoreComments count=2, children=['j73ni7d', 'j71mamk']>,\n",
       " <MoreComments count=2, children=['j71wq64']>,\n",
       " <MoreComments count=2, children=['j71zqvq']>,\n",
       " <MoreComments count=2, children=['j72yzmj', 'j73uz6d']>,\n",
       " <MoreComments count=2, children=['j7424b5']>,\n",
       " <MoreComments count=2, children=['j73zrat']>,\n",
       " <MoreComments count=2, children=['j730de1']>,\n",
       " <MoreComments count=2, children=['j728d2y']>,\n",
       " <MoreComments count=2, children=['j71sebo']>,\n",
       " <MoreComments count=1, children=['j73hf0w']>,\n",
       " <MoreComments count=1, children=['j736mrv']>,\n",
       " <MoreComments count=1, children=['j73jwln']>,\n",
       " <MoreComments count=1, children=['j73mc4q']>,\n",
       " <MoreComments count=1, children=['j751a8k']>,\n",
       " <MoreComments count=1, children=['j74gp2p']>,\n",
       " <MoreComments count=1, children=['j72kn4y']>,\n",
       " <MoreComments count=1, children=['j74y715']>,\n",
       " <MoreComments count=1, children=['j79ozx4']>,\n",
       " <MoreComments count=1, children=['j74j0qj']>,\n",
       " <MoreComments count=1, children=['j743dkg']>,\n",
       " <MoreComments count=1, children=['j7421m5']>,\n",
       " <MoreComments count=1, children=['j73ihgw']>,\n",
       " <MoreComments count=1, children=['j72bntc']>,\n",
       " <MoreComments count=1, children=['j71ia9j']>,\n",
       " <MoreComments count=1, children=['j772wn4']>,\n",
       " <MoreComments count=1, children=['j74362b']>,\n",
       " <MoreComments count=1, children=['j77s66r']>,\n",
       " <MoreComments count=1, children=['j77sb4m']>,\n",
       " <MoreComments count=1, children=['j75en79']>,\n",
       " <MoreComments count=1, children=['j74s9jt']>,\n",
       " <MoreComments count=1, children=['j73k1a0']>,\n",
       " <MoreComments count=1, children=['j735pst']>,\n",
       " <MoreComments count=1, children=['j72zivx']>,\n",
       " <MoreComments count=1, children=['j745v51']>,\n",
       " <MoreComments count=1, children=['j77rix5']>,\n",
       " <MoreComments count=1, children=['j71tdxz']>,\n",
       " <MoreComments count=1, children=['j73yfgv']>,\n",
       " <MoreComments count=1, children=['j75obrr']>,\n",
       " <MoreComments count=1, children=['j74p0vs']>,\n",
       " <MoreComments count=1, children=['j745ly0']>,\n",
       " <MoreComments count=1, children=['j727yau']>,\n",
       " <MoreComments count=1, children=['j74aq76']>,\n",
       " <MoreComments count=1, children=['j79p7q7']>,\n",
       " <MoreComments count=1, children=['j736pb7']>,\n",
       " <MoreComments count=1, children=['j73rvf4']>,\n",
       " <MoreComments count=1, children=['j73aecw']>,\n",
       " <MoreComments count=1, children=['j74d7xd']>,\n",
       " <MoreComments count=1, children=['j71jh21']>,\n",
       " <MoreComments count=1, children=['j7541nc']>,\n",
       " <MoreComments count=1, children=['j74n53h']>,\n",
       " <MoreComments count=1, children=['j75wesh']>,\n",
       " <MoreComments count=1, children=['j75ro6z']>,\n",
       " <MoreComments count=1, children=['j73jn9x']>,\n",
       " <MoreComments count=1, children=['j770cq4']>,\n",
       " <MoreComments count=1, children=['j75k7dx']>,\n",
       " <MoreComments count=1, children=['j72vf9h']>,\n",
       " <MoreComments count=1, children=['j749u4y']>,\n",
       " <MoreComments count=1, children=['j763bsh']>,\n",
       " <MoreComments count=1, children=['j73volv']>,\n",
       " <MoreComments count=1, children=['j73gp4k']>,\n",
       " <MoreComments count=1, children=['j75e10v']>,\n",
       " <MoreComments count=1, children=['j73ifzi']>,\n",
       " <MoreComments count=1, children=['j7531w1']>,\n",
       " <MoreComments count=1, children=['j73xtnt']>,\n",
       " <MoreComments count=1, children=['j75e4ld']>,\n",
       " <MoreComments count=1, children=['j73dkti']>,\n",
       " <MoreComments count=1, children=['j752b04']>,\n",
       " <MoreComments count=1, children=['j75k6gb']>,\n",
       " <MoreComments count=1, children=['j73hzyd']>,\n",
       " <MoreComments count=1, children=['j73nq78']>,\n",
       " <MoreComments count=1, children=['j71rqf3']>,\n",
       " <MoreComments count=1, children=['j72whqn']>,\n",
       " <MoreComments count=1, children=['j756yws']>,\n",
       " <MoreComments count=1, children=['j7441ku']>,\n",
       " <MoreComments count=1, children=['j72yjqc']>,\n",
       " <MoreComments count=1, children=['j72xmyt']>,\n",
       " <MoreComments count=1, children=['j73mdiy']>,\n",
       " <MoreComments count=1, children=['j73tnt1']>,\n",
       " <MoreComments count=1, children=['j734pwf']>,\n",
       " <MoreComments count=1, children=['j7579wx']>,\n",
       " <MoreComments count=1, children=['j73busi']>,\n",
       " <MoreComments count=1, children=['j73zi83']>,\n",
       " <MoreComments count=1, children=['j72b81u']>,\n",
       " <MoreComments count=1, children=['j74pdtn']>,\n",
       " <MoreComments count=1, children=['j7aaoeq']>,\n",
       " <MoreComments count=1, children=['j74gwhp']>,\n",
       " <MoreComments count=1, children=['j75z5yj']>,\n",
       " <MoreComments count=1, children=['j75htoj']>,\n",
       " <MoreComments count=1, children=['j758u07']>,\n",
       " <MoreComments count=1, children=['j745z9r']>,\n",
       " <MoreComments count=1, children=['j735u21']>,\n",
       " <MoreComments count=1, children=['j72gvhj']>,\n",
       " <MoreComments count=1, children=['j71ejlm']>,\n",
       " <MoreComments count=1, children=['j73qukv']>,\n",
       " <MoreComments count=1, children=['j71ftdw']>,\n",
       " <MoreComments count=1, children=['j752g8d']>,\n",
       " <MoreComments count=1, children=['j729mna']>,\n",
       " <MoreComments count=1, children=['j75ev8b']>,\n",
       " <MoreComments count=1, children=['j747cr5']>,\n",
       " <MoreComments count=1, children=['j727lsy']>,\n",
       " <MoreComments count=1, children=['j73r1e5']>,\n",
       " <MoreComments count=1, children=['j752k07']>,\n",
       " <MoreComments count=1, children=['j73qqok']>,\n",
       " <MoreComments count=1, children=['j74pm8w']>,\n",
       " <MoreComments count=1, children=['j73qgv2']>,\n",
       " <MoreComments count=1, children=['j73rhn9']>,\n",
       " <MoreComments count=1, children=['j74fyd1']>,\n",
       " <MoreComments count=1, children=['j7451ux']>,\n",
       " <MoreComments count=1, children=['j73nye6']>,\n",
       " <MoreComments count=1, children=['j721zel']>,\n",
       " <MoreComments count=1, children=['j720ooo']>,\n",
       " <MoreComments count=1, children=['j7445yu']>,\n",
       " <MoreComments count=1, children=['j749g5y']>,\n",
       " <MoreComments count=1, children=['j72dkah']>,\n",
       " <MoreComments count=1, children=['j72fde2']>,\n",
       " <MoreComments count=1, children=['j734v37']>,\n",
       " <MoreComments count=1, children=['j735tyy']>,\n",
       " <MoreComments count=1, children=['j737okf']>,\n",
       " <MoreComments count=1, children=['j73nf47']>,\n",
       " <MoreComments count=1, children=['j76307g']>,\n",
       " <MoreComments count=1, children=['j742nm2']>,\n",
       " <MoreComments count=1, children=['j75nbos']>,\n",
       " <MoreComments count=1, children=['j73qwuc']>,\n",
       " <MoreComments count=1, children=['j74hslf']>,\n",
       " <MoreComments count=1, children=['j72raj0']>,\n",
       " <MoreComments count=1, children=['j74n84v']>,\n",
       " <MoreComments count=1, children=['j726097']>,\n",
       " <MoreComments count=1, children=['j7324b6']>,\n",
       " <MoreComments count=1, children=['j71wbl3']>,\n",
       " <MoreComments count=0, children=[]>,\n",
       " <MoreComments count=0, children=[]>,\n",
       " <MoreComments count=0, children=[]>,\n",
       " <MoreComments count=0, children=[]>]"
      ]
     },
     "execution_count": 7,
     "metadata": {},
     "output_type": "execute_result"
    },
    {
     "name": "stdout",
     "output_type": "stream",
     "text": [
      "Title: Let's pretend each country in the world is a guest at a party. What are they doing at the party? | UP: 2893 - DOWN: 0\n"
     ]
    },
    {
     "data": {
      "text/plain": [
       "[]"
      ]
     },
     "execution_count": 7,
     "metadata": {},
     "output_type": "execute_result"
    },
    {
     "name": "stdout",
     "output_type": "stream",
     "text": [
      "Title: People often say that physical intimacy isn't worth the wait (say, 3+ months for example) in a relationship. Those of you who have waited for her- what was it that made you wait? | UP: 2 - DOWN: 0\n"
     ]
    },
    {
     "data": {
      "text/plain": [
       "[]"
      ]
     },
     "execution_count": 7,
     "metadata": {},
     "output_type": "execute_result"
    },
    {
     "name": "stdout",
     "output_type": "stream",
     "text": [
      "Title: As a man navigating the dating scene, what are somethings that reveal that a person/ your SO is insecure? | UP: 0 - DOWN: 0\n"
     ]
    },
    {
     "data": {
      "text/plain": [
       "[]"
      ]
     },
     "execution_count": 7,
     "metadata": {},
     "output_type": "execute_result"
    },
    {
     "name": "stdout",
     "output_type": "stream",
     "text": [
      "Title: What is your oddball hobby? | UP: 30 - DOWN: 0\n"
     ]
    },
    {
     "data": {
      "text/plain": [
       "[]"
      ]
     },
     "execution_count": 7,
     "metadata": {},
     "output_type": "execute_result"
    },
    {
     "name": "stdout",
     "output_type": "stream",
     "text": [
      "Title: My best friend’s wife and I don’t get along and it’s ruining our life-long friendship. What advice do you have for navigating friendships when that friend’s SO is awful? | UP: 54 - DOWN: 0\n"
     ]
    },
    {
     "data": {
      "text/plain": [
       "[]"
      ]
     },
     "execution_count": 7,
     "metadata": {},
     "output_type": "execute_result"
    },
    {
     "name": "stdout",
     "output_type": "stream",
     "text": [
      "Title: If the remains of the Chinese spy balloon fell onto your boat while you were out deep sea fishing what would you do with it? | UP: 1 - DOWN: 0\n"
     ]
    },
    {
     "data": {
      "text/plain": [
       "[]"
      ]
     },
     "execution_count": 7,
     "metadata": {},
     "output_type": "execute_result"
    },
    {
     "name": "stdout",
     "output_type": "stream",
     "text": [
      "Title: Why wouldn't you want to be friends with someone you developed feelings for anymore? | UP: 0 - DOWN: 0\n"
     ]
    },
    {
     "data": {
      "text/plain": [
       "[]"
      ]
     },
     "execution_count": 7,
     "metadata": {},
     "output_type": "execute_result"
    },
    {
     "name": "stdout",
     "output_type": "stream",
     "text": [
      "Title: Did you have friends or siblings that abuse their partners? Did you intervene and how? | UP: 0 - DOWN: 0\n"
     ]
    },
    {
     "data": {
      "text/plain": [
       "[]"
      ]
     },
     "execution_count": 7,
     "metadata": {},
     "output_type": "execute_result"
    },
    {
     "name": "stdout",
     "output_type": "stream",
     "text": [
      "Title: We all know date we are born and the date we die, but when does our TRUE life begins? | UP: 0 - DOWN: 0\n"
     ]
    },
    {
     "data": {
      "text/plain": [
       "[]"
      ]
     },
     "execution_count": 7,
     "metadata": {},
     "output_type": "execute_result"
    },
    {
     "name": "stdout",
     "output_type": "stream",
     "text": [
      "Title: If you had to put 3 songs from the 20th century into a time capsule, what would the future be listening to? | UP: 2 - DOWN: 0\n"
     ]
    },
    {
     "data": {
      "text/plain": [
       "[]"
      ]
     },
     "execution_count": 7,
     "metadata": {},
     "output_type": "execute_result"
    },
    {
     "name": "stdout",
     "output_type": "stream",
     "text": [
      "Title: If you could have it both ways in one area of your life, what would it be? | UP: 3 - DOWN: 0\n"
     ]
    },
    {
     "data": {
      "text/plain": [
       "[<MoreComments count=4, children=['j73bso7']>,\n",
       " <MoreComments count=3, children=['j792781']>,\n",
       " <MoreComments count=2, children=['j76cu92']>,\n",
       " <MoreComments count=1, children=['j74eoq7']>,\n",
       " <MoreComments count=1, children=['j73ayas']>,\n",
       " <MoreComments count=1, children=['j74gwdh']>,\n",
       " <MoreComments count=1, children=['j742x9t']>,\n",
       " <MoreComments count=1, children=['j72xolh']>,\n",
       " <MoreComments count=0, children=[]>,\n",
       " <MoreComments count=0, children=[]>]"
      ]
     },
     "execution_count": 7,
     "metadata": {},
     "output_type": "execute_result"
    },
    {
     "name": "stdout",
     "output_type": "stream",
     "text": [
      "Title: How do I get my significant other to start exercising, and care about how she looks? | UP: 425 - DOWN: 0\n"
     ]
    },
    {
     "data": {
      "text/plain": [
       "[]"
      ]
     },
     "execution_count": 7,
     "metadata": {},
     "output_type": "execute_result"
    },
    {
     "name": "stdout",
     "output_type": "stream",
     "text": [
      "Title: What kind of weather do you literally avoid going on dates on and why? | UP: 0 - DOWN: 0\n"
     ]
    },
    {
     "data": {
      "text/plain": [
       "[]"
      ]
     },
     "execution_count": 7,
     "metadata": {},
     "output_type": "execute_result"
    },
    {
     "name": "stdout",
     "output_type": "stream",
     "text": [
      "Title: What’s the dumbest thing that you’ve done in front of your parents? | UP: 0 - DOWN: 0\n"
     ]
    },
    {
     "data": {
      "text/plain": [
       "[]"
      ]
     },
     "execution_count": 7,
     "metadata": {},
     "output_type": "execute_result"
    },
    {
     "name": "stdout",
     "output_type": "stream",
     "text": [
      "Title: What’s your belief? Simulation, god, big bang…or what? | UP: 6 - DOWN: 0\n"
     ]
    },
    {
     "data": {
      "text/plain": [
       "[]"
      ]
     },
     "execution_count": 7,
     "metadata": {},
     "output_type": "execute_result"
    },
    {
     "name": "stdout",
     "output_type": "stream",
     "text": [
      "Title: Men even growing up and your parents forbid you try do normal socializing activities like your classmates, how did that affect you in life and your relationship with your parents? | UP: 0 - DOWN: 0\n"
     ]
    },
    {
     "data": {
      "text/plain": [
       "[]"
      ]
     },
     "execution_count": 7,
     "metadata": {},
     "output_type": "execute_result"
    },
    {
     "name": "stdout",
     "output_type": "stream",
     "text": [
      "Title: What's a self-care activity that helps you day to day that other people could use? | UP: 6 - DOWN: 0\n"
     ]
    },
    {
     "data": {
      "text/plain": [
       "[]"
      ]
     },
     "execution_count": 7,
     "metadata": {},
     "output_type": "execute_result"
    },
    {
     "name": "stdout",
     "output_type": "stream",
     "text": [
      "Title: How can I stop being homesick after moving away from my friends and family? | UP: 0 - DOWN: 0\n"
     ]
    },
    {
     "data": {
      "text/plain": [
       "[]"
      ]
     },
     "execution_count": 7,
     "metadata": {},
     "output_type": "execute_result"
    },
    {
     "name": "stdout",
     "output_type": "stream",
     "text": [
      "Title: Where is one place you'd love to travel to again? | UP: 12 - DOWN: 0\n"
     ]
    },
    {
     "data": {
      "text/plain": [
       "[]"
      ]
     },
     "execution_count": 7,
     "metadata": {},
     "output_type": "execute_result"
    },
    {
     "name": "stdout",
     "output_type": "stream",
     "text": [
      "Title: What will always make you smile/laugh? | UP: 7 - DOWN: 0\n"
     ]
    },
    {
     "data": {
      "text/plain": [
       "[]"
      ]
     },
     "execution_count": 7,
     "metadata": {},
     "output_type": "execute_result"
    },
    {
     "name": "stdout",
     "output_type": "stream",
     "text": [
      "Title: What can I put in my bathroom for my guy friends who come around? | UP: 68 - DOWN: 0\n"
     ]
    },
    {
     "data": {
      "text/plain": [
       "[]"
      ]
     },
     "execution_count": 7,
     "metadata": {},
     "output_type": "execute_result"
    },
    {
     "name": "stdout",
     "output_type": "stream",
     "text": [
      "Title: What time do you start your Saturday night? | UP: 0 - DOWN: 0\n"
     ]
    },
    {
     "data": {
      "text/plain": [
       "[]"
      ]
     },
     "execution_count": 7,
     "metadata": {},
     "output_type": "execute_result"
    },
    {
     "name": "stdout",
     "output_type": "stream",
     "text": [
      "Title: Men, what were some of your weirdest New Year's resolutions and did you achieve them? | UP: 4 - DOWN: 0\n"
     ]
    },
    {
     "data": {
      "text/plain": [
       "[]"
      ]
     },
     "execution_count": 7,
     "metadata": {},
     "output_type": "execute_result"
    },
    {
     "name": "stdout",
     "output_type": "stream",
     "text": [
      "Title: As a father, how do you deal with the financial burden that comes with being the breadwinner? (UK) | UP: 4 - DOWN: 0\n"
     ]
    },
    {
     "data": {
      "text/plain": [
       "[]"
      ]
     },
     "execution_count": 7,
     "metadata": {},
     "output_type": "execute_result"
    },
    {
     "name": "stdout",
     "output_type": "stream",
     "text": [
      "Title: What is your pettiest deal breaker in a romantic relationship? | UP: 2 - DOWN: 0\n"
     ]
    },
    {
     "data": {
      "text/plain": [
       "[]"
      ]
     },
     "execution_count": 7,
     "metadata": {},
     "output_type": "execute_result"
    },
    {
     "name": "stdout",
     "output_type": "stream",
     "text": [
      "Title: How would you like to be told your partner is pregnant? Assuming this is something you want/were looking forward to. | UP: 10 - DOWN: 0\n"
     ]
    },
    {
     "data": {
      "text/plain": [
       "[]"
      ]
     },
     "execution_count": 7,
     "metadata": {},
     "output_type": "execute_result"
    },
    {
     "name": "stdout",
     "output_type": "stream",
     "text": [
      "Title: How many serious relationships before you found \"the one\"? | UP: 4 - DOWN: 0\n"
     ]
    },
    {
     "data": {
      "text/plain": [
       "[]"
      ]
     },
     "execution_count": 7,
     "metadata": {},
     "output_type": "execute_result"
    },
    {
     "name": "stdout",
     "output_type": "stream",
     "text": [
      "Title: What are some real-life examples of the saying 'it's lonely at the top' in the context of having money and power? Have you or anyone you know experienced feelings of loneliness despite having these advantages? How did you or they cope with it? | UP: 3 - DOWN: 0\n"
     ]
    },
    {
     "data": {
      "text/plain": [
       "[]"
      ]
     },
     "execution_count": 7,
     "metadata": {},
     "output_type": "execute_result"
    },
    {
     "name": "stdout",
     "output_type": "stream",
     "text": [
      "Title: How do you overcome loneliness as an adult man? | UP: 103 - DOWN: 0\n"
     ]
    },
    {
     "data": {
      "text/plain": [
       "[]"
      ]
     },
     "execution_count": 7,
     "metadata": {},
     "output_type": "execute_result"
    },
    {
     "name": "stdout",
     "output_type": "stream",
     "text": [
      "Title: (NSFW) When's the hardest you've ever seen your parents laugh? | UP: 1 - DOWN: 0\n"
     ]
    },
    {
     "data": {
      "text/plain": [
       "[]"
      ]
     },
     "execution_count": 7,
     "metadata": {},
     "output_type": "execute_result"
    },
    {
     "name": "stdout",
     "output_type": "stream",
     "text": [
      "Title: What’s your opinion on the quote “your poor planning does not constitute an emergency for me.”? | UP: 121 - DOWN: 0\n"
     ]
    },
    {
     "data": {
      "text/plain": [
       "[]"
      ]
     },
     "execution_count": 7,
     "metadata": {},
     "output_type": "execute_result"
    },
    {
     "name": "stdout",
     "output_type": "stream",
     "text": [
      "Title: Anything in the world, what’s the one thing you could go for right now. | UP: 2 - DOWN: 0\n"
     ]
    },
    {
     "data": {
      "text/plain": [
       "[]"
      ]
     },
     "execution_count": 7,
     "metadata": {},
     "output_type": "execute_result"
    },
    {
     "name": "stdout",
     "output_type": "stream",
     "text": [
      "Title: Why so glum, chum? | UP: 0 - DOWN: 0\n"
     ]
    },
    {
     "data": {
      "text/plain": [
       "[]"
      ]
     },
     "execution_count": 7,
     "metadata": {},
     "output_type": "execute_result"
    },
    {
     "name": "stdout",
     "output_type": "stream",
     "text": [
      "Title: What little stupid things you do that you didn't tell anyone about ? | UP: 2 - DOWN: 0\n"
     ]
    },
    {
     "data": {
      "text/plain": [
       "[]"
      ]
     },
     "execution_count": 7,
     "metadata": {},
     "output_type": "execute_result"
    },
    {
     "name": "stdout",
     "output_type": "stream",
     "text": [
      "Title: Men who lost their greatest love, what made you find someone new ? | UP: 5 - DOWN: 0\n"
     ]
    },
    {
     "data": {
      "text/plain": [
       "[]"
      ]
     },
     "execution_count": 7,
     "metadata": {},
     "output_type": "execute_result"
    },
    {
     "name": "stdout",
     "output_type": "stream",
     "text": [
      "Title: How did you make your SO angry at you today? | UP: 0 - DOWN: 0\n"
     ]
    },
    {
     "data": {
      "text/plain": [
       "[]"
      ]
     },
     "execution_count": 7,
     "metadata": {},
     "output_type": "execute_result"
    },
    {
     "name": "stdout",
     "output_type": "stream",
     "text": [
      "Title: What has been your experience on finasteride whether it be positive or negative? | UP: 1 - DOWN: 0\n"
     ]
    },
    {
     "data": {
      "text/plain": [
       "[]"
      ]
     },
     "execution_count": 7,
     "metadata": {},
     "output_type": "execute_result"
    },
    {
     "name": "stdout",
     "output_type": "stream",
     "text": [
      "Title: You go on a date with a girl and it's going great. After a while, she changes the topic and starts passionately talking about how every copy of Mario 64 is personalized. She even takes out a sketchbook and shows you her drawings of her Personalized Mario. What do you do? | UP: 29 - DOWN: 0\n"
     ]
    },
    {
     "data": {
      "text/plain": [
       "[]"
      ]
     },
     "execution_count": 7,
     "metadata": {},
     "output_type": "execute_result"
    },
    {
     "name": "stdout",
     "output_type": "stream",
     "text": [
      "Title: What’s something nice I can say in your language? I’m a solar salesman and run into people from all over the world, I’d like to be able to be nice to them in their language. | UP: 3 - DOWN: 0\n"
     ]
    },
    {
     "data": {
      "text/plain": [
       "[]"
      ]
     },
     "execution_count": 7,
     "metadata": {},
     "output_type": "execute_result"
    },
    {
     "name": "stdout",
     "output_type": "stream",
     "text": [
      "Title: If you had the chance to be the king, which country would you rule? | UP: 0 - DOWN: 0\n"
     ]
    },
    {
     "data": {
      "text/plain": [
       "[]"
      ]
     },
     "execution_count": 7,
     "metadata": {},
     "output_type": "execute_result"
    },
    {
     "name": "stdout",
     "output_type": "stream",
     "text": [
      "Title: How can I change the oil in my car without a jack? | UP: 0 - DOWN: 0\n"
     ]
    },
    {
     "data": {
      "text/plain": [
       "[]"
      ]
     },
     "execution_count": 7,
     "metadata": {},
     "output_type": "execute_result"
    },
    {
     "name": "stdout",
     "output_type": "stream",
     "text": [
      "Title: Men, how do you take care of your nails - Do you clip them or pick them? | UP: 0 - DOWN: 0\n"
     ]
    },
    {
     "data": {
      "text/plain": [
       "[]"
      ]
     },
     "execution_count": 7,
     "metadata": {},
     "output_type": "execute_result"
    },
    {
     "name": "stdout",
     "output_type": "stream",
     "text": [
      "Title: When was a time you acted nonchalant but were going crazy inside? | UP: 0 - DOWN: 0\n"
     ]
    },
    {
     "data": {
      "text/plain": [
       "[]"
      ]
     },
     "execution_count": 7,
     "metadata": {},
     "output_type": "execute_result"
    },
    {
     "name": "stdout",
     "output_type": "stream",
     "text": [
      "Title: What does happiness mean to you? | UP: 0 - DOWN: 0\n"
     ]
    },
    {
     "data": {
      "text/plain": [
       "[]"
      ]
     },
     "execution_count": 7,
     "metadata": {},
     "output_type": "execute_result"
    },
    {
     "name": "stdout",
     "output_type": "stream",
     "text": [
      "Title: What are subtle signs that a person is genuinely nice? | UP: 32 - DOWN: 0\n"
     ]
    },
    {
     "data": {
      "text/plain": [
       "[]"
      ]
     },
     "execution_count": 7,
     "metadata": {},
     "output_type": "execute_result"
    },
    {
     "name": "stdout",
     "output_type": "stream",
     "text": [
      "Title: Men of Reddit, what your r/nosleep stories involving scary women that actually happened? | UP: 4 - DOWN: 0\n"
     ]
    },
    {
     "data": {
      "text/plain": [
       "[]"
      ]
     },
     "execution_count": 7,
     "metadata": {},
     "output_type": "execute_result"
    },
    {
     "name": "stdout",
     "output_type": "stream",
     "text": [
      "Title: Which High-End Brand of Jeans Would You Recommend That Look Great? | UP: 1 - DOWN: 0\n"
     ]
    },
    {
     "data": {
      "text/plain": [
       "[]"
      ]
     },
     "execution_count": 7,
     "metadata": {},
     "output_type": "execute_result"
    },
    {
     "name": "stdout",
     "output_type": "stream",
     "text": [
      "Title: Thoughts on men rimming and why? | UP: 0 - DOWN: 0\n"
     ]
    },
    {
     "data": {
      "text/plain": [
       "[]"
      ]
     },
     "execution_count": 7,
     "metadata": {},
     "output_type": "execute_result"
    },
    {
     "name": "stdout",
     "output_type": "stream",
     "text": [
      "Title: Men of Reddit, what is one quality about yourself that you consider to be a flaw? | UP: 2 - DOWN: 0\n"
     ]
    },
    {
     "data": {
      "text/plain": [
       "[]"
      ]
     },
     "execution_count": 7,
     "metadata": {},
     "output_type": "execute_result"
    },
    {
     "name": "stdout",
     "output_type": "stream",
     "text": [
      "Title: What’s the most terrifying part about being a dad? Or man who fills that role for someone? | UP: 83 - DOWN: 0\n"
     ]
    },
    {
     "data": {
      "text/plain": [
       "[]"
      ]
     },
     "execution_count": 7,
     "metadata": {},
     "output_type": "execute_result"
    },
    {
     "name": "stdout",
     "output_type": "stream",
     "text": [
      "Title: What's your best \"British people be like \" ? | UP: 0 - DOWN: 0\n"
     ]
    },
    {
     "data": {
      "text/plain": [
       "[]"
      ]
     },
     "execution_count": 7,
     "metadata": {},
     "output_type": "execute_result"
    },
    {
     "name": "stdout",
     "output_type": "stream",
     "text": [
      "Title: Those of you who were unsuccessful at getting laid for a very long time, what were the changes you made or things you did differently to finally make it happen? | UP: 25 - DOWN: 0\n"
     ]
    },
    {
     "data": {
      "text/plain": [
       "[]"
      ]
     },
     "execution_count": 7,
     "metadata": {},
     "output_type": "execute_result"
    },
    {
     "name": "stdout",
     "output_type": "stream",
     "text": [
      "Title: You're getting married tomorrow, who's your Best Man and why? | UP: 0 - DOWN: 0\n"
     ]
    },
    {
     "data": {
      "text/plain": [
       "[]"
      ]
     },
     "execution_count": 7,
     "metadata": {},
     "output_type": "execute_result"
    },
    {
     "name": "stdout",
     "output_type": "stream",
     "text": [
      "Title: bachelor pad tips, to all the single gents what are things you do/have that makes your place pop for the ladies. | UP: 82 - DOWN: 0\n"
     ]
    },
    {
     "data": {
      "text/plain": [
       "[]"
      ]
     },
     "execution_count": 7,
     "metadata": {},
     "output_type": "execute_result"
    },
    {
     "name": "stdout",
     "output_type": "stream",
     "text": [
      "Title: whats your reasonable dream car. | UP: 3 - DOWN: 0\n"
     ]
    },
    {
     "data": {
      "text/plain": [
       "[<MoreComments count=0, children=[]>,\n",
       " <MoreComments count=0, children=[]>,\n",
       " <MoreComments count=0, children=[]>,\n",
       " <MoreComments count=0, children=[]>,\n",
       " <MoreComments count=0, children=[]>,\n",
       " <MoreComments count=0, children=[]>]"
      ]
     },
     "execution_count": 7,
     "metadata": {},
     "output_type": "execute_result"
    },
    {
     "name": "stdout",
     "output_type": "stream",
     "text": [
      "Title: What's something women do that looks fun to you? | UP: 221 - DOWN: 0\n"
     ]
    },
    {
     "data": {
      "text/plain": [
       "[]"
      ]
     },
     "execution_count": 7,
     "metadata": {},
     "output_type": "execute_result"
    },
    {
     "name": "stdout",
     "output_type": "stream",
     "text": [
      "Title: What female name from your experience is almost always on a beautiful woman? | UP: 19 - DOWN: 0\n"
     ]
    },
    {
     "data": {
      "text/plain": [
       "[]"
      ]
     },
     "execution_count": 7,
     "metadata": {},
     "output_type": "execute_result"
    },
    {
     "name": "stdout",
     "output_type": "stream",
     "text": [
      "Title: how soon is too soon to start talking about political views when you first start dating someome? | UP: 44 - DOWN: 0\n"
     ]
    },
    {
     "data": {
      "text/plain": [
       "[]"
      ]
     },
     "execution_count": 7,
     "metadata": {},
     "output_type": "execute_result"
    },
    {
     "name": "stdout",
     "output_type": "stream",
     "text": [
      "Title: What's the weirdest dream you've had? | UP: 0 - DOWN: 0\n"
     ]
    },
    {
     "data": {
      "text/plain": [
       "[]"
      ]
     },
     "execution_count": 7,
     "metadata": {},
     "output_type": "execute_result"
    },
    {
     "name": "stdout",
     "output_type": "stream",
     "text": [
      "Title: how did you guys get the courage to put yourself on dating apps for the first time? | UP: 0 - DOWN: 0\n"
     ]
    },
    {
     "data": {
      "text/plain": [
       "[]"
      ]
     },
     "execution_count": 7,
     "metadata": {},
     "output_type": "execute_result"
    },
    {
     "name": "stdout",
     "output_type": "stream",
     "text": [
      "Title: How do you remove unibrow? | UP: 0 - DOWN: 0\n"
     ]
    },
    {
     "data": {
      "text/plain": [
       "[]"
      ]
     },
     "execution_count": 7,
     "metadata": {},
     "output_type": "execute_result"
    },
    {
     "name": "stdout",
     "output_type": "stream",
     "text": [
      "Title: To those above 20s, what's does your search history look like compared to your teen years? | UP: 0 - DOWN: 0\n"
     ]
    },
    {
     "data": {
      "text/plain": [
       "[]"
      ]
     },
     "execution_count": 7,
     "metadata": {},
     "output_type": "execute_result"
    },
    {
     "name": "stdout",
     "output_type": "stream",
     "text": [
      "Title: How to re attract a girl who showed high interest but now after over pursuing she is distant and cold? | UP: 0 - DOWN: 0\n"
     ]
    },
    {
     "data": {
      "text/plain": [
       "[]"
      ]
     },
     "execution_count": 7,
     "metadata": {},
     "output_type": "execute_result"
    },
    {
     "name": "stdout",
     "output_type": "stream",
     "text": [
      "Title: What’s your opinion of pouring hot sauce in ketchup to make spicy ketchup instead of just buying a bottle of spicy ketchup? | UP: 6 - DOWN: 0\n"
     ]
    },
    {
     "data": {
      "text/plain": [
       "[]"
      ]
     },
     "execution_count": 7,
     "metadata": {},
     "output_type": "execute_result"
    },
    {
     "name": "stdout",
     "output_type": "stream",
     "text": [
      "Title: Hey Redditors, it’s the weekend, what do you suggest? | UP: 5 - DOWN: 0\n"
     ]
    },
    {
     "data": {
      "text/plain": [
       "[]"
      ]
     },
     "execution_count": 7,
     "metadata": {},
     "output_type": "execute_result"
    },
    {
     "name": "stdout",
     "output_type": "stream",
     "text": [
      "Title: a recent post asked about good management. in the flip, how do you identify bad management and how do you conduct yourself towards them to enact change? or can you? | UP: 0 - DOWN: 0\n"
     ]
    },
    {
     "data": {
      "text/plain": [
       "[]"
      ]
     },
     "execution_count": 7,
     "metadata": {},
     "output_type": "execute_result"
    },
    {
     "name": "stdout",
     "output_type": "stream",
     "text": [
      "Title: how do you stop \"taking things too seriously\" | UP: 3 - DOWN: 0\n"
     ]
    },
    {
     "data": {
      "text/plain": [
       "[]"
      ]
     },
     "execution_count": 7,
     "metadata": {},
     "output_type": "execute_result"
    },
    {
     "name": "stdout",
     "output_type": "stream",
     "text": [
      "Title: What's an stereotype about men that's not completely true but it's not completely false eiher? | UP: 0 - DOWN: 0\n"
     ]
    },
    {
     "data": {
      "text/plain": [
       "[]"
      ]
     },
     "execution_count": 7,
     "metadata": {},
     "output_type": "execute_result"
    },
    {
     "name": "stdout",
     "output_type": "stream",
     "text": [
      "Title: How important is couch time in your daily life? | UP: 3 - DOWN: 0\n"
     ]
    },
    {
     "data": {
      "text/plain": [
       "[]"
      ]
     },
     "execution_count": 7,
     "metadata": {},
     "output_type": "execute_result"
    },
    {
     "name": "stdout",
     "output_type": "stream",
     "text": [
      "Title: You're at the urinal, guy stands next to you to pee, he looks at your package, what's your next move? | UP: 23 - DOWN: 0\n"
     ]
    },
    {
     "data": {
      "text/plain": [
       "[]"
      ]
     },
     "execution_count": 7,
     "metadata": {},
     "output_type": "execute_result"
    },
    {
     "name": "stdout",
     "output_type": "stream",
     "text": [
      "Title: What's the most extreme reaction to attempted flirting/conversation starting you've ever witnessed? | UP: 7 - DOWN: 0\n"
     ]
    },
    {
     "data": {
      "text/plain": [
       "[]"
      ]
     },
     "execution_count": 7,
     "metadata": {},
     "output_type": "execute_result"
    },
    {
     "name": "stdout",
     "output_type": "stream",
     "text": [
      "Title: What kind of signals do men give when they’re uninterested or trying to cut a conversation short? | UP: 6 - DOWN: 0\n"
     ]
    },
    {
     "data": {
      "text/plain": [
       "[]"
      ]
     },
     "execution_count": 7,
     "metadata": {},
     "output_type": "execute_result"
    },
    {
     "name": "stdout",
     "output_type": "stream",
     "text": [
      "Title: How common is it for men to unenthusiastically agree to having a child? | UP: 75 - DOWN: 0\n"
     ]
    },
    {
     "data": {
      "text/plain": [
       "[<MoreComments count=4, children=['j72h9nb']>,\n",
       " <MoreComments count=4, children=['j7173rc']>,\n",
       " <MoreComments count=4, children=['j7263iz', 'j72kuae']>,\n",
       " <MoreComments count=4, children=['j72q170']>,\n",
       " <MoreComments count=4, children=['j70y49w']>,\n",
       " <MoreComments count=3, children=['j71p93y', 'j6z12mv']>,\n",
       " <MoreComments count=3, children=['j769n6m', 'j76u2is', 'j7aj5y6']>,\n",
       " <MoreComments count=3, children=['j6zdtg4']>,\n",
       " <MoreComments count=3, children=['j6zdae3']>,\n",
       " <MoreComments count=3, children=['j72zsuz']>,\n",
       " <MoreComments count=3, children=['j703z7d', 'j707kdu', 'j6z47ld']>,\n",
       " <MoreComments count=3, children=['j6z5vyo', 'j70r3p1']>,\n",
       " <MoreComments count=3, children=['j70wr85', 'j6zdx65']>,\n",
       " <MoreComments count=3, children=['j6zowym']>,\n",
       " <MoreComments count=3, children=['j6zk1bw']>,\n",
       " <MoreComments count=3, children=['j71idve', 'j72lk90']>,\n",
       " <MoreComments count=3, children=['j72qcop']>,\n",
       " <MoreComments count=3, children=['j70y1kg', 'j71d77f', 'j723skn']>,\n",
       " <MoreComments count=3, children=['j6z3nom']>,\n",
       " <MoreComments count=3, children=['j72c4g1', 'j6zcu6s', 'j702uwn']>,\n",
       " <MoreComments count=3, children=['j71bw49', 'j71gmfx', 'j71fvsf']>,\n",
       " <MoreComments count=2, children=['j71gwca']>,\n",
       " <MoreComments count=2, children=['j70iclh']>,\n",
       " <MoreComments count=2, children=['j6zqfo4']>,\n",
       " <MoreComments count=2, children=['j7368hc']>,\n",
       " <MoreComments count=2, children=['j71kz3s']>,\n",
       " <MoreComments count=2, children=['j6zcc56']>,\n",
       " <MoreComments count=2, children=['j6z612y']>,\n",
       " <MoreComments count=2, children=['j740wlk']>,\n",
       " <MoreComments count=2, children=['j6z2r1k']>,\n",
       " <MoreComments count=2, children=['j6zoqed']>,\n",
       " <MoreComments count=2, children=['j70y5rh']>,\n",
       " <MoreComments count=2, children=['j75l302']>,\n",
       " <MoreComments count=2, children=['j70g37d', 'j724e9w']>,\n",
       " <MoreComments count=2, children=['j78itiz']>,\n",
       " <MoreComments count=2, children=['j725zge']>,\n",
       " <MoreComments count=2, children=['j71p2re']>,\n",
       " <MoreComments count=2, children=['j72mhv1']>,\n",
       " <MoreComments count=2, children=['j73bnyl']>,\n",
       " <MoreComments count=2, children=['j74rbbs']>,\n",
       " <MoreComments count=2, children=['j6zoksf']>,\n",
       " <MoreComments count=2, children=['j74w8q1', 'j74wljb']>,\n",
       " <MoreComments count=2, children=['j71fedz']>,\n",
       " <MoreComments count=2, children=['j70jfyx']>,\n",
       " <MoreComments count=2, children=['j6z5r2p', 'j6ziqxz']>,\n",
       " <MoreComments count=2, children=['j7016hv', 'j7240ct']>,\n",
       " <MoreComments count=2, children=['j6z847f', 'j70ig2c']>,\n",
       " <MoreComments count=2, children=['j72snou', 'j70r76m']>,\n",
       " <MoreComments count=2, children=['j70sk6g', 'j70xcu7']>,\n",
       " <MoreComments count=2, children=['j70optj']>,\n",
       " <MoreComments count=1, children=['j7a71kp']>,\n",
       " <MoreComments count=1, children=['j70ofkq']>,\n",
       " <MoreComments count=1, children=['j6zula4']>,\n",
       " <MoreComments count=1, children=['j72emig']>,\n",
       " <MoreComments count=1, children=['j720e48']>,\n",
       " <MoreComments count=1, children=['j6zodtv']>,\n",
       " <MoreComments count=1, children=['j72j7g0']>,\n",
       " <MoreComments count=1, children=['j77ejgf']>,\n",
       " <MoreComments count=1, children=['j74rpmd']>,\n",
       " <MoreComments count=1, children=['j71b8xj']>,\n",
       " <MoreComments count=1, children=['j70omf3']>,\n",
       " <MoreComments count=1, children=['j722x2i']>,\n",
       " <MoreComments count=1, children=['j6zbap0']>,\n",
       " <MoreComments count=1, children=['j70abiy']>,\n",
       " <MoreComments count=1, children=['j7cguhl']>,\n",
       " <MoreComments count=1, children=['j73mxo7']>,\n",
       " <MoreComments count=1, children=['j70pgpj']>,\n",
       " <MoreComments count=1, children=['j70067u']>,\n",
       " <MoreComments count=1, children=['j73jhav']>,\n",
       " <MoreComments count=1, children=['j711wl0']>,\n",
       " <MoreComments count=1, children=['j72zwpi']>,\n",
       " <MoreComments count=1, children=['j71rrhh']>,\n",
       " <MoreComments count=1, children=['j6zg4c2']>,\n",
       " <MoreComments count=1, children=['j71hfnv']>,\n",
       " <MoreComments count=1, children=['j70s0bw']>,\n",
       " <MoreComments count=1, children=['j72xwj2']>,\n",
       " <MoreComments count=1, children=['j72a8uo']>,\n",
       " <MoreComments count=1, children=['j71jqzc']>,\n",
       " <MoreComments count=1, children=['j73ejfp']>,\n",
       " <MoreComments count=1, children=['j6zp5g8']>,\n",
       " <MoreComments count=1, children=['j723d0u']>,\n",
       " <MoreComments count=1, children=['j73ipm4']>,\n",
       " <MoreComments count=1, children=['j717zi8']>,\n",
       " <MoreComments count=1, children=['j70c5fq']>,\n",
       " <MoreComments count=1, children=['j6z73xm']>,\n",
       " <MoreComments count=1, children=['j70202h']>,\n",
       " <MoreComments count=1, children=['j6zyo68']>,\n",
       " <MoreComments count=1, children=['j6zw0d7']>,\n",
       " <MoreComments count=1, children=['j6zkzbc']>,\n",
       " <MoreComments count=1, children=['j73t30a']>,\n",
       " <MoreComments count=1, children=['j72mb1g']>,\n",
       " <MoreComments count=1, children=['j725ac4']>,\n",
       " <MoreComments count=1, children=['j744sv9']>,\n",
       " <MoreComments count=1, children=['j6z8iaq']>,\n",
       " <MoreComments count=1, children=['j6zdg2n']>,\n",
       " <MoreComments count=1, children=['j723itg']>,\n",
       " <MoreComments count=1, children=['j7523lu']>,\n",
       " <MoreComments count=1, children=['j71xlaq']>,\n",
       " <MoreComments count=1, children=['j6zxg5y']>,\n",
       " <MoreComments count=1, children=['j7212t6']>,\n",
       " <MoreComments count=1, children=['j7147ul']>,\n",
       " <MoreComments count=1, children=['j757j1o']>,\n",
       " <MoreComments count=1, children=['j7e73u8']>,\n",
       " <MoreComments count=1, children=['j6zrzp6']>,\n",
       " <MoreComments count=1, children=['j6z5oj2']>,\n",
       " <MoreComments count=1, children=['j6zjq8r']>,\n",
       " <MoreComments count=1, children=['j71asoz']>,\n",
       " <MoreComments count=0, children=[]>]"
      ]
     },
     "execution_count": 7,
     "metadata": {},
     "output_type": "execute_result"
    },
    {
     "name": "stdout",
     "output_type": "stream",
     "text": [
      "Title: What's the worst place on Earth you've been? | UP: 443 - DOWN: 0\n"
     ]
    },
    {
     "data": {
      "text/plain": [
       "[<MoreComments count=4, children=['j6xualw']>,\n",
       " <MoreComments count=4, children=['j6zq4lu']>,\n",
       " <MoreComments count=3, children=['j6xvmnd']>,\n",
       " <MoreComments count=3, children=['j6zu459']>,\n",
       " <MoreComments count=3, children=['j762hec']>,\n",
       " <MoreComments count=3, children=['j70vm4l', 'j754bta', 'j73pa9r']>,\n",
       " <MoreComments count=3, children=['j70pd0i', 'j6zqoi4', 'j6ytabx']>,\n",
       " <MoreComments count=3, children=['j762pyz', 'j74t3bp']>,\n",
       " <MoreComments count=2, children=['j70yyq5', 'j708jg5']>,\n",
       " <MoreComments count=2, children=['j70tix5', 'j6zvo9m']>,\n",
       " <MoreComments count=2, children=['j72ym1l', 'j700f39']>,\n",
       " <MoreComments count=2, children=['j71ffzg']>,\n",
       " <MoreComments count=2, children=['j6zqlzy']>,\n",
       " <MoreComments count=2, children=['j712toj', 'j73i7xh']>,\n",
       " <MoreComments count=2, children=['j71bs6q']>,\n",
       " <MoreComments count=1, children=['j707zpp']>,\n",
       " <MoreComments count=1, children=['j70q1d2']>,\n",
       " <MoreComments count=1, children=['j714lgz']>,\n",
       " <MoreComments count=1, children=['j70p8q6']>,\n",
       " <MoreComments count=1, children=['j710w2z']>,\n",
       " <MoreComments count=1, children=['j70z227']>,\n",
       " <MoreComments count=1, children=['j6wsakw']>,\n",
       " <MoreComments count=1, children=['j71askg']>,\n",
       " <MoreComments count=1, children=['j71crft']>,\n",
       " <MoreComments count=1, children=['j71drkt']>,\n",
       " <MoreComments count=1, children=['j6z8ok2']>,\n",
       " <MoreComments count=1, children=['j6zow0u']>,\n",
       " <MoreComments count=1, children=['j73q7ns']>,\n",
       " <MoreComments count=1, children=['j70b2kz']>,\n",
       " <MoreComments count=1, children=['j71g3uy']>,\n",
       " <MoreComments count=1, children=['j70usca']>,\n",
       " <MoreComments count=1, children=['j70hg0g']>,\n",
       " <MoreComments count=1, children=['j70v7de']>,\n",
       " <MoreComments count=1, children=['j714bwh']>,\n",
       " <MoreComments count=1, children=['j72xrah']>,\n",
       " <MoreComments count=1, children=['j70u23f']>,\n",
       " <MoreComments count=1, children=['j74w9ek']>,\n",
       " <MoreComments count=1, children=['j73ptrv']>,\n",
       " <MoreComments count=1, children=['j6zoda4']>,\n",
       " <MoreComments count=1, children=['j6zrmj0']>,\n",
       " <MoreComments count=1, children=['j71zl48']>,\n",
       " <MoreComments count=1, children=['j713t40']>,\n",
       " <MoreComments count=1, children=['j73q2wh']>]"
      ]
     },
     "execution_count": 7,
     "metadata": {},
     "output_type": "execute_result"
    },
    {
     "name": "stdout",
     "output_type": "stream",
     "text": [
      "Title: How do you guys deal with the random urge to fap when you are free? | UP: 2335 - DOWN: 0\n"
     ]
    },
    {
     "data": {
      "text/plain": [
       "[]"
      ]
     },
     "execution_count": 7,
     "metadata": {},
     "output_type": "execute_result"
    },
    {
     "name": "stdout",
     "output_type": "stream",
     "text": [
      "Title: What’s a green flag that most people overlook? | UP: 6 - DOWN: 0\n"
     ]
    },
    {
     "data": {
      "text/plain": [
       "[]"
      ]
     },
     "execution_count": 7,
     "metadata": {},
     "output_type": "execute_result"
    },
    {
     "name": "stdout",
     "output_type": "stream",
     "text": [
      "Title: What’s the best place on Earth you’ve been? | UP: 5 - DOWN: 0\n"
     ]
    },
    {
     "data": {
      "text/plain": [
       "[<MoreComments count=0, children=[]>, <MoreComments count=0, children=[]>]"
      ]
     },
     "execution_count": 7,
     "metadata": {},
     "output_type": "execute_result"
    },
    {
     "name": "stdout",
     "output_type": "stream",
     "text": [
      "Title: What people do not consider priviledge but it is? | UP: 14 - DOWN: 0\n"
     ]
    },
    {
     "data": {
      "text/plain": [
       "[]"
      ]
     },
     "execution_count": 7,
     "metadata": {},
     "output_type": "execute_result"
    },
    {
     "name": "stdout",
     "output_type": "stream",
     "text": [
      "Title: How often do you feel strong physical desire towards people you are not dating? | UP: 0 - DOWN: 0\n"
     ]
    },
    {
     "data": {
      "text/plain": [
       "[]"
      ]
     },
     "execution_count": 7,
     "metadata": {},
     "output_type": "execute_result"
    },
    {
     "name": "stdout",
     "output_type": "stream",
     "text": [
      "Title: What supplements has given you the most noticeable positive changes? (Skin,hair, mood,Energy, etc) | UP: 2 - DOWN: 0\n"
     ]
    },
    {
     "data": {
      "text/plain": [
       "[]"
      ]
     },
     "execution_count": 7,
     "metadata": {},
     "output_type": "execute_result"
    },
    {
     "name": "stdout",
     "output_type": "stream",
     "text": [
      "Title: what would you call the period between dating and getting married? I have been with my SO for 6 years but we aren't married but plan on spending the rest of our lives together. | UP: 2 - DOWN: 0\n"
     ]
    },
    {
     "data": {
      "text/plain": [
       "[]"
      ]
     },
     "execution_count": 7,
     "metadata": {},
     "output_type": "execute_result"
    },
    {
     "name": "stdout",
     "output_type": "stream",
     "text": [
      "Title: How do you decide whether someone is worthy of your care, concern, and time? | UP: 14 - DOWN: 0\n"
     ]
    },
    {
     "data": {
      "text/plain": [
       "[]"
      ]
     },
     "execution_count": 7,
     "metadata": {},
     "output_type": "execute_result"
    },
    {
     "name": "stdout",
     "output_type": "stream",
     "text": [
      "Title: What is the major cause in decline of men’s mental health? | UP: 7 - DOWN: 0\n"
     ]
    },
    {
     "data": {
      "text/plain": [
       "[]"
      ]
     },
     "execution_count": 7,
     "metadata": {},
     "output_type": "execute_result"
    },
    {
     "name": "stdout",
     "output_type": "stream",
     "text": [
      "Title: What does your wife/girlfriend do that keeps you interested? | UP: 3 - DOWN: 0\n"
     ]
    },
    {
     "data": {
      "text/plain": [
       "[]"
      ]
     },
     "execution_count": 7,
     "metadata": {},
     "output_type": "execute_result"
    },
    {
     "name": "stdout",
     "output_type": "stream",
     "text": [
      "Title: What are your immediate thoughts when when a woman brags about their body? | UP: 73 - DOWN: 0\n"
     ]
    },
    {
     "data": {
      "text/plain": [
       "[]"
      ]
     },
     "execution_count": 7,
     "metadata": {},
     "output_type": "execute_result"
    },
    {
     "name": "stdout",
     "output_type": "stream",
     "text": [
      "Title: Do you like catfishing? If so then why? | UP: 0 - DOWN: 0\n"
     ]
    },
    {
     "data": {
      "text/plain": [
       "[]"
      ]
     },
     "execution_count": 7,
     "metadata": {},
     "output_type": "execute_result"
    },
    {
     "name": "stdout",
     "output_type": "stream",
     "text": [
      "Title: How did your last partner break your heart and made you walk away? | UP: 3 - DOWN: 0\n"
     ]
    },
    {
     "data": {
      "text/plain": [
       "[]"
      ]
     },
     "execution_count": 7,
     "metadata": {},
     "output_type": "execute_result"
    },
    {
     "name": "stdout",
     "output_type": "stream",
     "text": [
      "Title: What was a brag you've heard that wasn't the flex the bragger thought it was? | UP: 124 - DOWN: 0\n"
     ]
    },
    {
     "data": {
      "text/plain": [
       "[]"
      ]
     },
     "execution_count": 7,
     "metadata": {},
     "output_type": "execute_result"
    },
    {
     "name": "stdout",
     "output_type": "stream",
     "text": [
      "Title: What is it like dating when you don’t fit the normal beauty standards at all? | UP: 0 - DOWN: 0\n"
     ]
    },
    {
     "data": {
      "text/plain": [
       "[]"
      ]
     },
     "execution_count": 7,
     "metadata": {},
     "output_type": "execute_result"
    },
    {
     "name": "stdout",
     "output_type": "stream",
     "text": [
      "Title: What kind of Vitamins do you take? | UP: 1 - DOWN: 0\n"
     ]
    },
    {
     "data": {
      "text/plain": [
       "[]"
      ]
     },
     "execution_count": 7,
     "metadata": {},
     "output_type": "execute_result"
    },
    {
     "name": "stdout",
     "output_type": "stream",
     "text": [
      "Title: Which Generation has the Most Power and Influence? | UP: 0 - DOWN: 0\n"
     ]
    },
    {
     "data": {
      "text/plain": [
       "[]"
      ]
     },
     "execution_count": 7,
     "metadata": {},
     "output_type": "execute_result"
    },
    {
     "name": "stdout",
     "output_type": "stream",
     "text": [
      "Title: What would you say to a kid that's having a hard time making friends in a new school? | UP: 4 - DOWN: 0\n"
     ]
    },
    {
     "data": {
      "text/plain": [
       "[]"
      ]
     },
     "execution_count": 7,
     "metadata": {},
     "output_type": "execute_result"
    },
    {
     "name": "stdout",
     "output_type": "stream",
     "text": [
      "Title: What's a show you're watching that other people should be watching? | UP: 4 - DOWN: 0\n"
     ]
    },
    {
     "data": {
      "text/plain": [
       "[<MoreComments count=4, children=['j6yy8m6', 'j70b1un']>,\n",
       " <MoreComments count=4, children=['j6zxev6']>,\n",
       " <MoreComments count=4, children=['j6yye0f']>,\n",
       " <MoreComments count=4, children=['j6yeaaz', 'j70r192']>,\n",
       " <MoreComments count=4, children=['j6yf83v', 'j6zbat0', 'j6yusr3']>,\n",
       " <MoreComments count=4, children=['j71vhb1']>,\n",
       " <MoreComments count=4, children=['j70v5kt']>,\n",
       " <MoreComments count=4, children=['j6xwj68', 'j6xrdfu', 'j6xspro', 'j6ya3qf']>,\n",
       " <MoreComments count=4, children=['j6zhdo4']>,\n",
       " <MoreComments count=4, children=['j74achu']>,\n",
       " <MoreComments count=4, children=['j6xi28p']>,\n",
       " <MoreComments count=4, children=['j6x8fw1', 'j6xhvla', 'j6z52bi', 'j6wjoan']>,\n",
       " <MoreComments count=4, children=['j6xqy0s']>,\n",
       " <MoreComments count=4, children=['j6wi697', 'j6wjco4']>,\n",
       " <MoreComments count=4, children=['j6xmms9']>,\n",
       " <MoreComments count=4, children=['j6y8gy2']>,\n",
       " <MoreComments count=4, children=['j6xvp6k', 'j6z4he5', 'j6zqrbr']>,\n",
       " <MoreComments count=4, children=['j6y5c5t']>,\n",
       " <MoreComments count=4, children=['j6z6rw2', 'j6xwue6', 'j6xzyim', 'j6y5oy7']>,\n",
       " <MoreComments count=4, children=['j6yogef']>,\n",
       " <MoreComments count=4, children=['j6z9pay', 'j6zlma5', 'j70ga47']>,\n",
       " <MoreComments count=4, children=['j6xhwwi', 'j6xxwrv', 'j6xxe78', 'j6xp4uj']>,\n",
       " <MoreComments count=4, children=['j6y6jtt', 'j6ymouy', 'j707cd8']>,\n",
       " <MoreComments count=4, children=['j6yl7cq', 'j6xdrs4', 'j6zuwql']>,\n",
       " <MoreComments count=3, children=['j6ypbn8']>,\n",
       " <MoreComments count=3, children=['j6y7o0i']>,\n",
       " <MoreComments count=3, children=['j6z34w1', 'j6zee6i', 'j6yp7uz']>,\n",
       " <MoreComments count=3, children=['j6y0evd']>,\n",
       " <MoreComments count=3, children=['j6zg591']>,\n",
       " <MoreComments count=3, children=['j70tm95', 'j70oydo', 'j70aiix']>,\n",
       " <MoreComments count=3, children=['j71466l']>,\n",
       " <MoreComments count=3, children=['j6xgyop']>,\n",
       " <MoreComments count=3, children=['j6x845u']>,\n",
       " <MoreComments count=3, children=['j6yjaol']>,\n",
       " <MoreComments count=3, children=['j6ztzxg', 'j6z00h8', 'j718c5y']>,\n",
       " <MoreComments count=3, children=['j6xifpp']>,\n",
       " <MoreComments count=3, children=['j6y7uqp']>,\n",
       " <MoreComments count=3, children=['j76cao1', 'j6xn5v1', 'j70v1ta']>,\n",
       " <MoreComments count=3, children=['j6xbt3n']>,\n",
       " <MoreComments count=3, children=['j6zry9e']>,\n",
       " <MoreComments count=3, children=['j6zkoyz', 'j712gq6', 'j719xxj']>,\n",
       " <MoreComments count=3, children=['j6yh2ad']>,\n",
       " <MoreComments count=2, children=['j6z5bqq', 'j73fsnv']>,\n",
       " <MoreComments count=2, children=['j6xhyxy']>,\n",
       " <MoreComments count=2, children=['j6xx7t1']>,\n",
       " <MoreComments count=2, children=['j6ywqbq']>,\n",
       " <MoreComments count=2, children=['j6yc3fs', 'j6y37ze']>,\n",
       " <MoreComments count=2, children=['j7315yd']>,\n",
       " <MoreComments count=2, children=['j73h5cw', 'j6z8a10']>,\n",
       " <MoreComments count=2, children=['j6y2mcb']>,\n",
       " <MoreComments count=2, children=['j6ymwzc', 'j70vjdb']>,\n",
       " <MoreComments count=2, children=['j6zemxr', 'j6yhz7k']>,\n",
       " <MoreComments count=2, children=['j6wzlo5']>,\n",
       " <MoreComments count=2, children=['j70l09l', 'j6wtr5p']>,\n",
       " <MoreComments count=2, children=['j6ypn0b', 'j6yp3x6']>,\n",
       " <MoreComments count=2, children=['j6xtjn3']>,\n",
       " <MoreComments count=2, children=['j6x1sf1']>,\n",
       " <MoreComments count=2, children=['j6xizam']>,\n",
       " <MoreComments count=2, children=['j6zdkc6']>,\n",
       " <MoreComments count=2, children=['j6zenl4', 'j6x11uu']>,\n",
       " <MoreComments count=2, children=['j6ze10k', 'j6zgzjg']>,\n",
       " <MoreComments count=2, children=['j70vizz']>,\n",
       " <MoreComments count=2, children=['j6y50ck']>,\n",
       " <MoreComments count=2, children=['j6zdo5f', 'j70f1vy']>,\n",
       " <MoreComments count=2, children=['j6x0qdq']>,\n",
       " <MoreComments count=2, children=['j6ydqx4', 'j6xeesa']>,\n",
       " <MoreComments count=2, children=['j6xlgxo']>,\n",
       " <MoreComments count=2, children=['j6xwarw']>,\n",
       " <MoreComments count=2, children=['j71f9qp', 'j6y5uh7']>,\n",
       " <MoreComments count=2, children=['j6xtnyv']>,\n",
       " <MoreComments count=2, children=['j6xo7aw']>,\n",
       " <MoreComments count=2, children=['j735mpv']>,\n",
       " <MoreComments count=2, children=['j6yoi3x', 'j6xwgza']>,\n",
       " <MoreComments count=2, children=['j6xpmku']>,\n",
       " <MoreComments count=2, children=['j6z3dmr']>,\n",
       " <MoreComments count=2, children=['j6yuacr', 'j6y2eou']>,\n",
       " <MoreComments count=2, children=['j6ydceb', 'j6zd17h']>,\n",
       " <MoreComments count=2, children=['j70cffp', 'j6ypady']>,\n",
       " <MoreComments count=1, children=['j6x8ri6']>,\n",
       " <MoreComments count=1, children=['j6zc6l6']>,\n",
       " <MoreComments count=1, children=['j70830q']>,\n",
       " <MoreComments count=1, children=['j70i6em']>,\n",
       " <MoreComments count=1, children=['j6z7j51']>,\n",
       " <MoreComments count=1, children=['j6xro6n']>,\n",
       " <MoreComments count=1, children=['j6yuo39']>,\n",
       " <MoreComments count=1, children=['j70mqqd']>,\n",
       " <MoreComments count=1, children=['j7096ab']>,\n",
       " <MoreComments count=1, children=['j70r1ce']>,\n",
       " <MoreComments count=1, children=['j7c8awx']>,\n",
       " <MoreComments count=1, children=['j6z7kkr']>,\n",
       " <MoreComments count=1, children=['j6y564f']>,\n",
       " <MoreComments count=1, children=['j73mbfl']>,\n",
       " <MoreComments count=1, children=['j6zfcqp']>,\n",
       " <MoreComments count=1, children=['j6z824f']>,\n",
       " <MoreComments count=1, children=['j6xnnkq']>,\n",
       " <MoreComments count=1, children=['j6yd4pi']>,\n",
       " <MoreComments count=1, children=['j6zfqta']>,\n",
       " <MoreComments count=1, children=['j6zecs4']>,\n",
       " <MoreComments count=1, children=['j73ab7l']>,\n",
       " <MoreComments count=1, children=['j6yst63']>,\n",
       " <MoreComments count=1, children=['j6yenow']>,\n",
       " <MoreComments count=1, children=['j71ag2c']>,\n",
       " <MoreComments count=1, children=['j70j8b7']>,\n",
       " <MoreComments count=1, children=['j6y1jgw']>,\n",
       " <MoreComments count=1, children=['j6zcfhd']>,\n",
       " <MoreComments count=1, children=['j73djn5']>,\n",
       " <MoreComments count=1, children=['j6xwval']>,\n",
       " <MoreComments count=1, children=['j6x4xk7']>,\n",
       " <MoreComments count=1, children=['j70i146']>,\n",
       " <MoreComments count=1, children=['j70vmfu']>,\n",
       " <MoreComments count=1, children=['j6zh2qc']>,\n",
       " <MoreComments count=1, children=['j747x46']>,\n",
       " <MoreComments count=1, children=['j6ysblu']>,\n",
       " <MoreComments count=1, children=['j6xhbas']>,\n",
       " <MoreComments count=1, children=['j713oql']>,\n",
       " <MoreComments count=1, children=['j6yp2oj']>,\n",
       " <MoreComments count=1, children=['j733e45']>,\n",
       " <MoreComments count=1, children=['j6xudv5']>,\n",
       " <MoreComments count=1, children=['j6yu75f']>,\n",
       " <MoreComments count=1, children=['j6zc167']>,\n",
       " <MoreComments count=1, children=['j6zhbt4']>,\n",
       " <MoreComments count=1, children=['j6y13gv']>,\n",
       " <MoreComments count=1, children=['j6zluew']>,\n",
       " <MoreComments count=1, children=['j6yalv6']>,\n",
       " <MoreComments count=1, children=['j71fnmg']>,\n",
       " <MoreComments count=1, children=['j6xsejt']>,\n",
       " <MoreComments count=1, children=['j71et2z']>,\n",
       " <MoreComments count=1, children=['j70qke5']>,\n",
       " <MoreComments count=1, children=['j717q3n']>,\n",
       " <MoreComments count=1, children=['j6x2vm2']>,\n",
       " <MoreComments count=1, children=['j6xw70k']>,\n",
       " <MoreComments count=1, children=['j70hr9z']>,\n",
       " <MoreComments count=1, children=['j6xtxrk']>,\n",
       " <MoreComments count=1, children=['j70vbpx']>,\n",
       " <MoreComments count=1, children=['j6ykg0e']>,\n",
       " <MoreComments count=1, children=['j6yq1g6']>,\n",
       " <MoreComments count=1, children=['j6znohr']>,\n",
       " <MoreComments count=1, children=['j6x6hsb']>,\n",
       " <MoreComments count=1, children=['j6xv2ep']>,\n",
       " <MoreComments count=1, children=['j71g0yb']>,\n",
       " <MoreComments count=1, children=['j6z5ej4']>,\n",
       " <MoreComments count=1, children=['j6y2fu9']>,\n",
       " <MoreComments count=1, children=['j6xp30r']>,\n",
       " <MoreComments count=1, children=['j6zb5lr']>,\n",
       " <MoreComments count=1, children=['j6xydyn']>,\n",
       " <MoreComments count=1, children=['j6z6xl9']>,\n",
       " <MoreComments count=1, children=['j6yvccb']>,\n",
       " <MoreComments count=1, children=['j6yo1ds']>,\n",
       " <MoreComments count=1, children=['j6xqcyp']>,\n",
       " <MoreComments count=1, children=['j6zc3sw']>,\n",
       " <MoreComments count=1, children=['j6za85i']>,\n",
       " <MoreComments count=1, children=['j73lz3i']>,\n",
       " <MoreComments count=1, children=['j70eq9f']>,\n",
       " <MoreComments count=1, children=['j6z3hwd']>,\n",
       " <MoreComments count=1, children=['j6z0jee']>,\n",
       " <MoreComments count=1, children=['j6yk5ga']>,\n",
       " <MoreComments count=1, children=['j70qbpd']>,\n",
       " <MoreComments count=1, children=['j6xz6m8']>,\n",
       " <MoreComments count=1, children=['j6yukb1']>,\n",
       " <MoreComments count=1, children=['j6xjrx3']>,\n",
       " <MoreComments count=1, children=['j7356e9']>,\n",
       " <MoreComments count=1, children=['j6zdmey']>,\n",
       " <MoreComments count=1, children=['j7137so']>,\n",
       " <MoreComments count=1, children=['j6ymrly']>,\n",
       " <MoreComments count=1, children=['j6yan98']>,\n",
       " <MoreComments count=1, children=['j735gdt']>,\n",
       " <MoreComments count=1, children=['j6ztm49']>,\n",
       " <MoreComments count=1, children=['j6zuk69']>,\n",
       " <MoreComments count=1, children=['j71ak26']>,\n",
       " <MoreComments count=1, children=['j71ar1x']>,\n",
       " <MoreComments count=1, children=['j6xm2l8']>,\n",
       " <MoreComments count=1, children=['j6ym5lz']>,\n",
       " <MoreComments count=1, children=['j6xmind']>,\n",
       " <MoreComments count=1, children=['j705jjr']>,\n",
       " <MoreComments count=1, children=['j6ynpxm']>,\n",
       " <MoreComments count=1, children=['j70hkok']>,\n",
       " <MoreComments count=1, children=['j6y4mci']>,\n",
       " <MoreComments count=1, children=['j6xnxux']>,\n",
       " <MoreComments count=1, children=['j6y70k5']>,\n",
       " <MoreComments count=1, children=['j7a5o46']>,\n",
       " <MoreComments count=1, children=['j6x5h8f']>,\n",
       " <MoreComments count=1, children=['j6yv6w7']>,\n",
       " <MoreComments count=1, children=['j6zrbm1']>,\n",
       " <MoreComments count=1, children=['j6xy8mp']>,\n",
       " <MoreComments count=1, children=['j70ktpw']>,\n",
       " <MoreComments count=1, children=['j6xampu']>,\n",
       " <MoreComments count=1, children=['j735bqj']>,\n",
       " <MoreComments count=1, children=['j6xezuh']>,\n",
       " <MoreComments count=1, children=['j6y33v3']>,\n",
       " <MoreComments count=1, children=['j6y4q92']>,\n",
       " <MoreComments count=0, children=[]>,\n",
       " <MoreComments count=0, children=[]>,\n",
       " <MoreComments count=0, children=[]>,\n",
       " <MoreComments count=0, children=[]>,\n",
       " <MoreComments count=0, children=[]>,\n",
       " <MoreComments count=0, children=[]>,\n",
       " <MoreComments count=0, children=[]>,\n",
       " <MoreComments count=0, children=[]>,\n",
       " <MoreComments count=0, children=[]>,\n",
       " <MoreComments count=0, children=[]>,\n",
       " <MoreComments count=0, children=[]>,\n",
       " <MoreComments count=0, children=[]>,\n",
       " <MoreComments count=0, children=[]>,\n",
       " <MoreComments count=0, children=[]>,\n",
       " <MoreComments count=0, children=[]>]"
      ]
     },
     "execution_count": 7,
     "metadata": {},
     "output_type": "execute_result"
    },
    {
     "name": "stdout",
     "output_type": "stream",
     "text": [
      "Title: What's a stereotype about men you can't help but silently agree with? | UP: 1941 - DOWN: 0\n"
     ]
    },
    {
     "data": {
      "text/plain": [
       "[]"
      ]
     },
     "execution_count": 7,
     "metadata": {},
     "output_type": "execute_result"
    },
    {
     "name": "stdout",
     "output_type": "stream",
     "text": [
      "Title: Men, guys, dudes, bros, etc. who order flowers online for their SO - which is best? | UP: 3 - DOWN: 0\n"
     ]
    },
    {
     "data": {
      "text/plain": [
       "[]"
      ]
     },
     "execution_count": 7,
     "metadata": {},
     "output_type": "execute_result"
    },
    {
     "name": "stdout",
     "output_type": "stream",
     "text": [
      "Title: How would you react if your partner could no longer be intimate due to a physical illness/limitation? | UP: 4 - DOWN: 0\n"
     ]
    },
    {
     "data": {
      "text/plain": [
       "[]"
      ]
     },
     "execution_count": 7,
     "metadata": {},
     "output_type": "execute_result"
    },
    {
     "name": "stdout",
     "output_type": "stream",
     "text": [
      "Title: How did your last blind date go? | UP: 11 - DOWN: 0\n"
     ]
    },
    {
     "data": {
      "text/plain": [
       "[]"
      ]
     },
     "execution_count": 7,
     "metadata": {},
     "output_type": "execute_result"
    },
    {
     "name": "stdout",
     "output_type": "stream",
     "text": [
      "Title: What kind of story would you want to be the protagonist of? | UP: 0 - DOWN: 0\n"
     ]
    },
    {
     "data": {
      "text/plain": [
       "[]"
      ]
     },
     "execution_count": 7,
     "metadata": {},
     "output_type": "execute_result"
    },
    {
     "name": "stdout",
     "output_type": "stream",
     "text": [
      "Title: When was the most confused you were in your life and how did you get out of it? | UP: 0 - DOWN: 0\n"
     ]
    },
    {
     "data": {
      "text/plain": [
       "[]"
      ]
     },
     "execution_count": 7,
     "metadata": {},
     "output_type": "execute_result"
    },
    {
     "name": "stdout",
     "output_type": "stream",
     "text": [
      "Title: Men who have proposed abroad how did you hide the ring through customs etc) (Throwaway for obvious reasons) | UP: 0 - DOWN: 0\n"
     ]
    },
    {
     "data": {
      "text/plain": [
       "[]"
      ]
     },
     "execution_count": 7,
     "metadata": {},
     "output_type": "execute_result"
    },
    {
     "name": "stdout",
     "output_type": "stream",
     "text": [
      "Title: How did you build your social circle as someone who didn't have any connections in a new city? | UP: 5 - DOWN: 0\n"
     ]
    },
    {
     "data": {
      "text/plain": [
       "[]"
      ]
     },
     "execution_count": 7,
     "metadata": {},
     "output_type": "execute_result"
    },
    {
     "name": "stdout",
     "output_type": "stream",
     "text": [
      "Title: What would you do if you won the lottery? | UP: 2 - DOWN: 0\n"
     ]
    },
    {
     "data": {
      "text/plain": [
       "[<MoreComments count=2, children=['j7184w0']>,\n",
       " <MoreComments count=2, children=['j7080e0']>,\n",
       " <MoreComments count=0, children=[]>,\n",
       " <MoreComments count=0, children=[]>]"
      ]
     },
     "execution_count": 7,
     "metadata": {},
     "output_type": "execute_result"
    },
    {
     "name": "stdout",
     "output_type": "stream",
     "text": [
      "Title: What makes you avoid eye contact with a girl? | UP: 524 - DOWN: 0\n"
     ]
    },
    {
     "data": {
      "text/plain": [
       "[]"
      ]
     },
     "execution_count": 7,
     "metadata": {},
     "output_type": "execute_result"
    },
    {
     "name": "stdout",
     "output_type": "stream",
     "text": [
      "Title: What behaviors do you find least attractive in partners? | UP: 19 - DOWN: 0\n"
     ]
    },
    {
     "data": {
      "text/plain": [
       "[]"
      ]
     },
     "execution_count": 7,
     "metadata": {},
     "output_type": "execute_result"
    },
    {
     "name": "stdout",
     "output_type": "stream",
     "text": [
      "Title: What is the biggest problem in your life right now ? | UP: 19 - DOWN: 0\n"
     ]
    },
    {
     "data": {
      "text/plain": [
       "[]"
      ]
     },
     "execution_count": 7,
     "metadata": {},
     "output_type": "execute_result"
    },
    {
     "name": "stdout",
     "output_type": "stream",
     "text": [
      "Title: What is something you frequently see here that makes you think \"typical Reddit\"? | UP: 166 - DOWN: 0\n"
     ]
    },
    {
     "data": {
      "text/plain": [
       "[]"
      ]
     },
     "execution_count": 7,
     "metadata": {},
     "output_type": "execute_result"
    },
    {
     "name": "stdout",
     "output_type": "stream",
     "text": [
      "Title: Men with siblings, how did you torment each other as kids? | UP: 6 - DOWN: 0\n"
     ]
    },
    {
     "data": {
      "text/plain": [
       "[]"
      ]
     },
     "execution_count": 7,
     "metadata": {},
     "output_type": "execute_result"
    },
    {
     "name": "stdout",
     "output_type": "stream",
     "text": [
      "Title: What is your haircut called in the country you live in? | UP: 10 - DOWN: 0\n"
     ]
    },
    {
     "data": {
      "text/plain": [
       "[]"
      ]
     },
     "execution_count": 7,
     "metadata": {},
     "output_type": "execute_result"
    },
    {
     "name": "stdout",
     "output_type": "stream",
     "text": [
      "Title: How did you learn to dance with a lady? | UP: 0 - DOWN: 0\n"
     ]
    },
    {
     "data": {
      "text/plain": [
       "[]"
      ]
     },
     "execution_count": 7,
     "metadata": {},
     "output_type": "execute_result"
    },
    {
     "name": "stdout",
     "output_type": "stream",
     "text": [
      "Title: What films/shows/games have you cried to, if any? | UP: 7 - DOWN: 0\n"
     ]
    },
    {
     "data": {
      "text/plain": [
       "[]"
      ]
     },
     "execution_count": 7,
     "metadata": {},
     "output_type": "execute_result"
    },
    {
     "name": "stdout",
     "output_type": "stream",
     "text": [
      "Title: You wake up and see that you are 10 years younger, what is the first thing you do? | UP: 0 - DOWN: 0\n"
     ]
    },
    {
     "data": {
      "text/plain": [
       "[]"
      ]
     },
     "execution_count": 7,
     "metadata": {},
     "output_type": "execute_result"
    },
    {
     "name": "stdout",
     "output_type": "stream",
     "text": [
      "Title: What is the best way to apply lotion to your back? | UP: 1 - DOWN: 0\n"
     ]
    },
    {
     "data": {
      "text/plain": [
       "[]"
      ]
     },
     "execution_count": 7,
     "metadata": {},
     "output_type": "execute_result"
    },
    {
     "name": "stdout",
     "output_type": "stream",
     "text": [
      "Title: Thoughts on wishbone the dog and why? | UP: 1 - DOWN: 0\n"
     ]
    },
    {
     "data": {
      "text/plain": [
       "[]"
      ]
     },
     "execution_count": 7,
     "metadata": {},
     "output_type": "execute_result"
    },
    {
     "name": "stdout",
     "output_type": "stream",
     "text": [
      "Title: What has been the highlight of your week so far? | UP: 11 - DOWN: 0\n"
     ]
    },
    {
     "data": {
      "text/plain": [
       "[]"
      ]
     },
     "execution_count": 7,
     "metadata": {},
     "output_type": "execute_result"
    },
    {
     "name": "stdout",
     "output_type": "stream",
     "text": [
      "Title: How many times do you fart in an entire day? | UP: 1 - DOWN: 0\n"
     ]
    },
    {
     "data": {
      "text/plain": [
       "[]"
      ]
     },
     "execution_count": 7,
     "metadata": {},
     "output_type": "execute_result"
    },
    {
     "name": "stdout",
     "output_type": "stream",
     "text": [
      "Title: Guys with girlfriends, how can your gf really spice it up after you’ve been together for a while? | UP: 0 - DOWN: 0\n"
     ]
    },
    {
     "data": {
      "text/plain": [
       "[]"
      ]
     },
     "execution_count": 7,
     "metadata": {},
     "output_type": "execute_result"
    },
    {
     "name": "stdout",
     "output_type": "stream",
     "text": [
      "Title: How does a lady know if she’s good in bed? | UP: 0 - DOWN: 0\n"
     ]
    },
    {
     "data": {
      "text/plain": [
       "[]"
      ]
     },
     "execution_count": 7,
     "metadata": {},
     "output_type": "execute_result"
    },
    {
     "name": "stdout",
     "output_type": "stream",
     "text": [
      "Title: How do you guys in an open relationship cope with the fear of getting a STD/STI? | UP: 0 - DOWN: 0\n"
     ]
    },
    {
     "data": {
      "text/plain": [
       "[]"
      ]
     },
     "execution_count": 7,
     "metadata": {},
     "output_type": "execute_result"
    },
    {
     "name": "stdout",
     "output_type": "stream",
     "text": [
      "Title: Men of reddit, what was your bachelor party like? (If you haven't had one yet, what will it be like?) | UP: 2 - DOWN: 0\n"
     ]
    },
    {
     "data": {
      "text/plain": [
       "[]"
      ]
     },
     "execution_count": 7,
     "metadata": {},
     "output_type": "execute_result"
    },
    {
     "name": "stdout",
     "output_type": "stream",
     "text": [
      "Title: Cold boring weekend - what are you currently binge watching or recommend? | UP: 0 - DOWN: 0\n"
     ]
    },
    {
     "data": {
      "text/plain": [
       "[]"
      ]
     },
     "execution_count": 7,
     "metadata": {},
     "output_type": "execute_result"
    },
    {
     "name": "stdout",
     "output_type": "stream",
     "text": [
      "Title: What are the most important things to improve on to have more success with women? | UP: 15 - DOWN: 0\n"
     ]
    },
    {
     "data": {
      "text/plain": [
       "[]"
      ]
     },
     "execution_count": 7,
     "metadata": {},
     "output_type": "execute_result"
    },
    {
     "name": "stdout",
     "output_type": "stream",
     "text": [
      "Title: What is the best response to your girlfriend asking you whether you would still love her if she was a bus? | UP: 28 - DOWN: 0\n"
     ]
    },
    {
     "data": {
      "text/plain": [
       "[<MoreComments count=0, children=[]>]"
      ]
     },
     "execution_count": 7,
     "metadata": {},
     "output_type": "execute_result"
    },
    {
     "name": "stdout",
     "output_type": "stream",
     "text": [
      "Title: What is your stance on video games? Do you think it’s good or a huge waste of time? | UP: 0 - DOWN: 0\n"
     ]
    },
    {
     "data": {
      "text/plain": [
       "[]"
      ]
     },
     "execution_count": 7,
     "metadata": {},
     "output_type": "execute_result"
    },
    {
     "name": "stdout",
     "output_type": "stream",
     "text": [
      "Title: Which habit of your woman annoys you the most? | UP: 3 - DOWN: 0\n"
     ]
    },
    {
     "data": {
      "text/plain": [
       "[]"
      ]
     },
     "execution_count": 7,
     "metadata": {},
     "output_type": "execute_result"
    },
    {
     "name": "stdout",
     "output_type": "stream",
     "text": [
      "Title: Men, how do the pressure to have a SO affects your life? | UP: 0 - DOWN: 0\n"
     ]
    },
    {
     "data": {
      "text/plain": [
       "[]"
      ]
     },
     "execution_count": 7,
     "metadata": {},
     "output_type": "execute_result"
    },
    {
     "name": "stdout",
     "output_type": "stream",
     "text": [
      "Title: at what location do you draw the line on yoga pants? | UP: 0 - DOWN: 0\n"
     ]
    },
    {
     "data": {
      "text/plain": [
       "[]"
      ]
     },
     "execution_count": 7,
     "metadata": {},
     "output_type": "execute_result"
    },
    {
     "name": "stdout",
     "output_type": "stream",
     "text": [
      "Title: Men of reddit, what do you see and appreciate in your SO that others can't? | UP: 5 - DOWN: 0\n"
     ]
    },
    {
     "data": {
      "text/plain": [
       "[<MoreComments count=4, children=['j6sy98j', 'j6vxg10']>,\n",
       " <MoreComments count=4, children=['j6tlfjs', 'j6voxur', 'j6wb0sl', 'j6vr72t']>,\n",
       " <MoreComments count=4, children=['j6wgymy', 'j6wl95j', 'j6wd6rx', 'j6vs4tr']>,\n",
       " <MoreComments count=4, children=['j6vnp4r']>,\n",
       " <MoreComments count=4, children=['j6u6ixr']>,\n",
       " <MoreComments count=4, children=['j6v6a6w', 'j6um28l']>,\n",
       " <MoreComments count=4, children=['j6wbtzn', 'j6vi3el', 'j6w1r5a']>,\n",
       " <MoreComments count=4, children=['j6vei0o', 'j6v7f9t']>,\n",
       " <MoreComments count=4, children=['j6tltzl', 'j6tmjnx']>,\n",
       " <MoreComments count=4, children=['j6x4kp4', 'j6w5u5o', 'j6t7evb']>,\n",
       " <MoreComments count=4, children=['j6wtr3t', 'j6uhb23', 'j6usycm']>,\n",
       " <MoreComments count=4, children=['j6ukrcw', 'j6u4ypt']>,\n",
       " <MoreComments count=4, children=['j6wcl1d', 'j6xaedx']>,\n",
       " <MoreComments count=4, children=['j6vvo6q', 'j6w8yzm', 'j6x06di', 'j6uioxh']>,\n",
       " <MoreComments count=4, children=['j6up397', 'j6v84h2']>,\n",
       " <MoreComments count=4, children=['j6uluub']>,\n",
       " <MoreComments count=4, children=['j6trjsq']>,\n",
       " <MoreComments count=4, children=['j6t7fcf', 'j6tzdzj', 'j6tzp6a']>,\n",
       " <MoreComments count=4, children=['j6x95r4']>,\n",
       " <MoreComments count=4, children=['j6t5vj4']>,\n",
       " <MoreComments count=4, children=['j6tcwxy', 'j6vl552', 'j6wk49p', 'j6unlak']>,\n",
       " <MoreComments count=4, children=['j6tc7u8', 'j6tf9ia', 'j6tiyhu']>,\n",
       " <MoreComments count=4, children=['j6uy8tv', 'j6tkvee', 'j6u8ekn']>,\n",
       " <MoreComments count=4, children=['j6wzgsq', 'j6u63p8']>,\n",
       " <MoreComments count=4, children=['j6v16j8']>,\n",
       " <MoreComments count=4, children=['j6vg14a', 'j6to8pv', 'j6v2s2c', 'j6tgven']>,\n",
       " <MoreComments count=4, children=['j6v1sdl', 'j6tozxp', 'j6vlyxj']>,\n",
       " <MoreComments count=4, children=['j6us99s', 'j6wy0z5', 'j6v077n']>,\n",
       " <MoreComments count=3, children=['j6wkupw', 'j6t8b4v']>,\n",
       " <MoreComments count=3, children=['j6vzpgy', 'j6vogar', 'j6y426d']>,\n",
       " <MoreComments count=3, children=['j6vr82o', 'j6vdtj7']>,\n",
       " <MoreComments count=3, children=['j6wq7iw', 'j6vpyoo', 'j6x3jdm']>,\n",
       " <MoreComments count=3, children=['j6uk477']>,\n",
       " <MoreComments count=3, children=['j6uxvqy', 'j6wcp0e']>,\n",
       " <MoreComments count=3, children=['j6u1vwh', 'j6uur0q', 'j6vywd0']>,\n",
       " <MoreComments count=3, children=['j6u4yrv', 'j6vuekz']>,\n",
       " <MoreComments count=3, children=['j6v76vt', 'j6xbnin']>,\n",
       " <MoreComments count=3, children=['j6tre1t']>,\n",
       " <MoreComments count=3, children=['j7325ui']>,\n",
       " <MoreComments count=3, children=['j6uz2f3']>,\n",
       " <MoreComments count=3, children=['j743m4z', 'j6twsum']>,\n",
       " <MoreComments count=3, children=['j6ve7lm']>,\n",
       " <MoreComments count=3, children=['j6x5xwx', 'j6wwtn8', 'j6utlg6']>,\n",
       " <MoreComments count=3, children=['j6uxnlj']>,\n",
       " <MoreComments count=3, children=['j6vfwv6', 'j6vtmx0', 'j6uvmlj']>,\n",
       " <MoreComments count=3, children=['j6xt0mw', 'j6wux57', 'j6zbfez']>,\n",
       " <MoreComments count=3, children=['j6x1tv9', 'j6z23wu']>,\n",
       " <MoreComments count=3, children=['j6tvr88']>,\n",
       " <MoreComments count=3, children=['j6tlt65']>,\n",
       " <MoreComments count=3, children=['j6wxz75', 'j6wl6sz']>,\n",
       " <MoreComments count=3, children=['j6sw5jb', 'j6t4euv']>,\n",
       " <MoreComments count=3, children=['j6tlyir', 'j6tgqtf']>,\n",
       " <MoreComments count=3, children=['j6tm0ql', 'j6tllca']>,\n",
       " <MoreComments count=3, children=['j6zj5sp', 'j6wpzi2', 'j72c7x7']>,\n",
       " <MoreComments count=3, children=['j6w2y5v']>,\n",
       " <MoreComments count=3, children=['j6t6idy', 'j6uuxlz']>,\n",
       " <MoreComments count=3, children=['j6ulq25', 'j6w53v2']>,\n",
       " <MoreComments count=3, children=['j6ur5ih', 'j6t2aru', 'j6tfc2s']>,\n",
       " <MoreComments count=3, children=['j6t0brt', 'j6vqfh5']>,\n",
       " <MoreComments count=3, children=['j6vbbny']>,\n",
       " <MoreComments count=3, children=['j6t6otk']>,\n",
       " <MoreComments count=3, children=['j6ua9fj']>,\n",
       " <MoreComments count=3, children=['j6uos5u', 'j6t47p6', 'j6vtk75']>,\n",
       " <MoreComments count=3, children=['j6u9kf2']>,\n",
       " <MoreComments count=3, children=['j6y2rr4', 'j6vdwrr']>,\n",
       " <MoreComments count=3, children=['j6wka4f', 'j6vaeo7']>,\n",
       " <MoreComments count=3, children=['j6wx5j0', 'j6tv6ry']>,\n",
       " <MoreComments count=3, children=['j6uwm0h', 'j6x4sek']>,\n",
       " <MoreComments count=3, children=['j70e13q', 'j6v7d0u']>,\n",
       " <MoreComments count=3, children=['j6vm6ix', 'j6u71b3']>,\n",
       " <MoreComments count=3, children=['j6vma6p', 'j6vfglm']>,\n",
       " <MoreComments count=3, children=['j6vn6lf']>,\n",
       " <MoreComments count=3, children=['j6u76er', 'j6wo49x']>,\n",
       " <MoreComments count=3, children=['j6woeoh', 'j6vobr6']>,\n",
       " <MoreComments count=3, children=['j6wou5p', 'j6w41zq']>,\n",
       " <MoreComments count=3, children=['j6uygk9']>,\n",
       " <MoreComments count=3, children=['j6t7cgh', 'j6wfo3y']>,\n",
       " <MoreComments count=3, children=['j6tubaw', 'j6uukmp']>,\n",
       " <MoreComments count=3, children=['j6wwk90']>,\n",
       " <MoreComments count=3, children=['j6u16f3']>,\n",
       " <MoreComments count=2, children=['j6tnry0']>,\n",
       " <MoreComments count=2, children=['j6x4v8g']>,\n",
       " <MoreComments count=2, children=['j6uqxox', 'j6ufznf']>,\n",
       " <MoreComments count=2, children=['j6yxz65', 'j6vii8f']>,\n",
       " <MoreComments count=2, children=['j6yidq8']>,\n",
       " <MoreComments count=2, children=['j6u5eu0', 'j6tp6d2']>,\n",
       " <MoreComments count=2, children=['j6u2a27']>,\n",
       " <MoreComments count=2, children=['j6tr0bb']>,\n",
       " <MoreComments count=2, children=['j6tzmp5', 'j6u13uy']>,\n",
       " <MoreComments count=2, children=['j6vz6q3', 'j6vzrlz']>,\n",
       " <MoreComments count=2, children=['j6u2wax']>,\n",
       " <MoreComments count=2, children=['j6tsy4s', 'j6vzxl6']>,\n",
       " <MoreComments count=2, children=['j6v3kq4']>,\n",
       " <MoreComments count=2, children=['j6x1i95', 'j6x6lpv']>,\n",
       " <MoreComments count=2, children=['j6vy09a']>,\n",
       " <MoreComments count=2, children=['j6tyefi', 'j6th7wu']>,\n",
       " <MoreComments count=2, children=['j6vmmc2']>,\n",
       " <MoreComments count=2, children=['j6wotcg', 'j6xk28i']>,\n",
       " <MoreComments count=2, children=['j6w0f90']>,\n",
       " <MoreComments count=2, children=['j6st7ud']>,\n",
       " <MoreComments count=2, children=['j6tqd3e']>,\n",
       " <MoreComments count=2, children=['j6v074l']>,\n",
       " <MoreComments count=2, children=['j6wscz0']>,\n",
       " <MoreComments count=2, children=['j6up1qi']>,\n",
       " <MoreComments count=2, children=['j6wg0re', 'j6ukr67']>,\n",
       " <MoreComments count=2, children=['j6umadk']>,\n",
       " <MoreComments count=2, children=['j6vw4kw']>,\n",
       " <MoreComments count=2, children=['j6wjtlj']>,\n",
       " <MoreComments count=2, children=['j6vc8ws']>,\n",
       " <MoreComments count=2, children=['j6vck7d']>,\n",
       " <MoreComments count=2, children=['j6utea9']>,\n",
       " <MoreComments count=2, children=['j6w0wz4']>,\n",
       " <MoreComments count=2, children=['j6ug1ny', 'j6u40r3']>,\n",
       " <MoreComments count=2, children=['j6wag6o', 'j6wldag']>,\n",
       " <MoreComments count=2, children=['j6vrpns']>,\n",
       " <MoreComments count=2, children=['j6zh64f']>,\n",
       " <MoreComments count=2, children=['j6wq9rx']>,\n",
       " <MoreComments count=2, children=['j6v8ggd']>,\n",
       " <MoreComments count=2, children=['j6v83cj']>,\n",
       " <MoreComments count=2, children=['j6tezxf']>,\n",
       " <MoreComments count=2, children=['j6x52vp']>,\n",
       " <MoreComments count=2, children=['j6x6epj']>,\n",
       " <MoreComments count=2, children=['j6unf9y']>,\n",
       " <MoreComments count=2, children=['j6u5g2x', 'j6vp2sh']>,\n",
       " <MoreComments count=2, children=['j6t42xc', 'j704wuj']>,\n",
       " <MoreComments count=2, children=['j6y99ds', 'j6wky84']>,\n",
       " <MoreComments count=2, children=['j6wj1g8']>,\n",
       " <MoreComments count=2, children=['j6vnock']>,\n",
       " <MoreComments count=2, children=['j6ultt1', 'j6tq1ps']>,\n",
       " <MoreComments count=2, children=['j6u71n0']>,\n",
       " <MoreComments count=2, children=['j6t99sw']>,\n",
       " <MoreComments count=2, children=['j6w6vfk']>,\n",
       " <MoreComments count=2, children=['j6vq414']>,\n",
       " <MoreComments count=2, children=['j6vg0di']>,\n",
       " <MoreComments count=2, children=['j6vi51l']>,\n",
       " <MoreComments count=2, children=['j6uqsig', 'j6vavih']>,\n",
       " <MoreComments count=2, children=['j6u2x2g', 'j6w4q0f']>,\n",
       " <MoreComments count=2, children=['j6ue8vj', 'j6vs5ko']>,\n",
       " <MoreComments count=2, children=['j6vebwa', 'j6vcj6f']>,\n",
       " <MoreComments count=2, children=['j6wtntw']>,\n",
       " <MoreComments count=2, children=['j6ve9t4']>,\n",
       " <MoreComments count=2, children=['j6tevto']>,\n",
       " <MoreComments count=1, children=['j6vyfla']>,\n",
       " <MoreComments count=1, children=['j6vj83o']>,\n",
       " <MoreComments count=1, children=['j6vigmt']>,\n",
       " <MoreComments count=1, children=['j6xa70s']>,\n",
       " <MoreComments count=1, children=['j6u23px']>,\n",
       " <MoreComments count=1, children=['j6w1rbc']>,\n",
       " <MoreComments count=1, children=['j6w38se']>,\n",
       " <MoreComments count=1, children=['j6u4ra5']>,\n",
       " <MoreComments count=1, children=['j6uyyc0']>,\n",
       " <MoreComments count=1, children=['j6vyq1e']>,\n",
       " <MoreComments count=1, children=['j6wno46']>,\n",
       " <MoreComments count=1, children=['j6w3hq3']>,\n",
       " <MoreComments count=1, children=['j6zwqo6']>,\n",
       " <MoreComments count=1, children=['j6tnoa0']>,\n",
       " <MoreComments count=1, children=['j6wgor8']>,\n",
       " <MoreComments count=1, children=['j6v4nq8']>,\n",
       " <MoreComments count=1, children=['j6ui2wp']>,\n",
       " <MoreComments count=1, children=['j6vct8e']>,\n",
       " <MoreComments count=1, children=['j6xovxt']>,\n",
       " <MoreComments count=1, children=['j6tre13']>,\n",
       " <MoreComments count=1, children=['j6uez8v']>,\n",
       " <MoreComments count=1, children=['j6vbdw8']>,\n",
       " <MoreComments count=1, children=['j74bkdu']>,\n",
       " <MoreComments count=1, children=['j6uqh6f']>,\n",
       " <MoreComments count=1, children=['j6vrsbe']>,\n",
       " <MoreComments count=1, children=['j6vmm8g']>,\n",
       " <MoreComments count=1, children=['j6wxj1m']>,\n",
       " <MoreComments count=1, children=['j6uytvh']>,\n",
       " <MoreComments count=1, children=['j6y5y8j']>,\n",
       " <MoreComments count=1, children=['j6wnlgg']>,\n",
       " <MoreComments count=1, children=['j6vpkjb']>,\n",
       " <MoreComments count=1, children=['j6tt9gu']>,\n",
       " <MoreComments count=1, children=['j6vri4s']>,\n",
       " <MoreComments count=1, children=['j6u854e']>,\n",
       " <MoreComments count=1, children=['j6u86rt']>,\n",
       " <MoreComments count=1, children=['j6vcee2']>,\n",
       " <MoreComments count=1, children=['j6vtdxp']>,\n",
       " <MoreComments count=1, children=['j6xw49z']>,\n",
       " <MoreComments count=1, children=['j6ugvj0']>,\n",
       " <MoreComments count=1, children=['j6u6w2t']>,\n",
       " <MoreComments count=1, children=['j6uq0in']>,\n",
       " <MoreComments count=1, children=['j6y1yl3']>,\n",
       " <MoreComments count=1, children=['j6vygwt']>,\n",
       " <MoreComments count=1, children=['j6vmzho']>,\n",
       " <MoreComments count=1, children=['j6x8cxa']>,\n",
       " <MoreComments count=1, children=['j6uf7p5']>,\n",
       " <MoreComments count=1, children=['j6u3jdv']>,\n",
       " <MoreComments count=1, children=['j6wpa4b']>,\n",
       " <MoreComments count=1, children=['j6vw4gm']>,\n",
       " <MoreComments count=1, children=['j6wu3ua']>,\n",
       " <MoreComments count=1, children=['j6xfsd7']>,\n",
       " <MoreComments count=1, children=['j6u7mfo']>,\n",
       " <MoreComments count=1, children=['j6xixx0']>,\n",
       " <MoreComments count=1, children=['j6vf34w']>,\n",
       " <MoreComments count=1, children=['j6vtqxg']>,\n",
       " <MoreComments count=1, children=['j6wq0lr']>,\n",
       " <MoreComments count=1, children=['j6vncmq']>,\n",
       " <MoreComments count=1, children=['j6vkx55']>,\n",
       " <MoreComments count=1, children=['j6v5mh1']>,\n",
       " <MoreComments count=1, children=['j6whl7y']>,\n",
       " <MoreComments count=1, children=['j6tb737']>,\n",
       " <MoreComments count=1, children=['j6vwfuw']>,\n",
       " <MoreComments count=1, children=['j6wol8g']>,\n",
       " <MoreComments count=1, children=['j6vqdcs']>,\n",
       " <MoreComments count=1, children=['j6v5s3z']>,\n",
       " <MoreComments count=1, children=['j6vuisp']>,\n",
       " <MoreComments count=1, children=['j6wrofc']>,\n",
       " <MoreComments count=1, children=['j6ut4by']>,\n",
       " <MoreComments count=1, children=['j6vs07x']>,\n",
       " <MoreComments count=1, children=['j6wlmft']>,\n",
       " <MoreComments count=1, children=['j6x2e0s']>,\n",
       " <MoreComments count=1, children=['j6wa55f']>,\n",
       " <MoreComments count=1, children=['j6vlsyt']>,\n",
       " <MoreComments count=1, children=['j6w931d']>,\n",
       " <MoreComments count=1, children=['j6wn82q']>,\n",
       " <MoreComments count=1, children=['j6ts03w']>,\n",
       " <MoreComments count=1, children=['j6w6tty']>,\n",
       " <MoreComments count=1, children=['j6upczv']>,\n",
       " <MoreComments count=1, children=['j6vkfim']>,\n",
       " <MoreComments count=1, children=['j6uyo5f']>,\n",
       " <MoreComments count=1, children=['j6t7omt']>,\n",
       " <MoreComments count=1, children=['j6t952m']>,\n",
       " <MoreComments count=1, children=['j6un084']>,\n",
       " <MoreComments count=1, children=['j6vgtfu']>,\n",
       " <MoreComments count=1, children=['j6tqp4z']>,\n",
       " <MoreComments count=1, children=['j6xigh2']>,\n",
       " <MoreComments count=1, children=['j6uwwj5']>,\n",
       " <MoreComments count=1, children=['j6wdl5u']>,\n",
       " <MoreComments count=1, children=['j6up3q9']>,\n",
       " <MoreComments count=1, children=['j6ue1qj']>,\n",
       " <MoreComments count=1, children=['j6v9955']>,\n",
       " <MoreComments count=1, children=['j6v155f']>,\n",
       " <MoreComments count=1, children=['j6vgyoy']>,\n",
       " <MoreComments count=1, children=['j6ut9ao']>,\n",
       " <MoreComments count=1, children=['j6willc']>,\n",
       " <MoreComments count=1, children=['j6uh5al']>,\n",
       " <MoreComments count=1, children=['j6u3kk7']>,\n",
       " <MoreComments count=1, children=['j6vnjh2']>,\n",
       " <MoreComments count=1, children=['j6vwcko']>,\n",
       " <MoreComments count=1, children=['j6wl7hk']>,\n",
       " <MoreComments count=1, children=['j6w6ikk']>,\n",
       " <MoreComments count=1, children=['j6t4uz6']>,\n",
       " <MoreComments count=1, children=['j6u2qfa']>,\n",
       " <MoreComments count=1, children=['j6vrnmn']>,\n",
       " <MoreComments count=1, children=['j6uhwpv']>,\n",
       " <MoreComments count=1, children=['j6ut2bz']>,\n",
       " <MoreComments count=1, children=['j6wty5j']>,\n",
       " <MoreComments count=1, children=['j6wb4tf']>,\n",
       " <MoreComments count=1, children=['j6vufbk']>,\n",
       " <MoreComments count=1, children=['j6zd5j4']>,\n",
       " <MoreComments count=1, children=['j6vrla4']>,\n",
       " <MoreComments count=1, children=['j6wds49']>,\n",
       " <MoreComments count=1, children=['j6wy4c5']>,\n",
       " <MoreComments count=1, children=['j6wgrg0']>,\n",
       " <MoreComments count=1, children=['j6wsy4z']>,\n",
       " <MoreComments count=1, children=['j6v97t1']>,\n",
       " <MoreComments count=1, children=['j6vbups']>,\n",
       " <MoreComments count=1, children=['j6w30v7']>,\n",
       " <MoreComments count=1, children=['j6wn4zc']>,\n",
       " <MoreComments count=1, children=['j6y8lh8']>,\n",
       " <MoreComments count=1, children=['j6wqq1u']>,\n",
       " <MoreComments count=1, children=['j6vsk47']>,\n",
       " <MoreComments count=1, children=['j6wuho1']>,\n",
       " <MoreComments count=1, children=['j6tmcin']>,\n",
       " <MoreComments count=1, children=['j6ugcfb']>,\n",
       " <MoreComments count=1, children=['j6wadon']>,\n",
       " <MoreComments count=1, children=['j6wab01']>,\n",
       " <MoreComments count=1, children=['j6wcfr3']>,\n",
       " <MoreComments count=1, children=['j6vlovw']>,\n",
       " <MoreComments count=1, children=['j6xw9q1']>,\n",
       " <MoreComments count=1, children=['j6w4fpo']>,\n",
       " <MoreComments count=1, children=['j6w3hca']>,\n",
       " <MoreComments count=1, children=['j6v3bg7']>,\n",
       " <MoreComments count=1, children=['j6z6zng']>,\n",
       " <MoreComments count=1, children=['j6u3mmf']>,\n",
       " <MoreComments count=1, children=['j6tv3fn']>,\n",
       " <MoreComments count=1, children=['j6vfk0z']>,\n",
       " <MoreComments count=1, children=['j6uh3mk']>,\n",
       " <MoreComments count=1, children=['j6v2lcm']>,\n",
       " <MoreComments count=1, children=['j6t2k5e']>,\n",
       " <MoreComments count=1, children=['j6vbpko']>,\n",
       " <MoreComments count=1, children=['j6urv7m']>,\n",
       " <MoreComments count=1, children=['j71h6by']>,\n",
       " <MoreComments count=1, children=['j6v8sla']>,\n",
       " <MoreComments count=1, children=['j6vumm9']>,\n",
       " <MoreComments count=1, children=['j6xppaa']>,\n",
       " <MoreComments count=1, children=['j6w376b']>,\n",
       " <MoreComments count=1, children=['j6traur']>,\n",
       " <MoreComments count=1, children=['j6u5c55']>,\n",
       " <MoreComments count=1, children=['j6vgzie']>,\n",
       " <MoreComments count=1, children=['j6vzwcl']>,\n",
       " <MoreComments count=1, children=['j6u4rkt']>,\n",
       " <MoreComments count=1, children=['j6yfug7']>,\n",
       " <MoreComments count=1, children=['j6wxzol']>,\n",
       " <MoreComments count=1, children=['j6wdm8i']>,\n",
       " <MoreComments count=1, children=['j6t5quv']>,\n",
       " <MoreComments count=1, children=['j6wk6rm']>,\n",
       " <MoreComments count=1, children=['j6v9o77']>,\n",
       " <MoreComments count=0, children=[]>,\n",
       " <MoreComments count=0, children=[]>,\n",
       " <MoreComments count=0, children=[]>,\n",
       " <MoreComments count=0, children=[]>,\n",
       " <MoreComments count=0, children=[]>,\n",
       " <MoreComments count=0, children=[]>,\n",
       " <MoreComments count=0, children=[]>,\n",
       " <MoreComments count=0, children=[]>,\n",
       " <MoreComments count=0, children=[]>,\n",
       " <MoreComments count=0, children=[]>,\n",
       " <MoreComments count=0, children=[]>,\n",
       " <MoreComments count=0, children=[]>,\n",
       " <MoreComments count=0, children=[]>,\n",
       " <MoreComments count=0, children=[]>,\n",
       " <MoreComments count=0, children=[]>,\n",
       " <MoreComments count=0, children=[]>,\n",
       " <MoreComments count=0, children=[]>,\n",
       " <MoreComments count=0, children=[]>,\n",
       " <MoreComments count=0, children=[]>,\n",
       " <MoreComments count=0, children=[]>,\n",
       " <MoreComments count=0, children=[]>,\n",
       " <MoreComments count=0, children=[]>,\n",
       " <MoreComments count=0, children=[]>,\n",
       " <MoreComments count=0, children=[]>,\n",
       " <MoreComments count=0, children=[]>,\n",
       " <MoreComments count=0, children=[]>,\n",
       " <MoreComments count=0, children=[]>,\n",
       " <MoreComments count=0, children=[]>]"
      ]
     },
     "execution_count": 7,
     "metadata": {},
     "output_type": "execute_result"
    },
    {
     "name": "stdout",
     "output_type": "stream",
     "text": [
      "Title: What's something you're a total \"Boomer\" about, even if you're \"with the times\" for most everything else? | UP: 5221 - DOWN: 0\n"
     ]
    },
    {
     "data": {
      "text/plain": [
       "[]"
      ]
     },
     "execution_count": 7,
     "metadata": {},
     "output_type": "execute_result"
    },
    {
     "name": "stdout",
     "output_type": "stream",
     "text": [
      "Title: How do you set better, more achievable goals for yourself? | UP: 1 - DOWN: 0\n"
     ]
    },
    {
     "data": {
      "text/plain": [
       "[]"
      ]
     },
     "execution_count": 7,
     "metadata": {},
     "output_type": "execute_result"
    },
    {
     "name": "stdout",
     "output_type": "stream",
     "text": [
      "Title: How have you experienced or witnessed random acts of kindness? | UP: 17 - DOWN: 0\n"
     ]
    },
    {
     "data": {
      "text/plain": [
       "[]"
      ]
     },
     "execution_count": 7,
     "metadata": {},
     "output_type": "execute_result"
    },
    {
     "name": "stdout",
     "output_type": "stream",
     "text": [
      "Title: What drives your work ethic sky high? What motivates you the most to get the most done? | UP: 3 - DOWN: 0\n"
     ]
    },
    {
     "data": {
      "text/plain": [
       "[<MoreComments count=0, children=[]>, <MoreComments count=0, children=[]>]"
      ]
     },
     "execution_count": 7,
     "metadata": {},
     "output_type": "execute_result"
    },
    {
     "name": "stdout",
     "output_type": "stream",
     "text": [
      "Title: Men, who have daughters, what fatherly advice would you give to them that they should know about men in general? | UP: 78 - DOWN: 0\n"
     ]
    },
    {
     "data": {
      "text/plain": [
       "[<MoreComments count=0, children=[]>]"
      ]
     },
     "execution_count": 7,
     "metadata": {},
     "output_type": "execute_result"
    },
    {
     "name": "stdout",
     "output_type": "stream",
     "text": [
      "Title: What do you consider as a stupid hobby? | UP: 12 - DOWN: 0\n"
     ]
    },
    {
     "data": {
      "text/plain": [
       "[]"
      ]
     },
     "execution_count": 7,
     "metadata": {},
     "output_type": "execute_result"
    },
    {
     "name": "stdout",
     "output_type": "stream",
     "text": [
      "Title: How often do the girls you’re talking to send you selfies? Would you prioritize the ones that send them often over the ones that rarely do? (This is without you asking) | UP: 0 - DOWN: 0\n"
     ]
    },
    {
     "data": {
      "text/plain": [
       "[]"
      ]
     },
     "execution_count": 7,
     "metadata": {},
     "output_type": "execute_result"
    },
    {
     "name": "stdout",
     "output_type": "stream",
     "text": [
      "Title: Hey guys hope you’re having a Good Friday. I had a question how do you know if you’re with a man eater? | UP: 0 - DOWN: 0\n"
     ]
    },
    {
     "data": {
      "text/plain": [
       "[]"
      ]
     },
     "execution_count": 7,
     "metadata": {},
     "output_type": "execute_result"
    },
    {
     "name": "stdout",
     "output_type": "stream",
     "text": [
      "Title: How did you come to terms with your new found success | UP: 0 - DOWN: 0\n"
     ]
    },
    {
     "data": {
      "text/plain": [
       "[<MoreComments count=0, children=[]>, <MoreComments count=0, children=[]>]"
      ]
     },
     "execution_count": 7,
     "metadata": {},
     "output_type": "execute_result"
    },
    {
     "name": "stdout",
     "output_type": "stream",
     "text": [
      "Title: Who are common /popular male role models? and why? | UP: 37 - DOWN: 0\n"
     ]
    },
    {
     "data": {
      "text/plain": [
       "[]"
      ]
     },
     "execution_count": 7,
     "metadata": {},
     "output_type": "execute_result"
    },
    {
     "name": "stdout",
     "output_type": "stream",
     "text": [
      "Title: When do you ask a guy about a potential second date? | UP: 24 - DOWN: 0\n"
     ]
    },
    {
     "data": {
      "text/plain": [
       "[]"
      ]
     },
     "execution_count": 7,
     "metadata": {},
     "output_type": "execute_result"
    },
    {
     "name": "stdout",
     "output_type": "stream",
     "text": [
      "Title: If you could do it over what would you do differently? | UP: 8 - DOWN: 0\n"
     ]
    },
    {
     "data": {
      "text/plain": [
       "[<MoreComments count=4, children=['j6vq4fh']>,\n",
       " <MoreComments count=4, children=['j71hw9d', 'j70wadv', 'j70mzpq', 'j6y3p5l']>,\n",
       " <MoreComments count=4, children=['j6ykde8']>,\n",
       " <MoreComments count=4, children=['j6x5hfp']>,\n",
       " <MoreComments count=4, children=['j6x35se']>,\n",
       " <MoreComments count=3, children=['j6x04rc']>,\n",
       " <MoreComments count=3, children=['j6vjrxl']>,\n",
       " <MoreComments count=3, children=['j6yn4v0']>,\n",
       " <MoreComments count=3, children=['j6x3guv']>,\n",
       " <MoreComments count=3, children=['j6vz31s']>,\n",
       " <MoreComments count=3, children=['j6wyiuq']>,\n",
       " <MoreComments count=2, children=['j6w7itp']>,\n",
       " <MoreComments count=2, children=['j6y9sn6']>,\n",
       " <MoreComments count=2, children=['j6vpmqb']>,\n",
       " <MoreComments count=2, children=['j6xou40', 'j6y39ud']>,\n",
       " <MoreComments count=1, children=['j72zdbg']>,\n",
       " <MoreComments count=1, children=['j704y4c']>,\n",
       " <MoreComments count=1, children=['j6xnv3f']>,\n",
       " <MoreComments count=1, children=['j7110eh']>,\n",
       " <MoreComments count=1, children=['j71ilxt']>,\n",
       " <MoreComments count=1, children=['j71580i']>,\n",
       " <MoreComments count=1, children=['j6x2pny']>,\n",
       " <MoreComments count=1, children=['j6x77am']>,\n",
       " <MoreComments count=1, children=['j72jp9h']>,\n",
       " <MoreComments count=1, children=['j6z50da']>,\n",
       " <MoreComments count=1, children=['j6x0ksv']>,\n",
       " <MoreComments count=1, children=['j6xyblc']>,\n",
       " <MoreComments count=1, children=['j724g0d']>,\n",
       " <MoreComments count=1, children=['j6yrk05']>,\n",
       " <MoreComments count=1, children=['j6w7hin']>,\n",
       " <MoreComments count=0, children=[]>,\n",
       " <MoreComments count=0, children=[]>,\n",
       " <MoreComments count=0, children=[]>,\n",
       " <MoreComments count=0, children=[]>,\n",
       " <MoreComments count=0, children=[]>,\n",
       " <MoreComments count=0, children=[]>,\n",
       " <MoreComments count=0, children=[]>,\n",
       " <MoreComments count=0, children=[]>,\n",
       " <MoreComments count=0, children=[]>,\n",
       " <MoreComments count=0, children=[]>]"
      ]
     },
     "execution_count": 7,
     "metadata": {},
     "output_type": "execute_result"
    },
    {
     "name": "stdout",
     "output_type": "stream",
     "text": [
      "Title: Men, what are your thoughts about the female only “AreWeDatingTheSameGuy” groups that are on Facebook? | UP: 415 - DOWN: 0\n"
     ]
    },
    {
     "data": {
      "text/plain": [
       "[]"
      ]
     },
     "execution_count": 7,
     "metadata": {},
     "output_type": "execute_result"
    },
    {
     "name": "stdout",
     "output_type": "stream",
     "text": [
      "Title: What's your favorite dinner to cook for yourself? | UP: 3 - DOWN: 0\n"
     ]
    },
    {
     "data": {
      "text/plain": [
       "[]"
      ]
     },
     "execution_count": 7,
     "metadata": {},
     "output_type": "execute_result"
    },
    {
     "name": "stdout",
     "output_type": "stream",
     "text": [
      "Title: How often do you think about that perfect stick you once found while walking? | UP: 37 - DOWN: 0\n"
     ]
    },
    {
     "data": {
      "text/plain": [
       "[]"
      ]
     },
     "execution_count": 7,
     "metadata": {},
     "output_type": "execute_result"
    },
    {
     "name": "stdout",
     "output_type": "stream",
     "text": [
      "Title: What would make you feel taken advantage of? | UP: 5 - DOWN: 0\n"
     ]
    },
    {
     "data": {
      "text/plain": [
       "[]"
      ]
     },
     "execution_count": 7,
     "metadata": {},
     "output_type": "execute_result"
    },
    {
     "name": "stdout",
     "output_type": "stream",
     "text": [
      "Title: What is your favorite m&ms? | UP: 5 - DOWN: 0\n"
     ]
    },
    {
     "data": {
      "text/plain": [
       "[]"
      ]
     },
     "execution_count": 7,
     "metadata": {},
     "output_type": "execute_result"
    },
    {
     "name": "stdout",
     "output_type": "stream",
     "text": [
      "Title: What's your \"go to\" work pants brand that's both durable *and* comfortable? | UP: 1 - DOWN: 0\n"
     ]
    },
    {
     "data": {
      "text/plain": [
       "[]"
      ]
     },
     "execution_count": 7,
     "metadata": {},
     "output_type": "execute_result"
    },
    {
     "name": "stdout",
     "output_type": "stream",
     "text": [
      "Title: Which job is lot more fun than most people expect? | UP: 2 - DOWN: 0\n"
     ]
    },
    {
     "data": {
      "text/plain": [
       "[<MoreComments count=0, children=[]>]"
      ]
     },
     "execution_count": 7,
     "metadata": {},
     "output_type": "execute_result"
    },
    {
     "name": "stdout",
     "output_type": "stream",
     "text": [
      "Title: How much ‘down time’ is reasonable when you have a baby? | UP: 26 - DOWN: 0\n"
     ]
    },
    {
     "data": {
      "text/plain": [
       "[]"
      ]
     },
     "execution_count": 7,
     "metadata": {},
     "output_type": "execute_result"
    },
    {
     "name": "stdout",
     "output_type": "stream",
     "text": [
      "Title: Whats the longest you have been without making love to your partner. And why | UP: 1 - DOWN: 0\n"
     ]
    },
    {
     "data": {
      "text/plain": [
       "[]"
      ]
     },
     "execution_count": 7,
     "metadata": {},
     "output_type": "execute_result"
    },
    {
     "name": "stdout",
     "output_type": "stream",
     "text": [
      "Title: Men of Reddit, what's your actual feeling when the other SO proposes to you, especially women proposing men? | UP: 0 - DOWN: 0\n"
     ]
    },
    {
     "data": {
      "text/plain": [
       "[]"
      ]
     },
     "execution_count": 7,
     "metadata": {},
     "output_type": "execute_result"
    },
    {
     "name": "stdout",
     "output_type": "stream",
     "text": [
      "Title: What do you guys think about Deep Fake? | UP: 0 - DOWN: 0\n"
     ]
    },
    {
     "data": {
      "text/plain": [
       "[]"
      ]
     },
     "execution_count": 7,
     "metadata": {},
     "output_type": "execute_result"
    },
    {
     "name": "stdout",
     "output_type": "stream",
     "text": [
      "Title: When’s the last time you were tested? | UP: 0 - DOWN: 0\n"
     ]
    },
    {
     "data": {
      "text/plain": [
       "[]"
      ]
     },
     "execution_count": 7,
     "metadata": {},
     "output_type": "execute_result"
    },
    {
     "name": "stdout",
     "output_type": "stream",
     "text": [
      "Title: What's the name of your boy band? | UP: 2 - DOWN: 0\n"
     ]
    },
    {
     "data": {
      "text/plain": [
       "[]"
      ]
     },
     "execution_count": 7,
     "metadata": {},
     "output_type": "execute_result"
    },
    {
     "name": "stdout",
     "output_type": "stream",
     "text": [
      "Title: How do you get non-group, non-selfie pictures of yourself? | UP: 5 - DOWN: 0\n"
     ]
    },
    {
     "data": {
      "text/plain": [
       "[]"
      ]
     },
     "execution_count": 7,
     "metadata": {},
     "output_type": "execute_result"
    },
    {
     "name": "stdout",
     "output_type": "stream",
     "text": [
      "Title: What did you think was impossible to do, but you accomplished anyway? | UP: 5 - DOWN: 0\n"
     ]
    },
    {
     "data": {
      "text/plain": [
       "[]"
      ]
     },
     "execution_count": 7,
     "metadata": {},
     "output_type": "execute_result"
    },
    {
     "name": "stdout",
     "output_type": "stream",
     "text": [
      "Title: What are some good deodorants for me to try? | UP: 3 - DOWN: 0\n"
     ]
    },
    {
     "data": {
      "text/plain": [
       "[]"
      ]
     },
     "execution_count": 7,
     "metadata": {},
     "output_type": "execute_result"
    },
    {
     "name": "stdout",
     "output_type": "stream",
     "text": [
      "Title: How can food get in mustache when it's stiff like cracker rather than uncontrollable like pasta? | UP: 0 - DOWN: 0\n"
     ]
    },
    {
     "data": {
      "text/plain": [
       "[]"
      ]
     },
     "execution_count": 7,
     "metadata": {},
     "output_type": "execute_result"
    },
    {
     "name": "stdout",
     "output_type": "stream",
     "text": [
      "Title: What are the most European countries outside of Europe? | UP: 0 - DOWN: 0\n"
     ]
    },
    {
     "data": {
      "text/plain": [
       "[]"
      ]
     },
     "execution_count": 7,
     "metadata": {},
     "output_type": "execute_result"
    },
    {
     "name": "stdout",
     "output_type": "stream",
     "text": [
      "Title: How would you describe the feeling of getting hit (tapped, kicked, etc) in the nuts? | UP: 0 - DOWN: 0\n"
     ]
    },
    {
     "data": {
      "text/plain": [
       "[]"
      ]
     },
     "execution_count": 7,
     "metadata": {},
     "output_type": "execute_result"
    },
    {
     "name": "stdout",
     "output_type": "stream",
     "text": [
      "Title: What is something about your personality that you don't like? | UP: 3 - DOWN: 0\n"
     ]
    },
    {
     "data": {
      "text/plain": [
       "[]"
      ]
     },
     "execution_count": 7,
     "metadata": {},
     "output_type": "execute_result"
    },
    {
     "name": "stdout",
     "output_type": "stream",
     "text": [
      "Title: As you have gotten older what have you appreciated more about your parents? | UP: 1 - DOWN: 0\n"
     ]
    },
    {
     "data": {
      "text/plain": [
       "[]"
      ]
     },
     "execution_count": 7,
     "metadata": {},
     "output_type": "execute_result"
    },
    {
     "name": "stdout",
     "output_type": "stream",
     "text": [
      "Title: What is the best way to wingman for your bestfriend during a party? | UP: 2 - DOWN: 0\n"
     ]
    },
    {
     "data": {
      "text/plain": [
       "[]"
      ]
     },
     "execution_count": 7,
     "metadata": {},
     "output_type": "execute_result"
    },
    {
     "name": "stdout",
     "output_type": "stream",
     "text": [
      "Title: What did you learn or accomplish in the first month of 2023? | UP: 4 - DOWN: 0\n"
     ]
    },
    {
     "data": {
      "text/plain": [
       "[]"
      ]
     },
     "execution_count": 7,
     "metadata": {},
     "output_type": "execute_result"
    },
    {
     "name": "stdout",
     "output_type": "stream",
     "text": [
      "Title: Older Men of Reddit, how did the past generation view you guys when you were young? | UP: 15 - DOWN: 0\n"
     ]
    },
    {
     "data": {
      "text/plain": [
       "[]"
      ]
     },
     "execution_count": 7,
     "metadata": {},
     "output_type": "execute_result"
    },
    {
     "name": "stdout",
     "output_type": "stream",
     "text": [
      "Title: what is the mandatory things ,which should be discussed with partner & her family before marriage? | UP: 1 - DOWN: 0\n"
     ]
    },
    {
     "data": {
      "text/plain": [
       "[]"
      ]
     },
     "execution_count": 7,
     "metadata": {},
     "output_type": "execute_result"
    },
    {
     "name": "stdout",
     "output_type": "stream",
     "text": [
      "Title: When did you realize you were letting yourself go and what did you do about it? | UP: 17 - DOWN: 0\n"
     ]
    },
    {
     "data": {
      "text/plain": [
       "[]"
      ]
     },
     "execution_count": 7,
     "metadata": {},
     "output_type": "execute_result"
    },
    {
     "name": "stdout",
     "output_type": "stream",
     "text": [
      "Title: Men who USED TO be pessimistic and have low self esteem how did you get out of that mindset? | UP: 2 - DOWN: 0\n"
     ]
    },
    {
     "data": {
      "text/plain": [
       "[]"
      ]
     },
     "execution_count": 7,
     "metadata": {},
     "output_type": "execute_result"
    },
    {
     "name": "stdout",
     "output_type": "stream",
     "text": [
      "Title: What do you think i should do with my father that abandoned me and now is trying to reconnect? | UP: 2 - DOWN: 0\n"
     ]
    },
    {
     "data": {
      "text/plain": [
       "[]"
      ]
     },
     "execution_count": 7,
     "metadata": {},
     "output_type": "execute_result"
    },
    {
     "name": "stdout",
     "output_type": "stream",
     "text": [
      "Title: What are \"shorthand\" cues to guys that someone should be taken seriously? | UP: 1 - DOWN: 0\n"
     ]
    },
    {
     "data": {
      "text/plain": [
       "[]"
      ]
     },
     "execution_count": 7,
     "metadata": {},
     "output_type": "execute_result"
    },
    {
     "name": "stdout",
     "output_type": "stream",
     "text": [
      "Title: Men of Reddit, if you stopped reaching out to friends, how long would it take for someone to check in on you? | UP: 11 - DOWN: 0\n"
     ]
    },
    {
     "data": {
      "text/plain": [
       "[]"
      ]
     },
     "execution_count": 7,
     "metadata": {},
     "output_type": "execute_result"
    },
    {
     "name": "stdout",
     "output_type": "stream",
     "text": [
      "Title: If you had the chance to talk to a past significant other from the best relationship you had. What would you say? | UP: 7 - DOWN: 0\n"
     ]
    },
    {
     "data": {
      "text/plain": [
       "[]"
      ]
     },
     "execution_count": 7,
     "metadata": {},
     "output_type": "execute_result"
    },
    {
     "name": "stdout",
     "output_type": "stream",
     "text": [
      "Title: Men who can’t say I love you to your partner, how are we meant to know if you love us? | UP: 2 - DOWN: 0\n"
     ]
    },
    {
     "data": {
      "text/plain": [
       "[]"
      ]
     },
     "execution_count": 7,
     "metadata": {},
     "output_type": "execute_result"
    },
    {
     "name": "stdout",
     "output_type": "stream",
     "text": [
      "Title: what is like being a chef? | UP: 11 - DOWN: 0\n"
     ]
    },
    {
     "data": {
      "text/plain": [
       "[]"
      ]
     },
     "execution_count": 7,
     "metadata": {},
     "output_type": "execute_result"
    },
    {
     "name": "stdout",
     "output_type": "stream",
     "text": [
      "Title: Let’s try to normalize a little bit more us Men talking about our feelings, what are you struggling with or what are you happy about? | UP: 0 - DOWN: 0\n"
     ]
    },
    {
     "data": {
      "text/plain": [
       "[]"
      ]
     },
     "execution_count": 7,
     "metadata": {},
     "output_type": "execute_result"
    },
    {
     "name": "stdout",
     "output_type": "stream",
     "text": [
      "Title: If you've never been on a dating app, how do you think you would do? | UP: 3 - DOWN: 0\n"
     ]
    },
    {
     "data": {
      "text/plain": [
       "[]"
      ]
     },
     "execution_count": 7,
     "metadata": {},
     "output_type": "execute_result"
    },
    {
     "name": "stdout",
     "output_type": "stream",
     "text": [
      "Title: Men what’s the height for a woman that you prefer to date and what’s your height, why? | UP: 3 - DOWN: 0\n"
     ]
    },
    {
     "data": {
      "text/plain": [
       "[]"
      ]
     },
     "execution_count": 7,
     "metadata": {},
     "output_type": "execute_result"
    },
    {
     "name": "stdout",
     "output_type": "stream",
     "text": [
      "Title: Do you love your wife or your children more and why? | UP: 2 - DOWN: 0\n"
     ]
    },
    {
     "data": {
      "text/plain": [
       "[]"
      ]
     },
     "execution_count": 7,
     "metadata": {},
     "output_type": "execute_result"
    },
    {
     "name": "stdout",
     "output_type": "stream",
     "text": [
      "Title: Why do short men and tall women tend to struggle in the game of dating? | UP: 1 - DOWN: 0\n"
     ]
    },
    {
     "data": {
      "text/plain": [
       "[]"
      ]
     },
     "execution_count": 7,
     "metadata": {},
     "output_type": "execute_result"
    },
    {
     "name": "stdout",
     "output_type": "stream",
     "text": [
      "Title: What is a fact or story you don't get to tell as much as you'd like? | UP: 9 - DOWN: 0\n"
     ]
    }
   ],
   "source": [
    "subreddit = reddit.subreddit('askmen')\n",
    "hot_python = subreddit.hot(limit = 500)\n",
    "# initialize empty data frame\n",
    "df_men = pd.DataFrame()\n",
    "for submission in hot_python:\n",
    "    submission.comments.replace_more(limit = None, threshold = 5);\n",
    "    if not submission.stickied:\n",
    "        print('Title: {} | UP: {} - DOWN: {}'.format(submission.title,submission.ups, submission.downs))\n",
    "    that_comments = submission.comments\n",
    "    df_rows = [[comment.author,comment.score,comment.body,comment.submission.title,comment.submission.ups,comment.submission.downs] for comment in that_comments]\n",
    "    df_men = df_men.append(df_rows);"
   ]
  },
  {
   "cell_type": "code",
   "execution_count": 8,
   "id": "bf8ea9b2",
   "metadata": {},
   "outputs": [
    {
     "data": {
      "text/html": [
       "<div>\n",
       "<style scoped>\n",
       "    .dataframe tbody tr th:only-of-type {\n",
       "        vertical-align: middle;\n",
       "    }\n",
       "\n",
       "    .dataframe tbody tr th {\n",
       "        vertical-align: top;\n",
       "    }\n",
       "\n",
       "    .dataframe thead th {\n",
       "        text-align: right;\n",
       "    }\n",
       "</style>\n",
       "<table border=\"1\" class=\"dataframe\">\n",
       "  <thead>\n",
       "    <tr style=\"text-align: right;\">\n",
       "      <th></th>\n",
       "      <th>0</th>\n",
       "      <th>1</th>\n",
       "      <th>2</th>\n",
       "      <th>3</th>\n",
       "      <th>4</th>\n",
       "      <th>5</th>\n",
       "    </tr>\n",
       "  </thead>\n",
       "  <tbody>\n",
       "    <tr>\n",
       "      <th>0</th>\n",
       "      <td>virusamongus</td>\n",
       "      <td>942</td>\n",
       "      <td>Oh no, I was so interested in the nuanced deba...</td>\n",
       "      <td>BONK! Overly sexual questions are no longer al...</td>\n",
       "      <td>13949</td>\n",
       "      <td>0</td>\n",
       "    </tr>\n",
       "    <tr>\n",
       "      <th>1</th>\n",
       "      <td>CoffeeEnjoyerFrog</td>\n",
       "      <td>4172</td>\n",
       "      <td>Can't wait to see : men, what gets you at 25% ...</td>\n",
       "      <td>BONK! Overly sexual questions are no longer al...</td>\n",
       "      <td>13949</td>\n",
       "      <td>0</td>\n",
       "    </tr>\n",
       "    <tr>\n",
       "      <th>2</th>\n",
       "      <td>5altyShoe</td>\n",
       "      <td>4326</td>\n",
       "      <td>Looks like someone got some post ~~nut~~ legum...</td>\n",
       "      <td>BONK! Overly sexual questions are no longer al...</td>\n",
       "      <td>13949</td>\n",
       "      <td>0</td>\n",
       "    </tr>\n",
       "    <tr>\n",
       "      <th>3</th>\n",
       "      <td>mightyjake</td>\n",
       "      <td>1876</td>\n",
       "      <td>&gt; remember to read the Bible\\n\\nEzekiel 23:20\\...</td>\n",
       "      <td>BONK! Overly sexual questions are no longer al...</td>\n",
       "      <td>13949</td>\n",
       "      <td>0</td>\n",
       "    </tr>\n",
       "    <tr>\n",
       "      <th>4</th>\n",
       "      <td>TallCombination6</td>\n",
       "      <td>764</td>\n",
       "      <td>How am I supposed to know that men enjoy blowj...</td>\n",
       "      <td>BONK! Overly sexual questions are no longer al...</td>\n",
       "      <td>13949</td>\n",
       "      <td>0</td>\n",
       "    </tr>\n",
       "    <tr>\n",
       "      <th>...</th>\n",
       "      <td>...</td>\n",
       "      <td>...</td>\n",
       "      <td>...</td>\n",
       "      <td>...</td>\n",
       "      <td>...</td>\n",
       "      <td>...</td>\n",
       "    </tr>\n",
       "    <tr>\n",
       "      <th>2</th>\n",
       "      <td>randylahey2883</td>\n",
       "      <td>3</td>\n",
       "      <td>I had a bear come into my camp on more than on...</td>\n",
       "      <td>What is a fact or story you don't get to tell ...</td>\n",
       "      <td>9</td>\n",
       "      <td>0</td>\n",
       "    </tr>\n",
       "    <tr>\n",
       "      <th>3</th>\n",
       "      <td>BalloonPilotDude</td>\n",
       "      <td>3</td>\n",
       "      <td>A story that I think about allot but I doubt t...</td>\n",
       "      <td>What is a fact or story you don't get to tell ...</td>\n",
       "      <td>9</td>\n",
       "      <td>0</td>\n",
       "    </tr>\n",
       "    <tr>\n",
       "      <th>4</th>\n",
       "      <td>JetBrink</td>\n",
       "      <td>3</td>\n",
       "      <td>I'm awesome in bed</td>\n",
       "      <td>What is a fact or story you don't get to tell ...</td>\n",
       "      <td>9</td>\n",
       "      <td>0</td>\n",
       "    </tr>\n",
       "    <tr>\n",
       "      <th>5</th>\n",
       "      <td>Stabbmaster</td>\n",
       "      <td>9</td>\n",
       "      <td>The first slaveowner in the United States was ...</td>\n",
       "      <td>What is a fact or story you don't get to tell ...</td>\n",
       "      <td>9</td>\n",
       "      <td>0</td>\n",
       "    </tr>\n",
       "    <tr>\n",
       "      <th>6</th>\n",
       "      <td>Agi7890</td>\n",
       "      <td>1</td>\n",
       "      <td>The story about how I was offered 15k to help ...</td>\n",
       "      <td>What is a fact or story you don't get to tell ...</td>\n",
       "      <td>9</td>\n",
       "      <td>0</td>\n",
       "    </tr>\n",
       "  </tbody>\n",
       "</table>\n",
       "<p>17280 rows × 6 columns</p>\n",
       "</div>"
      ],
      "text/plain": [
       "                    0     1  \\\n",
       "0        virusamongus   942   \n",
       "1   CoffeeEnjoyerFrog  4172   \n",
       "2           5altyShoe  4326   \n",
       "3          mightyjake  1876   \n",
       "4    TallCombination6   764   \n",
       "..                ...   ...   \n",
       "2      randylahey2883     3   \n",
       "3    BalloonPilotDude     3   \n",
       "4            JetBrink     3   \n",
       "5         Stabbmaster     9   \n",
       "6             Agi7890     1   \n",
       "\n",
       "                                                    2  \\\n",
       "0   Oh no, I was so interested in the nuanced deba...   \n",
       "1   Can't wait to see : men, what gets you at 25% ...   \n",
       "2   Looks like someone got some post ~~nut~~ legum...   \n",
       "3   > remember to read the Bible\\n\\nEzekiel 23:20\\...   \n",
       "4   How am I supposed to know that men enjoy blowj...   \n",
       "..                                                ...   \n",
       "2   I had a bear come into my camp on more than on...   \n",
       "3   A story that I think about allot but I doubt t...   \n",
       "4                                  I'm awesome in bed   \n",
       "5   The first slaveowner in the United States was ...   \n",
       "6   The story about how I was offered 15k to help ...   \n",
       "\n",
       "                                                    3      4  5  \n",
       "0   BONK! Overly sexual questions are no longer al...  13949  0  \n",
       "1   BONK! Overly sexual questions are no longer al...  13949  0  \n",
       "2   BONK! Overly sexual questions are no longer al...  13949  0  \n",
       "3   BONK! Overly sexual questions are no longer al...  13949  0  \n",
       "4   BONK! Overly sexual questions are no longer al...  13949  0  \n",
       "..                                                ...    ... ..  \n",
       "2   What is a fact or story you don't get to tell ...      9  0  \n",
       "3   What is a fact or story you don't get to tell ...      9  0  \n",
       "4   What is a fact or story you don't get to tell ...      9  0  \n",
       "5   What is a fact or story you don't get to tell ...      9  0  \n",
       "6   What is a fact or story you don't get to tell ...      9  0  \n",
       "\n",
       "[17280 rows x 6 columns]"
      ]
     },
     "execution_count": 8,
     "metadata": {},
     "output_type": "execute_result"
    }
   ],
   "source": [
    "df_men"
   ]
  },
  {
   "cell_type": "code",
   "execution_count": 10,
   "id": "3e301151",
   "metadata": {},
   "outputs": [
    {
     "data": {
      "text/html": [
       "<div>\n",
       "<style scoped>\n",
       "    .dataframe tbody tr th:only-of-type {\n",
       "        vertical-align: middle;\n",
       "    }\n",
       "\n",
       "    .dataframe tbody tr th {\n",
       "        vertical-align: top;\n",
       "    }\n",
       "\n",
       "    .dataframe thead th {\n",
       "        text-align: right;\n",
       "    }\n",
       "</style>\n",
       "<table border=\"1\" class=\"dataframe\">\n",
       "  <thead>\n",
       "    <tr style=\"text-align: right;\">\n",
       "      <th></th>\n",
       "      <th>username</th>\n",
       "      <th>comment_score</th>\n",
       "      <th>comment_text</th>\n",
       "      <th>submission_title</th>\n",
       "      <th>submission_ups</th>\n",
       "      <th>submission_downs</th>\n",
       "    </tr>\n",
       "  </thead>\n",
       "  <tbody>\n",
       "    <tr>\n",
       "      <th>0</th>\n",
       "      <td>virusamongus</td>\n",
       "      <td>942</td>\n",
       "      <td>Oh no, I was so interested in the nuanced deba...</td>\n",
       "      <td>BONK! Overly sexual questions are no longer al...</td>\n",
       "      <td>13949</td>\n",
       "      <td>0</td>\n",
       "    </tr>\n",
       "    <tr>\n",
       "      <th>1</th>\n",
       "      <td>CoffeeEnjoyerFrog</td>\n",
       "      <td>4172</td>\n",
       "      <td>Can't wait to see : men, what gets you at 25% ...</td>\n",
       "      <td>BONK! Overly sexual questions are no longer al...</td>\n",
       "      <td>13949</td>\n",
       "      <td>0</td>\n",
       "    </tr>\n",
       "    <tr>\n",
       "      <th>2</th>\n",
       "      <td>5altyShoe</td>\n",
       "      <td>4326</td>\n",
       "      <td>Looks like someone got some post ~~nut~~ legum...</td>\n",
       "      <td>BONK! Overly sexual questions are no longer al...</td>\n",
       "      <td>13949</td>\n",
       "      <td>0</td>\n",
       "    </tr>\n",
       "    <tr>\n",
       "      <th>3</th>\n",
       "      <td>mightyjake</td>\n",
       "      <td>1876</td>\n",
       "      <td>&gt; remember to read the Bible\\n\\nEzekiel 23:20\\...</td>\n",
       "      <td>BONK! Overly sexual questions are no longer al...</td>\n",
       "      <td>13949</td>\n",
       "      <td>0</td>\n",
       "    </tr>\n",
       "    <tr>\n",
       "      <th>4</th>\n",
       "      <td>TallCombination6</td>\n",
       "      <td>764</td>\n",
       "      <td>How am I supposed to know that men enjoy blowj...</td>\n",
       "      <td>BONK! Overly sexual questions are no longer al...</td>\n",
       "      <td>13949</td>\n",
       "      <td>0</td>\n",
       "    </tr>\n",
       "    <tr>\n",
       "      <th>...</th>\n",
       "      <td>...</td>\n",
       "      <td>...</td>\n",
       "      <td>...</td>\n",
       "      <td>...</td>\n",
       "      <td>...</td>\n",
       "      <td>...</td>\n",
       "    </tr>\n",
       "    <tr>\n",
       "      <th>2</th>\n",
       "      <td>randylahey2883</td>\n",
       "      <td>3</td>\n",
       "      <td>I had a bear come into my camp on more than on...</td>\n",
       "      <td>What is a fact or story you don't get to tell ...</td>\n",
       "      <td>9</td>\n",
       "      <td>0</td>\n",
       "    </tr>\n",
       "    <tr>\n",
       "      <th>3</th>\n",
       "      <td>BalloonPilotDude</td>\n",
       "      <td>3</td>\n",
       "      <td>A story that I think about allot but I doubt t...</td>\n",
       "      <td>What is a fact or story you don't get to tell ...</td>\n",
       "      <td>9</td>\n",
       "      <td>0</td>\n",
       "    </tr>\n",
       "    <tr>\n",
       "      <th>4</th>\n",
       "      <td>JetBrink</td>\n",
       "      <td>3</td>\n",
       "      <td>I'm awesome in bed</td>\n",
       "      <td>What is a fact or story you don't get to tell ...</td>\n",
       "      <td>9</td>\n",
       "      <td>0</td>\n",
       "    </tr>\n",
       "    <tr>\n",
       "      <th>5</th>\n",
       "      <td>Stabbmaster</td>\n",
       "      <td>9</td>\n",
       "      <td>The first slaveowner in the United States was ...</td>\n",
       "      <td>What is a fact or story you don't get to tell ...</td>\n",
       "      <td>9</td>\n",
       "      <td>0</td>\n",
       "    </tr>\n",
       "    <tr>\n",
       "      <th>6</th>\n",
       "      <td>Agi7890</td>\n",
       "      <td>1</td>\n",
       "      <td>The story about how I was offered 15k to help ...</td>\n",
       "      <td>What is a fact or story you don't get to tell ...</td>\n",
       "      <td>9</td>\n",
       "      <td>0</td>\n",
       "    </tr>\n",
       "  </tbody>\n",
       "</table>\n",
       "<p>17280 rows × 6 columns</p>\n",
       "</div>"
      ],
      "text/plain": [
       "             username  comment_score  \\\n",
       "0        virusamongus            942   \n",
       "1   CoffeeEnjoyerFrog           4172   \n",
       "2           5altyShoe           4326   \n",
       "3          mightyjake           1876   \n",
       "4    TallCombination6            764   \n",
       "..                ...            ...   \n",
       "2      randylahey2883              3   \n",
       "3    BalloonPilotDude              3   \n",
       "4            JetBrink              3   \n",
       "5         Stabbmaster              9   \n",
       "6             Agi7890              1   \n",
       "\n",
       "                                         comment_text  \\\n",
       "0   Oh no, I was so interested in the nuanced deba...   \n",
       "1   Can't wait to see : men, what gets you at 25% ...   \n",
       "2   Looks like someone got some post ~~nut~~ legum...   \n",
       "3   > remember to read the Bible\\n\\nEzekiel 23:20\\...   \n",
       "4   How am I supposed to know that men enjoy blowj...   \n",
       "..                                                ...   \n",
       "2   I had a bear come into my camp on more than on...   \n",
       "3   A story that I think about allot but I doubt t...   \n",
       "4                                  I'm awesome in bed   \n",
       "5   The first slaveowner in the United States was ...   \n",
       "6   The story about how I was offered 15k to help ...   \n",
       "\n",
       "                                     submission_title  submission_ups  \\\n",
       "0   BONK! Overly sexual questions are no longer al...           13949   \n",
       "1   BONK! Overly sexual questions are no longer al...           13949   \n",
       "2   BONK! Overly sexual questions are no longer al...           13949   \n",
       "3   BONK! Overly sexual questions are no longer al...           13949   \n",
       "4   BONK! Overly sexual questions are no longer al...           13949   \n",
       "..                                                ...             ...   \n",
       "2   What is a fact or story you don't get to tell ...               9   \n",
       "3   What is a fact or story you don't get to tell ...               9   \n",
       "4   What is a fact or story you don't get to tell ...               9   \n",
       "5   What is a fact or story you don't get to tell ...               9   \n",
       "6   What is a fact or story you don't get to tell ...               9   \n",
       "\n",
       "    submission_downs  \n",
       "0                  0  \n",
       "1                  0  \n",
       "2                  0  \n",
       "3                  0  \n",
       "4                  0  \n",
       "..               ...  \n",
       "2                  0  \n",
       "3                  0  \n",
       "4                  0  \n",
       "5                  0  \n",
       "6                  0  \n",
       "\n",
       "[17280 rows x 6 columns]"
      ]
     },
     "execution_count": 10,
     "metadata": {},
     "output_type": "execute_result"
    }
   ],
   "source": [
    "df_men.columns =['username', 'comment_score', 'comment_text', 'submission_title','submission_ups', 'submission_downs']\n",
    "df_men"
   ]
  },
  {
   "cell_type": "markdown",
   "id": "067eda7b",
   "metadata": {},
   "source": [
    "# Saving comment data to askwomen.csv and askmen.csv datasets"
   ]
  },
  {
   "cell_type": "code",
   "execution_count": 11,
   "id": "0030e09d",
   "metadata": {},
   "outputs": [],
   "source": [
    "df_men.to_csv('../data/askmen.csv', sep = ';', encoding = \"utf-8\", index = None, header = True)"
   ]
  },
  {
   "cell_type": "code",
   "execution_count": 12,
   "id": "a9442fe4",
   "metadata": {},
   "outputs": [],
   "source": [
    "df_women.to_csv('../data/askwomen.csv', sep = ';', encoding = \"utf-8\", index = None, header = True)"
   ]
  },
  {
   "cell_type": "code",
   "execution_count": 13,
   "id": "b138e96f",
   "metadata": {},
   "outputs": [
    {
     "data": {
      "text/plain": [
       "338     [removed]\n",
       "238     [removed]\n",
       "118     [removed]\n",
       "18      [removed]\n",
       "76      [removed]\n",
       "6       [removed]\n",
       "27      [removed]\n",
       "27      [removed]\n",
       "17      [removed]\n",
       "60      [removed]\n",
       "289     [removed]\n",
       "605     [removed]\n",
       "1075    [removed]\n",
       "108     [removed]\n",
       "Name: comment_text, dtype: object"
      ]
     },
     "execution_count": 13,
     "metadata": {},
     "output_type": "execute_result"
    }
   ],
   "source": [
    "df_men['comment_text'].loc[df_men['comment_text'] == \"[removed]\"]"
   ]
  },
  {
   "cell_type": "code",
   "execution_count": 14,
   "id": "a9e9deb2",
   "metadata": {},
   "outputs": [
    {
     "data": {
      "text/plain": [
       "34     [removed]\n",
       "47     [removed]\n",
       "48     [removed]\n",
       "49     [removed]\n",
       "50     [removed]\n",
       "         ...    \n",
       "278    [removed]\n",
       "279    [removed]\n",
       "282    [removed]\n",
       "290    [removed]\n",
       "292    [removed]\n",
       "Name: comment_text, Length: 1277, dtype: object"
      ]
     },
     "execution_count": 14,
     "metadata": {},
     "output_type": "execute_result"
    }
   ],
   "source": [
    "df_women['comment_text'].loc[df_women['comment_text'] == \"[removed]\"]"
   ]
  },
  {
   "cell_type": "code",
   "execution_count": null,
   "id": "f89d1aa5",
   "metadata": {},
   "outputs": [],
   "source": []
  }
 ],
 "metadata": {
  "kernelspec": {
   "display_name": "Python 3 (ipykernel)",
   "language": "python",
   "name": "python3"
  },
  "language_info": {
   "codemirror_mode": {
    "name": "ipython",
    "version": 3
   },
   "file_extension": ".py",
   "mimetype": "text/x-python",
   "name": "python",
   "nbconvert_exporter": "python",
   "pygments_lexer": "ipython3",
   "version": "3.7.11"
  }
 },
 "nbformat": 4,
 "nbformat_minor": 5
}
