{
 "cells": [
  {
   "cell_type": "markdown",
   "id": "b6e9759c",
   "metadata": {},
   "source": [
    "# Loading packages"
   ]
  },
  {
   "cell_type": "code",
   "execution_count": 50,
   "id": "c43ec931",
   "metadata": {},
   "outputs": [
    {
     "name": "stderr",
     "output_type": "stream",
     "text": [
      "[nltk_data] Downloading package punkt to\n",
      "[nltk_data]     C:\\Users\\Krystian\\AppData\\Roaming\\nltk_data...\n",
      "[nltk_data]   Package punkt is already up-to-date!\n"
     ]
    },
    {
     "data": {
      "text/plain": [
       "True"
      ]
     },
     "execution_count": 50,
     "metadata": {},
     "output_type": "execute_result"
    },
    {
     "name": "stderr",
     "output_type": "stream",
     "text": [
      "[nltk_data] Downloading package stopwords to\n",
      "[nltk_data]     C:\\Users\\Krystian\\AppData\\Roaming\\nltk_data...\n",
      "[nltk_data]   Package stopwords is already up-to-date!\n"
     ]
    },
    {
     "data": {
      "text/plain": [
       "True"
      ]
     },
     "execution_count": 50,
     "metadata": {},
     "output_type": "execute_result"
    },
    {
     "name": "stderr",
     "output_type": "stream",
     "text": [
      "[nltk_data] Downloading package vader_lexicon to\n",
      "[nltk_data]     C:\\Users\\Krystian\\AppData\\Roaming\\nltk_data...\n",
      "[nltk_data]   Package vader_lexicon is already up-to-date!\n"
     ]
    },
    {
     "data": {
      "text/plain": [
       "True"
      ]
     },
     "execution_count": 50,
     "metadata": {},
     "output_type": "execute_result"
    }
   ],
   "source": [
    "import pandas as pd\n",
    "import numpy as np\n",
    "import re\n",
    "import nltk\n",
    "\n",
    "from nltk.tokenize import word_tokenize # tokenization\n",
    "nltk.download('punkt')\n",
    "from nltk.corpus import stopwords # stopwords\n",
    "nltk.download('stopwords')\n",
    "stop_words = set(stopwords.words('english')) \n",
    "from nltk.stem import PorterStemmer # stemming\n",
    "ps = PorterStemmer() \n",
    "from nltk.stem import WordNetLemmatizer # lemmization\n",
    "lemmatizer = WordNetLemmatizer()\n",
    "\n",
    "nltk.download('vader_lexicon')"
   ]
  },
  {
   "cell_type": "code",
   "execution_count": 2,
   "id": "a1913d4e",
   "metadata": {
    "scrolled": true
   },
   "outputs": [
    {
     "data": {
      "text/plain": [
       "'E:\\\\Projects\\\\TMSMM_Project'"
      ]
     },
     "execution_count": 2,
     "metadata": {},
     "output_type": "execute_result"
    }
   ],
   "source": [
    "import os\n",
    "os.getcwd()"
   ]
  },
  {
   "cell_type": "markdown",
   "id": "277055f8",
   "metadata": {},
   "source": [
    "# Loading data"
   ]
  },
  {
   "cell_type": "code",
   "execution_count": 57,
   "id": "cef22ce6",
   "metadata": {},
   "outputs": [],
   "source": [
    "men = pd.read_csv('data/askmen.csv', sep = ';')\n",
    "women = pd.read_csv('data/askwomen.csv', sep = ';')"
   ]
  },
  {
   "cell_type": "code",
   "execution_count": 64,
   "id": "0c63c276",
   "metadata": {},
   "outputs": [
    {
     "data": {
      "text/html": [
       "<div>\n",
       "<style scoped>\n",
       "    .dataframe tbody tr th:only-of-type {\n",
       "        vertical-align: middle;\n",
       "    }\n",
       "\n",
       "    .dataframe tbody tr th {\n",
       "        vertical-align: top;\n",
       "    }\n",
       "\n",
       "    .dataframe thead th {\n",
       "        text-align: right;\n",
       "    }\n",
       "</style>\n",
       "<table border=\"1\" class=\"dataframe\">\n",
       "  <thead>\n",
       "    <tr style=\"text-align: right;\">\n",
       "      <th></th>\n",
       "      <th>username</th>\n",
       "      <th>comment_score</th>\n",
       "      <th>comment_text</th>\n",
       "      <th>submission_title</th>\n",
       "      <th>submission_ups</th>\n",
       "    </tr>\n",
       "  </thead>\n",
       "  <tbody>\n",
       "    <tr>\n",
       "      <th>0</th>\n",
       "      <td>virusamongus</td>\n",
       "      <td>942</td>\n",
       "      <td>Oh no, I was so interested in the nuanced deba...</td>\n",
       "      <td>BONK! Overly sexual questions are no longer al...</td>\n",
       "      <td>13949</td>\n",
       "    </tr>\n",
       "    <tr>\n",
       "      <th>1</th>\n",
       "      <td>CoffeeEnjoyerFrog</td>\n",
       "      <td>4172</td>\n",
       "      <td>Can't wait to see : men, what gets you at 25% ...</td>\n",
       "      <td>BONK! Overly sexual questions are no longer al...</td>\n",
       "      <td>13949</td>\n",
       "    </tr>\n",
       "    <tr>\n",
       "      <th>2</th>\n",
       "      <td>5altyShoe</td>\n",
       "      <td>4326</td>\n",
       "      <td>Looks like someone got some post ~~nut~~ legum...</td>\n",
       "      <td>BONK! Overly sexual questions are no longer al...</td>\n",
       "      <td>13949</td>\n",
       "    </tr>\n",
       "    <tr>\n",
       "      <th>3</th>\n",
       "      <td>mightyjake</td>\n",
       "      <td>1876</td>\n",
       "      <td>&gt; remember to read the Bible\\n\\nEzekiel 23:20\\...</td>\n",
       "      <td>BONK! Overly sexual questions are no longer al...</td>\n",
       "      <td>13949</td>\n",
       "    </tr>\n",
       "    <tr>\n",
       "      <th>4</th>\n",
       "      <td>TallCombination6</td>\n",
       "      <td>764</td>\n",
       "      <td>How am I supposed to know that men enjoy blowj...</td>\n",
       "      <td>BONK! Overly sexual questions are no longer al...</td>\n",
       "      <td>13949</td>\n",
       "    </tr>\n",
       "    <tr>\n",
       "      <th>...</th>\n",
       "      <td>...</td>\n",
       "      <td>...</td>\n",
       "      <td>...</td>\n",
       "      <td>...</td>\n",
       "      <td>...</td>\n",
       "    </tr>\n",
       "    <tr>\n",
       "      <th>17275</th>\n",
       "      <td>randylahey2883</td>\n",
       "      <td>3</td>\n",
       "      <td>I had a bear come into my camp on more than on...</td>\n",
       "      <td>What is a fact or story you don't get to tell ...</td>\n",
       "      <td>9</td>\n",
       "    </tr>\n",
       "    <tr>\n",
       "      <th>17276</th>\n",
       "      <td>BalloonPilotDude</td>\n",
       "      <td>3</td>\n",
       "      <td>A story that I think about allot but I doubt t...</td>\n",
       "      <td>What is a fact or story you don't get to tell ...</td>\n",
       "      <td>9</td>\n",
       "    </tr>\n",
       "    <tr>\n",
       "      <th>17277</th>\n",
       "      <td>JetBrink</td>\n",
       "      <td>3</td>\n",
       "      <td>I'm awesome in bed</td>\n",
       "      <td>What is a fact or story you don't get to tell ...</td>\n",
       "      <td>9</td>\n",
       "    </tr>\n",
       "    <tr>\n",
       "      <th>17278</th>\n",
       "      <td>Stabbmaster</td>\n",
       "      <td>9</td>\n",
       "      <td>The first slaveowner in the United States was ...</td>\n",
       "      <td>What is a fact or story you don't get to tell ...</td>\n",
       "      <td>9</td>\n",
       "    </tr>\n",
       "    <tr>\n",
       "      <th>17279</th>\n",
       "      <td>Agi7890</td>\n",
       "      <td>1</td>\n",
       "      <td>The story about how I was offered 15k to help ...</td>\n",
       "      <td>What is a fact or story you don't get to tell ...</td>\n",
       "      <td>9</td>\n",
       "    </tr>\n",
       "  </tbody>\n",
       "</table>\n",
       "<p>17266 rows × 5 columns</p>\n",
       "</div>"
      ],
      "text/plain": [
       "                username  comment_score  \\\n",
       "0           virusamongus            942   \n",
       "1      CoffeeEnjoyerFrog           4172   \n",
       "2              5altyShoe           4326   \n",
       "3             mightyjake           1876   \n",
       "4       TallCombination6            764   \n",
       "...                  ...            ...   \n",
       "17275     randylahey2883              3   \n",
       "17276   BalloonPilotDude              3   \n",
       "17277           JetBrink              3   \n",
       "17278        Stabbmaster              9   \n",
       "17279            Agi7890              1   \n",
       "\n",
       "                                            comment_text  \\\n",
       "0      Oh no, I was so interested in the nuanced deba...   \n",
       "1      Can't wait to see : men, what gets you at 25% ...   \n",
       "2      Looks like someone got some post ~~nut~~ legum...   \n",
       "3      > remember to read the Bible\\n\\nEzekiel 23:20\\...   \n",
       "4      How am I supposed to know that men enjoy blowj...   \n",
       "...                                                  ...   \n",
       "17275  I had a bear come into my camp on more than on...   \n",
       "17276  A story that I think about allot but I doubt t...   \n",
       "17277                                 I'm awesome in bed   \n",
       "17278  The first slaveowner in the United States was ...   \n",
       "17279  The story about how I was offered 15k to help ...   \n",
       "\n",
       "                                        submission_title  submission_ups  \n",
       "0      BONK! Overly sexual questions are no longer al...           13949  \n",
       "1      BONK! Overly sexual questions are no longer al...           13949  \n",
       "2      BONK! Overly sexual questions are no longer al...           13949  \n",
       "3      BONK! Overly sexual questions are no longer al...           13949  \n",
       "4      BONK! Overly sexual questions are no longer al...           13949  \n",
       "...                                                  ...             ...  \n",
       "17275  What is a fact or story you don't get to tell ...               9  \n",
       "17276  What is a fact or story you don't get to tell ...               9  \n",
       "17277  What is a fact or story you don't get to tell ...               9  \n",
       "17278  What is a fact or story you don't get to tell ...               9  \n",
       "17279  What is a fact or story you don't get to tell ...               9  \n",
       "\n",
       "[17266 rows x 5 columns]"
      ]
     },
     "execution_count": 64,
     "metadata": {},
     "output_type": "execute_result"
    }
   ],
   "source": [
    "men"
   ]
  },
  {
   "cell_type": "code",
   "execution_count": 65,
   "id": "29ac9ee5",
   "metadata": {},
   "outputs": [
    {
     "data": {
      "text/html": [
       "<div>\n",
       "<style scoped>\n",
       "    .dataframe tbody tr th:only-of-type {\n",
       "        vertical-align: middle;\n",
       "    }\n",
       "\n",
       "    .dataframe tbody tr th {\n",
       "        vertical-align: top;\n",
       "    }\n",
       "\n",
       "    .dataframe thead th {\n",
       "        text-align: right;\n",
       "    }\n",
       "</style>\n",
       "<table border=\"1\" class=\"dataframe\">\n",
       "  <thead>\n",
       "    <tr style=\"text-align: right;\">\n",
       "      <th></th>\n",
       "      <th>username</th>\n",
       "      <th>comment_score</th>\n",
       "      <th>comment_text</th>\n",
       "      <th>submission_title</th>\n",
       "      <th>submission_ups</th>\n",
       "    </tr>\n",
       "  </thead>\n",
       "  <tbody>\n",
       "    <tr>\n",
       "      <th>0</th>\n",
       "      <td>shockedpikachu123</td>\n",
       "      <td>28</td>\n",
       "      <td>Waiting for the cvs candy to be 75% off on Feb...</td>\n",
       "      <td>Valentines Day Mega thread! Check in here for ...</td>\n",
       "      <td>100</td>\n",
       "    </tr>\n",
       "    <tr>\n",
       "      <th>1</th>\n",
       "      <td>secrethedgehog5</td>\n",
       "      <td>16</td>\n",
       "      <td>My second valentines day alone, and i am feeli...</td>\n",
       "      <td>Valentines Day Mega thread! Check in here for ...</td>\n",
       "      <td>100</td>\n",
       "    </tr>\n",
       "    <tr>\n",
       "      <th>2</th>\n",
       "      <td>KBXGazelle</td>\n",
       "      <td>15</td>\n",
       "      <td>February 14 was my mom's birthday so I usually...</td>\n",
       "      <td>Valentines Day Mega thread! Check in here for ...</td>\n",
       "      <td>100</td>\n",
       "    </tr>\n",
       "    <tr>\n",
       "      <th>3</th>\n",
       "      <td>meloaf</td>\n",
       "      <td>13</td>\n",
       "      <td>I'm sending all my friends Valentine's Day car...</td>\n",
       "      <td>Valentines Day Mega thread! Check in here for ...</td>\n",
       "      <td>100</td>\n",
       "    </tr>\n",
       "    <tr>\n",
       "      <th>4</th>\n",
       "      <td>OriginalOestrus</td>\n",
       "      <td>12</td>\n",
       "      <td>I have reservations at my favorite steakhouse!...</td>\n",
       "      <td>Valentines Day Mega thread! Check in here for ...</td>\n",
       "      <td>100</td>\n",
       "    </tr>\n",
       "    <tr>\n",
       "      <th>...</th>\n",
       "      <td>...</td>\n",
       "      <td>...</td>\n",
       "      <td>...</td>\n",
       "      <td>...</td>\n",
       "      <td>...</td>\n",
       "    </tr>\n",
       "    <tr>\n",
       "      <th>16849</th>\n",
       "      <td>D-Spornak</td>\n",
       "      <td>1</td>\n",
       "      <td>I'm hoping it's coming up soon.</td>\n",
       "      <td>What age do you consider to be “in your prime”?</td>\n",
       "      <td>373</td>\n",
       "    </tr>\n",
       "    <tr>\n",
       "      <th>16850</th>\n",
       "      <td>Non-Priority-98</td>\n",
       "      <td>1</td>\n",
       "      <td>Hmmmm I would think that it is in stable times...</td>\n",
       "      <td>What age do you consider to be “in your prime”?</td>\n",
       "      <td>373</td>\n",
       "    </tr>\n",
       "    <tr>\n",
       "      <th>16851</th>\n",
       "      <td>CutWeary9135</td>\n",
       "      <td>1</td>\n",
       "      <td>12</td>\n",
       "      <td>What age do you consider to be “in your prime”?</td>\n",
       "      <td>373</td>\n",
       "    </tr>\n",
       "    <tr>\n",
       "      <th>16852</th>\n",
       "      <td>Irinakusx</td>\n",
       "      <td>1</td>\n",
       "      <td>20 it is advisable to take care of your health...</td>\n",
       "      <td>What age do you consider to be “in your prime”?</td>\n",
       "      <td>373</td>\n",
       "    </tr>\n",
       "    <tr>\n",
       "      <th>16854</th>\n",
       "      <td>cuddliest_friend</td>\n",
       "      <td>1</td>\n",
       "      <td>If i feel that this is the Part of my Life whe...</td>\n",
       "      <td>What age do you consider to be “in your prime”?</td>\n",
       "      <td>373</td>\n",
       "    </tr>\n",
       "  </tbody>\n",
       "</table>\n",
       "<p>15579 rows × 5 columns</p>\n",
       "</div>"
      ],
      "text/plain": [
       "                username  comment_score  \\\n",
       "0      shockedpikachu123             28   \n",
       "1        secrethedgehog5             16   \n",
       "2             KBXGazelle             15   \n",
       "3                 meloaf             13   \n",
       "4        OriginalOestrus             12   \n",
       "...                  ...            ...   \n",
       "16849          D-Spornak              1   \n",
       "16850    Non-Priority-98              1   \n",
       "16851       CutWeary9135              1   \n",
       "16852          Irinakusx              1   \n",
       "16854   cuddliest_friend              1   \n",
       "\n",
       "                                            comment_text  \\\n",
       "0      Waiting for the cvs candy to be 75% off on Feb...   \n",
       "1      My second valentines day alone, and i am feeli...   \n",
       "2      February 14 was my mom's birthday so I usually...   \n",
       "3      I'm sending all my friends Valentine's Day car...   \n",
       "4      I have reservations at my favorite steakhouse!...   \n",
       "...                                                  ...   \n",
       "16849                    I'm hoping it's coming up soon.   \n",
       "16850  Hmmmm I would think that it is in stable times...   \n",
       "16851                                                 12   \n",
       "16852  20 it is advisable to take care of your health...   \n",
       "16854  If i feel that this is the Part of my Life whe...   \n",
       "\n",
       "                                        submission_title  submission_ups  \n",
       "0      Valentines Day Mega thread! Check in here for ...             100  \n",
       "1      Valentines Day Mega thread! Check in here for ...             100  \n",
       "2      Valentines Day Mega thread! Check in here for ...             100  \n",
       "3      Valentines Day Mega thread! Check in here for ...             100  \n",
       "4      Valentines Day Mega thread! Check in here for ...             100  \n",
       "...                                                  ...             ...  \n",
       "16849    What age do you consider to be “in your prime”?             373  \n",
       "16850    What age do you consider to be “in your prime”?             373  \n",
       "16851    What age do you consider to be “in your prime”?             373  \n",
       "16852    What age do you consider to be “in your prime”?             373  \n",
       "16854    What age do you consider to be “in your prime”?             373  \n",
       "\n",
       "[15579 rows x 5 columns]"
      ]
     },
     "execution_count": 65,
     "metadata": {},
     "output_type": "execute_result"
    }
   ],
   "source": [
    "women"
   ]
  },
  {
   "cell_type": "code",
   "execution_count": 6,
   "id": "a2acae35",
   "metadata": {},
   "outputs": [
    {
     "name": "stdout",
     "output_type": "stream",
     "text": [
      "[0]\n",
      "[0]\n"
     ]
    }
   ],
   "source": [
    "print(men['submission_downs'].unique())\n",
    "print(women['submission_downs'].unique())"
   ]
  },
  {
   "cell_type": "markdown",
   "id": "8be08c9c",
   "metadata": {},
   "source": [
    "We should delete 'submission_downs' column as it is only 0. Reddit doesn't let to scrape the number of downvotes on a post."
   ]
  },
  {
   "cell_type": "code",
   "execution_count": 60,
   "id": "7fd69e02",
   "metadata": {},
   "outputs": [
    {
     "data": {
      "text/html": [
       "<div>\n",
       "<style scoped>\n",
       "    .dataframe tbody tr th:only-of-type {\n",
       "        vertical-align: middle;\n",
       "    }\n",
       "\n",
       "    .dataframe tbody tr th {\n",
       "        vertical-align: top;\n",
       "    }\n",
       "\n",
       "    .dataframe thead th {\n",
       "        text-align: right;\n",
       "    }\n",
       "</style>\n",
       "<table border=\"1\" class=\"dataframe\">\n",
       "  <thead>\n",
       "    <tr style=\"text-align: right;\">\n",
       "      <th></th>\n",
       "      <th>username</th>\n",
       "      <th>comment_score</th>\n",
       "      <th>comment_text</th>\n",
       "      <th>submission_title</th>\n",
       "      <th>submission_ups</th>\n",
       "    </tr>\n",
       "  </thead>\n",
       "  <tbody>\n",
       "    <tr>\n",
       "      <th>0</th>\n",
       "      <td>virusamongus</td>\n",
       "      <td>942</td>\n",
       "      <td>Oh no, I was so interested in the nuanced deba...</td>\n",
       "      <td>BONK! Overly sexual questions are no longer al...</td>\n",
       "      <td>13949</td>\n",
       "    </tr>\n",
       "    <tr>\n",
       "      <th>1</th>\n",
       "      <td>CoffeeEnjoyerFrog</td>\n",
       "      <td>4172</td>\n",
       "      <td>Can't wait to see : men, what gets you at 25% ...</td>\n",
       "      <td>BONK! Overly sexual questions are no longer al...</td>\n",
       "      <td>13949</td>\n",
       "    </tr>\n",
       "  </tbody>\n",
       "</table>\n",
       "</div>"
      ],
      "text/plain": [
       "            username  comment_score  \\\n",
       "0       virusamongus            942   \n",
       "1  CoffeeEnjoyerFrog           4172   \n",
       "\n",
       "                                        comment_text  \\\n",
       "0  Oh no, I was so interested in the nuanced deba...   \n",
       "1  Can't wait to see : men, what gets you at 25% ...   \n",
       "\n",
       "                                    submission_title  submission_ups  \n",
       "0  BONK! Overly sexual questions are no longer al...           13949  \n",
       "1  BONK! Overly sexual questions are no longer al...           13949  "
      ]
     },
     "execution_count": 60,
     "metadata": {},
     "output_type": "execute_result"
    }
   ],
   "source": [
    "men = men.drop(columns = \"submission_downs\")\n",
    "women = women.drop(columns = \"submission_downs\")\n",
    "men.head(2)"
   ]
  },
  {
   "cell_type": "code",
   "execution_count": 61,
   "id": "3917dcee",
   "metadata": {},
   "outputs": [
    {
     "data": {
      "text/plain": [
       "34       [removed]\n",
       "47       [removed]\n",
       "48       [removed]\n",
       "49       [removed]\n",
       "50       [removed]\n",
       "           ...    \n",
       "16841    [removed]\n",
       "16842    [removed]\n",
       "16845    [removed]\n",
       "16853    [removed]\n",
       "16855    [removed]\n",
       "Name: comment_text, Length: 1277, dtype: object"
      ]
     },
     "execution_count": 61,
     "metadata": {},
     "output_type": "execute_result"
    },
    {
     "data": {
      "text/plain": [
       "338      [removed]\n",
       "720      [removed]\n",
       "4943     [removed]\n",
       "6676     [removed]\n",
       "10034    [removed]\n",
       "12665    [removed]\n",
       "12872    [removed]\n",
       "12904    [removed]\n",
       "13351    [removed]\n",
       "13394    [removed]\n",
       "14807    [removed]\n",
       "15123    [removed]\n",
       "15593    [removed]\n",
       "16142    [removed]\n",
       "Name: comment_text, dtype: object"
      ]
     },
     "execution_count": 61,
     "metadata": {},
     "output_type": "execute_result"
    }
   ],
   "source": [
    "women['comment_text'].loc[women['comment_text'] == \"[removed]\"]\n",
    "men['comment_text'].loc[men['comment_text'] == \"[removed]\"]"
   ]
  },
  {
   "cell_type": "markdown",
   "id": "bd6abedd",
   "metadata": {},
   "source": [
    "We need to remove comments removed by moderators on reddit"
   ]
  },
  {
   "cell_type": "code",
   "execution_count": 62,
   "id": "482828d3",
   "metadata": {},
   "outputs": [],
   "source": [
    "wrong_comments = ['[removed]']"
   ]
  },
  {
   "cell_type": "code",
   "execution_count": 63,
   "id": "fd5ca93b",
   "metadata": {},
   "outputs": [
    {
     "data": {
      "text/plain": [
       "Series([], Name: comment_text, dtype: object)"
      ]
     },
     "execution_count": 63,
     "metadata": {},
     "output_type": "execute_result"
    },
    {
     "data": {
      "text/plain": [
       "Series([], Name: comment_text, dtype: object)"
      ]
     },
     "execution_count": 63,
     "metadata": {},
     "output_type": "execute_result"
    }
   ],
   "source": [
    "men = men[men['comment_text'].isin(wrong_comments) == False]\n",
    "women = women[women['comment_text'].isin(wrong_comments) == False]\n",
    "women['comment_text'].loc[women['comment_text'] == \"[removed]\"]\n",
    "men['comment_text'].loc[men['comment_text'] == \"[removed]\"]"
   ]
  },
  {
   "cell_type": "markdown",
   "id": "f87de17d",
   "metadata": {},
   "source": [
    "None of the non-desired comments are present in datasets"
   ]
  },
  {
   "cell_type": "markdown",
   "id": "bf81b92b",
   "metadata": {},
   "source": [
    "# Text preprocessing"
   ]
  },
  {
   "cell_type": "code",
   "execution_count": 11,
   "id": "84d724cd",
   "metadata": {},
   "outputs": [],
   "source": [
    "REPLACE_NO_SPACE = re.compile(\"[.@;:!\\'?,\\\"-/()\\[\\]]\")\n",
    "REPLACE_WITH_SPACE = re.compile(\"(\\\\n\\\\n)|(\\\\n)\")\n",
    "MULTIPLE_SPACES = re.compile(\"\\s+\")\n",
    "NUMBERS = re.compile(\"[0-9]+\")\n",
    "EMOJIS = re.compile(\"[\"\n",
    "        u\"\\U0001F600-\\U0001F64F\"  # emoticons\n",
    "        u\"\\U0001F300-\\U0001F5FF\"  # symbols & pictographs\n",
    "        u\"\\U0001F680-\\U0001F6FF\"  # transport & map symbols\n",
    "        u\"\\U0001F1E0-\\U0001F1FF\"  # flags (iOS)\n",
    "        u\"\\U00002500-\\U00002BEF\"  # chinese characters\n",
    "        u\"\\U00002702-\\U000027B0\"\n",
    "        u\"\\U00002702-\\U000027B0\"\n",
    "        u\"\\U000024C2-\\U0001F251\"\n",
    "        u\"\\U0001f926-\\U0001f937\"\n",
    "        u\"\\U00010000-\\U0010ffff\"\n",
    "        u\"\\u2640-\\u2642\" \n",
    "        u\"\\u2600-\\u2B55\"\n",
    "        u\"\\u200d\"\n",
    "        u\"\\u23cf\"\n",
    "        u\"\\u23e9\"\n",
    "        u\"\\u231a\"\n",
    "        u\"\\ufe0f\"                 # dingbats\n",
    "        u\"\\u3030\"\n",
    "                      \"]+\", flags = re.UNICODE)"
   ]
  },
  {
   "cell_type": "code",
   "execution_count": 45,
   "id": "c62a2f55",
   "metadata": {},
   "outputs": [],
   "source": [
    "# Preprocessing for sentiment analysis\n",
    "def preprocess_text(text):\n",
    "    text = [REPLACE_WITH_SPACE.sub(' ', line) for line in text]\n",
    "    text = [REPLACE_NO_SPACE.sub('', line) for line in text]\n",
    "    text = [MULTIPLE_SPACES.sub(' ', line) for line in text]\n",
    "    text = [NUMBERS.sub('', line) for line in text]\n",
    "    text = [EMOJIS.sub('', line) for line in text]\n",
    "    text = [line.lower() for line in text]\n",
    "    return text\n",
    "\n",
    "def tokenization(text):\n",
    "    text_vectors = [word_tokenize(line) for line in text]\n",
    "    return text_vectors\n",
    "\n",
    "def stop_words_removal(text):\n",
    "    text = [line.lower() for line in text] # makes text lower case\n",
    "    tokenized = tokenization(text)\n",
    "    filtered_sentences = list()\n",
    "    for line in tokenized:\n",
    "        filtered_line = [word for word in line if not word in stop_words]\n",
    "        filtered_sentences.append(filtered_line)\n",
    "    text = [' '.join(line) for line in filtered_sentences]\n",
    "    return text\n",
    "\n",
    "def custom_stop_words_removal(text, stop_words_list):\n",
    "    tokenized = tokenization(text)\n",
    "    filtered_sentences = list()\n",
    "    for line in tokenized:\n",
    "        filtered_line = [word for word in line if not word in stop_words_list]\n",
    "        filtered_sentences.append(filtered_line)\n",
    "    text = [' '.join(line) for line in filtered_sentences]\n",
    "    return text\n",
    "\n",
    "def stemming(text):\n",
    "    tokenized = tokenization(text)\n",
    "    filtered_sentences = list()\n",
    "    for line in tokenized:\n",
    "        filtered_line = [ps.stem(word) for word in line]\n",
    "        filtered_sentences.append(filtered_line)\n",
    "    text = [' '.join(line) for line in filtered_sentences]\n",
    "    return text\n",
    "\n",
    "# lemmatization uses words existing in language\n",
    "# maybe will delete this later\n",
    "def lemmatization(text):\n",
    "    return text\n"
   ]
  },
  {
   "cell_type": "markdown",
   "id": "e2c1b19b",
   "metadata": {},
   "source": [
    "## Men"
   ]
  },
  {
   "cell_type": "code",
   "execution_count": 13,
   "id": "7f521ccf",
   "metadata": {},
   "outputs": [
    {
     "data": {
      "text/html": [
       "<div>\n",
       "<style scoped>\n",
       "    .dataframe tbody tr th:only-of-type {\n",
       "        vertical-align: middle;\n",
       "    }\n",
       "\n",
       "    .dataframe tbody tr th {\n",
       "        vertical-align: top;\n",
       "    }\n",
       "\n",
       "    .dataframe thead th {\n",
       "        text-align: right;\n",
       "    }\n",
       "</style>\n",
       "<table border=\"1\" class=\"dataframe\">\n",
       "  <thead>\n",
       "    <tr style=\"text-align: right;\">\n",
       "      <th></th>\n",
       "      <th>username</th>\n",
       "      <th>comment_score</th>\n",
       "      <th>comment_text</th>\n",
       "      <th>submission_title</th>\n",
       "      <th>submission_ups</th>\n",
       "    </tr>\n",
       "  </thead>\n",
       "  <tbody>\n",
       "    <tr>\n",
       "      <th>0</th>\n",
       "      <td>shockedpikachu123</td>\n",
       "      <td>28</td>\n",
       "      <td>Waiting for the cvs candy to be 75% off on Feb...</td>\n",
       "      <td>Valentines Day Mega thread! Check in here for ...</td>\n",
       "      <td>100</td>\n",
       "    </tr>\n",
       "    <tr>\n",
       "      <th>1</th>\n",
       "      <td>secrethedgehog5</td>\n",
       "      <td>16</td>\n",
       "      <td>My second valentines day alone, and i am feeli...</td>\n",
       "      <td>Valentines Day Mega thread! Check in here for ...</td>\n",
       "      <td>100</td>\n",
       "    </tr>\n",
       "  </tbody>\n",
       "</table>\n",
       "</div>"
      ],
      "text/plain": [
       "            username  comment_score  \\\n",
       "0  shockedpikachu123             28   \n",
       "1    secrethedgehog5             16   \n",
       "\n",
       "                                        comment_text  \\\n",
       "0  Waiting for the cvs candy to be 75% off on Feb...   \n",
       "1  My second valentines day alone, and i am feeli...   \n",
       "\n",
       "                                    submission_title  submission_ups  \n",
       "0  Valentines Day Mega thread! Check in here for ...             100  \n",
       "1  Valentines Day Mega thread! Check in here for ...             100  "
      ]
     },
     "execution_count": 13,
     "metadata": {},
     "output_type": "execute_result"
    }
   ],
   "source": [
    "men.head(2)"
   ]
  },
  {
   "cell_type": "code",
   "execution_count": 14,
   "id": "f7037086",
   "metadata": {},
   "outputs": [
    {
     "data": {
      "text/plain": [
       "0        Waiting for the cvs candy to be 75% off on Feb...\n",
       "1        My second valentines day alone, and i am feeli...\n",
       "2        February 14 was my mom's birthday so I usually...\n",
       "3        I'm sending all my friends Valentine's Day car...\n",
       "4        I have reservations at my favorite steakhouse!...\n",
       "                               ...                        \n",
       "16849                      I'm hoping it's coming up soon.\n",
       "16850    Hmmmm I would think that it is in stable times...\n",
       "16851                                                   12\n",
       "16852    20 it is advisable to take care of your health...\n",
       "16854    If i feel that this is the Part of my Life whe...\n",
       "Name: comment_text, Length: 15579, dtype: object"
      ]
     },
     "execution_count": 14,
     "metadata": {},
     "output_type": "execute_result"
    }
   ],
   "source": [
    "# men comments\n",
    "men_com = men.drop(columns = ['username', 'comment_score', 'submission_title', 'submission_ups'])[\"comment_text\"]\n",
    "men_com\n"
   ]
  },
  {
   "cell_type": "markdown",
   "id": "35eae375",
   "metadata": {},
   "source": [
    "## Women"
   ]
  },
  {
   "cell_type": "code",
   "execution_count": 15,
   "id": "a2a009f2",
   "metadata": {},
   "outputs": [
    {
     "data": {
      "text/html": [
       "<div>\n",
       "<style scoped>\n",
       "    .dataframe tbody tr th:only-of-type {\n",
       "        vertical-align: middle;\n",
       "    }\n",
       "\n",
       "    .dataframe tbody tr th {\n",
       "        vertical-align: top;\n",
       "    }\n",
       "\n",
       "    .dataframe thead th {\n",
       "        text-align: right;\n",
       "    }\n",
       "</style>\n",
       "<table border=\"1\" class=\"dataframe\">\n",
       "  <thead>\n",
       "    <tr style=\"text-align: right;\">\n",
       "      <th></th>\n",
       "      <th>username</th>\n",
       "      <th>comment_score</th>\n",
       "      <th>comment_text</th>\n",
       "      <th>submission_title</th>\n",
       "      <th>submission_ups</th>\n",
       "    </tr>\n",
       "  </thead>\n",
       "  <tbody>\n",
       "    <tr>\n",
       "      <th>0</th>\n",
       "      <td>shockedpikachu123</td>\n",
       "      <td>28</td>\n",
       "      <td>Waiting for the cvs candy to be 75% off on Feb...</td>\n",
       "      <td>Valentines Day Mega thread! Check in here for ...</td>\n",
       "      <td>100</td>\n",
       "    </tr>\n",
       "    <tr>\n",
       "      <th>1</th>\n",
       "      <td>secrethedgehog5</td>\n",
       "      <td>16</td>\n",
       "      <td>My second valentines day alone, and i am feeli...</td>\n",
       "      <td>Valentines Day Mega thread! Check in here for ...</td>\n",
       "      <td>100</td>\n",
       "    </tr>\n",
       "  </tbody>\n",
       "</table>\n",
       "</div>"
      ],
      "text/plain": [
       "            username  comment_score  \\\n",
       "0  shockedpikachu123             28   \n",
       "1    secrethedgehog5             16   \n",
       "\n",
       "                                        comment_text  \\\n",
       "0  Waiting for the cvs candy to be 75% off on Feb...   \n",
       "1  My second valentines day alone, and i am feeli...   \n",
       "\n",
       "                                    submission_title  submission_ups  \n",
       "0  Valentines Day Mega thread! Check in here for ...             100  \n",
       "1  Valentines Day Mega thread! Check in here for ...             100  "
      ]
     },
     "execution_count": 15,
     "metadata": {},
     "output_type": "execute_result"
    }
   ],
   "source": [
    "women.head(2)"
   ]
  },
  {
   "cell_type": "code",
   "execution_count": 71,
   "id": "0c721ac3",
   "metadata": {},
   "outputs": [],
   "source": [
    "# women comments\n",
    "women_com = women.drop(columns = ['username', 'comment_score', 'submission_title', 'submission_ups'])[\"comment_text\"]\n",
    "women_com = preprocess_text(women_com)\n",
    "women_stw = stop_words_removal(women_com)\n",
    "women_tok = tokenization(women_com)\n",
    "women_stm = stemming(women_stw) # with stop words (stw) removed\n",
    "women_tok_stw = tokenization(stop_words_removal(women_com)) # with stop words (stw) removed"
   ]
  },
  {
   "cell_type": "code",
   "execution_count": 76,
   "id": "894f19e4",
   "metadata": {},
   "outputs": [
    {
     "data": {
      "text/html": [
       "<div>\n",
       "<style scoped>\n",
       "    .dataframe tbody tr th:only-of-type {\n",
       "        vertical-align: middle;\n",
       "    }\n",
       "\n",
       "    .dataframe tbody tr th {\n",
       "        vertical-align: top;\n",
       "    }\n",
       "\n",
       "    .dataframe thead th {\n",
       "        text-align: right;\n",
       "    }\n",
       "</style>\n",
       "<table border=\"1\" class=\"dataframe\">\n",
       "  <thead>\n",
       "    <tr style=\"text-align: right;\">\n",
       "      <th></th>\n",
       "      <th>username</th>\n",
       "      <th>com_original</th>\n",
       "      <th>cleaned</th>\n",
       "      <th>tokenized</th>\n",
       "      <th>stemmed</th>\n",
       "    </tr>\n",
       "  </thead>\n",
       "  <tbody>\n",
       "    <tr>\n",
       "      <th>0</th>\n",
       "      <td>shockedpikachu123</td>\n",
       "      <td>Waiting for the cvs candy to be 75% off on Feb...</td>\n",
       "      <td>waiting for the cvs candy to be  off on februa...</td>\n",
       "      <td>[waiting, for, the, cvs, candy, to, be, off, o...</td>\n",
       "      <td>wait cv candi februari</td>\n",
       "    </tr>\n",
       "    <tr>\n",
       "      <th>1</th>\n",
       "      <td>secrethedgehog5</td>\n",
       "      <td>My second valentines day alone, and i am feeli...</td>\n",
       "      <td>my second valentines day alone and i am feelin...</td>\n",
       "      <td>[my, second, valentines, day, alone, and, i, a...</td>\n",
       "      <td>second valentin day alon feel bit meh okay</td>\n",
       "    </tr>\n",
       "    <tr>\n",
       "      <th>2</th>\n",
       "      <td>KBXGazelle</td>\n",
       "      <td>February 14 was my mom's birthday so I usually...</td>\n",
       "      <td>february  was my moms birthday so i usually sp...</td>\n",
       "      <td>[february, was, my, moms, birthday, so, i, usu...</td>\n",
       "      <td>februari mom birthday usual spend day realli e...</td>\n",
       "    </tr>\n",
       "    <tr>\n",
       "      <th>3</th>\n",
       "      <td>meloaf</td>\n",
       "      <td>I'm sending all my friends Valentine's Day car...</td>\n",
       "      <td>im sending all my friends valentines day cards...</td>\n",
       "      <td>[im, sending, all, my, friends, valentines, da...</td>\n",
       "      <td>im send friend valentin day card snail mail wa...</td>\n",
       "    </tr>\n",
       "    <tr>\n",
       "      <th>4</th>\n",
       "      <td>OriginalOestrus</td>\n",
       "      <td>I have reservations at my favorite steakhouse!...</td>\n",
       "      <td>i have reservations at my favorite steakhouse ...</td>\n",
       "      <td>[i, have, reservations, at, my, favorite, stea...</td>\n",
       "      <td>reserv favorit steakhous last year wore nice j...</td>\n",
       "    </tr>\n",
       "    <tr>\n",
       "      <th>...</th>\n",
       "      <td>...</td>\n",
       "      <td>...</td>\n",
       "      <td>...</td>\n",
       "      <td>...</td>\n",
       "      <td>...</td>\n",
       "    </tr>\n",
       "    <tr>\n",
       "      <th>16849</th>\n",
       "      <td>D-Spornak</td>\n",
       "      <td>I'm hoping it's coming up soon.</td>\n",
       "      <td>im hoping its coming up soon</td>\n",
       "      <td>[im, hoping, its, coming, up, soon]</td>\n",
       "      <td>im hope come soon</td>\n",
       "    </tr>\n",
       "    <tr>\n",
       "      <th>16850</th>\n",
       "      <td>Non-Priority-98</td>\n",
       "      <td>Hmmmm I would think that it is in stable times...</td>\n",
       "      <td>hmmmm i would think that it is in stable times...</td>\n",
       "      <td>[hmmmm, i, would, think, that, it, is, in, sta...</td>\n",
       "      <td>hmmmm would think stabl time short substanti e...</td>\n",
       "    </tr>\n",
       "    <tr>\n",
       "      <th>16851</th>\n",
       "      <td>CutWeary9135</td>\n",
       "      <td>12</td>\n",
       "      <td></td>\n",
       "      <td>[]</td>\n",
       "      <td></td>\n",
       "    </tr>\n",
       "    <tr>\n",
       "      <th>16852</th>\n",
       "      <td>Irinakusx</td>\n",
       "      <td>20 it is advisable to take care of your health...</td>\n",
       "      <td>it is advisable to take care of your health a...</td>\n",
       "      <td>[it, is, advisable, to, take, care, of, your, ...</td>\n",
       "      <td>advis take care health time alway activ desir</td>\n",
       "    </tr>\n",
       "    <tr>\n",
       "      <th>16854</th>\n",
       "      <td>cuddliest_friend</td>\n",
       "      <td>If i feel that this is the Part of my Life whe...</td>\n",
       "      <td>if i feel that this is the part of my life whe...</td>\n",
       "      <td>[if, i, feel, that, this, is, the, part, of, m...</td>\n",
       "      <td>feel part life mental health physik healthstre...</td>\n",
       "    </tr>\n",
       "  </tbody>\n",
       "</table>\n",
       "<p>15579 rows × 5 columns</p>\n",
       "</div>"
      ],
      "text/plain": [
       "                username                                       com_original  \\\n",
       "0      shockedpikachu123  Waiting for the cvs candy to be 75% off on Feb...   \n",
       "1        secrethedgehog5  My second valentines day alone, and i am feeli...   \n",
       "2             KBXGazelle  February 14 was my mom's birthday so I usually...   \n",
       "3                 meloaf  I'm sending all my friends Valentine's Day car...   \n",
       "4        OriginalOestrus  I have reservations at my favorite steakhouse!...   \n",
       "...                  ...                                                ...   \n",
       "16849          D-Spornak                    I'm hoping it's coming up soon.   \n",
       "16850    Non-Priority-98  Hmmmm I would think that it is in stable times...   \n",
       "16851       CutWeary9135                                                 12   \n",
       "16852          Irinakusx  20 it is advisable to take care of your health...   \n",
       "16854   cuddliest_friend  If i feel that this is the Part of my Life whe...   \n",
       "\n",
       "                                                 cleaned  \\\n",
       "0      waiting for the cvs candy to be  off on februa...   \n",
       "1      my second valentines day alone and i am feelin...   \n",
       "2      february  was my moms birthday so i usually sp...   \n",
       "3      im sending all my friends valentines day cards...   \n",
       "4      i have reservations at my favorite steakhouse ...   \n",
       "...                                                  ...   \n",
       "16849                       im hoping its coming up soon   \n",
       "16850  hmmmm i would think that it is in stable times...   \n",
       "16851                                                      \n",
       "16852   it is advisable to take care of your health a...   \n",
       "16854  if i feel that this is the part of my life whe...   \n",
       "\n",
       "                                               tokenized  \\\n",
       "0      [waiting, for, the, cvs, candy, to, be, off, o...   \n",
       "1      [my, second, valentines, day, alone, and, i, a...   \n",
       "2      [february, was, my, moms, birthday, so, i, usu...   \n",
       "3      [im, sending, all, my, friends, valentines, da...   \n",
       "4      [i, have, reservations, at, my, favorite, stea...   \n",
       "...                                                  ...   \n",
       "16849                [im, hoping, its, coming, up, soon]   \n",
       "16850  [hmmmm, i, would, think, that, it, is, in, sta...   \n",
       "16851                                                 []   \n",
       "16852  [it, is, advisable, to, take, care, of, your, ...   \n",
       "16854  [if, i, feel, that, this, is, the, part, of, m...   \n",
       "\n",
       "                                                 stemmed  \n",
       "0                                 wait cv candi februari  \n",
       "1             second valentin day alon feel bit meh okay  \n",
       "2      februari mom birthday usual spend day realli e...  \n",
       "3      im send friend valentin day card snail mail wa...  \n",
       "4      reserv favorit steakhous last year wore nice j...  \n",
       "...                                                  ...  \n",
       "16849                                  im hope come soon  \n",
       "16850  hmmmm would think stabl time short substanti e...  \n",
       "16851                                                     \n",
       "16852      advis take care health time alway activ desir  \n",
       "16854  feel part life mental health physik healthstre...  \n",
       "\n",
       "[15579 rows x 5 columns]"
      ]
     },
     "execution_count": 76,
     "metadata": {},
     "output_type": "execute_result"
    }
   ],
   "source": [
    "women2 = women[['username']].copy()\n",
    "women2['com_original'] = women[['comment_text']].copy()\n",
    "women2['cleaned'] = women_com\n",
    "women2['tokenized'] = women_tok\n",
    "women2['stemmed'] = women_stm\n",
    "women2"
   ]
  },
  {
   "cell_type": "code",
   "execution_count": null,
   "id": "99e83687",
   "metadata": {},
   "outputs": [],
   "source": []
  }
 ],
 "metadata": {
  "kernelspec": {
   "display_name": "Python 3 (ipykernel)",
   "language": "python",
   "name": "python3"
  },
  "language_info": {
   "codemirror_mode": {
    "name": "ipython",
    "version": 3
   },
   "file_extension": ".py",
   "mimetype": "text/x-python",
   "name": "python",
   "nbconvert_exporter": "python",
   "pygments_lexer": "ipython3",
   "version": "3.7.11"
  }
 },
 "nbformat": 4,
 "nbformat_minor": 5
}
