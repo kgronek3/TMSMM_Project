{
 "cells": [
  {
   "cell_type": "markdown",
   "id": "f54a9a98",
   "metadata": {},
   "source": [
    "# Krystian Gronek & Katarzyna Piotrowska\n",
    "# Text Mining and Social Media Mining, final project - Analyzing men and women comments using NLP methods"
   ]
  },
  {
   "cell_type": "markdown",
   "id": "86f5d6eb",
   "metadata": {},
   "source": [
    "# Loading packages"
   ]
  },
  {
   "cell_type": "code",
   "execution_count": 18,
   "id": "b1728904",
   "metadata": {},
   "outputs": [],
   "source": [
    "from wordcloud import WordCloud,STOPWORDS\n",
    "import matplotlib.pyplot as plt\n",
    "import pandas as pd\n",
    "import numpy as np\n",
    "import re\n",
    "import seaborn as sns\n",
    "\n",
    "%matplotlib inline \n",
    "\n",
    "# some basic visualization\n",
    "import matplotlib.pyplot as plt \n"
   ]
  },
  {
   "cell_type": "code",
   "execution_count": null,
   "id": "b2ffdaf6",
   "metadata": {},
   "outputs": [],
   "source": [
    "# Functions\n",
    "\n",
    "# Function to convert list of strings represented itself as string to a normal list with strings\n",
    "def destring_list(input_list):\n",
    "    input_list = input_list.strip('][')\n",
    "    output_list = re.compile(\"\\]\\[\").sub(', ', input_list)\n",
    "    output_list = re.compile(\"\\'\").sub('', output_list).split(', ') \n",
    "    return output_list\n"
   ]
  },
  {
   "cell_type": "code",
   "execution_count": null,
   "id": "dcacf07b",
   "metadata": {},
   "outputs": [],
   "source": [
    "men = pd.read_csv('data/final_askmen.csv', sep = ';')\n",
    "women = pd.read_csv('data/final_askwomen.csv', sep = ';')"
   ]
  },
  {
   "cell_type": "code",
   "execution_count": null,
   "id": "0aa011e7",
   "metadata": {},
   "outputs": [],
   "source": [
    "men.info()\n",
    "print(\"\\n\")\n",
    "women.info()"
   ]
  },
  {
   "cell_type": "markdown",
   "id": "1aab4983",
   "metadata": {},
   "source": [
    "# Frequency of words"
   ]
  },
  {
   "cell_type": "code",
   "execution_count": null,
   "id": "f63a9aec",
   "metadata": {},
   "outputs": [],
   "source": [
    "# Individual words from all comments in one list\n",
    "# Men - with stopwords\n",
    "all_men_tokenized = men.tokenized.sum()\n",
    "all_men_tokenized = destring_list(all_men_tokenized)\n",
    "\n",
    "# Men - without stopwords\n",
    "all_men_tokenized2 = men.tokenized_wo_sw.sum()\n",
    "all_men_tokenized2 = destring_list(all_men_tokenized2)\n",
    "\n",
    "# Women - with stopwords\n",
    "all_women_tokenized = women.tokenized.sum()\n",
    "all_women_tokenized = destring_list(all_women_tokenized)\n",
    "\n",
    "# Women - without stopwords\n",
    "all_women_tokenized2 = women.tokenized_wo_sw.sum()\n",
    "all_women_tokenized2 = destring_list(all_women_tokenized2)\n"
   ]
  },
  {
   "cell_type": "markdown",
   "id": "c22b5c96",
   "metadata": {},
   "source": [
    "# Simple distribution visualization of the comment_score variable\n",
    "\n",
    "Let's look at the the only 2 numerical variables in our dataset. \n",
    "\n",
    "Submission upvotes are number of upvotes or likes that a post containing comments has. It mainly conveys how the title of the post or the discussion is attractive to the user to participate in. Basically one can treat the number of upvotes as indicator how good online conversation topic it is, with higher values being more interesting. \n",
    "\n",
    "Score variable is equal to the difference between upvotes and downvotes. It usually conveys information how useful information does the comment give to the reader or weather other users agree with the comment or disagree.\n",
    "\n",
    "Below we can see summary statistics of these variables for men and women datasets"
   ]
  },
  {
   "cell_type": "markdown",
   "id": "25f26625",
   "metadata": {},
   "source": [
    "# Simple distribution visualization of the 'comment_score' variable\n",
    "\n",
    "Let's first look at the distribution of comment_score variable. We will look into numerical variables more in the next step of analysis.\n",
    "\n",
    "Score (comment_score) variable is equal to the difference between upvotes and downvotes. It usually conveys information how useful information does the comment give to the reader or weather other users agree with the comment or disagree.\n",
    "\n",
    "Below we can see summary statistics of these variables for men and women datasets"
   ]
  },
  {
   "cell_type": "code",
   "execution_count": null,
   "id": "a101c5fe",
   "metadata": {},
   "outputs": [],
   "source": [
    "print(\"/r/AskMen summary statistics\")\n",
    "men.describe()\n",
    "print(\"/r/AskWomen summary statistics\")\n",
    "women.describe()"
   ]
  },
  {
   "cell_type": "code",
   "execution_count": null,
   "id": "f1483a6e",
   "metadata": {},
   "outputs": [],
   "source": [
    "# /r/AskMen comment score histogram and density plots\n",
    "plt.hist(men['comment_score'], color = 'blue', edgecolor = 'black', bins = 100);\n",
    "sns.displot(data = men, x = 'comment_score', kind = 'kde');"
   ]
  },
  {
   "cell_type": "code",
   "execution_count": null,
   "id": "1d978a03",
   "metadata": {},
   "outputs": [],
   "source": [
    "# /r/AskWomen comment score histogram and density plots\n",
    "plt.hist(women['comment_score'], color = 'blue', edgecolor = 'black', bins = 100);\n",
    "sns.displot(data = women, x = 'comment_score', kind = 'kde');"
   ]
  },
  {
   "cell_type": "markdown",
   "id": "47d9e9f3",
   "metadata": {},
   "source": [
    "We could add to the whole series both for men and women dataset such values that we could log transform these datasets and try visualizing the data again."
   ]
  },
  {
   "cell_type": "code",
   "execution_count": null,
   "id": "7ffa7909",
   "metadata": {},
   "outputs": [],
   "source": [
    "men_min = np.min(men['comment_score'])\n",
    "women_min = np.min(women['comment_score'])\n",
    "\n",
    "men['comment_score2'] = men['comment_score'] + (np.abs(men_min) + 1)\n",
    "women['comment_score2'] = women['comment_score'] + (np.abs(women_min) + 1)\n",
    "\n",
    "men['log_cs'] = np.log(men['comment_score2'])\n",
    "women['log_cs'] = np.log(women['comment_score2'])"
   ]
  },
  {
   "cell_type": "code",
   "execution_count": null,
   "id": "99280910",
   "metadata": {},
   "outputs": [],
   "source": [
    "# /r/AskMen logarithm comment score histogram and density plots\n",
    "plt.hist(men['log_cs'], color = 'blue', edgecolor = 'black', bins = 50);\n",
    "sns.displot(data = men, x = 'log_cs', kind = 'kde');"
   ]
  },
  {
   "cell_type": "code",
   "execution_count": null,
   "id": "8b8264f1",
   "metadata": {},
   "outputs": [],
   "source": [
    "# /r/AskWomen logarithm comment score histogram and density plots\n",
    "plt.hist(women['log_cs'], color = 'blue', edgecolor = 'black', bins = 10);\n",
    "sns.displot(data = women, x = 'log_cs', kind = 'kde');"
   ]
  },
  {
   "cell_type": "markdown",
   "id": "6c7493fe",
   "metadata": {},
   "source": [
    "We can see a little better the distribution of the comment_score variable that "
   ]
  },
  {
   "cell_type": "markdown",
   "id": "e3816adc",
   "metadata": {},
   "source": [
    "# Z-scoring 'comment_score' numerical variable distribution"
   ]
  },
  {
   "cell_type": "code",
   "execution_count": null,
   "id": "f550dcf7",
   "metadata": {},
   "outputs": [],
   "source": [
    "sns.displot(data = men.zscore, kind = 'kde');\n",
    "sns.displot(data = men.zscore_grouped, kind = 'kde');"
   ]
  },
  {
   "cell_type": "code",
   "execution_count": null,
   "id": "c62f181d",
   "metadata": {},
   "outputs": [],
   "source": [
    "sns.displot(data = women.zscore, kind = 'kde');\n",
    "sns.displot(data = women.zscore_grouped, kind = 'kde');"
   ]
  },
  {
   "cell_type": "markdown",
   "id": "b43e138f",
   "metadata": {},
   "source": [
    "# MINMAX scaling of variable 'comment_score' - distribution"
   ]
  },
  {
   "cell_type": "code",
   "execution_count": null,
   "id": "f42fb507",
   "metadata": {},
   "outputs": [],
   "source": [
    "sns.displot(data = men.minmax, kind = 'kde');\n",
    "sns.displot(data = men.minmax_grouped, kind = 'kde');"
   ]
  },
  {
   "cell_type": "code",
   "execution_count": null,
   "id": "5c842386",
   "metadata": {},
   "outputs": [],
   "source": [
    "sns.displot(data = women.minmax, kind = 'kde');\n",
    "sns.displot(data = women.minmax_grouped, kind = 'kde');"
   ]
  },
  {
   "cell_type": "markdown",
   "id": "9b970355",
   "metadata": {},
   "source": [
    "# Wordcloud visualisations"
   ]
  },
  {
   "cell_type": "code",
   "execution_count": null,
   "id": "de14e8c5",
   "metadata": {},
   "outputs": [],
   "source": [
    "# shared stopword list\n",
    "stopwords = set(STOPWORDS)\n",
    "\n",
    "# Men word cloud - comments\n",
    "cleaned_words_men = ' '.join(men['cleaned_wo_sw'])\n",
    "\n",
    "wordcloud_men = WordCloud(stopwords=stopwords,\n",
    "                      background_color='black',\n",
    "                      width=3000,\n",
    "                      height=2500\n",
    "                     ).generate(cleaned_words_men)\n",
    "plt.figure(1,figsize=(12, 12))\n",
    "plt.imshow(wordcloud_men)\n",
    "plt.axis('off')\n",
    "print(\"/r/AskMen Wordcloud plot\")\n",
    "plt.show();\n",
    "\n",
    "# Women word cloud - comments\n",
    "cleaned_words_women = ' '.join(women['cleaned_wo_sw'])\n",
    "\n",
    "wordcloud_women = WordCloud(stopwords=stopwords,\n",
    "                      background_color='black',\n",
    "                      width=3000,\n",
    "                      height=2500\n",
    "                     ).generate(cleaned_words_women)\n",
    "plt.figure(1,figsize=(12, 12))\n",
    "plt.imshow(wordcloud_women)\n",
    "plt.axis('off')\n",
    "print(\"/r/AskWomen Wordcloud plot\")\n",
    "plt.show();\n",
    "\n"
   ]
  },
  {
   "cell_type": "markdown",
   "id": "5b827c8d",
   "metadata": {},
   "source": [
    "As we can see the similarity of the most frequently used words by men and women is truly striking. The biggest diferrences here that we can see is that 'people' seem to be more common in men language than women while words like 'dont', 'feel'\n",
    "\n",
    "We should delete the most used words for example 'time', 'im', 'dont', 'one', etc."
   ]
  },
  {
   "cell_type": "code",
   "execution_count": null,
   "id": "1c240c36",
   "metadata": {},
   "outputs": [],
   "source": [
    "# Men word cloud - comments\n",
    "cleaned_words_men = ' '.join(men['cleaned_wo_sw'])\n",
    "\n",
    "# Women word cloud - comments\n",
    "cleaned_words_women = ' '.join(women['cleaned_wo_sw'])\n",
    "\n",
    "# Shared stopword list\n",
    "stopwords = set(STOPWORDS)\n",
    "stopwords.add(\"one\")\n",
    "stopwords.add(\"im\")\n",
    "stopwords.add(\"time\")\n",
    "stopwords.add(\"dont\")\n",
    "stopwords.add(\"people\")\n",
    "stopwords.add(\"thing\")\n",
    "stopwords.add(\"work\")\n",
    "stopwords.add(\"want\")\n",
    "stopwords.add(\"think\")\n",
    "stopwords.add(\"know\")\n",
    "stopwords.add(\"really\")\n",
    "\n",
    "# Men word cloud - comments\n",
    "wordcloud_men = WordCloud(stopwords=stopwords,\n",
    "                      background_color='black',\n",
    "                      width=3000,\n",
    "                      height=2500\n",
    "                     ).generate(cleaned_words_men)\n",
    "plt.figure(1,figsize=(12, 12))\n",
    "plt.imshow(wordcloud_men)\n",
    "plt.axis('off')\n",
    "print(\"/r/AskMen Wordcloud plot\")\n",
    "plt.show();\n",
    "\n",
    "# Women word cloud - comments\n",
    "wordcloud_women = WordCloud(stopwords=stopwords,\n",
    "                      background_color='black',\n",
    "                      width=3000,\n",
    "                      height=2500\n",
    "                     ).generate(cleaned_words_women)\n",
    "plt.figure(1,figsize=(12, 12))\n",
    "plt.imshow(wordcloud_women)\n",
    "plt.axis('off')\n",
    "print(\"/r/AskWomen Wordcloud plot\")\n",
    "plt.show();\n",
    "\n"
   ]
  },
  {
   "cell_type": "code",
   "execution_count": null,
   "id": "2a1b4ba9",
   "metadata": {},
   "outputs": [],
   "source": []
  }
 ],
 "metadata": {
  "kernelspec": {
   "display_name": "Python 3 (ipykernel)",
   "language": "python",
   "name": "python3"
  },
  "language_info": {
   "codemirror_mode": {
    "name": "ipython",
    "version": 3
   },
   "file_extension": ".py",
   "mimetype": "text/x-python",
   "name": "python",
   "nbconvert_exporter": "python",
   "pygments_lexer": "ipython3",
   "version": "3.7.11"
  }
 },
 "nbformat": 4,
 "nbformat_minor": 5
}
