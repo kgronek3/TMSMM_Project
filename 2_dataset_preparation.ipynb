{
 "cells": [
  {
   "cell_type": "markdown",
   "id": "6802995e",
   "metadata": {},
   "source": [
    "# Krystian Gronek & Katarzyna Piotrowska\n",
    "# Text Mining and Social Media Mining, final project - Analyzing men and women comments using NLP methods"
   ]
  },
  {
   "cell_type": "markdown",
   "id": "b6e9759c",
   "metadata": {},
   "source": [
    "# Loading packages"
   ]
  },
  {
   "cell_type": "code",
   "execution_count": 1,
   "id": "c43ec931",
   "metadata": {},
   "outputs": [
    {
     "name": "stderr",
     "output_type": "stream",
     "text": [
      "[nltk_data] Downloading package punkt to\n",
      "[nltk_data]     C:\\Users\\Krystian\\AppData\\Roaming\\nltk_data...\n",
      "[nltk_data]   Package punkt is already up-to-date!\n"
     ]
    },
    {
     "data": {
      "text/plain": [
       "True"
      ]
     },
     "execution_count": 1,
     "metadata": {},
     "output_type": "execute_result"
    },
    {
     "name": "stderr",
     "output_type": "stream",
     "text": [
      "[nltk_data] Downloading package stopwords to\n",
      "[nltk_data]     C:\\Users\\Krystian\\AppData\\Roaming\\nltk_data...\n",
      "[nltk_data]   Package stopwords is already up-to-date!\n"
     ]
    },
    {
     "data": {
      "text/plain": [
       "True"
      ]
     },
     "execution_count": 1,
     "metadata": {},
     "output_type": "execute_result"
    },
    {
     "name": "stderr",
     "output_type": "stream",
     "text": [
      "[nltk_data] Downloading package vader_lexicon to\n",
      "[nltk_data]     C:\\Users\\Krystian\\AppData\\Roaming\\nltk_data...\n",
      "[nltk_data]   Package vader_lexicon is already up-to-date!\n"
     ]
    },
    {
     "data": {
      "text/plain": [
       "True"
      ]
     },
     "execution_count": 1,
     "metadata": {},
     "output_type": "execute_result"
    }
   ],
   "source": [
    "import pandas as pd\n",
    "import numpy as np\n",
    "import re\n",
    "import nltk\n",
    "import seaborn as sns\n",
    "import matplotlib.pyplot as plt\n",
    "from scipy.stats import zscore\n",
    "\n",
    "from nltk.tokenize import word_tokenize # tokenization\n",
    "nltk.download('punkt')\n",
    "from nltk.corpus import stopwords # stopwords\n",
    "nltk.download('stopwords')\n",
    "stop_words = set(stopwords.words('english')) \n",
    "from nltk.stem import PorterStemmer # stemming\n",
    "ps = PorterStemmer() \n",
    "\n",
    "nltk.download('vader_lexicon')"
   ]
  },
  {
   "cell_type": "markdown",
   "id": "277055f8",
   "metadata": {},
   "source": [
    "# Loading raw data and initial cleaning"
   ]
  },
  {
   "cell_type": "code",
   "execution_count": 2,
   "id": "cef22ce6",
   "metadata": {},
   "outputs": [],
   "source": [
    "men = pd.read_csv('data/askmen.csv', sep = ';')\n",
    "women = pd.read_csv('data/askwomen.csv', sep = ';')"
   ]
  },
  {
   "cell_type": "code",
   "execution_count": 3,
   "id": "0c63c276",
   "metadata": {},
   "outputs": [
    {
     "data": {
      "text/html": [
       "<div>\n",
       "<style scoped>\n",
       "    .dataframe tbody tr th:only-of-type {\n",
       "        vertical-align: middle;\n",
       "    }\n",
       "\n",
       "    .dataframe tbody tr th {\n",
       "        vertical-align: top;\n",
       "    }\n",
       "\n",
       "    .dataframe thead th {\n",
       "        text-align: right;\n",
       "    }\n",
       "</style>\n",
       "<table border=\"1\" class=\"dataframe\">\n",
       "  <thead>\n",
       "    <tr style=\"text-align: right;\">\n",
       "      <th></th>\n",
       "      <th>username</th>\n",
       "      <th>comment_score</th>\n",
       "      <th>comment_text</th>\n",
       "      <th>submission_title</th>\n",
       "      <th>submission_ups</th>\n",
       "      <th>submission_downs</th>\n",
       "    </tr>\n",
       "  </thead>\n",
       "  <tbody>\n",
       "    <tr>\n",
       "      <th>0</th>\n",
       "      <td>virusamongus</td>\n",
       "      <td>942</td>\n",
       "      <td>Oh no, I was so interested in the nuanced deba...</td>\n",
       "      <td>BONK! Overly sexual questions are no longer al...</td>\n",
       "      <td>13949</td>\n",
       "      <td>0</td>\n",
       "    </tr>\n",
       "    <tr>\n",
       "      <th>1</th>\n",
       "      <td>CoffeeEnjoyerFrog</td>\n",
       "      <td>4172</td>\n",
       "      <td>Can't wait to see : men, what gets you at 25% ...</td>\n",
       "      <td>BONK! Overly sexual questions are no longer al...</td>\n",
       "      <td>13949</td>\n",
       "      <td>0</td>\n",
       "    </tr>\n",
       "    <tr>\n",
       "      <th>2</th>\n",
       "      <td>5altyShoe</td>\n",
       "      <td>4326</td>\n",
       "      <td>Looks like someone got some post ~~nut~~ legum...</td>\n",
       "      <td>BONK! Overly sexual questions are no longer al...</td>\n",
       "      <td>13949</td>\n",
       "      <td>0</td>\n",
       "    </tr>\n",
       "    <tr>\n",
       "      <th>3</th>\n",
       "      <td>mightyjake</td>\n",
       "      <td>1876</td>\n",
       "      <td>&gt; remember to read the Bible\\n\\nEzekiel 23:20\\...</td>\n",
       "      <td>BONK! Overly sexual questions are no longer al...</td>\n",
       "      <td>13949</td>\n",
       "      <td>0</td>\n",
       "    </tr>\n",
       "    <tr>\n",
       "      <th>4</th>\n",
       "      <td>TallCombination6</td>\n",
       "      <td>764</td>\n",
       "      <td>How am I supposed to know that men enjoy blowj...</td>\n",
       "      <td>BONK! Overly sexual questions are no longer al...</td>\n",
       "      <td>13949</td>\n",
       "      <td>0</td>\n",
       "    </tr>\n",
       "    <tr>\n",
       "      <th>...</th>\n",
       "      <td>...</td>\n",
       "      <td>...</td>\n",
       "      <td>...</td>\n",
       "      <td>...</td>\n",
       "      <td>...</td>\n",
       "      <td>...</td>\n",
       "    </tr>\n",
       "    <tr>\n",
       "      <th>17275</th>\n",
       "      <td>randylahey2883</td>\n",
       "      <td>3</td>\n",
       "      <td>I had a bear come into my camp on more than on...</td>\n",
       "      <td>What is a fact or story you don't get to tell ...</td>\n",
       "      <td>9</td>\n",
       "      <td>0</td>\n",
       "    </tr>\n",
       "    <tr>\n",
       "      <th>17276</th>\n",
       "      <td>BalloonPilotDude</td>\n",
       "      <td>3</td>\n",
       "      <td>A story that I think about allot but I doubt t...</td>\n",
       "      <td>What is a fact or story you don't get to tell ...</td>\n",
       "      <td>9</td>\n",
       "      <td>0</td>\n",
       "    </tr>\n",
       "    <tr>\n",
       "      <th>17277</th>\n",
       "      <td>JetBrink</td>\n",
       "      <td>3</td>\n",
       "      <td>I'm awesome in bed</td>\n",
       "      <td>What is a fact or story you don't get to tell ...</td>\n",
       "      <td>9</td>\n",
       "      <td>0</td>\n",
       "    </tr>\n",
       "    <tr>\n",
       "      <th>17278</th>\n",
       "      <td>Stabbmaster</td>\n",
       "      <td>9</td>\n",
       "      <td>The first slaveowner in the United States was ...</td>\n",
       "      <td>What is a fact or story you don't get to tell ...</td>\n",
       "      <td>9</td>\n",
       "      <td>0</td>\n",
       "    </tr>\n",
       "    <tr>\n",
       "      <th>17279</th>\n",
       "      <td>Agi7890</td>\n",
       "      <td>1</td>\n",
       "      <td>The story about how I was offered 15k to help ...</td>\n",
       "      <td>What is a fact or story you don't get to tell ...</td>\n",
       "      <td>9</td>\n",
       "      <td>0</td>\n",
       "    </tr>\n",
       "  </tbody>\n",
       "</table>\n",
       "<p>17280 rows × 6 columns</p>\n",
       "</div>"
      ],
      "text/plain": [
       "                username  comment_score  \\\n",
       "0           virusamongus            942   \n",
       "1      CoffeeEnjoyerFrog           4172   \n",
       "2              5altyShoe           4326   \n",
       "3             mightyjake           1876   \n",
       "4       TallCombination6            764   \n",
       "...                  ...            ...   \n",
       "17275     randylahey2883              3   \n",
       "17276   BalloonPilotDude              3   \n",
       "17277           JetBrink              3   \n",
       "17278        Stabbmaster              9   \n",
       "17279            Agi7890              1   \n",
       "\n",
       "                                            comment_text  \\\n",
       "0      Oh no, I was so interested in the nuanced deba...   \n",
       "1      Can't wait to see : men, what gets you at 25% ...   \n",
       "2      Looks like someone got some post ~~nut~~ legum...   \n",
       "3      > remember to read the Bible\\n\\nEzekiel 23:20\\...   \n",
       "4      How am I supposed to know that men enjoy blowj...   \n",
       "...                                                  ...   \n",
       "17275  I had a bear come into my camp on more than on...   \n",
       "17276  A story that I think about allot but I doubt t...   \n",
       "17277                                 I'm awesome in bed   \n",
       "17278  The first slaveowner in the United States was ...   \n",
       "17279  The story about how I was offered 15k to help ...   \n",
       "\n",
       "                                        submission_title  submission_ups  \\\n",
       "0      BONK! Overly sexual questions are no longer al...           13949   \n",
       "1      BONK! Overly sexual questions are no longer al...           13949   \n",
       "2      BONK! Overly sexual questions are no longer al...           13949   \n",
       "3      BONK! Overly sexual questions are no longer al...           13949   \n",
       "4      BONK! Overly sexual questions are no longer al...           13949   \n",
       "...                                                  ...             ...   \n",
       "17275  What is a fact or story you don't get to tell ...               9   \n",
       "17276  What is a fact or story you don't get to tell ...               9   \n",
       "17277  What is a fact or story you don't get to tell ...               9   \n",
       "17278  What is a fact or story you don't get to tell ...               9   \n",
       "17279  What is a fact or story you don't get to tell ...               9   \n",
       "\n",
       "       submission_downs  \n",
       "0                     0  \n",
       "1                     0  \n",
       "2                     0  \n",
       "3                     0  \n",
       "4                     0  \n",
       "...                 ...  \n",
       "17275                 0  \n",
       "17276                 0  \n",
       "17277                 0  \n",
       "17278                 0  \n",
       "17279                 0  \n",
       "\n",
       "[17280 rows x 6 columns]"
      ]
     },
     "execution_count": 3,
     "metadata": {},
     "output_type": "execute_result"
    }
   ],
   "source": [
    "men"
   ]
  },
  {
   "cell_type": "code",
   "execution_count": 4,
   "id": "29ac9ee5",
   "metadata": {},
   "outputs": [
    {
     "data": {
      "text/html": [
       "<div>\n",
       "<style scoped>\n",
       "    .dataframe tbody tr th:only-of-type {\n",
       "        vertical-align: middle;\n",
       "    }\n",
       "\n",
       "    .dataframe tbody tr th {\n",
       "        vertical-align: top;\n",
       "    }\n",
       "\n",
       "    .dataframe thead th {\n",
       "        text-align: right;\n",
       "    }\n",
       "</style>\n",
       "<table border=\"1\" class=\"dataframe\">\n",
       "  <thead>\n",
       "    <tr style=\"text-align: right;\">\n",
       "      <th></th>\n",
       "      <th>username</th>\n",
       "      <th>comment_score</th>\n",
       "      <th>comment_text</th>\n",
       "      <th>submission_title</th>\n",
       "      <th>submission_ups</th>\n",
       "      <th>submission_downs</th>\n",
       "    </tr>\n",
       "  </thead>\n",
       "  <tbody>\n",
       "    <tr>\n",
       "      <th>0</th>\n",
       "      <td>shockedpikachu123</td>\n",
       "      <td>28</td>\n",
       "      <td>Waiting for the cvs candy to be 75% off on Feb...</td>\n",
       "      <td>Valentines Day Mega thread! Check in here for ...</td>\n",
       "      <td>100</td>\n",
       "      <td>0</td>\n",
       "    </tr>\n",
       "    <tr>\n",
       "      <th>1</th>\n",
       "      <td>secrethedgehog5</td>\n",
       "      <td>16</td>\n",
       "      <td>My second valentines day alone, and i am feeli...</td>\n",
       "      <td>Valentines Day Mega thread! Check in here for ...</td>\n",
       "      <td>100</td>\n",
       "      <td>0</td>\n",
       "    </tr>\n",
       "    <tr>\n",
       "      <th>2</th>\n",
       "      <td>KBXGazelle</td>\n",
       "      <td>15</td>\n",
       "      <td>February 14 was my mom's birthday so I usually...</td>\n",
       "      <td>Valentines Day Mega thread! Check in here for ...</td>\n",
       "      <td>100</td>\n",
       "      <td>0</td>\n",
       "    </tr>\n",
       "    <tr>\n",
       "      <th>3</th>\n",
       "      <td>meloaf</td>\n",
       "      <td>13</td>\n",
       "      <td>I'm sending all my friends Valentine's Day car...</td>\n",
       "      <td>Valentines Day Mega thread! Check in here for ...</td>\n",
       "      <td>100</td>\n",
       "      <td>0</td>\n",
       "    </tr>\n",
       "    <tr>\n",
       "      <th>4</th>\n",
       "      <td>OriginalOestrus</td>\n",
       "      <td>12</td>\n",
       "      <td>I have reservations at my favorite steakhouse!...</td>\n",
       "      <td>Valentines Day Mega thread! Check in here for ...</td>\n",
       "      <td>100</td>\n",
       "      <td>0</td>\n",
       "    </tr>\n",
       "    <tr>\n",
       "      <th>...</th>\n",
       "      <td>...</td>\n",
       "      <td>...</td>\n",
       "      <td>...</td>\n",
       "      <td>...</td>\n",
       "      <td>...</td>\n",
       "      <td>...</td>\n",
       "    </tr>\n",
       "    <tr>\n",
       "      <th>16851</th>\n",
       "      <td>CutWeary9135</td>\n",
       "      <td>1</td>\n",
       "      <td>12</td>\n",
       "      <td>What age do you consider to be “in your prime”?</td>\n",
       "      <td>373</td>\n",
       "      <td>0</td>\n",
       "    </tr>\n",
       "    <tr>\n",
       "      <th>16852</th>\n",
       "      <td>Irinakusx</td>\n",
       "      <td>1</td>\n",
       "      <td>20 it is advisable to take care of your health...</td>\n",
       "      <td>What age do you consider to be “in your prime”?</td>\n",
       "      <td>373</td>\n",
       "      <td>0</td>\n",
       "    </tr>\n",
       "    <tr>\n",
       "      <th>16853</th>\n",
       "      <td>NaN</td>\n",
       "      <td>1</td>\n",
       "      <td>[removed]</td>\n",
       "      <td>What age do you consider to be “in your prime”?</td>\n",
       "      <td>373</td>\n",
       "      <td>0</td>\n",
       "    </tr>\n",
       "    <tr>\n",
       "      <th>16854</th>\n",
       "      <td>cuddliest_friend</td>\n",
       "      <td>1</td>\n",
       "      <td>If i feel that this is the Part of my Life whe...</td>\n",
       "      <td>What age do you consider to be “in your prime”?</td>\n",
       "      <td>373</td>\n",
       "      <td>0</td>\n",
       "    </tr>\n",
       "    <tr>\n",
       "      <th>16855</th>\n",
       "      <td>NaN</td>\n",
       "      <td>-2</td>\n",
       "      <td>[removed]</td>\n",
       "      <td>What age do you consider to be “in your prime”?</td>\n",
       "      <td>373</td>\n",
       "      <td>0</td>\n",
       "    </tr>\n",
       "  </tbody>\n",
       "</table>\n",
       "<p>16856 rows × 6 columns</p>\n",
       "</div>"
      ],
      "text/plain": [
       "                username  comment_score  \\\n",
       "0      shockedpikachu123             28   \n",
       "1        secrethedgehog5             16   \n",
       "2             KBXGazelle             15   \n",
       "3                 meloaf             13   \n",
       "4        OriginalOestrus             12   \n",
       "...                  ...            ...   \n",
       "16851       CutWeary9135              1   \n",
       "16852          Irinakusx              1   \n",
       "16853                NaN              1   \n",
       "16854   cuddliest_friend              1   \n",
       "16855                NaN             -2   \n",
       "\n",
       "                                            comment_text  \\\n",
       "0      Waiting for the cvs candy to be 75% off on Feb...   \n",
       "1      My second valentines day alone, and i am feeli...   \n",
       "2      February 14 was my mom's birthday so I usually...   \n",
       "3      I'm sending all my friends Valentine's Day car...   \n",
       "4      I have reservations at my favorite steakhouse!...   \n",
       "...                                                  ...   \n",
       "16851                                                 12   \n",
       "16852  20 it is advisable to take care of your health...   \n",
       "16853                                          [removed]   \n",
       "16854  If i feel that this is the Part of my Life whe...   \n",
       "16855                                          [removed]   \n",
       "\n",
       "                                        submission_title  submission_ups  \\\n",
       "0      Valentines Day Mega thread! Check in here for ...             100   \n",
       "1      Valentines Day Mega thread! Check in here for ...             100   \n",
       "2      Valentines Day Mega thread! Check in here for ...             100   \n",
       "3      Valentines Day Mega thread! Check in here for ...             100   \n",
       "4      Valentines Day Mega thread! Check in here for ...             100   \n",
       "...                                                  ...             ...   \n",
       "16851    What age do you consider to be “in your prime”?             373   \n",
       "16852    What age do you consider to be “in your prime”?             373   \n",
       "16853    What age do you consider to be “in your prime”?             373   \n",
       "16854    What age do you consider to be “in your prime”?             373   \n",
       "16855    What age do you consider to be “in your prime”?             373   \n",
       "\n",
       "       submission_downs  \n",
       "0                     0  \n",
       "1                     0  \n",
       "2                     0  \n",
       "3                     0  \n",
       "4                     0  \n",
       "...                 ...  \n",
       "16851                 0  \n",
       "16852                 0  \n",
       "16853                 0  \n",
       "16854                 0  \n",
       "16855                 0  \n",
       "\n",
       "[16856 rows x 6 columns]"
      ]
     },
     "execution_count": 4,
     "metadata": {},
     "output_type": "execute_result"
    }
   ],
   "source": [
    "women"
   ]
  },
  {
   "cell_type": "code",
   "execution_count": 5,
   "id": "a2acae35",
   "metadata": {},
   "outputs": [
    {
     "name": "stdout",
     "output_type": "stream",
     "text": [
      "[0]\n",
      "[0]\n"
     ]
    }
   ],
   "source": [
    "print(men['submission_downs'].unique())\n",
    "print(women['submission_downs'].unique())"
   ]
  },
  {
   "cell_type": "markdown",
   "id": "8be08c9c",
   "metadata": {},
   "source": [
    "We should delete 'submission_downs' column as it is only 0. It doesn't mean that reddit doesn't allow to scrape the number of downvotes (equivalent of dislikes on facebook) of a post but rather that people who are disinterested in topic just scroll through it and do not downvote it and when they are interested they obiously upvote (equivalent of likes on facebook) the submission post."
   ]
  },
  {
   "cell_type": "code",
   "execution_count": 6,
   "id": "7fd69e02",
   "metadata": {
    "scrolled": true
   },
   "outputs": [],
   "source": [
    "men = men.drop(columns = \"submission_downs\")\n",
    "women = women.drop(columns = \"submission_downs\")"
   ]
  },
  {
   "cell_type": "markdown",
   "id": "afb8e6a0",
   "metadata": {},
   "source": [
    "We need to check for comments removed by moderators. They can be seen in dataset as '[removed]' strings."
   ]
  },
  {
   "cell_type": "code",
   "execution_count": 7,
   "id": "3917dcee",
   "metadata": {},
   "outputs": [
    {
     "data": {
      "text/plain": [
       "338      [removed]\n",
       "720      [removed]\n",
       "4943     [removed]\n",
       "6676     [removed]\n",
       "10034    [removed]\n",
       "12665    [removed]\n",
       "12872    [removed]\n",
       "12904    [removed]\n",
       "13351    [removed]\n",
       "13394    [removed]\n",
       "14807    [removed]\n",
       "15123    [removed]\n",
       "15593    [removed]\n",
       "16142    [removed]\n",
       "Name: comment_text, dtype: object"
      ]
     },
     "execution_count": 7,
     "metadata": {},
     "output_type": "execute_result"
    },
    {
     "data": {
      "text/plain": [
       "34       [removed]\n",
       "47       [removed]\n",
       "48       [removed]\n",
       "49       [removed]\n",
       "50       [removed]\n",
       "           ...    \n",
       "16841    [removed]\n",
       "16842    [removed]\n",
       "16845    [removed]\n",
       "16853    [removed]\n",
       "16855    [removed]\n",
       "Name: comment_text, Length: 1277, dtype: object"
      ]
     },
     "execution_count": 7,
     "metadata": {},
     "output_type": "execute_result"
    }
   ],
   "source": [
    "men['comment_text'].loc[men['comment_text'] == \"[removed]\"]\n",
    "women['comment_text'].loc[women['comment_text'] == \"[removed]\"]"
   ]
  },
  {
   "cell_type": "markdown",
   "id": "bd6abedd",
   "metadata": {},
   "source": [
    "We need to remove comments removed by moderators on reddit. What's important to note here is that in this sample (which was the 500 'hot' posts the day of scraping of data) there were as much as 1277 comments removed in /r/AskWomen subreddit while there were only 14 comments removed in /r/AskMen. This could mean multitude of things, for example strickter and more meticulous moderation on /r/AskWomen subreddit or bigger prevelance of reddit 'trolls' (user who malicously comment in order to induce negative emotions in other commenters) that needed to be banned."
   ]
  },
  {
   "cell_type": "code",
   "execution_count": 8,
   "id": "fd5ca93b",
   "metadata": {},
   "outputs": [
    {
     "data": {
      "text/plain": [
       "Series([], Name: comment_text, dtype: object)"
      ]
     },
     "execution_count": 8,
     "metadata": {},
     "output_type": "execute_result"
    },
    {
     "data": {
      "text/plain": [
       "Series([], Name: comment_text, dtype: object)"
      ]
     },
     "execution_count": 8,
     "metadata": {},
     "output_type": "execute_result"
    }
   ],
   "source": [
    "# List of comments text that need to be removed\n",
    "wrong_comments = ['[removed]']\n",
    "\n",
    "# remove '[removed]' comments\n",
    "men = men[men['comment_text'].isin(wrong_comments) == False]\n",
    "women = women[women['comment_text'].isin(wrong_comments) == False]\n",
    "\n",
    "# check if all '[removed]' comments were removed\n",
    "women['comment_text'].loc[women['comment_text'] == \"[removed]\"]\n",
    "men['comment_text'].loc[men['comment_text'] == \"[removed]\"]"
   ]
  },
  {
   "cell_type": "markdown",
   "id": "97c81490",
   "metadata": {},
   "source": [
    "It should also remove any comments for which the correspoding username is not a string (is a only number or there is no username given) "
   ]
  },
  {
   "cell_type": "code",
   "execution_count": 9,
   "id": "e9c87d6a",
   "metadata": {},
   "outputs": [],
   "source": [
    "# removing rows in men dataset with usernames that are not strings\n",
    "men = men.loc[men.username.apply(lambda x: not isinstance(x, (float, int)))]\n",
    "\n",
    "# removing rows in women dataset with usernames that are not strings\n",
    "women = women.loc[women.username.apply(lambda x: not isinstance(x, (float, int)))]"
   ]
  },
  {
   "cell_type": "markdown",
   "id": "398862b0",
   "metadata": {},
   "source": [
    "It should also be checked weather the username contains 'bot' substring and delete such comments as they can be submitted by bots (created by other reddit users to auto submit comment responses to other users comments or posts), which we do not want. For that function ```check_if_bot(usernames)``` is constructed below along with the code needed to clean the data."
   ]
  },
  {
   "cell_type": "code",
   "execution_count": 10,
   "id": "1492aa0d",
   "metadata": {},
   "outputs": [],
   "source": [
    "def check_if_bot(usernames):\n",
    "    output = list()\n",
    "    for i in usernames:\n",
    "        if re.compile(r'bot').search(i.lower()):\n",
    "            output.append(1)\n",
    "        else:\n",
    "            output.append(0)\n",
    "    return output"
   ]
  },
  {
   "cell_type": "code",
   "execution_count": 11,
   "id": "8d4fbcaf",
   "metadata": {
    "scrolled": true
   },
   "outputs": [
    {
     "data": {
      "text/html": [
       "<div>\n",
       "<style scoped>\n",
       "    .dataframe tbody tr th:only-of-type {\n",
       "        vertical-align: middle;\n",
       "    }\n",
       "\n",
       "    .dataframe tbody tr th {\n",
       "        vertical-align: top;\n",
       "    }\n",
       "\n",
       "    .dataframe thead th {\n",
       "        text-align: right;\n",
       "    }\n",
       "</style>\n",
       "<table border=\"1\" class=\"dataframe\">\n",
       "  <thead>\n",
       "    <tr style=\"text-align: right;\">\n",
       "      <th></th>\n",
       "      <th>username</th>\n",
       "      <th>comment_text</th>\n",
       "    </tr>\n",
       "  </thead>\n",
       "  <tbody>\n",
       "    <tr>\n",
       "      <th>728</th>\n",
       "      <td>Sebbot</td>\n",
       "      <td>If you don’t have a dishwasher: 2 sets of ever...</td>\n",
       "    </tr>\n",
       "    <tr>\n",
       "      <th>2765</th>\n",
       "      <td>jimboTRON261</td>\n",
       "      <td>No matter ‘what happened next’ for everyone wh...</td>\n",
       "    </tr>\n",
       "    <tr>\n",
       "      <th>2840</th>\n",
       "      <td>CakeRobot365</td>\n",
       "      <td>She typically starts having sex with someone else</td>\n",
       "    </tr>\n",
       "    <tr>\n",
       "      <th>3269</th>\n",
       "      <td>plasticbots</td>\n",
       "      <td>Helicopter</td>\n",
       "    </tr>\n",
       "    <tr>\n",
       "      <th>4152</th>\n",
       "      <td>robothobbes</td>\n",
       "      <td>These posts are making me feel normal. Glad to...</td>\n",
       "    </tr>\n",
       "    <tr>\n",
       "      <th>4584</th>\n",
       "      <td>BigBottySlayer</td>\n",
       "      <td>I just got a gf...  \\nIf she get's bored of me...</td>\n",
       "    </tr>\n",
       "    <tr>\n",
       "      <th>5662</th>\n",
       "      <td>BigBottySlayer</td>\n",
       "      <td>Push them up from your thighs and stuff a part...</td>\n",
       "    </tr>\n",
       "    <tr>\n",
       "      <th>5676</th>\n",
       "      <td>weavebot</td>\n",
       "      <td>If you think you can do that and not get sucke...</td>\n",
       "    </tr>\n",
       "    <tr>\n",
       "      <th>5749</th>\n",
       "      <td>Cotterbot</td>\n",
       "      <td>Delete that shit. Don’t keep nudes of exes. Ha...</td>\n",
       "    </tr>\n",
       "    <tr>\n",
       "      <th>5781</th>\n",
       "      <td>MannyBothans_15</td>\n",
       "      <td>If you marry a woman who won't let you look at...</td>\n",
       "    </tr>\n",
       "    <tr>\n",
       "      <th>6102</th>\n",
       "      <td>plasticbots</td>\n",
       "      <td>Never had photos of other chicks. But then, I’...</td>\n",
       "    </tr>\n",
       "    <tr>\n",
       "      <th>6460</th>\n",
       "      <td>NegRoBot6000</td>\n",
       "      <td>Learn to give less fucks about everything.</td>\n",
       "    </tr>\n",
       "    <tr>\n",
       "      <th>7589</th>\n",
       "      <td>BigBottySlayer</td>\n",
       "      <td>In my country, BMW</td>\n",
       "    </tr>\n",
       "    <tr>\n",
       "      <th>7604</th>\n",
       "      <td>MrRobotInside</td>\n",
       "      <td>Honda Fxcking Civic</td>\n",
       "    </tr>\n",
       "    <tr>\n",
       "      <th>8696</th>\n",
       "      <td>bumblebottoms</td>\n",
       "      <td>Syria: continue to pretend like they aren’t be...</td>\n",
       "    </tr>\n",
       "    <tr>\n",
       "      <th>8963</th>\n",
       "      <td>Pale_Blue_Bot</td>\n",
       "      <td>Indians are organising the party</td>\n",
       "    </tr>\n",
       "    <tr>\n",
       "      <th>9180</th>\n",
       "      <td>Angryrobot420</td>\n",
       "      <td>She doesn't like you because she knows you wil...</td>\n",
       "    </tr>\n",
       "    <tr>\n",
       "      <th>10253</th>\n",
       "      <td>CrowBot99</td>\n",
       "      <td>I listen to every single glorious word she has...</td>\n",
       "    </tr>\n",
       "    <tr>\n",
       "      <th>10511</th>\n",
       "      <td>Both-Scallion-2792</td>\n",
       "      <td>The most terrifying thing for me is to let the...</td>\n",
       "    </tr>\n",
       "    <tr>\n",
       "      <th>11453</th>\n",
       "      <td>Both-Ad8054</td>\n",
       "      <td>“South of the Border” in South Carolina. It’s ...</td>\n",
       "    </tr>\n",
       "    <tr>\n",
       "      <th>11652</th>\n",
       "      <td>Robotshark420</td>\n",
       "      <td>Oklahoma.</td>\n",
       "    </tr>\n",
       "    <tr>\n",
       "      <th>11777</th>\n",
       "      <td>Both-Scallion-2792</td>\n",
       "      <td>Any Aussie will know that it's the drop toilet...</td>\n",
       "    </tr>\n",
       "    <tr>\n",
       "      <th>12034</th>\n",
       "      <td>SabotageFusion1</td>\n",
       "      <td>I used it as an excuse to work out. Getting pr...</td>\n",
       "    </tr>\n",
       "    <tr>\n",
       "      <th>13249</th>\n",
       "      <td>ROMMELBOT</td>\n",
       "      <td>I sobered up.</td>\n",
       "    </tr>\n",
       "    <tr>\n",
       "      <th>14334</th>\n",
       "      <td>Both-Flow-7383</td>\n",
       "      <td>Tell her you love riding the bus now and again...</td>\n",
       "    </tr>\n",
       "    <tr>\n",
       "      <th>14657</th>\n",
       "      <td>Lord_Webotama</td>\n",
       "      <td>Headphones with cable and jack. Bluetooth head...</td>\n",
       "    </tr>\n",
       "    <tr>\n",
       "      <th>14718</th>\n",
       "      <td>CartographerBoth686</td>\n",
       "      <td>Physical media, I fking hate streaming service...</td>\n",
       "    </tr>\n",
       "    <tr>\n",
       "      <th>14915</th>\n",
       "      <td>TrollBot007</td>\n",
       "      <td>WiFi connected/voice activated everything.\\n\\n...</td>\n",
       "    </tr>\n",
       "    <tr>\n",
       "      <th>15315</th>\n",
       "      <td>henrebotha</td>\n",
       "      <td>The normalisation of (and even praise for) ove...</td>\n",
       "    </tr>\n",
       "  </tbody>\n",
       "</table>\n",
       "</div>"
      ],
      "text/plain": [
       "                  username                                       comment_text\n",
       "728                 Sebbot  If you don’t have a dishwasher: 2 sets of ever...\n",
       "2765          jimboTRON261  No matter ‘what happened next’ for everyone wh...\n",
       "2840          CakeRobot365  She typically starts having sex with someone else\n",
       "3269           plasticbots                                         Helicopter\n",
       "4152           robothobbes  These posts are making me feel normal. Glad to...\n",
       "4584        BigBottySlayer  I just got a gf...  \\nIf she get's bored of me...\n",
       "5662        BigBottySlayer  Push them up from your thighs and stuff a part...\n",
       "5676              weavebot  If you think you can do that and not get sucke...\n",
       "5749             Cotterbot  Delete that shit. Don’t keep nudes of exes. Ha...\n",
       "5781       MannyBothans_15  If you marry a woman who won't let you look at...\n",
       "6102           plasticbots  Never had photos of other chicks. But then, I’...\n",
       "6460          NegRoBot6000         Learn to give less fucks about everything.\n",
       "7589        BigBottySlayer                                 In my country, BMW\n",
       "7604         MrRobotInside                                Honda Fxcking Civic\n",
       "8696         bumblebottoms  Syria: continue to pretend like they aren’t be...\n",
       "8963         Pale_Blue_Bot                   Indians are organising the party\n",
       "9180         Angryrobot420  She doesn't like you because she knows you wil...\n",
       "10253            CrowBot99  I listen to every single glorious word she has...\n",
       "10511   Both-Scallion-2792  The most terrifying thing for me is to let the...\n",
       "11453          Both-Ad8054  “South of the Border” in South Carolina. It’s ...\n",
       "11652        Robotshark420                                          Oklahoma.\n",
       "11777   Both-Scallion-2792  Any Aussie will know that it's the drop toilet...\n",
       "12034      SabotageFusion1  I used it as an excuse to work out. Getting pr...\n",
       "13249            ROMMELBOT                                      I sobered up.\n",
       "14334       Both-Flow-7383  Tell her you love riding the bus now and again...\n",
       "14657        Lord_Webotama  Headphones with cable and jack. Bluetooth head...\n",
       "14718  CartographerBoth686  Physical media, I fking hate streaming service...\n",
       "14915          TrollBot007  WiFi connected/voice activated everything.\\n\\n...\n",
       "15315           henrebotha  The normalisation of (and even praise for) ove..."
      ]
     },
     "execution_count": 11,
     "metadata": {},
     "output_type": "execute_result"
    },
    {
     "data": {
      "text/html": [
       "<div>\n",
       "<style scoped>\n",
       "    .dataframe tbody tr th:only-of-type {\n",
       "        vertical-align: middle;\n",
       "    }\n",
       "\n",
       "    .dataframe tbody tr th {\n",
       "        vertical-align: top;\n",
       "    }\n",
       "\n",
       "    .dataframe thead th {\n",
       "        text-align: right;\n",
       "    }\n",
       "</style>\n",
       "<table border=\"1\" class=\"dataframe\">\n",
       "  <thead>\n",
       "    <tr style=\"text-align: right;\">\n",
       "      <th></th>\n",
       "      <th>username</th>\n",
       "      <th>comment_text</th>\n",
       "    </tr>\n",
       "  </thead>\n",
       "  <tbody>\n",
       "    <tr>\n",
       "      <th>277</th>\n",
       "      <td>roboticvalkyrie</td>\n",
       "      <td>Great question. Basically, any word topic whic...</td>\n",
       "    </tr>\n",
       "    <tr>\n",
       "      <th>716</th>\n",
       "      <td>Both_Association_258</td>\n",
       "      <td>Loving myself again</td>\n",
       "    </tr>\n",
       "    <tr>\n",
       "      <th>1397</th>\n",
       "      <td>Bottle_Sweaty</td>\n",
       "      <td>While the doctor was breaking my water, husban...</td>\n",
       "    </tr>\n",
       "    <tr>\n",
       "      <th>1466</th>\n",
       "      <td>sarbot88</td>\n",
       "      <td>He didn’t say anything ridiculous but he could...</td>\n",
       "    </tr>\n",
       "    <tr>\n",
       "      <th>1594</th>\n",
       "      <td>Both_Association_258</td>\n",
       "      <td>Sometimes I don't know, \\nI have always been a...</td>\n",
       "    </tr>\n",
       "    <tr>\n",
       "      <th>1720</th>\n",
       "      <td>Robotro17</td>\n",
       "      <td>Depend on the day. Somedays I feel cute. Somed...</td>\n",
       "    </tr>\n",
       "    <tr>\n",
       "      <th>2822</th>\n",
       "      <td>almafinklebottom</td>\n",
       "      <td>I'm scared work will stop and I won't be able ...</td>\n",
       "    </tr>\n",
       "    <tr>\n",
       "      <th>3700</th>\n",
       "      <td>Fariesinabottle</td>\n",
       "      <td>Puberty so I would finally have boobies. I hav...</td>\n",
       "    </tr>\n",
       "    <tr>\n",
       "      <th>4691</th>\n",
       "      <td>Trishbot</td>\n",
       "      <td>Pineapple does belong on pizza.</td>\n",
       "    </tr>\n",
       "    <tr>\n",
       "      <th>5481</th>\n",
       "      <td>sarbot88</td>\n",
       "      <td>Black hair and fair skin, apparently that’s un...</td>\n",
       "    </tr>\n",
       "    <tr>\n",
       "      <th>5859</th>\n",
       "      <td>sybotowner</td>\n",
       "      <td>I don’t drink so I don’t fancy men who don’t d...</td>\n",
       "    </tr>\n",
       "    <tr>\n",
       "      <th>6027</th>\n",
       "      <td>LordBottom69</td>\n",
       "      <td>Not drinking in itself isn’t a red flag to me,...</td>\n",
       "    </tr>\n",
       "    <tr>\n",
       "      <th>6105</th>\n",
       "      <td>Saltyfembot</td>\n",
       "      <td>My boyfriend doesn't drink but I do. He grew u...</td>\n",
       "    </tr>\n",
       "    <tr>\n",
       "      <th>6991</th>\n",
       "      <td>RobotDeathQueen</td>\n",
       "      <td>There's so many. I get reminded of the fact th...</td>\n",
       "    </tr>\n",
       "    <tr>\n",
       "      <th>7329</th>\n",
       "      <td>Robotro17</td>\n",
       "      <td>I tell myself I'm a marvelous couch potato</td>\n",
       "    </tr>\n",
       "    <tr>\n",
       "      <th>8546</th>\n",
       "      <td>NateNMaxsRobot</td>\n",
       "      <td>Luna</td>\n",
       "    </tr>\n",
       "    <tr>\n",
       "      <th>11476</th>\n",
       "      <td>fluffer_bottom_34</td>\n",
       "      <td>Massages!!  and maybe my nails.   I've never h...</td>\n",
       "    </tr>\n",
       "    <tr>\n",
       "      <th>12931</th>\n",
       "      <td>electropop_robot</td>\n",
       "      <td>About Time, Atonement, Eternal Sunshine of the...</td>\n",
       "    </tr>\n",
       "    <tr>\n",
       "      <th>13793</th>\n",
       "      <td>Trishbot</td>\n",
       "      <td>Wear baggy hoodies and baggy sweatpants while ...</td>\n",
       "    </tr>\n",
       "    <tr>\n",
       "      <th>14301</th>\n",
       "      <td>SnooRobots8049</td>\n",
       "      <td>I'm a house spouse, I love it. Neither of us w...</td>\n",
       "    </tr>\n",
       "    <tr>\n",
       "      <th>15837</th>\n",
       "      <td>fluffer_bottom_34</td>\n",
       "      <td>House cleaning / general cleaning.   It is the...</td>\n",
       "    </tr>\n",
       "    <tr>\n",
       "      <th>16162</th>\n",
       "      <td>notarobot3675</td>\n",
       "      <td>every week… i have to go the supermarket 😔</td>\n",
       "    </tr>\n",
       "    <tr>\n",
       "      <th>16532</th>\n",
       "      <td>loubotomised</td>\n",
       "      <td>Tongue Tied (Grouplove)\\n\\nThis Place  (Jamie ...</td>\n",
       "    </tr>\n",
       "  </tbody>\n",
       "</table>\n",
       "</div>"
      ],
      "text/plain": [
       "                   username                                       comment_text\n",
       "277         roboticvalkyrie  Great question. Basically, any word topic whic...\n",
       "716    Both_Association_258                                Loving myself again\n",
       "1397          Bottle_Sweaty  While the doctor was breaking my water, husban...\n",
       "1466               sarbot88  He didn’t say anything ridiculous but he could...\n",
       "1594   Both_Association_258  Sometimes I don't know, \\nI have always been a...\n",
       "1720              Robotro17  Depend on the day. Somedays I feel cute. Somed...\n",
       "2822       almafinklebottom  I'm scared work will stop and I won't be able ...\n",
       "3700        Fariesinabottle  Puberty so I would finally have boobies. I hav...\n",
       "4691               Trishbot                    Pineapple does belong on pizza.\n",
       "5481               sarbot88  Black hair and fair skin, apparently that’s un...\n",
       "5859             sybotowner  I don’t drink so I don’t fancy men who don’t d...\n",
       "6027           LordBottom69  Not drinking in itself isn’t a red flag to me,...\n",
       "6105            Saltyfembot  My boyfriend doesn't drink but I do. He grew u...\n",
       "6991        RobotDeathQueen  There's so many. I get reminded of the fact th...\n",
       "7329              Robotro17         I tell myself I'm a marvelous couch potato\n",
       "8546         NateNMaxsRobot                                               Luna\n",
       "11476     fluffer_bottom_34  Massages!!  and maybe my nails.   I've never h...\n",
       "12931      electropop_robot  About Time, Atonement, Eternal Sunshine of the...\n",
       "13793              Trishbot  Wear baggy hoodies and baggy sweatpants while ...\n",
       "14301        SnooRobots8049  I'm a house spouse, I love it. Neither of us w...\n",
       "15837     fluffer_bottom_34  House cleaning / general cleaning.   It is the...\n",
       "16162         notarobot3675         every week… i have to go the supermarket 😔\n",
       "16532          loubotomised  Tongue Tied (Grouplove)\\n\\nThis Place  (Jamie ..."
      ]
     },
     "execution_count": 11,
     "metadata": {},
     "output_type": "execute_result"
    }
   ],
   "source": [
    "# checking usernames and removing comments that have 'bot' keyword\n",
    "men_usernames = men.drop(columns = ['comment_text', 'comment_score', 'submission_title', 'submission_ups'])[\"username\"]\n",
    "women_usernames = women.drop(columns = ['comment_text', 'comment_score', 'submission_title', 'submission_ups'])[\"username\"]\n",
    "\n",
    "men_usernames_checked = check_if_bot(men_usernames)\n",
    "women_usernames_checked = check_if_bot(women_usernames)\n",
    "\n",
    "men['usr_check'] = men_usernames_checked\n",
    "women['usr_check'] = women_usernames_checked\n",
    "\n",
    "# comments that are made by users with 'bot' substring in their name\n",
    "men[['username', 'comment_text']].loc[men.usr_check == 1]\n",
    "women[['username', 'comment_text']].loc[women.usr_check == 1]\n",
    "\n",
    "# delete those comments\n",
    "men = men[men.usr_check != 1]\n",
    "women = women[women.usr_check != 1]\n",
    "\n",
    "# drop check column\n",
    "men = men.drop(columns = 'usr_check')\n",
    "women = women.drop(columns = 'usr_check')"
   ]
  },
  {
   "cell_type": "markdown",
   "id": "c1ed931b",
   "metadata": {},
   "source": [
    "The comments written by users that had 'bot' in their name do not seem to be generated by a bots by just in case they are still removed. None of the non-desired comments are now present in datasets"
   ]
  },
  {
   "cell_type": "markdown",
   "id": "bf81b92b",
   "metadata": {},
   "source": [
    "# Text preprocessing using regular expressions and assembling final datasets"
   ]
  },
  {
   "cell_type": "markdown",
   "id": "02c5b63f",
   "metadata": {},
   "source": [
    "Below we can see the regular expression patterns that are needed for further data cleaning. Along with that there were written functions that perform such preprocessing techniques as lower casing, tokenization, stop word removal or stemming of the text data."
   ]
  },
  {
   "cell_type": "code",
   "execution_count": 12,
   "id": "84d724cd",
   "metadata": {},
   "outputs": [],
   "source": [
    "DELETE_LINKS = re.compile(r\"(?i)\\b((?:https?:(?:/{1,3}|[a-z0-9%])|[a-z0-9.\\-]+[.](?:com|net|org|edu|gov|mil|aero|asia|biz|cat|coop|info|int|jobs|mobi|museum|name|post|pro|tel|travel|xxx|ac|ad|ae|af|ag|ai|al|am|an|ao|aq|ar|as|at|au|aw|ax|az|ba|bb|bd|be|bf|bg|bh|bi|bj|bm|bn|bo|br|bs|bt|bv|bw|by|bz|ca|cc|cd|cf|cg|ch|ci|ck|cl|cm|cn|co|cr|cs|cu|cv|cx|cy|cz|dd|de|dj|dk|dm|do|dz|ec|ee|eg|eh|er|es|et|eu|fi|fj|fk|fm|fo|fr|ga|gb|gd|ge|gf|gg|gh|gi|gl|gm|gn|gp|gq|gr|gs|gt|gu|gw|gy|hk|hm|hn|hr|ht|hu|id|ie|il|im|in|io|iq|ir|is|it|je|jm|jo|jp|ke|kg|kh|ki|km|kn|kp|kr|kw|ky|kz|la|lb|lc|li|lk|lr|ls|lt|lu|lv|ly|ma|mc|md|me|mg|mh|mk|ml|mm|mn|mo|mp|mq|mr|ms|mt|mu|mv|mw|mx|my|mz|na|nc|ne|nf|ng|ni|nl|no|np|nr|nu|nz|om|pa|pe|pf|pg|ph|pk|pl|pm|pn|pr|ps|pt|pw|py|qa|re|ro|rs|ru|rw|sa|sb|sc|sd|se|sg|sh|si|sj|Ja|sk|sl|sm|sn|so|sr|ss|st|su|sv|sx|sy|sz|tc|td|tf|tg|th|tj|tk|tl|tm|tn|to|tp|tr|tt|tv|tw|tz|ua|ug|uk|us|uy|uz|va|vc|ve|vg|vi|vn|vu|wf|ws|ye|yt|yu|za|zm|zw)/)(?:[^\\s()<>{}\\[\\]]+|\\([^\\s()]*?\\([^\\s()]+\\)[^\\s()]*?\\)|\\([^\\s]+?\\))+(?:\\([^\\s()]*?\\([^\\s()]+\\)[^\\s()]*?\\)|\\([^\\s]+?\\)|[^\\s`!()\\[\\]{};:'\\\".,<>?«»“”‘’])|(?:(?<!@)[a-z0-9]+(?:[.\\-][a-z0-9]+)*[.](?:com|net|org|edu|gov|mil|aero|asia|biz|cat|coop|info|int|jobs|mobi|museum|name|post|pro|tel|travel|xxx|ac|ad|ae|af|ag|ai|al|am|an|ao|aq|ar|as|at|au|aw|ax|az|ba|bb|bd|be|bf|bg|bh|bi|bj|bm|bn|bo|br|bs|bt|bv|bw|by|bz|ca|cc|cd|cf|cg|ch|ci|ck|cl|cm|cn|co|cr|cs|cu|cv|cx|cy|cz|dd|de|dj|dk|dm|do|dz|ec|ee|eg|eh|er|es|et|eu|fi|fj|fk|fm|fo|fr|ga|gb|gd|ge|gf|gg|gh|gi|gl|gm|gn|gp|gq|gr|gs|gt|gu|gw|gy|hk|hm|hn|hr|ht|hu|id|ie|il|im|in|io|iq|ir|is|it|je|jm|jo|jp|ke|kg|kh|ki|km|kn|kp|kr|kw|ky|kz|la|lb|lc|li|lk|lr|ls|lt|lu|lv|ly|ma|mc|md|me|mg|mh|mk|ml|mm|mn|mo|mp|mq|mr|ms|mt|mu|mv|mw|mx|my|mz|na|nc|ne|nf|ng|ni|nl|no|np|nr|nu|nz|om|pa|pe|pf|pg|ph|pk|pl|pm|pn|pr|ps|pt|pw|py|qa|re|ro|rs|ru|rw|sa|sb|sc|sd|se|sg|sh|si|sj|Ja|sk|sl|sm|sn|so|sr|ss|st|su|sv|sx|sy|sz|tc|td|tf|tg|th|tj|tk|tl|tm|tn|to|tp|tr|tt|tv|tw|tz|ua|ug|uk|us|uy|uz|va|vc|ve|vg|vi|vn|vu|wf|ws|ye|yt|yu|za|zm|zw)\\b/?(?!@)))\")\n",
    "DELETE_USER_MENTIONS = re.compile(\"u\\/\\w+\")\n",
    "DELETE_SUBREDDIT_MENTIONS = re.compile(\"(r/\\w+|/r/\\w+)\")\n",
    "REPLACE_NO_SPACE = re.compile(\"[.@;:!\\'?,\\\"-/()\\[\\]<>~’]\")\n",
    "REPLACE_WITH_SPACE = re.compile(\"(\\\\n\\\\n)|(\\\\n)\")\n",
    "MULTIPLE_SPACES = re.compile(\"\\s+\")\n",
    "LEADING_SPACES = re.compile(\"^\\s+\")\n",
    "NUMBERS = re.compile(\"[0-9]+\")\n",
    "EMOJIS = re.compile(\"[\"\n",
    "        u\"\\U0001F600-\\U0001F64F\"  # emoticons\n",
    "        u\"\\U0001F300-\\U0001F5FF\"  # symbols & pictographs\n",
    "        u\"\\U0001F680-\\U0001F6FF\"  # transport & map symbols\n",
    "        u\"\\U0001F1E0-\\U0001F1FF\"  # flags (iOS)\n",
    "        u\"\\U00002500-\\U00002BEF\"  # chinese characters\n",
    "        u\"\\U00002702-\\U000027B0\"\n",
    "        u\"\\U00002702-\\U000027B0\"\n",
    "        u\"\\U000024C2-\\U0001F251\"\n",
    "        u\"\\U0001f926-\\U0001f937\"\n",
    "        u\"\\U00010000-\\U0010ffff\"\n",
    "        u\"\\u2640-\\u2642\" \n",
    "        u\"\\u2600-\\u2B55\"\n",
    "        u\"\\u200d\"\n",
    "        u\"\\u23cf\"\n",
    "        u\"\\u23e9\"\n",
    "        u\"\\u231a\"\n",
    "        u\"\\ufe0f\"                 # dingbats\n",
    "        u\"\\u3030\"\n",
    "        \"]+\", flags = re.UNICODE)\n",
    "FINAL_CLEANING = re.compile('[^a-zA-Z0-9]')"
   ]
  },
  {
   "cell_type": "code",
   "execution_count": 13,
   "id": "c62a2f55",
   "metadata": {},
   "outputs": [],
   "source": [
    "# Preprocessing for sentiment analysis\n",
    "def preprocess_text(text):\n",
    "    text = [DELETE_LINKS.sub('', line) for line in text]\n",
    "    text = [DELETE_USER_MENTIONS.sub('', line) for line in text]\n",
    "    text = [DELETE_SUBREDDIT_MENTIONS.sub('', line) for line in text]\n",
    "    text = [REPLACE_WITH_SPACE.sub(' ', line) for line in text]\n",
    "    text = [REPLACE_NO_SPACE.sub('', line) for line in text]\n",
    "    text = [NUMBERS.sub('', line) for line in text]\n",
    "    text = [EMOJIS.sub('', line) for line in text]\n",
    "    text = [line.lower() for line in text]\n",
    "    text = [FINAL_CLEANING.sub(' ', line) for line in text]\n",
    "    text = [MULTIPLE_SPACES.sub(' ', line) for line in text]\n",
    "    text = [LEADING_SPACES.sub('', line) for line in text]\n",
    "    return text\n",
    "\n",
    "def tokenization(text):\n",
    "    text_vectors = [word_tokenize(line) for line in text]\n",
    "    return text_vectors\n",
    "\n",
    "def stop_words_removal(text):\n",
    "    text = [line.lower() for line in text] # makes text lower case\n",
    "    tokenized = tokenization(text)\n",
    "    filtered_sentences = list()\n",
    "    for line in tokenized:\n",
    "        filtered_line = [word for word in line if not word in stop_words]\n",
    "        filtered_sentences.append(filtered_line)\n",
    "    text = [' '.join(line) for line in filtered_sentences]\n",
    "    return text\n",
    "\n",
    "def custom_stop_words_removal(text, stop_words_list):\n",
    "    tokenized = tokenization(text)\n",
    "    filtered_sentences = list()\n",
    "    for line in tokenized:\n",
    "        filtered_line = [word for word in line if not word in stop_words_list]\n",
    "        filtered_sentences.append(filtered_line)\n",
    "    text = [' '.join(line) for line in filtered_sentences]\n",
    "    return text\n",
    "\n",
    "def stemming(text):\n",
    "    tokenized = tokenization(text)\n",
    "    filtered_sentences = list()\n",
    "    for line in tokenized:\n",
    "        filtered_line = [ps.stem(word) for word in line]\n",
    "        filtered_sentences.append(filtered_line)\n",
    "    text = [' '.join(line) for line in filtered_sentences]\n",
    "    return text"
   ]
  },
  {
   "cell_type": "markdown",
   "id": "e2c1b19b",
   "metadata": {},
   "source": [
    "## Final \"men\" dataset"
   ]
  },
  {
   "cell_type": "code",
   "execution_count": 14,
   "id": "7f521ccf",
   "metadata": {},
   "outputs": [
    {
     "data": {
      "text/html": [
       "<div>\n",
       "<style scoped>\n",
       "    .dataframe tbody tr th:only-of-type {\n",
       "        vertical-align: middle;\n",
       "    }\n",
       "\n",
       "    .dataframe tbody tr th {\n",
       "        vertical-align: top;\n",
       "    }\n",
       "\n",
       "    .dataframe thead th {\n",
       "        text-align: right;\n",
       "    }\n",
       "</style>\n",
       "<table border=\"1\" class=\"dataframe\">\n",
       "  <thead>\n",
       "    <tr style=\"text-align: right;\">\n",
       "      <th></th>\n",
       "      <th>username</th>\n",
       "      <th>comment_score</th>\n",
       "      <th>comment_text</th>\n",
       "      <th>submission_title</th>\n",
       "      <th>submission_ups</th>\n",
       "    </tr>\n",
       "  </thead>\n",
       "  <tbody>\n",
       "    <tr>\n",
       "      <th>0</th>\n",
       "      <td>virusamongus</td>\n",
       "      <td>942</td>\n",
       "      <td>Oh no, I was so interested in the nuanced deba...</td>\n",
       "      <td>BONK! Overly sexual questions are no longer al...</td>\n",
       "      <td>13949</td>\n",
       "    </tr>\n",
       "    <tr>\n",
       "      <th>1</th>\n",
       "      <td>CoffeeEnjoyerFrog</td>\n",
       "      <td>4172</td>\n",
       "      <td>Can't wait to see : men, what gets you at 25% ...</td>\n",
       "      <td>BONK! Overly sexual questions are no longer al...</td>\n",
       "      <td>13949</td>\n",
       "    </tr>\n",
       "  </tbody>\n",
       "</table>\n",
       "</div>"
      ],
      "text/plain": [
       "            username  comment_score  \\\n",
       "0       virusamongus            942   \n",
       "1  CoffeeEnjoyerFrog           4172   \n",
       "\n",
       "                                        comment_text  \\\n",
       "0  Oh no, I was so interested in the nuanced deba...   \n",
       "1  Can't wait to see : men, what gets you at 25% ...   \n",
       "\n",
       "                                    submission_title  submission_ups  \n",
       "0  BONK! Overly sexual questions are no longer al...           13949  \n",
       "1  BONK! Overly sexual questions are no longer al...           13949  "
      ]
     },
     "execution_count": 14,
     "metadata": {},
     "output_type": "execute_result"
    }
   ],
   "source": [
    "men.head(2)"
   ]
  },
  {
   "cell_type": "code",
   "execution_count": 15,
   "id": "f7037086",
   "metadata": {},
   "outputs": [],
   "source": [
    "# men comments data preprocessing\n",
    "men_com = men.drop(columns = ['username', 'comment_score', 'submission_title', 'submission_ups'])[\"comment_text\"]\n",
    "men_com = preprocess_text(men_com)\n",
    "men_stw = stop_words_removal(men_com)\n",
    "men_tok = tokenization(men_com)\n",
    "men_stm = stemming(men_stw) # with stop words (stw) removed\n",
    "men_tok_stw = tokenization(stop_words_removal(men_com)) # with stop words (stw) removed\n",
    "\n",
    "# /r/AskMen submissions preprocessing\n",
    "men_posts = men.drop(columns = ['username', 'comment_score', 'comment_text', 'submission_ups'])[\"submission_title\"]\n",
    "men_posts = preprocess_text(men_posts)\n",
    "men_posts_stw = stop_words_removal(men_posts)\n",
    "men_posts_tok = tokenization(men_posts)\n",
    "men_posts_stm = stemming(stop_words_removal(men_posts)) # with stop words (stw) removed\n",
    "men_posts_tok_stw = tokenization(stop_words_removal(men_posts)) # with stop words (stw) removed"
   ]
  },
  {
   "cell_type": "code",
   "execution_count": 16,
   "id": "eb174995",
   "metadata": {},
   "outputs": [
    {
     "name": "stdout",
     "output_type": "stream",
     "text": [
      "<class 'pandas.core.frame.DataFrame'>\n",
      "Int64Index: 17004 entries, 0 to 17279\n",
      "Data columns (total 15 columns):\n",
      " #   Column                            Non-Null Count  Dtype \n",
      "---  ------                            --------------  ----- \n",
      " 0   username                          17004 non-null  object\n",
      " 1   com_original                      17004 non-null  object\n",
      " 2   cleaned                           17004 non-null  object\n",
      " 3   cleaned_wo_sw                     17004 non-null  object\n",
      " 4   tokenized                         17004 non-null  object\n",
      " 5   stemmed                           17004 non-null  object\n",
      " 6   tokenized_wo_sw                   17004 non-null  object\n",
      " 7   submission_title                  17004 non-null  object\n",
      " 8   submission_title_cleaned          17004 non-null  object\n",
      " 9   submission_title_cleaned_wo_sw    17004 non-null  object\n",
      " 10  submission_title_tokenized        17004 non-null  object\n",
      " 11  submission_title_stemmed          17004 non-null  object\n",
      " 12  submission_title_tokenized_wo_sw  17004 non-null  object\n",
      " 13  comment_score                     17004 non-null  int64 \n",
      " 14  submission_ups                    17004 non-null  int64 \n",
      "dtypes: int64(2), object(13)\n",
      "memory usage: 2.1+ MB\n"
     ]
    }
   ],
   "source": [
    "# Assembling men2 dataset\n",
    "men2 = men[['username']].copy()\n",
    "men2['com_original'] = men[['comment_text']].copy()\n",
    "\n",
    "# comments preprocesses\n",
    "men2['cleaned'] = men_com\n",
    "men2['cleaned_wo_sw'] = men_stw # comments with stop words removed\n",
    "men2['tokenized'] = men_tok\n",
    "men2['stemmed'] = men_stm\n",
    "men2['tokenized_wo_sw'] = men_tok_stw\n",
    "\n",
    "# posts preprocesses\n",
    "men2['submission_title'] = men['submission_title']\n",
    "men2['submission_title_cleaned'] = men_posts\n",
    "men2['submission_title_cleaned_wo_sw'] = men_posts_stw\n",
    "men2['submission_title_tokenized'] = men_posts_tok\n",
    "men2['submission_title_stemmed'] = men_posts_stm\n",
    "men2['submission_title_tokenized_wo_sw'] = men_posts_tok_stw\n",
    "\n",
    "# Adding numerical variables\n",
    "men2['comment_score'] = men['comment_score']\n",
    "men2['submission_ups'] = men['submission_ups']\n",
    "\n",
    "# adding remaining variables (submission post names and numerical variables)\n",
    "\n",
    "# removing rows with empty cleaned comments\n",
    "men2 = men2[men2.cleaned != '']\n",
    "men2 = men2[men2.cleaned_wo_sw != '']\n",
    "\n",
    "men2.info()"
   ]
  },
  {
   "cell_type": "markdown",
   "id": "35eae375",
   "metadata": {},
   "source": [
    "## Final Women dataset"
   ]
  },
  {
   "cell_type": "code",
   "execution_count": 17,
   "id": "a2a009f2",
   "metadata": {},
   "outputs": [
    {
     "data": {
      "text/html": [
       "<div>\n",
       "<style scoped>\n",
       "    .dataframe tbody tr th:only-of-type {\n",
       "        vertical-align: middle;\n",
       "    }\n",
       "\n",
       "    .dataframe tbody tr th {\n",
       "        vertical-align: top;\n",
       "    }\n",
       "\n",
       "    .dataframe thead th {\n",
       "        text-align: right;\n",
       "    }\n",
       "</style>\n",
       "<table border=\"1\" class=\"dataframe\">\n",
       "  <thead>\n",
       "    <tr style=\"text-align: right;\">\n",
       "      <th></th>\n",
       "      <th>username</th>\n",
       "      <th>comment_score</th>\n",
       "      <th>comment_text</th>\n",
       "      <th>submission_title</th>\n",
       "      <th>submission_ups</th>\n",
       "    </tr>\n",
       "  </thead>\n",
       "  <tbody>\n",
       "    <tr>\n",
       "      <th>0</th>\n",
       "      <td>shockedpikachu123</td>\n",
       "      <td>28</td>\n",
       "      <td>Waiting for the cvs candy to be 75% off on Feb...</td>\n",
       "      <td>Valentines Day Mega thread! Check in here for ...</td>\n",
       "      <td>100</td>\n",
       "    </tr>\n",
       "    <tr>\n",
       "      <th>1</th>\n",
       "      <td>secrethedgehog5</td>\n",
       "      <td>16</td>\n",
       "      <td>My second valentines day alone, and i am feeli...</td>\n",
       "      <td>Valentines Day Mega thread! Check in here for ...</td>\n",
       "      <td>100</td>\n",
       "    </tr>\n",
       "  </tbody>\n",
       "</table>\n",
       "</div>"
      ],
      "text/plain": [
       "            username  comment_score  \\\n",
       "0  shockedpikachu123             28   \n",
       "1    secrethedgehog5             16   \n",
       "\n",
       "                                        comment_text  \\\n",
       "0  Waiting for the cvs candy to be 75% off on Feb...   \n",
       "1  My second valentines day alone, and i am feeli...   \n",
       "\n",
       "                                    submission_title  submission_ups  \n",
       "0  Valentines Day Mega thread! Check in here for ...             100  \n",
       "1  Valentines Day Mega thread! Check in here for ...             100  "
      ]
     },
     "execution_count": 17,
     "metadata": {},
     "output_type": "execute_result"
    }
   ],
   "source": [
    "women.head(2)"
   ]
  },
  {
   "cell_type": "code",
   "execution_count": 18,
   "id": "0c721ac3",
   "metadata": {},
   "outputs": [],
   "source": [
    "# women comments data preprocessing\n",
    "women_com = women.drop(columns = ['username', 'comment_score', 'submission_title', 'submission_ups'])[\"comment_text\"]\n",
    "women_com = preprocess_text(women_com)\n",
    "women_stw = stop_words_removal(women_com)\n",
    "women_tok = tokenization(women_com)\n",
    "women_stm = stemming(women_stw) # with stop words (stw) removed\n",
    "women_tok_stw = tokenization(stop_words_removal(women_com)) # with stop words (stw) removed\n",
    "\n",
    "# /r/AskWomen submissions preprocessing\n",
    "women_posts = women.drop(columns = ['username', 'comment_score', 'comment_text', 'submission_ups'])[\"submission_title\"]\n",
    "women_posts = preprocess_text(women_posts)\n",
    "women_posts_stw = stop_words_removal(women_posts)\n",
    "women_posts_tok = tokenization(women_posts)\n",
    "women_posts_stm = stemming(stop_words_removal(women_posts)) # with stop words (stw) removed\n",
    "women_posts_tok_stw = tokenization(stop_words_removal(women_posts)) # with stop words (stw) removed\n"
   ]
  },
  {
   "cell_type": "code",
   "execution_count": 19,
   "id": "894f19e4",
   "metadata": {},
   "outputs": [
    {
     "name": "stdout",
     "output_type": "stream",
     "text": [
      "<class 'pandas.core.frame.DataFrame'>\n",
      "Int64Index: 15406 entries, 0 to 16854\n",
      "Data columns (total 15 columns):\n",
      " #   Column                            Non-Null Count  Dtype \n",
      "---  ------                            --------------  ----- \n",
      " 0   username                          15406 non-null  object\n",
      " 1   com_original                      15406 non-null  object\n",
      " 2   cleaned                           15406 non-null  object\n",
      " 3   cleaned_wo_sw                     15406 non-null  object\n",
      " 4   tokenized                         15406 non-null  object\n",
      " 5   stemmed                           15406 non-null  object\n",
      " 6   tokenized_wo_sw                   15406 non-null  object\n",
      " 7   submission_title                  15406 non-null  object\n",
      " 8   submission_title_cleaned          15406 non-null  object\n",
      " 9   submission_title_cleaned_wo_sw    15406 non-null  object\n",
      " 10  submission_title_tokenized        15406 non-null  object\n",
      " 11  submission_title_stemmed          15406 non-null  object\n",
      " 12  submission_title_tokenized_wo_sw  15406 non-null  object\n",
      " 13  comment_score                     15406 non-null  int64 \n",
      " 14  submission_ups                    15406 non-null  int64 \n",
      "dtypes: int64(2), object(13)\n",
      "memory usage: 1.9+ MB\n"
     ]
    }
   ],
   "source": [
    "# Assembling women2 dataset\n",
    "women2 = women[['username']].copy()\n",
    "women2['com_original'] = women[['comment_text']].copy()\n",
    "\n",
    "# comments preprocesses\n",
    "women2['cleaned'] = women_com\n",
    "women2['cleaned_wo_sw'] = women_stw # comments with stop words removed\n",
    "women2['tokenized'] = women_tok\n",
    "women2['stemmed'] = women_stm\n",
    "women2['tokenized_wo_sw'] = women_tok_stw\n",
    "\n",
    "# posts preprocesses\n",
    "women2['submission_title'] = women['submission_title']\n",
    "women2['submission_title'] = women['submission_title']\n",
    "women2['submission_title_cleaned'] = women_posts\n",
    "women2['submission_title_cleaned_wo_sw'] = women_posts_stw\n",
    "women2['submission_title_tokenized'] = women_posts_tok\n",
    "women2['submission_title_stemmed'] = women_posts_stm\n",
    "women2['submission_title_tokenized_wo_sw'] = women_posts_tok_stw\n",
    "\n",
    "# Adding numerical variables\n",
    "women2['comment_score'] = women['comment_score']\n",
    "women2['submission_ups'] = women['submission_ups']\n",
    "\n",
    "# removing rows with empty cleaned comments\n",
    "women2 = women2[women2.cleaned != '']\n",
    "women2 = women2[women2.cleaned_wo_sw != '']\n",
    "\n",
    "women2.info()"
   ]
  },
  {
   "cell_type": "markdown",
   "id": "cb2c84d5",
   "metadata": {},
   "source": [
    "# Comment score distribution\n",
    "\n",
    "On reddit it is often the case that there are a low number of comments that are called 'top comments' that have the biggest number of upvotes and because of that they are moved to the top of discussion. That causes even more upvotes as these comments tend to be the the funniest/the most imformative/most insightful. \n",
    "\n",
    "We want to use comment score as a proxy for the comment sentiment because users tend to downvote negative posts and upvote positive posts. By negative posts we mean the toxic posts, comments with vulgar language and comments with misinfomation. By positive posts we mean wholesome comments that use positive language, convey useful or insightful information and are what we would call a civil entry to the discussion. We could also assume that non-toxic comments that are not useful to the readers are just overlooked by them and the users do not have the incentive to downvote it meaning their comments get no negative score but equal or very close to value 0.\n",
    "\n",
    "For sentiment analysis it would be useful to rescale comment score values to compare to the output values of sentiment analysis algorightms. As written before 'top' comments tend to occur sparsely and they do not necessarily are essential to analysis of sentiment or topic of the discussion in the post but they skew the distribution of the data and basically exist as outliers. Let's look at the distribution of the values of comment score to check this relationship."
   ]
  },
  {
   "cell_type": "code",
   "execution_count": 20,
   "id": "f8ea90f5",
   "metadata": {},
   "outputs": [
    {
     "data": {
      "text/plain": [
       "count    17004.000000\n",
       "mean        17.725594\n",
       "std        178.795015\n",
       "min        -32.000000\n",
       "25%          1.000000\n",
       "50%          1.000000\n",
       "75%          3.000000\n",
       "max       8059.000000\n",
       "Name: comment_score, dtype: float64"
      ]
     },
     "execution_count": 20,
     "metadata": {},
     "output_type": "execute_result"
    },
    {
     "data": {
      "text/plain": [
       "count    15406.000000\n",
       "mean        13.544593\n",
       "std        108.567488\n",
       "min        -23.000000\n",
       "25%          1.000000\n",
       "50%          1.000000\n",
       "75%          3.000000\n",
       "max       4758.000000\n",
       "Name: comment_score, dtype: float64"
      ]
     },
     "execution_count": 20,
     "metadata": {},
     "output_type": "execute_result"
    }
   ],
   "source": [
    "men2.comment_score.describe()\n",
    "women2.comment_score.describe()"
   ]
  },
  {
   "cell_type": "code",
   "execution_count": 21,
   "id": "7289abd1",
   "metadata": {},
   "outputs": [
    {
     "data": {
      "image/png": "[encoded data removed]",
      "text/plain": [
       "<Figure size 432x288 with 1 Axes>"
      ]
     },
     "metadata": {
      "needs_background": "light"
     },
     "output_type": "display_data"
    },
    {
     "data": {
      "image/png": "[encoded data removed]",
      "text/plain": [
       "<Figure size 432x288 with 1 Axes>"
      ]
     },
     "metadata": {
      "needs_background": "light"
     },
     "output_type": "display_data"
    },
    {
     "data": {
      "image/png": "[encoded data removed]",
      "text/plain": [
       "<Figure size 432x288 with 1 Axes>"
      ]
     },
     "metadata": {
      "needs_background": "light"
     },
     "output_type": "display_data"
    },
    {
     "data": {
      "image/png": "[encoded data removed]",
      "text/plain": [
       "<Figure size 432x288 with 1 Axes>"
      ]
     },
     "metadata": {
      "needs_background": "light"
     },
     "output_type": "display_data"
    }
   ],
   "source": [
    "plot_1 = sns.kdeplot(data = men2.comment_score);\n",
    "plot_1.axvline(men2.comment_score.mean(), color='r', linestyle='--')\n",
    "plot_1.set_title(\"Comment Score distribution for /r/AskMen\", fontsize=20, fontweight=\"bold\")\n",
    "plt.show();\n",
    "\n",
    "plot_2 = sns.kdeplot(data = women2.comment_score);\n",
    "plot_2.axvline(women2.comment_score.mean(), color='r', linestyle='--')\n",
    "plot_2.set_title(\"Comment Score distribution for /r/AskWomen\", fontsize=20, fontweight=\"bold\")\n",
    "plt.show();\n",
    "\n",
    "plot_3 = sns.kdeplot(data = men2.comment_score);\n",
    "plot_3.axvline(men2.comment_score.mean(), color='r', linestyle='--')\n",
    "plot_3.set_title(\"Comment Score distribution for /r/AskMen zommed in\", fontsize=20, fontweight=\"bold\")\n",
    "plot_3.set(xlim = (-150,500))\n",
    "plt.show();\n",
    "\n",
    "plot_4 = sns.kdeplot(data = women2.comment_score);\n",
    "plot_4.axvline(women2.comment_score.mean(), color='r', linestyle='--')\n",
    "plot_4.set_title(\"Comment Score distribution for /r/AskWomen zommed in\", fontsize=20, fontweight=\"bold\")\n",
    "plot_4.set(xlim = (-150,500))\n",
    "plt.show();"
   ]
  },
  {
   "cell_type": "markdown",
   "id": "b9bbdd9c",
   "metadata": {},
   "source": [
    "As we can see the comment score values seem to be heavily positively skewed because of the big values of the ouliers. The max comment score value for men is 8059 and women 4758 upvotes while their means are respectively equal to 17.725594 and 13.544593. Looking at the quantiles we could decide which values should we delete from our datasets."
   ]
  },
  {
   "cell_type": "code",
   "execution_count": 22,
   "id": "8b2f3b22",
   "metadata": {},
   "outputs": [
    {
     "data": {
      "text/html": [
       "<div>\n",
       "<style scoped>\n",
       "    .dataframe tbody tr th:only-of-type {\n",
       "        vertical-align: middle;\n",
       "    }\n",
       "\n",
       "    .dataframe tbody tr th {\n",
       "        vertical-align: top;\n",
       "    }\n",
       "\n",
       "    .dataframe thead th {\n",
       "        text-align: right;\n",
       "    }\n",
       "</style>\n",
       "<table border=\"1\" class=\"dataframe\">\n",
       "  <thead>\n",
       "    <tr style=\"text-align: right;\">\n",
       "      <th></th>\n",
       "      <th>men</th>\n",
       "      <th>women</th>\n",
       "    </tr>\n",
       "    <tr>\n",
       "      <th>quantile</th>\n",
       "      <th></th>\n",
       "      <th></th>\n",
       "    </tr>\n",
       "  </thead>\n",
       "  <tbody>\n",
       "    <tr>\n",
       "      <th>1</th>\n",
       "      <td>-2.0</td>\n",
       "      <td>0.0</td>\n",
       "    </tr>\n",
       "    <tr>\n",
       "      <th>2</th>\n",
       "      <td>-1.0</td>\n",
       "      <td>0.0</td>\n",
       "    </tr>\n",
       "    <tr>\n",
       "      <th>3</th>\n",
       "      <td>0.0</td>\n",
       "      <td>1.0</td>\n",
       "    </tr>\n",
       "    <tr>\n",
       "      <th>4</th>\n",
       "      <td>0.0</td>\n",
       "      <td>1.0</td>\n",
       "    </tr>\n",
       "    <tr>\n",
       "      <th>5</th>\n",
       "      <td>0.0</td>\n",
       "      <td>1.0</td>\n",
       "    </tr>\n",
       "  </tbody>\n",
       "</table>\n",
       "</div>"
      ],
      "text/plain": [
       "          men  women\n",
       "quantile            \n",
       "1        -2.0    0.0\n",
       "2        -1.0    0.0\n",
       "3         0.0    1.0\n",
       "4         0.0    1.0\n",
       "5         0.0    1.0"
      ]
     },
     "execution_count": 22,
     "metadata": {},
     "output_type": "execute_result"
    },
    {
     "data": {
      "text/html": [
       "<div>\n",
       "<style scoped>\n",
       "    .dataframe tbody tr th:only-of-type {\n",
       "        vertical-align: middle;\n",
       "    }\n",
       "\n",
       "    .dataframe tbody tr th {\n",
       "        vertical-align: top;\n",
       "    }\n",
       "\n",
       "    .dataframe thead th {\n",
       "        text-align: right;\n",
       "    }\n",
       "</style>\n",
       "<table border=\"1\" class=\"dataframe\">\n",
       "  <thead>\n",
       "    <tr style=\"text-align: right;\">\n",
       "      <th></th>\n",
       "      <th>men</th>\n",
       "      <th>women</th>\n",
       "    </tr>\n",
       "    <tr>\n",
       "      <th>quantile</th>\n",
       "      <th></th>\n",
       "      <th></th>\n",
       "    </tr>\n",
       "  </thead>\n",
       "  <tbody>\n",
       "    <tr>\n",
       "      <th>95</th>\n",
       "      <td>24.00</td>\n",
       "      <td>29.0</td>\n",
       "    </tr>\n",
       "    <tr>\n",
       "      <th>96</th>\n",
       "      <td>35.00</td>\n",
       "      <td>41.0</td>\n",
       "    </tr>\n",
       "    <tr>\n",
       "      <th>97</th>\n",
       "      <td>58.91</td>\n",
       "      <td>62.0</td>\n",
       "    </tr>\n",
       "    <tr>\n",
       "      <th>98</th>\n",
       "      <td>107.00</td>\n",
       "      <td>107.9</td>\n",
       "    </tr>\n",
       "    <tr>\n",
       "      <th>99</th>\n",
       "      <td>300.91</td>\n",
       "      <td>249.0</td>\n",
       "    </tr>\n",
       "  </tbody>\n",
       "</table>\n",
       "</div>"
      ],
      "text/plain": [
       "             men  women\n",
       "quantile               \n",
       "95         24.00   29.0\n",
       "96         35.00   41.0\n",
       "97         58.91   62.0\n",
       "98        107.00  107.9\n",
       "99        300.91  249.0"
      ]
     },
     "execution_count": 22,
     "metadata": {},
     "output_type": "execute_result"
    }
   ],
   "source": [
    "quantiles_men = list()\n",
    "quantiles_women = list()\n",
    "\n",
    "for i in range(1, 100, 1):\n",
    "    value_men = men2.comment_score.quantile(i/100)\n",
    "    value_women = women2.comment_score.quantile(i/100)\n",
    "    quantiles_men.append(value_men)\n",
    "    quantiles_women.append(value_women)\n",
    "    \n",
    "quantiles_df = pd.DataFrame(data = {'quantile' : list(range(1,100,1)), \n",
    "                                    'men': quantiles_men, \n",
    "                                    'women': quantiles_women}).set_index('quantile')\n",
    "quantiles_df.head(5)\n",
    "quantiles_df.tail(5)\n"
   ]
  },
  {
   "cell_type": "markdown",
   "id": "96147a2a",
   "metadata": {},
   "source": [
    "Looking at the quantiles in the dataframe above we decided to remove values that are bigger than 107 score because values for both men and women are very close to each other and both datasets will contain 98% of the observations. At the bottom we can see distributions plots of datasets with values less than 107 "
   ]
  },
  {
   "cell_type": "code",
   "execution_count": 23,
   "id": "5f4e23fe",
   "metadata": {},
   "outputs": [
    {
     "data": {
      "image/png": "[encoded data removed]",
      "text/plain": [
       "<Figure size 432x288 with 1 Axes>"
      ]
     },
     "metadata": {
      "needs_background": "light"
     },
     "output_type": "display_data"
    },
    {
     "data": {
      "image/png": "[encoded data removed]",
      "text/plain": [
       "<Figure size 432x288 with 1 Axes>"
      ]
     },
     "metadata": {
      "needs_background": "light"
     },
     "output_type": "display_data"
    }
   ],
   "source": [
    "plot_5 = sns.kdeplot(data = men2.comment_score.loc[men.comment_score<=107], fill = True, color = \"b\");\n",
    "plot_5.axvline(men2.comment_score.loc[men.comment_score<107].mean(), color='r', linestyle='--')\n",
    "plot_5.set_title(\"Comment Score distribution for /r/AskMen\\n(comment score less than 107)\", fontsize=20, fontweight=\"bold\")\n",
    "plt.show();\n",
    "\n",
    "plot_6 = sns.kdeplot(data = women2.comment_score.loc[women.comment_score<=107], fill = True, color = \"g\");\n",
    "plot_6.axvline(women2.comment_score.loc[women.comment_score<=107].mean(), color='r', linestyle='--')\n",
    "plot_6.set_title(\"Comment Score distribution for /r/AskWomen\\n(comment score less than 107)\", fontsize=20, fontweight=\"bold\")\n",
    "plt.show();"
   ]
  },
  {
   "cell_type": "code",
   "execution_count": 24,
   "id": "7f990aa8",
   "metadata": {},
   "outputs": [],
   "source": [
    "men2 = men2[men2.comment_score <= 107]\n",
    "women2 = women2[women2.comment_score <= 107]"
   ]
  },
  {
   "cell_type": "markdown",
   "id": "e4039682",
   "metadata": {},
   "source": [
    "# Z-scoring 'comment_score' numerical variable"
   ]
  },
  {
   "cell_type": "code",
   "execution_count": 25,
   "id": "8504d1ae",
   "metadata": {},
   "outputs": [],
   "source": [
    "# Men\n",
    "# Ungrouped\n",
    "men2['zscore'] = zscore(men2['comment_score'], ddof = 0)\n",
    "\n",
    "# Grouped by submission title\n",
    "zscore_men_grouped = men2.groupby(['submission_title']).comment_score.transform(lambda x : zscore(x , ddof = 0))\n",
    "men2['zscore_grouped'] = zscore_men_grouped # adding zscored comment_score to"
   ]
  },
  {
   "cell_type": "code",
   "execution_count": 26,
   "id": "4802ad46",
   "metadata": {},
   "outputs": [],
   "source": [
    "# Women\n",
    "# Ungrouped\n",
    "women2['zscore'] = zscore(women2['comment_score'], ddof = 0)\n",
    "\n",
    "# Grouped by submission title\n",
    "zscore_women_grouped = women2.groupby(['submission_title']).comment_score.transform(lambda x : zscore(x , ddof = 0))\n",
    "women2['zscore_grouped'] = zscore_women_grouped # adding zscored comment_score to"
   ]
  },
  {
   "cell_type": "markdown",
   "id": "0c12cde4",
   "metadata": {},
   "source": [
    "# MINMAX scaling of variable 'comment_score'\n",
    "\n",
    "It might prove useful to have comment_score variable rescaled to the values between -1 to 1 in the next step of analyzing this data set thus according rescaled variables are created below for men and women datasets. It will be rescaled according to the min-max normalization. \n",
    "\n",
    "$$x' = \\frac{x - min(x)}{max(x) - min(x)}$$\n",
    "\n",
    "To rescale a values between arbitraty set of values $[a,b]$ we use the following formula:\n",
    "\n",
    "$$x' = a + \\frac{(x - min(x))(b - a)}{max(x) - min(x)}$$\n",
    "\n",
    "There are two"
   ]
  },
  {
   "cell_type": "code",
   "execution_count": 31,
   "id": "854c9a00",
   "metadata": {},
   "outputs": [
    {
     "data": {
      "text/plain": [
       "-32"
      ]
     },
     "execution_count": 31,
     "metadata": {},
     "output_type": "execute_result"
    },
    {
     "data": {
      "text/plain": [
       "107"
      ]
     },
     "execution_count": 31,
     "metadata": {},
     "output_type": "execute_result"
    },
    {
     "data": {
      "text/plain": [
       "-23"
      ]
     },
     "execution_count": 31,
     "metadata": {},
     "output_type": "execute_result"
    },
    {
     "data": {
      "text/plain": [
       "107"
      ]
     },
     "execution_count": 31,
     "metadata": {},
     "output_type": "execute_result"
    }
   ],
   "source": [
    "men2.comment_score.min()\n",
    "men2.comment_score.max()\n",
    "women2.comment_score.min()\n",
    "women2.comment_score.max()\n"
   ]
  },
  {
   "cell_type": "code",
   "execution_count": 28,
   "id": "1f3a23bf",
   "metadata": {},
   "outputs": [
    {
     "data": {
      "text/plain": [
       "10       0.093525\n",
       "15       0.323741\n",
       "18       0.697842\n",
       "19       0.597122\n",
       "20      -0.381295\n",
       "           ...   \n",
       "17275   -0.496403\n",
       "17276   -0.496403\n",
       "17277   -0.496403\n",
       "17278   -0.410072\n",
       "17279   -0.525180\n",
       "Name: comment_score, Length: 16664, dtype: float64"
      ]
     },
     "execution_count": 28,
     "metadata": {},
     "output_type": "execute_result"
    },
    {
     "data": {
      "text/plain": [
       "-1.0"
      ]
     },
     "execution_count": 28,
     "metadata": {},
     "output_type": "execute_result"
    },
    {
     "data": {
      "text/plain": [
       "1.0"
      ]
     },
     "execution_count": 28,
     "metadata": {},
     "output_type": "execute_result"
    },
    {
     "data": {
      "text/plain": [
       "10       0.080000\n",
       "15       0.400000\n",
       "18       0.920000\n",
       "19       0.780000\n",
       "20      -0.580000\n",
       "           ...   \n",
       "17275   -0.666667\n",
       "17276   -0.666667\n",
       "17277   -0.666667\n",
       "17278    0.333333\n",
       "17279   -1.000000\n",
       "Name: comment_score, Length: 16664, dtype: float64"
      ]
     },
     "execution_count": 28,
     "metadata": {},
     "output_type": "execute_result"
    },
    {
     "data": {
      "text/plain": [
       "-1.0"
      ]
     },
     "execution_count": 28,
     "metadata": {},
     "output_type": "execute_result"
    },
    {
     "data": {
      "text/plain": [
       "1.0"
      ]
     },
     "execution_count": 28,
     "metadata": {},
     "output_type": "execute_result"
    }
   ],
   "source": [
    "# Men\n",
    "# Ungrouped data\n",
    "nominator_men = men2.comment_score - men2.comment_score.min()\n",
    "denominator_men = men2.comment_score.max() - men2.comment_score.min()\n",
    "# minmax_men = nominator_men / denominator_men # for [0,1] interval\n",
    "minmax_men = -1 +  nominator_men * (1 - (-1)) / denominator_men\n",
    "\n",
    "minmax_men\n",
    "minmax_men.min()\n",
    "minmax_men.max()\n",
    "\n",
    "# Grouped data by submission title\n",
    "min_grouped = men2.groupby(['submission_title']).comment_score.transform('min')\n",
    "max_grouped = men2.groupby(['submission_title']).comment_score.transform('max')\n",
    "nominator_men = men2.comment_score - min_grouped\n",
    "denominator_men = max_grouped - min_grouped\n",
    "# minmax_men_grouped = nominator_men / denominator_men # for [0,1] interval\n",
    "minmax_men_grouped = -1 +  nominator_men * (1 - (-1)) / denominator_men\n",
    "\n",
    "minmax_men_grouped\n",
    "minmax_men_grouped.min()\n",
    "minmax_men_grouped.max()\n",
    "\n",
    "men2['minmax'] = minmax_men\n",
    "men2['minmax_grouped'] = minmax_men_grouped"
   ]
  },
  {
   "cell_type": "code",
   "execution_count": 29,
   "id": "b9aa5d75",
   "metadata": {},
   "outputs": [
    {
     "data": {
      "text/plain": [
       "0       -0.215385\n",
       "1       -0.400000\n",
       "2       -0.415385\n",
       "3       -0.446154\n",
       "4       -0.461538\n",
       "           ...   \n",
       "16844   -0.630769\n",
       "16849   -0.630769\n",
       "16850   -0.630769\n",
       "16852   -0.630769\n",
       "16854   -0.630769\n",
       "Name: comment_score, Length: 15097, dtype: float64"
      ]
     },
     "execution_count": 29,
     "metadata": {},
     "output_type": "execute_result"
    },
    {
     "data": {
      "text/plain": [
       "-1.0"
      ]
     },
     "execution_count": 29,
     "metadata": {},
     "output_type": "execute_result"
    },
    {
     "data": {
      "text/plain": [
       "1.0"
      ]
     },
     "execution_count": 29,
     "metadata": {},
     "output_type": "execute_result"
    },
    {
     "data": {
      "text/plain": [
       "0        1.000000\n",
       "1        0.142857\n",
       "2        0.071429\n",
       "3       -0.071429\n",
       "4       -0.142857\n",
       "           ...   \n",
       "16844   -0.940000\n",
       "16849   -0.940000\n",
       "16850   -0.940000\n",
       "16852   -0.940000\n",
       "16854   -0.940000\n",
       "Name: comment_score, Length: 15097, dtype: float64"
      ]
     },
     "execution_count": 29,
     "metadata": {},
     "output_type": "execute_result"
    },
    {
     "data": {
      "text/plain": [
       "-1.0"
      ]
     },
     "execution_count": 29,
     "metadata": {},
     "output_type": "execute_result"
    },
    {
     "data": {
      "text/plain": [
       "1.0"
      ]
     },
     "execution_count": 29,
     "metadata": {},
     "output_type": "execute_result"
    }
   ],
   "source": [
    "# Women\n",
    "# Ungrouped data\n",
    "nominator_women = women2.comment_score - women2.comment_score.min()\n",
    "denominator_women = women2.comment_score.max() - women2.comment_score.min()\n",
    "# minmax_women = nominator_women / denominator_women # for [0,1] interval\n",
    "minmax_women = -1 +  nominator_women * (1 - (-1)) / denominator_women\n",
    "\n",
    "minmax_women\n",
    "minmax_women.min()\n",
    "minmax_women.max()\n",
    "\n",
    "# Grouped data by submission title\n",
    "min_grouped = women2.groupby(['submission_title']).comment_score.transform('min')\n",
    "max_grouped = women2.groupby(['submission_title']).comment_score.transform('max')\n",
    "nominator_women = women2.comment_score - min_grouped\n",
    "denominator_women = max_grouped - min_grouped\n",
    "# minmax_women_grouped = nominator_women / denominator_women # for [0,1] interval\n",
    "minmax_women_grouped = -1 +  nominator_women * (1 - (-1)) / denominator_women\n",
    "\n",
    "minmax_women_grouped\n",
    "minmax_women_grouped.min()\n",
    "minmax_women_grouped.max()\n",
    "\n",
    "women2['minmax'] = minmax_women\n",
    "women2['minmax_grouped'] = minmax_women_grouped"
   ]
  },
  {
   "cell_type": "markdown",
   "id": "d364993e",
   "metadata": {},
   "source": [
    "# Saving final datasets"
   ]
  },
  {
   "cell_type": "code",
   "execution_count": 30,
   "id": "569ae323",
   "metadata": {},
   "outputs": [],
   "source": [
    "men2.to_csv('./data/final_askmen.csv', sep = ';', encoding = \"utf-8\", index = None, header = True)\n",
    "women2.to_csv('./data/final_askwomen.csv', sep = ';', encoding = \"utf-8\", index = None, header = True)"
   ]
  }
 ],
 "metadata": {
  "kernelspec": {
   "display_name": "Python 3 (ipykernel)",
   "language": "python",
   "name": "python3"
  },
  "language_info": {
   "codemirror_mode": {
    "name": "ipython",
    "version": 3
   },
   "file_extension": ".py",
   "mimetype": "text/x-python",
   "name": "python",
   "nbconvert_exporter": "python",
   "pygments_lexer": "ipython3",
   "version": "3.7.11"
  }
 },
 "nbformat": 4,
 "nbformat_minor": 5
}
