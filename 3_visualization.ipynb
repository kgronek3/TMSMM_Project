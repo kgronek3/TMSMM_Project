{
 "cells": [
  {
   "cell_type": "code",
   "execution_count": null,
   "id": "b1728904",
   "metadata": {},
   "outputs": [],
   "source": [
    "import matplotlib.pyplot as plt\n",
    "import pandas as pd\n",
    "import numpy as np\n",
    "\n",
    "%matplotlib inline \n"
   ]
  },
  {
   "cell_type": "markdown",
   "id": "c22b5c96",
   "metadata": {},
   "source": [
    "# Simple distribution visualization of the comment_score variable\n",
    "\n",
    "Let's look at the the only 2 numerical variables in our dataset. \n",
    "\n",
    "Submission upvotes are number of upvotes or likes that a post containing comments has. It mainly conveys how the title of the post or the discussion is attractive to the user to participate in. Basically one can treat the number of upvotes as indicator how good online conversation topic it is, with higher values being more interesting. \n",
    "\n",
    "Score variable is equal to the difference between upvotes and downvotes. It usually conveys information how useful information does the comment give to the reader or weather other users agree with the comment or disagree.\n",
    "\n",
    "Below we can see summary statistics of these variables for men and women datasets"
   ]
  },
  {
   "cell_type": "code",
   "execution_count": null,
   "id": "de14e8c5",
   "metadata": {},
   "outputs": [],
   "source": []
  }
 ],
 "metadata": {
  "kernelspec": {
   "display_name": "Python 3 (ipykernel)",
   "language": "python",
   "name": "python3"
  },
  "language_info": {
   "codemirror_mode": {
    "name": "ipython",
    "version": 3
   },
   "file_extension": ".py",
   "mimetype": "text/x-python",
   "name": "python",
   "nbconvert_exporter": "python",
   "pygments_lexer": "ipython3",
   "version": "3.7.11"
  }
 },
 "nbformat": 4,
 "nbformat_minor": 5
}
