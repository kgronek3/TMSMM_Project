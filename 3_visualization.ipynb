{
 "cells": [
  {
   "cell_type": "markdown",
   "id": "f54a9a98",
   "metadata": {},
   "source": [
    "# Krystian Gronek & Katarzyna Piotrowska\n",
    "# Text Mining and Social Media Mining, final project - Analyzing men and women comments using NLP methods"
   ]
  },
  {
   "cell_type": "markdown",
   "id": "86f5d6eb",
   "metadata": {},
   "source": [
    "# Loading packages"
   ]
  },
  {
   "cell_type": "code",
   "execution_count": 24,
   "id": "b1728904",
   "metadata": {},
   "outputs": [],
   "source": [
    "from wordcloud import WordCloud,STOPWORDS\n",
    "import matplotlib.pyplot as plt\n",
    "import pandas as pd\n",
    "import numpy as np\n",
    "import re\n",
    "import seaborn as sns\n",
    "from collections import Counter\n",
    "\n",
    "\n",
    "%matplotlib inline \n",
    "\n",
    "# some basic visualization\n",
    "import matplotlib.pyplot as plt \n"
   ]
  },
  {
   "cell_type": "code",
   "execution_count": 20,
   "id": "b2ffdaf6",
   "metadata": {},
   "outputs": [],
   "source": [
    "# Functions\n",
    "\n",
    "# Function to convert list of strings represented itself as string to a normal list with strings\n",
    "def destring_list(input_list):\n",
    "    input_list = input_list.strip('][')\n",
    "    output_list = re.compile(\"\\]\\[\").sub(', ', input_list)\n",
    "    output_list = re.compile(\"\\'\").sub('', output_list).split(', ') \n",
    "    return output_list\n"
   ]
  },
  {
   "cell_type": "code",
   "execution_count": 21,
   "id": "dcacf07b",
   "metadata": {},
   "outputs": [],
   "source": [
    "men = pd.read_csv('data/final_askmen.csv', sep = ';')\n",
    "women = pd.read_csv('data/final_askwomen.csv', sep = ';')"
   ]
  },
  {
   "cell_type": "code",
   "execution_count": 22,
   "id": "0aa011e7",
   "metadata": {},
   "outputs": [
    {
     "name": "stdout",
     "output_type": "stream",
     "text": [
      "<class 'pandas.core.frame.DataFrame'>\n",
      "RangeIndex: 16664 entries, 0 to 16663\n",
      "Data columns (total 17 columns):\n",
      " #   Column                            Non-Null Count  Dtype  \n",
      "---  ------                            --------------  -----  \n",
      " 0   username                          16664 non-null  object \n",
      " 1   com_original                      16664 non-null  object \n",
      " 2   cleaned                           16664 non-null  object \n",
      " 3   cleaned_wo_sw                     16664 non-null  object \n",
      " 4   tokenized                         16664 non-null  object \n",
      " 5   stemmed                           16664 non-null  object \n",
      " 6   tokenized_wo_sw                   16664 non-null  object \n",
      " 7   submission_title                  16664 non-null  object \n",
      " 8   submission_title_cleaned          16664 non-null  object \n",
      " 9   submission_title_cleaned_wo_sw    16664 non-null  object \n",
      " 10  submission_title_tokenized        16664 non-null  object \n",
      " 11  submission_title_stemmed          16664 non-null  object \n",
      " 12  submission_title_tokenized_wo_sw  16664 non-null  object \n",
      " 13  comment_score                     16664 non-null  int64  \n",
      " 14  submission_ups                    16664 non-null  int64  \n",
      " 15  minmax                            16664 non-null  float64\n",
      " 16  minmax_grouped                    16622 non-null  float64\n",
      "dtypes: float64(2), int64(2), object(13)\n",
      "memory usage: 2.2+ MB\n",
      "\n",
      "\n",
      "<class 'pandas.core.frame.DataFrame'>\n",
      "RangeIndex: 15097 entries, 0 to 15096\n",
      "Data columns (total 17 columns):\n",
      " #   Column                            Non-Null Count  Dtype  \n",
      "---  ------                            --------------  -----  \n",
      " 0   username                          15097 non-null  object \n",
      " 1   com_original                      15097 non-null  object \n",
      " 2   cleaned                           15097 non-null  object \n",
      " 3   cleaned_wo_sw                     15097 non-null  object \n",
      " 4   tokenized                         15097 non-null  object \n",
      " 5   stemmed                           15097 non-null  object \n",
      " 6   tokenized_wo_sw                   15097 non-null  object \n",
      " 7   submission_title                  15097 non-null  object \n",
      " 8   submission_title_cleaned          15097 non-null  object \n",
      " 9   submission_title_cleaned_wo_sw    15097 non-null  object \n",
      " 10  submission_title_tokenized        15097 non-null  object \n",
      " 11  submission_title_stemmed          15097 non-null  object \n",
      " 12  submission_title_tokenized_wo_sw  15097 non-null  object \n",
      " 13  comment_score                     15097 non-null  int64  \n",
      " 14  submission_ups                    15097 non-null  int64  \n",
      " 15  minmax                            15097 non-null  float64\n",
      " 16  minmax_grouped                    14251 non-null  float64\n",
      "dtypes: float64(2), int64(2), object(13)\n",
      "memory usage: 2.0+ MB\n"
     ]
    }
   ],
   "source": [
    "men.info()\n",
    "print(\"\\n\")\n",
    "women.info()"
   ]
  },
  {
   "cell_type": "markdown",
   "id": "1aab4983",
   "metadata": {},
   "source": [
    "# Frequency of words"
   ]
  },
  {
   "cell_type": "code",
   "execution_count": 35,
   "id": "f63a9aec",
   "metadata": {},
   "outputs": [],
   "source": [
    "# Individual words from all comments in one list\n",
    "# Men - with stopwords\n",
    "all_men_tokenized = men.tokenized.sum()\n",
    "all_men_tokenized = destring_list(all_men_tokenized)\n",
    "all_men_tokenized_counts = Counter(all_men_tokenized)\n",
    "\n",
    "# Men - without stopwords\n",
    "all_men_tokenized2 = men.tokenized_wo_sw.sum()\n",
    "all_men_tokenized2 = destring_list(all_men_tokenized2)\n",
    "all_men_tokenized2_counts = Counter(all_men_tokenized2) \n",
    "\n",
    "# Women - with stopwords\n",
    "all_women_tokenized = women.tokenized.sum()\n",
    "all_women_tokenized = destring_list(all_women_tokenized)\n",
    "all_women_tokenized_counts = Counter(all_women_tokenized)\n",
    "\n",
    "# Women - without stopwords\n",
    "all_women_tokenized2 = women.tokenized_wo_sw.sum()\n",
    "all_women_tokenized2 = destring_list(all_women_tokenized2)\n",
    "all_women_tokenized2_counts = Counter(all_women_tokenized2)\n"
   ]
  },
  {
   "cell_type": "code",
   "execution_count": 62,
   "id": "00764213",
   "metadata": {},
   "outputs": [],
   "source": [
    "df1 = pd.DataFrame.from_records(list(dict(all_men_tokenized_counts).items()), columns = ['word', 'count'])\n",
    "df2 = pd.DataFrame.from_records(list(dict(all_men_tokenized2_counts).items()), columns = ['word', 'count'])\n",
    "df3 = pd.DataFrame.from_records(list(dict(all_women_tokenized_counts).items()), columns = ['word', 'count'])\n",
    "df4 = pd.DataFrame.from_records(list(dict(all_women_tokenized2_counts).items()), columns = ['word', 'count'])\n",
    "\n",
    "df1 = df1.sort_values(by = ['count'], ascending = False)\n",
    "df2 = df2.sort_values(by = ['count'], ascending = False)\n",
    "df3 = df3.sort_values(by = ['count'], ascending = False)\n",
    "df4 = df4.sort_values(by = ['count'], ascending = False)"
   ]
  },
  {
   "cell_type": "code",
   "execution_count": 63,
   "id": "ca008774",
   "metadata": {},
   "outputs": [
    {
     "data": {
      "text/html": [
       "<div>\n",
       "<style scoped>\n",
       "    .dataframe tbody tr th:only-of-type {\n",
       "        vertical-align: middle;\n",
       "    }\n",
       "\n",
       "    .dataframe tbody tr th {\n",
       "        vertical-align: top;\n",
       "    }\n",
       "\n",
       "    .dataframe thead th {\n",
       "        text-align: right;\n",
       "    }\n",
       "</style>\n",
       "<table border=\"1\" class=\"dataframe\">\n",
       "  <thead>\n",
       "    <tr style=\"text-align: right;\">\n",
       "      <th></th>\n",
       "      <th>word</th>\n",
       "      <th>count</th>\n",
       "    </tr>\n",
       "  </thead>\n",
       "  <tbody>\n",
       "    <tr>\n",
       "      <th>76</th>\n",
       "      <td>the</td>\n",
       "      <td>15495</td>\n",
       "    </tr>\n",
       "    <tr>\n",
       "      <th>4</th>\n",
       "      <td>to</td>\n",
       "      <td>15485</td>\n",
       "    </tr>\n",
       "    <tr>\n",
       "      <th>50</th>\n",
       "      <td>i</td>\n",
       "      <td>14965</td>\n",
       "    </tr>\n",
       "    <tr>\n",
       "      <th>62</th>\n",
       "      <td>and</td>\n",
       "      <td>14880</td>\n",
       "    </tr>\n",
       "    <tr>\n",
       "      <th>70</th>\n",
       "      <td>a</td>\n",
       "      <td>14664</td>\n",
       "    </tr>\n",
       "    <tr>\n",
       "      <th>...</th>\n",
       "      <td>...</td>\n",
       "      <td>...</td>\n",
       "    </tr>\n",
       "    <tr>\n",
       "      <th>14546</th>\n",
       "      <td>devoured</td>\n",
       "      <td>1</td>\n",
       "    </tr>\n",
       "    <tr>\n",
       "      <th>14547</th>\n",
       "      <td>tbol</td>\n",
       "      <td>1</td>\n",
       "    </tr>\n",
       "    <tr>\n",
       "      <th>6407</th>\n",
       "      <td>lieu</td>\n",
       "      <td>1</td>\n",
       "    </tr>\n",
       "    <tr>\n",
       "      <th>6404</th>\n",
       "      <td>irq</td>\n",
       "      <td>1</td>\n",
       "    </tr>\n",
       "    <tr>\n",
       "      <th>22182</th>\n",
       "      <td>indentured</td>\n",
       "      <td>1</td>\n",
       "    </tr>\n",
       "  </tbody>\n",
       "</table>\n",
       "<p>22183 rows × 2 columns</p>\n",
       "</div>"
      ],
      "text/plain": [
       "             word  count\n",
       "76            the  15495\n",
       "4              to  15485\n",
       "50              i  14965\n",
       "62            and  14880\n",
       "70              a  14664\n",
       "...           ...    ...\n",
       "14546    devoured      1\n",
       "14547        tbol      1\n",
       "6407         lieu      1\n",
       "6404          irq      1\n",
       "22182  indentured      1\n",
       "\n",
       "[22183 rows x 2 columns]"
      ]
     },
     "execution_count": 63,
     "metadata": {},
     "output_type": "execute_result"
    }
   ],
   "source": [
    "df1"
   ]
  },
  {
   "cell_type": "code",
   "execution_count": 64,
   "id": "bd207971",
   "metadata": {},
   "outputs": [
    {
     "data": {
      "text/html": [
       "<div>\n",
       "<style scoped>\n",
       "    .dataframe tbody tr th:only-of-type {\n",
       "        vertical-align: middle;\n",
       "    }\n",
       "\n",
       "    .dataframe tbody tr th {\n",
       "        vertical-align: top;\n",
       "    }\n",
       "\n",
       "    .dataframe thead th {\n",
       "        text-align: right;\n",
       "    }\n",
       "</style>\n",
       "<table border=\"1\" class=\"dataframe\">\n",
       "  <thead>\n",
       "    <tr style=\"text-align: right;\">\n",
       "      <th></th>\n",
       "      <th>word</th>\n",
       "      <th>count</th>\n",
       "    </tr>\n",
       "  </thead>\n",
       "  <tbody>\n",
       "    <tr>\n",
       "      <th>38</th>\n",
       "      <td>like</td>\n",
       "      <td>2658</td>\n",
       "    </tr>\n",
       "    <tr>\n",
       "      <th>361</th>\n",
       "      <td>dont</td>\n",
       "      <td>2512</td>\n",
       "    </tr>\n",
       "    <tr>\n",
       "      <th>5</th>\n",
       "      <td>im</td>\n",
       "      <td>2246</td>\n",
       "    </tr>\n",
       "    <tr>\n",
       "      <th>292</th>\n",
       "      <td>get</td>\n",
       "      <td>1893</td>\n",
       "    </tr>\n",
       "    <tr>\n",
       "      <th>114</th>\n",
       "      <td>people</td>\n",
       "      <td>1804</td>\n",
       "    </tr>\n",
       "    <tr>\n",
       "      <th>...</th>\n",
       "      <td>...</td>\n",
       "      <td>...</td>\n",
       "    </tr>\n",
       "    <tr>\n",
       "      <th>14536</th>\n",
       "      <td>royalty</td>\n",
       "      <td>1</td>\n",
       "    </tr>\n",
       "    <tr>\n",
       "      <th>14537</th>\n",
       "      <td>mexicans</td>\n",
       "      <td>1</td>\n",
       "    </tr>\n",
       "    <tr>\n",
       "      <th>14538</th>\n",
       "      <td>buds</td>\n",
       "      <td>1</td>\n",
       "    </tr>\n",
       "    <tr>\n",
       "      <th>14539</th>\n",
       "      <td>seltzer</td>\n",
       "      <td>1</td>\n",
       "    </tr>\n",
       "    <tr>\n",
       "      <th>22043</th>\n",
       "      <td>indentured</td>\n",
       "      <td>1</td>\n",
       "    </tr>\n",
       "  </tbody>\n",
       "</table>\n",
       "<p>22044 rows × 2 columns</p>\n",
       "</div>"
      ],
      "text/plain": [
       "             word  count\n",
       "38           like   2658\n",
       "361          dont   2512\n",
       "5              im   2246\n",
       "292           get   1893\n",
       "114        people   1804\n",
       "...           ...    ...\n",
       "14536     royalty      1\n",
       "14537    mexicans      1\n",
       "14538        buds      1\n",
       "14539     seltzer      1\n",
       "22043  indentured      1\n",
       "\n",
       "[22044 rows x 2 columns]"
      ]
     },
     "execution_count": 64,
     "metadata": {},
     "output_type": "execute_result"
    }
   ],
   "source": [
    "df2"
   ]
  },
  {
   "cell_type": "code",
   "execution_count": 58,
   "id": "ca7f4906",
   "metadata": {},
   "outputs": [
    {
     "data": {
      "text/html": [
       "<div>\n",
       "<style scoped>\n",
       "    .dataframe tbody tr th:only-of-type {\n",
       "        vertical-align: middle;\n",
       "    }\n",
       "\n",
       "    .dataframe tbody tr th {\n",
       "        vertical-align: top;\n",
       "    }\n",
       "\n",
       "    .dataframe thead th {\n",
       "        text-align: right;\n",
       "    }\n",
       "</style>\n",
       "<table border=\"1\" class=\"dataframe\">\n",
       "  <thead>\n",
       "    <tr style=\"text-align: right;\">\n",
       "      <th></th>\n",
       "      <th>word</th>\n",
       "      <th>count</th>\n",
       "    </tr>\n",
       "  </thead>\n",
       "  <tbody>\n",
       "    <tr>\n",
       "      <th>76</th>\n",
       "      <td>the</td>\n",
       "      <td>15495</td>\n",
       "    </tr>\n",
       "    <tr>\n",
       "      <th>4</th>\n",
       "      <td>to</td>\n",
       "      <td>15485</td>\n",
       "    </tr>\n",
       "    <tr>\n",
       "      <th>50</th>\n",
       "      <td>i</td>\n",
       "      <td>14965</td>\n",
       "    </tr>\n",
       "    <tr>\n",
       "      <th>62</th>\n",
       "      <td>and</td>\n",
       "      <td>14880</td>\n",
       "    </tr>\n",
       "    <tr>\n",
       "      <th>70</th>\n",
       "      <td>a</td>\n",
       "      <td>14664</td>\n",
       "    </tr>\n",
       "    <tr>\n",
       "      <th>...</th>\n",
       "      <td>...</td>\n",
       "      <td>...</td>\n",
       "    </tr>\n",
       "    <tr>\n",
       "      <th>21705</th>\n",
       "      <td>naprest</td>\n",
       "      <td>1</td>\n",
       "    </tr>\n",
       "    <tr>\n",
       "      <th>492</th>\n",
       "      <td>tryhard</td>\n",
       "      <td>1</td>\n",
       "    </tr>\n",
       "    <tr>\n",
       "      <th>21709</th>\n",
       "      <td>twothirds</td>\n",
       "      <td>1</td>\n",
       "    </tr>\n",
       "    <tr>\n",
       "      <th>21710</th>\n",
       "      <td>carriers</td>\n",
       "      <td>1</td>\n",
       "    </tr>\n",
       "    <tr>\n",
       "      <th>22182</th>\n",
       "      <td>indentured</td>\n",
       "      <td>1</td>\n",
       "    </tr>\n",
       "  </tbody>\n",
       "</table>\n",
       "<p>22183 rows × 2 columns</p>\n",
       "</div>"
      ],
      "text/plain": [
       "             word  count\n",
       "76            the  15495\n",
       "4              to  15485\n",
       "50              i  14965\n",
       "62            and  14880\n",
       "70              a  14664\n",
       "...           ...    ...\n",
       "21705     naprest      1\n",
       "492       tryhard      1\n",
       "21709   twothirds      1\n",
       "21710    carriers      1\n",
       "22182  indentured      1\n",
       "\n",
       "[22183 rows x 2 columns]"
      ]
     },
     "execution_count": 58,
     "metadata": {},
     "output_type": "execute_result"
    }
   ],
   "source": [
    "df"
   ]
  },
  {
   "cell_type": "code",
   "execution_count": 56,
   "id": "d70811b7",
   "metadata": {},
   "outputs": [
    {
     "data": {
      "text/plain": [
       "pandas.core.frame.DataFrame"
      ]
     },
     "execution_count": 56,
     "metadata": {},
     "output_type": "execute_result"
    }
   ],
   "source": [
    "type(df)"
   ]
  },
  {
   "cell_type": "code",
   "execution_count": 50,
   "id": "6a9df135",
   "metadata": {},
   "outputs": [
    {
     "data": {
      "text/plain": [
       "pandas.core.frame.DataFrame"
      ]
     },
     "execution_count": 50,
     "metadata": {},
     "output_type": "execute_result"
    }
   ],
   "source": [
    "type(men)"
   ]
  },
  {
   "cell_type": "code",
   "execution_count": null,
   "id": "d400e0f5",
   "metadata": {},
   "outputs": [],
   "source": []
  },
  {
   "cell_type": "code",
   "execution_count": 31,
   "id": "c887901b",
   "metadata": {},
   "outputs": [
    {
     "ename": "ValueError",
     "evalue": "If using all scalar values, you must pass an index",
     "output_type": "error",
     "traceback": [
      "\u001b[1;31m---------------------------------------------------------------------------\u001b[0m",
      "\u001b[1;31mValueError\u001b[0m                                Traceback (most recent call last)",
      "\u001b[1;32m~\\AppData\\Local\\Temp/ipykernel_12796/990504076.py\u001b[0m in \u001b[0;36m<module>\u001b[1;34m\u001b[0m\n\u001b[1;32m----> 1\u001b[1;33m \u001b[0mdf\u001b[0m \u001b[1;33m=\u001b[0m \u001b[0mpd\u001b[0m\u001b[1;33m.\u001b[0m\u001b[0mDataFrame\u001b[0m\u001b[1;33m(\u001b[0m\u001b[0mall_men_tokenized_counts\u001b[0m\u001b[1;33m)\u001b[0m\u001b[1;33m\u001b[0m\u001b[1;33m\u001b[0m\u001b[0m\n\u001b[0m\u001b[0;32m      2\u001b[0m \u001b[0mall_men_tokenized2_counts\u001b[0m\u001b[1;33m\u001b[0m\u001b[1;33m\u001b[0m\u001b[0m\n\u001b[0;32m      3\u001b[0m \u001b[0mall_women_tokenized_counts\u001b[0m\u001b[1;33m\u001b[0m\u001b[1;33m\u001b[0m\u001b[0m\n\u001b[0;32m      4\u001b[0m \u001b[0mall_women_tokenized2_counts\u001b[0m\u001b[1;33m\u001b[0m\u001b[1;33m\u001b[0m\u001b[0m\n",
      "\u001b[1;32m~\\Miniconda3\\lib\\site-packages\\pandas\\core\\frame.py\u001b[0m in \u001b[0;36m__init__\u001b[1;34m(self, data, index, columns, dtype, copy)\u001b[0m\n\u001b[0;32m    527\u001b[0m \u001b[1;33m\u001b[0m\u001b[0m\n\u001b[0;32m    528\u001b[0m         \u001b[1;32melif\u001b[0m \u001b[0misinstance\u001b[0m\u001b[1;33m(\u001b[0m\u001b[0mdata\u001b[0m\u001b[1;33m,\u001b[0m \u001b[0mdict\u001b[0m\u001b[1;33m)\u001b[0m\u001b[1;33m:\u001b[0m\u001b[1;33m\u001b[0m\u001b[1;33m\u001b[0m\u001b[0m\n\u001b[1;32m--> 529\u001b[1;33m             \u001b[0mmgr\u001b[0m \u001b[1;33m=\u001b[0m \u001b[0minit_dict\u001b[0m\u001b[1;33m(\u001b[0m\u001b[0mdata\u001b[0m\u001b[1;33m,\u001b[0m \u001b[0mindex\u001b[0m\u001b[1;33m,\u001b[0m \u001b[0mcolumns\u001b[0m\u001b[1;33m,\u001b[0m \u001b[0mdtype\u001b[0m\u001b[1;33m=\u001b[0m\u001b[0mdtype\u001b[0m\u001b[1;33m)\u001b[0m\u001b[1;33m\u001b[0m\u001b[1;33m\u001b[0m\u001b[0m\n\u001b[0m\u001b[0;32m    530\u001b[0m         \u001b[1;32melif\u001b[0m \u001b[0misinstance\u001b[0m\u001b[1;33m(\u001b[0m\u001b[0mdata\u001b[0m\u001b[1;33m,\u001b[0m \u001b[0mma\u001b[0m\u001b[1;33m.\u001b[0m\u001b[0mMaskedArray\u001b[0m\u001b[1;33m)\u001b[0m\u001b[1;33m:\u001b[0m\u001b[1;33m\u001b[0m\u001b[1;33m\u001b[0m\u001b[0m\n\u001b[0;32m    531\u001b[0m             \u001b[1;32mimport\u001b[0m \u001b[0mnumpy\u001b[0m\u001b[1;33m.\u001b[0m\u001b[0mma\u001b[0m\u001b[1;33m.\u001b[0m\u001b[0mmrecords\u001b[0m \u001b[1;32mas\u001b[0m \u001b[0mmrecords\u001b[0m\u001b[1;33m\u001b[0m\u001b[1;33m\u001b[0m\u001b[0m\n",
      "\u001b[1;32m~\\Miniconda3\\lib\\site-packages\\pandas\\core\\internals\\construction.py\u001b[0m in \u001b[0;36minit_dict\u001b[1;34m(data, index, columns, dtype)\u001b[0m\n\u001b[0;32m    285\u001b[0m             \u001b[0marr\u001b[0m \u001b[1;32mif\u001b[0m \u001b[1;32mnot\u001b[0m \u001b[0mis_datetime64tz_dtype\u001b[0m\u001b[1;33m(\u001b[0m\u001b[0marr\u001b[0m\u001b[1;33m)\u001b[0m \u001b[1;32melse\u001b[0m \u001b[0marr\u001b[0m\u001b[1;33m.\u001b[0m\u001b[0mcopy\u001b[0m\u001b[1;33m(\u001b[0m\u001b[1;33m)\u001b[0m \u001b[1;32mfor\u001b[0m \u001b[0marr\u001b[0m \u001b[1;32min\u001b[0m \u001b[0marrays\u001b[0m\u001b[1;33m\u001b[0m\u001b[1;33m\u001b[0m\u001b[0m\n\u001b[0;32m    286\u001b[0m         ]\n\u001b[1;32m--> 287\u001b[1;33m     \u001b[1;32mreturn\u001b[0m \u001b[0marrays_to_mgr\u001b[0m\u001b[1;33m(\u001b[0m\u001b[0marrays\u001b[0m\u001b[1;33m,\u001b[0m \u001b[0mdata_names\u001b[0m\u001b[1;33m,\u001b[0m \u001b[0mindex\u001b[0m\u001b[1;33m,\u001b[0m \u001b[0mcolumns\u001b[0m\u001b[1;33m,\u001b[0m \u001b[0mdtype\u001b[0m\u001b[1;33m=\u001b[0m\u001b[0mdtype\u001b[0m\u001b[1;33m)\u001b[0m\u001b[1;33m\u001b[0m\u001b[1;33m\u001b[0m\u001b[0m\n\u001b[0m\u001b[0;32m    288\u001b[0m \u001b[1;33m\u001b[0m\u001b[0m\n\u001b[0;32m    289\u001b[0m \u001b[1;33m\u001b[0m\u001b[0m\n",
      "\u001b[1;32m~\\Miniconda3\\lib\\site-packages\\pandas\\core\\internals\\construction.py\u001b[0m in \u001b[0;36marrays_to_mgr\u001b[1;34m(arrays, arr_names, index, columns, dtype, verify_integrity)\u001b[0m\n\u001b[0;32m     78\u001b[0m         \u001b[1;31m# figure out the index, if necessary\u001b[0m\u001b[1;33m\u001b[0m\u001b[1;33m\u001b[0m\u001b[1;33m\u001b[0m\u001b[0m\n\u001b[0;32m     79\u001b[0m         \u001b[1;32mif\u001b[0m \u001b[0mindex\u001b[0m \u001b[1;32mis\u001b[0m \u001b[1;32mNone\u001b[0m\u001b[1;33m:\u001b[0m\u001b[1;33m\u001b[0m\u001b[1;33m\u001b[0m\u001b[0m\n\u001b[1;32m---> 80\u001b[1;33m             \u001b[0mindex\u001b[0m \u001b[1;33m=\u001b[0m \u001b[0mextract_index\u001b[0m\u001b[1;33m(\u001b[0m\u001b[0marrays\u001b[0m\u001b[1;33m)\u001b[0m\u001b[1;33m\u001b[0m\u001b[1;33m\u001b[0m\u001b[0m\n\u001b[0m\u001b[0;32m     81\u001b[0m         \u001b[1;32melse\u001b[0m\u001b[1;33m:\u001b[0m\u001b[1;33m\u001b[0m\u001b[1;33m\u001b[0m\u001b[0m\n\u001b[0;32m     82\u001b[0m             \u001b[0mindex\u001b[0m \u001b[1;33m=\u001b[0m \u001b[0mensure_index\u001b[0m\u001b[1;33m(\u001b[0m\u001b[0mindex\u001b[0m\u001b[1;33m)\u001b[0m\u001b[1;33m\u001b[0m\u001b[1;33m\u001b[0m\u001b[0m\n",
      "\u001b[1;32m~\\Miniconda3\\lib\\site-packages\\pandas\\core\\internals\\construction.py\u001b[0m in \u001b[0;36mextract_index\u001b[1;34m(data)\u001b[0m\n\u001b[0;32m    389\u001b[0m \u001b[1;33m\u001b[0m\u001b[0m\n\u001b[0;32m    390\u001b[0m         \u001b[1;32mif\u001b[0m \u001b[1;32mnot\u001b[0m \u001b[0mindexes\u001b[0m \u001b[1;32mand\u001b[0m \u001b[1;32mnot\u001b[0m \u001b[0mraw_lengths\u001b[0m\u001b[1;33m:\u001b[0m\u001b[1;33m\u001b[0m\u001b[1;33m\u001b[0m\u001b[0m\n\u001b[1;32m--> 391\u001b[1;33m             \u001b[1;32mraise\u001b[0m \u001b[0mValueError\u001b[0m\u001b[1;33m(\u001b[0m\u001b[1;34m\"If using all scalar values, you must pass an index\"\u001b[0m\u001b[1;33m)\u001b[0m\u001b[1;33m\u001b[0m\u001b[1;33m\u001b[0m\u001b[0m\n\u001b[0m\u001b[0;32m    392\u001b[0m \u001b[1;33m\u001b[0m\u001b[0m\n\u001b[0;32m    393\u001b[0m         \u001b[1;32mif\u001b[0m \u001b[0mhave_series\u001b[0m\u001b[1;33m:\u001b[0m\u001b[1;33m\u001b[0m\u001b[1;33m\u001b[0m\u001b[0m\n",
      "\u001b[1;31mValueError\u001b[0m: If using all scalar values, you must pass an index"
     ]
    }
   ],
   "source": [
    "df = pd.DataFrame(all_men_tokenized_counts)\n",
    "all_men_tokenized2_counts\n",
    "all_women_tokenized_counts\n",
    "all_women_tokenized2_counts"
   ]
  },
  {
   "cell_type": "code",
   "execution_count": 33,
   "id": "6b4db111",
   "metadata": {},
   "outputs": [
    {
     "data": {
      "text/plain": [
       "collections.Counter"
      ]
     },
     "execution_count": 33,
     "metadata": {},
     "output_type": "execute_result"
    }
   ],
   "source": [
    "type(all_men_tokenized_counts)"
   ]
  },
  {
   "cell_type": "markdown",
   "id": "c22b5c96",
   "metadata": {},
   "source": [
    "# Simple distribution visualization of the comment_score variable\n",
    "\n",
    "Let's look at the the only 2 numerical variables in our dataset. \n",
    "\n",
    "Submission upvotes are number of upvotes or likes that a post containing comments has. It mainly conveys how the title of the post or the discussion is attractive to the user to participate in. Basically one can treat the number of upvotes as indicator how good online conversation topic it is, with higher values being more interesting. \n",
    "\n",
    "Score variable is equal to the difference between upvotes and downvotes. It usually conveys information how useful information does the comment give to the reader or weather other users agree with the comment or disagree.\n",
    "\n",
    "Below we can see summary statistics of these variables for men and women datasets"
   ]
  },
  {
   "cell_type": "markdown",
   "id": "25f26625",
   "metadata": {},
   "source": [
    "# Simple distribution visualization of the 'comment_score' variable\n",
    "\n",
    "Let's first look at the distribution of comment_score variable. We will look into numerical variables more in the next step of analysis.\n",
    "\n",
    "Score (comment_score) variable is equal to the difference between upvotes and downvotes. It usually conveys information how useful information does the comment give to the reader or weather other users agree with the comment or disagree.\n",
    "\n",
    "Below we can see summary statistics of these variables for men and women datasets"
   ]
  },
  {
   "cell_type": "code",
   "execution_count": null,
   "id": "a101c5fe",
   "metadata": {},
   "outputs": [],
   "source": [
    "print(\"/r/AskMen summary statistics\")\n",
    "men.describe()\n",
    "print(\"/r/AskWomen summary statistics\")\n",
    "women.describe()"
   ]
  },
  {
   "cell_type": "code",
   "execution_count": null,
   "id": "f1483a6e",
   "metadata": {},
   "outputs": [],
   "source": [
    "# /r/AskMen comment score histogram and density plots\n",
    "plt.hist(men['comment_score'], color = 'blue', edgecolor = 'black', bins = 100);\n",
    "sns.displot(data = men, x = 'comment_score', kind = 'kde');"
   ]
  },
  {
   "cell_type": "code",
   "execution_count": null,
   "id": "1d978a03",
   "metadata": {},
   "outputs": [],
   "source": [
    "# /r/AskWomen comment score histogram and density plots\n",
    "plt.hist(women['comment_score'], color = 'blue', edgecolor = 'black', bins = 100);\n",
    "sns.displot(data = women, x = 'comment_score', kind = 'kde');"
   ]
  },
  {
   "cell_type": "markdown",
   "id": "47d9e9f3",
   "metadata": {},
   "source": [
    "We could add to the whole series both for men and women dataset such values that we could log transform these datasets and try visualizing the data again."
   ]
  },
  {
   "cell_type": "code",
   "execution_count": null,
   "id": "7ffa7909",
   "metadata": {},
   "outputs": [],
   "source": [
    "men_min = np.min(men['comment_score'])\n",
    "women_min = np.min(women['comment_score'])\n",
    "\n",
    "men['comment_score2'] = men['comment_score'] + (np.abs(men_min) + 1)\n",
    "women['comment_score2'] = women['comment_score'] + (np.abs(women_min) + 1)\n",
    "\n",
    "men['log_cs'] = np.log(men['comment_score2'])\n",
    "women['log_cs'] = np.log(women['comment_score2'])"
   ]
  },
  {
   "cell_type": "code",
   "execution_count": null,
   "id": "99280910",
   "metadata": {},
   "outputs": [],
   "source": [
    "# /r/AskMen logarithm comment score histogram and density plots\n",
    "plt.hist(men['log_cs'], color = 'blue', edgecolor = 'black', bins = 50);\n",
    "sns.displot(data = men, x = 'log_cs', kind = 'kde');"
   ]
  },
  {
   "cell_type": "code",
   "execution_count": null,
   "id": "8b8264f1",
   "metadata": {},
   "outputs": [],
   "source": [
    "# /r/AskWomen logarithm comment score histogram and density plots\n",
    "plt.hist(women['log_cs'], color = 'blue', edgecolor = 'black', bins = 10);\n",
    "sns.displot(data = women, x = 'log_cs', kind = 'kde');"
   ]
  },
  {
   "cell_type": "markdown",
   "id": "6c7493fe",
   "metadata": {},
   "source": [
    "We can see a little better the distribution of the comment_score variable that "
   ]
  },
  {
   "cell_type": "markdown",
   "id": "d28aa28f",
   "metadata": {},
   "source": [
    "# Z-scoring 'comment_score' numerical variable distribution"
   ]
  },
  {
   "cell_type": "code",
   "execution_count": null,
   "id": "ed7288e5",
   "metadata": {},
   "outputs": [],
   "source": [
    "sns.displot(data = men.zscore, kind = 'kde');\n",
    "sns.displot(data = men.zscore_grouped, kind = 'kde');"
   ]
  },
  {
   "cell_type": "code",
   "execution_count": null,
   "id": "93ef1aa7",
   "metadata": {},
   "outputs": [],
   "source": [
    "sns.displot(data = women.zscore, kind = 'kde');\n",
    "sns.displot(data = women.zscore_grouped, kind = 'kde');"
   ]
  },
  {
   "cell_type": "markdown",
   "id": "78c97639",
   "metadata": {},
   "source": [
    "# MINMAX scaling of variable 'comment_score' - distribution"
   ]
  },
  {
   "cell_type": "code",
   "execution_count": null,
   "id": "b6206603",
   "metadata": {},
   "outputs": [],
   "source": [
    "sns.displot(data = men.minmax, kind = 'kde');\n",
    "sns.displot(data = men.minmax_grouped, kind = 'kde');"
   ]
  },
  {
   "cell_type": "code",
   "execution_count": null,
   "id": "563f4d8c",
   "metadata": {},
   "outputs": [],
   "source": [
    "sns.displot(data = women.minmax, kind = 'kde');\n",
    "sns.displot(data = women.minmax_grouped, kind = 'kde');"
   ]
  },
  {
   "cell_type": "markdown",
   "id": "9b970355",
   "metadata": {},
   "source": [
    "# Wordcloud visualisations"
   ]
  },
  {
   "cell_type": "code",
   "execution_count": null,
   "id": "de14e8c5",
   "metadata": {},
   "outputs": [],
   "source": [
    "# shared stopword list\n",
    "stopwords = set(STOPWORDS)\n",
    "\n",
    "# Men word cloud - comments\n",
    "cleaned_words_men = ' '.join(men['cleaned_wo_sw'])\n",
    "\n",
    "wordcloud_men = WordCloud(stopwords=stopwords,\n",
    "                      background_color='black',\n",
    "                      width=3000,\n",
    "                      height=2500\n",
    "                     ).generate(cleaned_words_men)\n",
    "plt.figure(1,figsize=(12, 12))\n",
    "plt.imshow(wordcloud_men)\n",
    "plt.axis('off')\n",
    "print(\"/r/AskMen Wordcloud plot\")\n",
    "plt.show();\n",
    "\n",
    "# Women word cloud - comments\n",
    "cleaned_words_women = ' '.join(women['cleaned_wo_sw'])\n",
    "\n",
    "wordcloud_women = WordCloud(stopwords=stopwords,\n",
    "                      background_color='black',\n",
    "                      width=3000,\n",
    "                      height=2500\n",
    "                     ).generate(cleaned_words_women)\n",
    "plt.figure(1,figsize=(12, 12))\n",
    "plt.imshow(wordcloud_women)\n",
    "plt.axis('off')\n",
    "print(\"/r/AskWomen Wordcloud plot\")\n",
    "plt.show();\n",
    "\n"
   ]
  },
  {
   "cell_type": "markdown",
   "id": "5b827c8d",
   "metadata": {},
   "source": [
    "As we can see the similarity of the most frequently used words by men and women is truly striking. The biggest diferrences here that we can see is that 'people' seem to be more common in men language than women while words like 'dont', 'feel'\n",
    "\n",
    "We should delete the most used words for example 'time', 'im', 'dont', 'one', etc."
   ]
  },
  {
   "cell_type": "code",
   "execution_count": null,
   "id": "1c240c36",
   "metadata": {},
   "outputs": [],
   "source": [
    "# Men word cloud - comments\n",
    "cleaned_words_men = ' '.join(men['cleaned_wo_sw'])\n",
    "\n",
    "# Women word cloud - comments\n",
    "cleaned_words_women = ' '.join(women['cleaned_wo_sw'])\n",
    "\n",
    "# Shared stopword list\n",
    "stopwords = set(STOPWORDS)\n",
    "stopwords.add(\"one\")\n",
    "stopwords.add(\"im\")\n",
    "stopwords.add(\"time\")\n",
    "stopwords.add(\"dont\")\n",
    "stopwords.add(\"people\")\n",
    "stopwords.add(\"thing\")\n",
    "stopwords.add(\"work\")\n",
    "stopwords.add(\"want\")\n",
    "stopwords.add(\"think\")\n",
    "stopwords.add(\"know\")\n",
    "stopwords.add(\"really\")\n",
    "\n",
    "# Men word cloud - comments\n",
    "wordcloud_men = WordCloud(stopwords=stopwords,\n",
    "                      background_color='black',\n",
    "                      width=3000,\n",
    "                      height=2500\n",
    "                     ).generate(cleaned_words_men)\n",
    "plt.figure(1,figsize=(12, 12))\n",
    "plt.imshow(wordcloud_men)\n",
    "plt.axis('off')\n",
    "print(\"/r/AskMen Wordcloud plot\")\n",
    "plt.show();\n",
    "\n",
    "# Women word cloud - comments\n",
    "wordcloud_women = WordCloud(stopwords=stopwords,\n",
    "                      background_color='black',\n",
    "                      width=3000,\n",
    "                      height=2500\n",
    "                     ).generate(cleaned_words_women)\n",
    "plt.figure(1,figsize=(12, 12))\n",
    "plt.imshow(wordcloud_women)\n",
    "plt.axis('off')\n",
    "print(\"/r/AskWomen Wordcloud plot\")\n",
    "plt.show();\n",
    "\n"
   ]
  },
  {
   "cell_type": "code",
   "execution_count": null,
   "id": "2a1b4ba9",
   "metadata": {},
   "outputs": [],
   "source": []
  }
 ],
 "metadata": {
  "kernelspec": {
   "display_name": "Python 3 (ipykernel)",
   "language": "python",
   "name": "python3"
  },
  "language_info": {
   "codemirror_mode": {
    "name": "ipython",
    "version": 3
   },
   "file_extension": ".py",
   "mimetype": "text/x-python",
   "name": "python",
   "nbconvert_exporter": "python",
   "pygments_lexer": "ipython3",
   "version": "3.7.11"
  }
 },
 "nbformat": 4,
 "nbformat_minor": 5
}
