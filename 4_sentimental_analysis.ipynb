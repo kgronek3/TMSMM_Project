{
 "cells": [
  {
   "cell_type": "markdown",
   "id": "e6a1a4d5",
   "metadata": {},
   "source": [
    "# Krystian Gronek & Katarzyna Piotrowska\n",
    "# Text Mining and Social Media Mining, final project - Analyzing men and women comments using NLP methods"
   ]
  },
  {
   "cell_type": "markdown",
   "id": "76b6a838",
   "metadata": {},
   "source": [
    "# Loading packages"
   ]
  },
  {
   "cell_type": "code",
   "execution_count": null,
   "id": "24a7329e",
   "metadata": {},
   "outputs": [],
   "source": [
    "import matplotlib.pyplot as plt\n",
    "import pandas as pd\n",
    "import numpy as np\n",
    "\n",
    "%matplotlib inline \n",
    "\n",
    "\n",
    "import nltk\n",
    "nltk.download('vader_lexicon')\n",
    "from nltk.sentiment.vader import SentimentIntensityAnalyzer\n",
    "\n",
    "analyser = SentimentIntensityAnalyzer()"
   ]
  },
  {
   "cell_type": "code",
   "execution_count": null,
   "id": "0e2a3062",
   "metadata": {},
   "outputs": [],
   "source": [
    "men = pd.read_csv('data/askmen.csv', sep = ';')\n",
    "women = pd.read_csv('data/askwomen.csv', sep = ';')"
   ]
  },
  {
   "cell_type": "markdown",
   "id": "f7db882a",
   "metadata": {},
   "source": [
    "# Sentiment analysis - user comments"
   ]
  },
  {
   "cell_type": "code",
   "execution_count": null,
   "id": "c0fd9a75",
   "metadata": {},
   "outputs": [],
   "source": []
  },
  {
   "cell_type": "code",
   "execution_count": null,
   "id": "7a2f6113",
   "metadata": {},
   "outputs": [],
   "source": []
  },
  {
   "cell_type": "markdown",
   "id": "63491974",
   "metadata": {},
   "source": [
    "### Male comments from /r/AskMen"
   ]
  },
  {
   "cell_type": "code",
   "execution_count": null,
   "id": "734516cd",
   "metadata": {},
   "outputs": [],
   "source": []
  },
  {
   "cell_type": "code",
   "execution_count": null,
   "id": "a327d5a1",
   "metadata": {},
   "outputs": [],
   "source": []
  },
  {
   "cell_type": "markdown",
   "id": "8832b1a4",
   "metadata": {},
   "source": [
    "\n",
    "### Female comments from /r/AskWomen"
   ]
  },
  {
   "cell_type": "code",
   "execution_count": null,
   "id": "bfba61dd",
   "metadata": {},
   "outputs": [],
   "source": []
  },
  {
   "cell_type": "code",
   "execution_count": null,
   "id": "a785a1ff",
   "metadata": {},
   "outputs": [],
   "source": []
  },
  {
   "cell_type": "markdown",
   "id": "bdb3d212",
   "metadata": {},
   "source": [
    "# Sentiment analysis - submission posts titles"
   ]
  },
  {
   "cell_type": "code",
   "execution_count": null,
   "id": "e6ace695",
   "metadata": {},
   "outputs": [],
   "source": []
  },
  {
   "cell_type": "code",
   "execution_count": null,
   "id": "32b53aab",
   "metadata": {},
   "outputs": [],
   "source": []
  },
  {
   "cell_type": "markdown",
   "id": "7a3d91bc",
   "metadata": {},
   "source": [
    "### Submission titles from /r/AskMen"
   ]
  },
  {
   "cell_type": "code",
   "execution_count": null,
   "id": "dd34f7d6",
   "metadata": {},
   "outputs": [],
   "source": []
  },
  {
   "cell_type": "code",
   "execution_count": null,
   "id": "0fece081",
   "metadata": {},
   "outputs": [],
   "source": []
  },
  {
   "cell_type": "markdown",
   "id": "3e24f597",
   "metadata": {},
   "source": [
    "### Submission titles from /r/AskWomen"
   ]
  },
  {
   "cell_type": "code",
   "execution_count": null,
   "id": "7a2bf2b6",
   "metadata": {},
   "outputs": [],
   "source": []
  },
  {
   "cell_type": "code",
   "execution_count": null,
   "id": "8547959d",
   "metadata": {},
   "outputs": [],
   "source": []
  },
  {
   "cell_type": "code",
   "execution_count": null,
   "id": "2ba293f5",
   "metadata": {},
   "outputs": [],
   "source": []
  }
 ],
 "metadata": {
  "kernelspec": {
   "display_name": "Python 3 (ipykernel)",
   "language": "python",
   "name": "python3"
  },
  "language_info": {
   "codemirror_mode": {
    "name": "ipython",
    "version": 3
   },
   "file_extension": ".py",
   "mimetype": "text/x-python",
   "name": "python",
   "nbconvert_exporter": "python",
   "pygments_lexer": "ipython3",
   "version": "3.7.11"
  }
 },
 "nbformat": 4,
 "nbformat_minor": 5
}
